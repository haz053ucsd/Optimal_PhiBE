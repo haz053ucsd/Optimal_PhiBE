{
 "cells": [
  {
   "cell_type": "code",
   "execution_count": 26,
   "metadata": {},
   "outputs": [],
   "source": [
    "import torch\n",
    "from utils import LQR_2D_true_solution, out_put, LQR_1D_true_solution, l_2_compute_1D_Q, l_2_compute_1D_V, true_V_eval_2D\n",
    "from main_phibe import phibe_finder_1D_LQR, phibe_finder_2D_LQR\n",
    "from bases import bases_poly, d_bases_poly, sec_bases_poly, bases_2d, bases_poly_simp, d_bases_poly_simp, sec_bases_poly_simp, bases_2d_simp, bases_poly_2D, bases_poly_2D_s_a, d_bases_poly_2D, bases_poly_2D_simp, d_bases_poly_2D_simp, sec_d_bases_poly_2D, sec_d_bases_poly_2D_simp\n",
    "import matplotlib.pyplot as plt\n",
    "from math import sqrt\n",
    "import numpy as np"
   ]
  },
  {
   "cell_type": "code",
   "execution_count": 2,
   "metadata": {},
   "outputs": [],
   "source": [
    "torch.set_default_dtype(torch.float64)\n",
    "device = torch.device(\"cpu\")"
   ]
  },
  {
   "cell_type": "code",
   "execution_count": 3,
   "metadata": {},
   "outputs": [],
   "source": [
    "# 1D case"
   ]
  },
  {
   "cell_type": "code",
   "execution_count": 3,
   "metadata": {},
   "outputs": [],
   "source": [
    "def reward(s, a):\n",
    "    return - Q * (s**2) - R * (a**2)"
   ]
  },
  {
   "cell_type": "code",
   "execution_count": 36,
   "metadata": {},
   "outputs": [
    {
     "name": "stdout",
     "output_type": "stream",
     "text": [
      "-6.047704923884915 tensor([  0.0000,   0.0000, -17.7874])\n"
     ]
    }
   ],
   "source": [
    "A = 1\n",
    "B = 0.34\n",
    "sig = 0.\n",
    "R = 1\n",
    "Q = 1\n",
    "S = 0\n",
    "beta = 0\n",
    "M = 2\n",
    "info_true = {\"A\":A, \"B\":B, \"sig\":sig, \"R\":R, \"Q\":Q,}\n",
    "true_b, True_V = LQR_1D_true_solution(A, B, Q, R, sig, beta)\n",
    "print(true_b, True_V)"
   ]
  },
  {
   "cell_type": "code",
   "execution_count": 37,
   "metadata": {},
   "outputs": [
    {
     "name": "stderr",
     "output_type": "stream",
     "text": [
      "Running Optimal Phibe of order 1 using Galerkin: 100%|██████████| 80/80 [00:03<00:00, 23.98it/s]\n"
     ]
    },
    {
     "data": {
      "text/plain": [
       "[10.9235954475780,\n",
       " 0.590695047838741,\n",
       " 0.00192410312269306,\n",
       " 2.05458235174980e-8,\n",
       " 0,\n",
       " 0,\n",
       " 0,\n",
       " 7.00524512005031e-14,\n",
       " 0,\n",
       " 0,\n",
       " 7.00524512005031e-14,\n",
       " 7.00524512005031e-14,\n",
       " 0,\n",
       " 7.00524512005031e-14,\n",
       " 0,\n",
       " 0,\n",
       " 0,\n",
       " 0,\n",
       " 0,\n",
       " 0,\n",
       " 3.50262256002516e-14,\n",
       " 3.50262256002516e-14,\n",
       " 7.00524512005031e-14,\n",
       " 0,\n",
       " 7.00524512005031e-14,\n",
       " 0,\n",
       " 0,\n",
       " 0,\n",
       " 3.50262256002516e-14,\n",
       " 7.00524512005031e-14,\n",
       " 0,\n",
       " 0,\n",
       " 7.00524512005031e-14,\n",
       " 0,\n",
       " 0,\n",
       " 7.00524512005031e-14,\n",
       " 7.00524512005031e-14,\n",
       " 0,\n",
       " 0,\n",
       " 7.00524512005031e-14,\n",
       " 7.00524512005031e-14,\n",
       " 0,\n",
       " 3.50262256002516e-14,\n",
       " 7.00524512005031e-14,\n",
       " 0,\n",
       " 3.50262256002516e-14,\n",
       " 3.50262256002516e-14,\n",
       " 0,\n",
       " 0,\n",
       " 0,\n",
       " 3.50262256002516e-14,\n",
       " 0,\n",
       " 0,\n",
       " 7.00524512005031e-14,\n",
       " 0,\n",
       " 7.00524512005031e-14,\n",
       " 0,\n",
       " 7.00524512005031e-14,\n",
       " 3.50262256002516e-14,\n",
       " 0,\n",
       " 0,\n",
       " 7.00524512005031e-14,\n",
       " 0,\n",
       " 3.50262256002516e-14,\n",
       " 7.00524512005031e-14,\n",
       " 0,\n",
       " 3.50262256002516e-14,\n",
       " 0,\n",
       " 0,\n",
       " 0,\n",
       " 0,\n",
       " 3.50262256002516e-14,\n",
       " 0,\n",
       " 0,\n",
       " 0,\n",
       " 0,\n",
       " 7.00524512005031e-14,\n",
       " 0,\n",
       " 0,\n",
       " 7.00524512005031e-14]"
      ]
     },
     "execution_count": 37,
     "metadata": {},
     "output_type": "execute_result"
    }
   ],
   "source": [
    "b_init = - 8\n",
    "Q_init = torch.tensor([1., -1., -1., -1.]).to(device)\n",
    "batch_size = int(1e6)\n",
    "bd_low_s = -10\n",
    "bd_upper_s = 10.\n",
    "bd_low_b = -20.\n",
    "bd_upper_b = 3.\n",
    "bd_low_a = -30.\n",
    "bd_upper_a = 30\n",
    "bases_V = bases_poly_simp\n",
    "d_bases_V = d_bases_poly_simp\n",
    "sec_d_bases_V = sec_bases_poly_simp\n",
    "bases_Q = bases_2d_simp\n",
    "num_iter = 80\n",
    "GD_num_iter = 80\n",
    "I = 6\n",
    "m = int(batch_size / I)\n",
    "m_Q = int(batch_size / I)\n",
    "lr = 0.01\n",
    "dt = 1\n",
    "order = 1\n",
    "true_V = True_V\n",
    "simp_basis = True\n",
    "deterministic = True\n",
    "b_val_samp_1, V_exact_dist_samp_1, V_func_samp_1 = phibe_finder_1D_LQR(beta, b_init, Q_init, bd_low_s, bd_upper_s, bd_low_b, bd_upper_b, reward, simp_basis,\n",
    "                                                                                     bases_V, d_bases_V, sec_d_bases_V, bases_Q, num_iter, deterministic, \"Galerkin\", GD_num_iter, m, m_Q, I, lr, dt, order, \n",
    "                                                                                     true_V, info_true)\n",
    "V_exact_dist_samp_1"
   ]
  },
  {
   "cell_type": "code",
   "execution_count": 38,
   "metadata": {},
   "outputs": [
    {
     "name": "stdout",
     "output_type": "stream",
     "text": [
      "[-8, tensor(-6.4244), tensor(-6.0681), tensor(-6.0478), tensor(-6.0477), tensor(-6.0477), tensor(-6.0477), tensor(-6.0477), tensor(-6.0477), tensor(-6.0477), tensor(-6.0477), tensor(-6.0477), tensor(-6.0477), tensor(-6.0477), tensor(-6.0477), tensor(-6.0477), tensor(-6.0477), tensor(-6.0477), tensor(-6.0477), tensor(-6.0477), tensor(-6.0477), tensor(-6.0477), tensor(-6.0477), tensor(-6.0477), tensor(-6.0477), tensor(-6.0477), tensor(-6.0477), tensor(-6.0477), tensor(-6.0477), tensor(-6.0477), tensor(-6.0477), tensor(-6.0477), tensor(-6.0477), tensor(-6.0477), tensor(-6.0477), tensor(-6.0477), tensor(-6.0477), tensor(-6.0477), tensor(-6.0477), tensor(-6.0477), tensor(-6.0477), tensor(-6.0477), tensor(-6.0477), tensor(-6.0477), tensor(-6.0477), tensor(-6.0477), tensor(-6.0477), tensor(-6.0477), tensor(-6.0477), tensor(-6.0477), tensor(-6.0477), tensor(-6.0477), tensor(-6.0477), tensor(-6.0477), tensor(-6.0477), tensor(-6.0477), tensor(-6.0477), tensor(-6.0477), tensor(-6.0477), tensor(-6.0477), tensor(-6.0477), tensor(-6.0477), tensor(-6.0477), tensor(-6.0477), tensor(-6.0477), tensor(-6.0477), tensor(-6.0477), tensor(-6.0477), tensor(-6.0477), tensor(-6.0477), tensor(-6.0477), tensor(-6.0477), tensor(-6.0477), tensor(-6.0477), tensor(-6.0477), tensor(-6.0477), tensor(-6.0477), tensor(-6.0477), tensor(-6.0477), tensor(-6.0477)]\n"
     ]
    }
   ],
   "source": [
    "print(b_val_samp_1)"
   ]
  },
  {
   "cell_type": "code",
   "execution_count": null,
   "metadata": {},
   "outputs": [],
   "source": [
    "# 2D case"
   ]
  },
  {
   "cell_type": "code",
   "execution_count": 4,
   "metadata": {},
   "outputs": [],
   "source": [
    "def reward(traj_mat, act_mat):\n",
    "    # traj_mat shape: (m, I, dim)\n",
    "    # act_mat shape: (m, I, dim)\n",
    "    # output shape: (m, I, 1)\n",
    "    r_1 = torch.einsum(\"ijk,kl,ijl->ij\", traj_mat, Q, traj_mat)\n",
    "    r_2 = torch.einsum(\"ijk,kl,ijl->ij\", act_mat, R, act_mat)\n",
    "    return (- r_1 - r_2).unsqueeze(-1)"
   ]
  },
  {
   "cell_type": "code",
   "execution_count": 33,
   "metadata": {},
   "outputs": [],
   "source": [
    "beta = 1e-15\n",
    "A =  torch.inverse(0.2 * torch.tensor([[-3.0, 1.0], [1., -3.0]]))\n",
    "B =  0.2 * torch.tensor([[3.0, 1.0], [1., 3.0]])\n",
    "# C = - 0.1 * torch.tensor([[2.0, 1.0], [1., 1.0]])\n",
    "# D = 0.1 * torch.tensor([[3.0, 2.0], [.5, 1.0]])\n",
    "sig = 0.1\n",
    "# Q = 1 * torch.tensor([[0.54, -0.86], [-0.86, 1.5]])\n",
    "# R = 1 * torch.inverse(torch.tensor([[1.92, 0.4], [0.4, 0.3]]))\n",
    "# Q = 1 * torch.tensor([[0.54, -0.26], [-0.26, 0.4]])\n",
    "# R = 1 * torch.inverse(torch.tensor([[1.92, 0.4], [0.4, 0.3]]))\n",
    "Q = 1 * torch.tensor([[0.9, 0.89], [0.89, 0.9]])\n",
    "R = 1 * torch.inverse(torch.tensor([[.4, 0.398], [0.398, 0.4]]))"
   ]
  },
  {
   "cell_type": "code",
   "execution_count": 34,
   "metadata": {},
   "outputs": [
    {
     "name": "stdout",
     "output_type": "stream",
     "text": [
      "tensor(2.5000)\n",
      "tensor(0.8000)\n",
      "tensor(0.8000)\n",
      "tensor(2.5000)\n",
      "tensor(25.0000)\n"
     ]
    }
   ],
   "source": [
    "A_norm = torch.sqrt(torch.abs(torch.linalg.eig(A.T @ A).eigenvalues).max())\n",
    "A_inv_norm = torch.sqrt(torch.abs(torch.linalg.eig(torch.inverse(A).T @ torch.inverse(A)).eigenvalues).max())\n",
    "B_norm = torch.sqrt(torch.abs(torch.linalg.eig(B.T @ B).eigenvalues).max())\n",
    "B_inv_norm = torch.sqrt(torch.abs(torch.linalg.eig(torch.inverse(B).T @ torch.inverse(B)).eigenvalues).max())\n",
    "print(A_norm)\n",
    "print(A_inv_norm)\n",
    "print(B_norm)\n",
    "print(B_inv_norm)\n",
    "print(A_norm**2 * A_inv_norm * B_norm * B_inv_norm**2)"
   ]
  },
  {
   "cell_type": "code",
   "execution_count": 35,
   "metadata": {},
   "outputs": [
    {
     "name": "stdout",
     "output_type": "stream",
     "text": [
      "tensor(1.7900)\n",
      "tensor(100.0000)\n",
      "tensor(500.0000)\n",
      "tensor(0.7980)\n",
      "tensor(102019.1848)\n"
     ]
    }
   ],
   "source": [
    "Q_norm = torch.sqrt(torch.abs(torch.linalg.eig(Q.T @ Q).eigenvalues).max())\n",
    "Q_inv_norm = torch.sqrt(torch.abs(torch.linalg.eig(torch.inverse(Q).T @ torch.inverse(Q)).eigenvalues).max())\n",
    "R_norm = torch.sqrt(torch.abs(torch.linalg.eig(R.T @ R).eigenvalues).max())\n",
    "R_inv_norm = torch.sqrt(torch.abs(torch.linalg.eig(torch.inverse(R).T @ torch.inverse(R)).eigenvalues).max())\n",
    "print(Q_norm)\n",
    "print(Q_inv_norm)\n",
    "print(R_norm)\n",
    "print(R_inv_norm)\n",
    "print(Q_norm**2 * Q_inv_norm * R_norm * R_inv_norm**2)"
   ]
  },
  {
   "cell_type": "code",
   "execution_count": 46,
   "metadata": {},
   "outputs": [],
   "source": [
    "true_b, true_c, True_V = LQR_2D_true_solution(A, B, sig, Q, R, beta)\n",
    "b_init = true_b + torch.randn(2, 2)\n",
    "c_init = 2. * torch.rand(2, 1) - 1.\n",
    "Q_init = 4. * torch.rand(10) - 2.\n",
    "V_init = true_V_eval_2D(A, B, b_init, R, Q, beta, sig)"
   ]
  },
  {
   "cell_type": "code",
   "execution_count": 47,
   "metadata": {},
   "outputs": [
    {
     "name": "stdout",
     "output_type": "stream",
     "text": [
      "tensor([[-0.1104, -0.1104],\n",
      "        [-0.1104, -0.1104]])\n",
      "tensor([[0.],\n",
      "        [0.]])\n",
      "tensor([-3.4979e+12, -1.7489e-01, -3.4179e-01, -1.7489e-01])\n",
      "tensor([-2.1272e+15, -1.8300e+01,  7.9402e+01, -1.9442e+02])\n"
     ]
    }
   ],
   "source": [
    "print(true_b)\n",
    "print(true_c)\n",
    "print(True_V)\n",
    "print(V_init)"
   ]
  },
  {
   "cell_type": "code",
   "execution_count": 48,
   "metadata": {},
   "outputs": [
    {
     "name": "stderr",
     "output_type": "stream",
     "text": [
      "Running Optimal Phibe of order 1 using Galerkin:   5%|▌         | 1/20 [00:01<00:34,  1.81s/it]"
     ]
    },
    {
     "name": "stdout",
     "output_type": "stream",
     "text": [
      "infeasibility detected\n"
     ]
    },
    {
     "name": "stderr",
     "output_type": "stream",
     "text": [
      "Running Optimal Phibe of order 1 using Galerkin:  10%|█         | 2/20 [00:03<00:28,  1.57s/it]"
     ]
    },
    {
     "name": "stdout",
     "output_type": "stream",
     "text": [
      "infeasibility detected\n"
     ]
    },
    {
     "name": "stderr",
     "output_type": "stream",
     "text": [
      "Running Optimal Phibe of order 1 using Galerkin:  15%|█▌        | 3/20 [00:04<00:25,  1.49s/it]"
     ]
    },
    {
     "name": "stdout",
     "output_type": "stream",
     "text": [
      "infeasibility detected\n"
     ]
    },
    {
     "name": "stderr",
     "output_type": "stream",
     "text": [
      "Running Optimal Phibe of order 1 using Galerkin:  20%|██        | 4/20 [00:06<00:23,  1.49s/it]"
     ]
    },
    {
     "name": "stdout",
     "output_type": "stream",
     "text": [
      "infeasibility detected\n"
     ]
    },
    {
     "name": "stderr",
     "output_type": "stream",
     "text": [
      "Running Optimal Phibe of order 1 using Galerkin:  50%|█████     | 10/20 [00:15<00:15,  1.58s/it]"
     ]
    },
    {
     "name": "stdout",
     "output_type": "stream",
     "text": [
      "infeasibility detected\n"
     ]
    },
    {
     "name": "stderr",
     "output_type": "stream",
     "text": [
      "Running Optimal Phibe of order 1 using Galerkin:  70%|███████   | 14/20 [00:21<00:08,  1.48s/it]"
     ]
    },
    {
     "name": "stdout",
     "output_type": "stream",
     "text": [
      "infeasibility detected\n"
     ]
    },
    {
     "name": "stderr",
     "output_type": "stream",
     "text": [
      "Running Optimal Phibe of order 1 using Galerkin:  75%|███████▌  | 15/20 [00:22<00:07,  1.45s/it]"
     ]
    },
    {
     "name": "stdout",
     "output_type": "stream",
     "text": [
      "infeasibility detected\n"
     ]
    },
    {
     "name": "stderr",
     "output_type": "stream",
     "text": [
      "Running Optimal Phibe of order 1 using Galerkin:  85%|████████▌ | 17/20 [00:25<00:04,  1.45s/it]"
     ]
    },
    {
     "name": "stdout",
     "output_type": "stream",
     "text": [
      "infeasibility detected\n"
     ]
    },
    {
     "name": "stderr",
     "output_type": "stream",
     "text": [
      "Running Optimal Phibe of order 1 using Galerkin:  90%|█████████ | 18/20 [00:27<00:02,  1.45s/it]"
     ]
    },
    {
     "name": "stdout",
     "output_type": "stream",
     "text": [
      "infeasibility detected\n"
     ]
    },
    {
     "name": "stderr",
     "output_type": "stream",
     "text": [
      "Running Optimal Phibe of order 1 using Galerkin: 100%|██████████| 20/20 [00:30<00:00,  1.52s/it]\n"
     ]
    }
   ],
   "source": [
    "bd_low_s = -2\n",
    "bd_upper_s = 2\n",
    "bd_low_b = -2\n",
    "bd_upper_b = 2\n",
    "reward = reward\n",
    "bases_V = bases_poly_2D\n",
    "d_bases_V = d_bases_poly_2D\n",
    "sec_d_bases_V = sec_d_bases_poly_2D\n",
    "bases_Q = bases_poly_2D_s_a\n",
    "num_iter = 20\n",
    "GD_num_iter = 75\n",
    "m=int(1e6)\n",
    "m_Q=int(1e6)\n",
    "I=6\n",
    "I_Q=6\n",
    "lr=0.1\n",
    "order = 1\n",
    "true_V = True_V\n",
    "info_true = {\"A\":A, \"B\":B, \"sig\":sig, \"R\":R, \"Q\":Q}\n",
    "dt = 10\n",
    "simp_basis = False\n",
    "deterministic = True\n",
    "b_val_GD, V_exact_dist_1, V = phibe_finder_2D_LQR(beta, b_init, Q_init, bd_low_s, bd_upper_s, bd_low_b, bd_upper_b, reward, simp_basis, bases_V, d_bases_V, sec_d_bases_V, bases_Q, num_iter, deterministic, \"Galerkin\", GD_num_iter, m, m_Q, I, lr, dt, order, true_V, info_true)"
   ]
  },
  {
   "cell_type": "code",
   "execution_count": 50,
   "metadata": {},
   "outputs": [
    {
     "data": {
      "text/plain": [
       "[tensor([[-1.4470, -0.5010],\n",
       "         [ 0.5295, -0.4738]]),\n",
       " tensor([[-40.9521,   1.5137],\n",
       "         [-40.7309,   1.5027]]),\n",
       " tensor([[-21.5799,   0.1307],\n",
       "         [-21.2122,  -0.1314]]),\n",
       " tensor([[-9.5046, -0.1030],\n",
       "         [-9.6559,  0.0967]]),\n",
       " tensor([[-3.5995, -0.0838],\n",
       "         [-3.5750, -0.0908]]),\n",
       " tensor([[-1.0077, -0.0938],\n",
       "         [-1.0031, -0.0939]]),\n",
       " tensor([[-0.2053, -0.1072],\n",
       "         [-0.2048, -0.1072]]),\n",
       " tensor([[-0.1117, -0.1103],\n",
       "         [-0.1116, -0.1103]]),\n",
       " tensor([[-0.1104, -0.1104],\n",
       "         [-0.1104, -0.1104]]),\n",
       " tensor([[-0.1104, -0.1104],\n",
       "         [-0.1104, -0.1104]]),\n",
       " tensor([[-0.1104, -0.1104],\n",
       "         [-0.1104, -0.1104]]),\n",
       " tensor([[-0.1104, -0.1104],\n",
       "         [-0.1104, -0.1104]]),\n",
       " tensor([[-0.1104, -0.1104],\n",
       "         [-0.1104, -0.1104]]),\n",
       " tensor([[-0.1104, -0.1104],\n",
       "         [-0.1104, -0.1104]]),\n",
       " tensor([[-0.1104, -0.1104],\n",
       "         [-0.1104, -0.1104]]),\n",
       " tensor([[-0.1104, -0.1104],\n",
       "         [-0.1104, -0.1104]]),\n",
       " tensor([[-0.1104, -0.1104],\n",
       "         [-0.1104, -0.1104]]),\n",
       " tensor([[-0.1104, -0.1104],\n",
       "         [-0.1104, -0.1104]]),\n",
       " tensor([[-0.1104, -0.1104],\n",
       "         [-0.1104, -0.1104]]),\n",
       " tensor([[-0.1104, -0.1104],\n",
       "         [-0.1104, -0.1104]])]"
      ]
     },
     "execution_count": 50,
     "metadata": {},
     "output_type": "execute_result"
    }
   ],
   "source": [
    "b_val_GD"
   ]
  }
 ],
 "metadata": {
  "kernelspec": {
   "display_name": "test",
   "language": "python",
   "name": "python3"
  },
  "language_info": {
   "codemirror_mode": {
    "name": "ipython",
    "version": 3
   },
   "file_extension": ".py",
   "mimetype": "text/x-python",
   "name": "python",
   "nbconvert_exporter": "python",
   "pygments_lexer": "ipython3",
   "version": "3.9.16"
  }
 },
 "nbformat": 4,
 "nbformat_minor": 2
}
