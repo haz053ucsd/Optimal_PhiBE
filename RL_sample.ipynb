{
 "cells": [
  {
   "cell_type": "code",
   "execution_count": 43,
   "metadata": {},
   "outputs": [],
   "source": [
    "import torch\n",
    "from utils import LQR_2D_true_solution, out_put, LQR_1D_true_solution, l_2_compute_1D_Q, l_2_compute_1D_V, true_V_eval_2D\n",
    "from main_RL import RL_finder_1D_LQR, RL_finder_2D_LQR\n",
    "from bases import bases_poly, d_bases_poly, sec_bases_poly, bases_2d, bases_poly_simp, d_bases_poly_simp, sec_bases_poly_simp, bases_2d_simp, bases_poly_2D, bases_poly_2D_s_a, d_bases_poly_2D, bases_poly_2D_simp, d_bases_poly_2D_simp, sec_d_bases_poly_2D, sec_d_bases_poly_2D_simp, bases_poly_2D_s_a_simp\n",
    "import matplotlib.pyplot as plt\n",
    "from math import sqrt\n",
    "import numpy as np"
   ]
  },
  {
   "cell_type": "code",
   "execution_count": 2,
   "metadata": {},
   "outputs": [],
   "source": [
    "torch.set_default_dtype(torch.float64)\n",
    "device = torch.device(\"cpu\")"
   ]
  },
  {
   "cell_type": "code",
   "execution_count": 3,
   "metadata": {},
   "outputs": [],
   "source": [
    "# 1D case"
   ]
  },
  {
   "cell_type": "code",
   "execution_count": 4,
   "metadata": {},
   "outputs": [],
   "source": [
    "def reward(s, a):\n",
    "    return - Q * (s**2) - R * (a**2)"
   ]
  },
  {
   "cell_type": "code",
   "execution_count": 25,
   "metadata": {},
   "outputs": [
    {
     "name": "stdout",
     "output_type": "stream",
     "text": [
      "-0.07647321898295312 tensor([-0.0459,  0.0000, -0.3824])\n"
     ]
    }
   ],
   "source": [
    "A = 0.2\n",
    "B = 0.2\n",
    "sig = 0.6\n",
    "R = 1\n",
    "Q = 1\n",
    "S = 0\n",
    "beta = 3\n",
    "M = 2\n",
    "info_true = {\"A\":A, \"B\":B, \"sig\":sig, \"R\":R, \"Q\":Q,}\n",
    "true_b, True_V = LQR_1D_true_solution(A, B, Q, R, sig, beta)\n",
    "print(true_b, True_V)"
   ]
  },
  {
   "cell_type": "code",
   "execution_count": 26,
   "metadata": {},
   "outputs": [
    {
     "name": "stderr",
     "output_type": "stream",
     "text": [
      "Running RL method: 100%|██████████| 80/80 [00:03<00:00, 22.14it/s]\n"
     ]
    },
    {
     "data": {
      "text/plain": [
       "[0.706160019669420,\n",
       " 0.00520736428696482,\n",
       " 0.000439003884240282,\n",
       " 0.000195129214044501,\n",
       " 0.00241998156025205,\n",
       " 0.000823348352860264,\n",
       " 0.00146724336979905,\n",
       " 0.00285277871992389,\n",
       " 1.78829963651638e-5,\n",
       " 3.01045475589595e-5,\n",
       " 0.00298767342337984,\n",
       " 0.000274039377858607,\n",
       " 0.000794216391222938,\n",
       " 0.000116345819839128,\n",
       " 5.45145740602661e-5,\n",
       " 0.00170625992518903,\n",
       " 0.000612336992351636,\n",
       " 0.000178437723668713,\n",
       " 0.000464011738754122,\n",
       " 1.06359329517138e-5,\n",
       " 0.000133569076747074,\n",
       " 0.000377090028762593,\n",
       " 0.000981989629706688,\n",
       " 7.91960308751612e-5,\n",
       " 0.000340017156879904,\n",
       " 0.000765387380171593,\n",
       " 4.08300408755565e-6,\n",
       " 0.000163793797331895,\n",
       " 0.00444812103297018,\n",
       " 3.21593034270621e-5,\n",
       " 0.000202881269981099,\n",
       " 0.000865380546503891,\n",
       " 0.000140320052480786,\n",
       " 0.000151814260617843,\n",
       " 7.74625889025144e-7,\n",
       " 0.000820088383380627,\n",
       " 0.000869108768440744,\n",
       " 0.00151671471655117,\n",
       " 0.00107830002874244,\n",
       " 0.000704161948267796,\n",
       " 0.00182101731754149,\n",
       " 6.36352767855690e-6,\n",
       " 4.64331814926567e-5,\n",
       " 6.06608370598362e-6,\n",
       " 0.000206234555111000,\n",
       " 0.00202805572153964,\n",
       " 0.00113168262201489,\n",
       " 2.84659631371428e-5,\n",
       " 5.16070554692692e-5,\n",
       " 0.000112355606590343,\n",
       " 0.000959523740154809,\n",
       " 0.000837848241971827,\n",
       " 0.000726489854162462,\n",
       " 0.00144474886851977,\n",
       " 0.000207840318023549,\n",
       " 0.000165038068322379,\n",
       " 0.000589169819667466,\n",
       " 0.00417260328105487,\n",
       " 0.000180593438346128,\n",
       " 7.53903845657261e-5,\n",
       " 0.00140746750934055,\n",
       " 0.000367651828320370,\n",
       " 0.000647329816600357,\n",
       " 8.97364905263745e-6,\n",
       " 0.000563410012941282,\n",
       " 0.000918524520148613,\n",
       " 0.00124782874317904,\n",
       " 0.00346390327308431,\n",
       " 9.05291516796241e-5,\n",
       " 0.000340438563575112,\n",
       " 1.64865929833718e-5,\n",
       " 0.000117024539025739,\n",
       " 2.42282143889859e-5,\n",
       " 0.000446968672775143,\n",
       " 0.000355748473529724,\n",
       " 0.000888026957968398,\n",
       " 0.00122348073466961,\n",
       " 9.37591192547081e-5,\n",
       " 0.000252688404482505,\n",
       " 0.000181601885966238]"
      ]
     },
     "execution_count": 26,
     "metadata": {},
     "output_type": "execute_result"
    }
   ],
   "source": [
    "b_init = - 0.52\n",
    "Q_init = torch.tensor([1., -1., -1., -1.]).to(device)\n",
    "batch_size = int(1e6)\n",
    "bd_low_s = -2\n",
    "bd_upper_s = 2.\n",
    "bd_low_b = -2.\n",
    "bd_upper_b = 3.\n",
    "bd_low_a = -3.\n",
    "bd_upper_a = 3\n",
    "bases_Q = bases_2d\n",
    "num_iter = 80\n",
    "GD_num_iter = 80\n",
    "I = 6\n",
    "m = int(batch_size / I)\n",
    "m_Q = int(batch_size / I)\n",
    "lr = 0.01\n",
    "dt = 0.001\n",
    "order = 1\n",
    "true_V = True_V\n",
    "simple_basis = False\n",
    "b_val_samp_1, V_exact_dist_samp_1 = RL_finder_1D_LQR(beta, b_init, bd_low_s, bd_upper_s, bd_low_a, bd_upper_a, reward, simple_basis, bases_Q, num_iter, m_Q, I, dt, true_V, info_true)\n",
    "V_exact_dist_samp_1"
   ]
  },
  {
   "cell_type": "code",
   "execution_count": 24,
   "metadata": {},
   "outputs": [
    {
     "name": "stdout",
     "output_type": "stream",
     "text": [
      "[-0.52, tensor(-0.0904), tensor(-0.0764), tensor(-0.0764), tensor(-0.0764), tensor(-0.0764), tensor(-0.0764), tensor(-0.0764), tensor(-0.0764), tensor(-0.0764), tensor(-0.0764), tensor(-0.0764), tensor(-0.0764), tensor(-0.0764), tensor(-0.0764), tensor(-0.0764), tensor(-0.0764), tensor(-0.0764), tensor(-0.0764), tensor(-0.0764), tensor(-0.0764), tensor(-0.0764), tensor(-0.0764), tensor(-0.0764), tensor(-0.0764), tensor(-0.0764), tensor(-0.0764), tensor(-0.0764), tensor(-0.0764), tensor(-0.0764), tensor(-0.0764), tensor(-0.0764), tensor(-0.0764), tensor(-0.0764), tensor(-0.0764), tensor(-0.0764), tensor(-0.0764), tensor(-0.0764), tensor(-0.0764), tensor(-0.0764), tensor(-0.0764), tensor(-0.0764), tensor(-0.0764), tensor(-0.0764), tensor(-0.0764), tensor(-0.0764), tensor(-0.0764), tensor(-0.0764), tensor(-0.0764), tensor(-0.0764), tensor(-0.0764), tensor(-0.0764), tensor(-0.0764), tensor(-0.0764), tensor(-0.0764), tensor(-0.0764), tensor(-0.0764), tensor(-0.0764), tensor(-0.0764), tensor(-0.0764), tensor(-0.0764), tensor(-0.0764), tensor(-0.0764), tensor(-0.0764), tensor(-0.0764), tensor(-0.0764), tensor(-0.0764), tensor(-0.0764), tensor(-0.0764), tensor(-0.0764), tensor(-0.0764), tensor(-0.0764), tensor(-0.0764), tensor(-0.0764), tensor(-0.0764), tensor(-0.0764), tensor(-0.0764), tensor(-0.0764), tensor(-0.0764), tensor(-0.0764)]\n"
     ]
    }
   ],
   "source": [
    "print(b_val_samp_1)"
   ]
  },
  {
   "cell_type": "code",
   "execution_count": 4,
   "metadata": {},
   "outputs": [],
   "source": [
    "# 2D case"
   ]
  },
  {
   "cell_type": "code",
   "execution_count": 5,
   "metadata": {},
   "outputs": [],
   "source": [
    "def reward(traj_mat, act_mat):\n",
    "    # traj_mat shape: (m, I, dim)\n",
    "    # act_mat shape: (m, I, dim)\n",
    "    # output shape: (m, I, 1)\n",
    "    r_1 = torch.einsum(\"ijk,kl,ijl->ij\", traj_mat, Q, traj_mat)\n",
    "    r_2 = torch.einsum(\"ijk,kl,ijl->ij\", act_mat, R, act_mat)\n",
    "    return (- r_1 - r_2).unsqueeze(-1)"
   ]
  },
  {
   "cell_type": "code",
   "execution_count": 38,
   "metadata": {},
   "outputs": [],
   "source": [
    "beta = 5\n",
    "A =  torch.inverse(0.2 * torch.tensor([[-3.0, 1.0], [1., -3.0]]))\n",
    "B =  0.2 * torch.tensor([[3.0, 1.0], [1., 3.0]])\n",
    "# C = - 0.1 * torch.tensor([[2.0, 1.0], [1., 1.0]])\n",
    "# D = 0.1 * torch.tensor([[3.0, 2.0], [.5, 1.0]])\n",
    "sig = 0\n",
    "Q = 1 * torch.tensor([[0.54, -0.86], [-0.86, 1.5]])\n",
    "R = 1 * torch.inverse(torch.tensor([[1.92, 0.4], [0.4, 0.3]]))\n",
    "# Q = 1 * torch.tensor([[0.54, -0.26], [-0.26, 0.4]])\n",
    "# R = 1 * torch.inverse(torch.tensor([[1.92, 0.4], [0.4, 0.3]]))\n",
    "# Q = 1 * torch.tensor([[0.9, 0.89], [0.89, 0.9]])\n",
    "# R = 1 * torch.inverse(torch.tensor([[.4, 0.398], [0.398, 0.4]]))"
   ]
  },
  {
   "cell_type": "code",
   "execution_count": 39,
   "metadata": {},
   "outputs": [
    {
     "name": "stdout",
     "output_type": "stream",
     "text": [
      "tensor(2.5000)\n",
      "tensor(0.8000)\n",
      "tensor(0.8000)\n",
      "tensor(2.5000)\n",
      "tensor(25.0000)\n"
     ]
    }
   ],
   "source": [
    "A_norm = torch.sqrt(torch.abs(torch.linalg.eig(A.T @ A).eigenvalues).max())\n",
    "A_inv_norm = torch.sqrt(torch.abs(torch.linalg.eig(torch.inverse(A).T @ torch.inverse(A)).eigenvalues).max())\n",
    "B_norm = torch.sqrt(torch.abs(torch.linalg.eig(B.T @ B).eigenvalues).max())\n",
    "B_inv_norm = torch.sqrt(torch.abs(torch.linalg.eig(torch.inverse(B).T @ torch.inverse(B)).eigenvalues).max())\n",
    "print(A_norm)\n",
    "print(A_inv_norm)\n",
    "print(B_norm)\n",
    "print(B_inv_norm)\n",
    "print(A_norm**2 * A_inv_norm * B_norm * B_inv_norm**2)"
   ]
  },
  {
   "cell_type": "code",
   "execution_count": 40,
   "metadata": {},
   "outputs": [
    {
     "name": "stdout",
     "output_type": "stream",
     "text": [
      "tensor(2.0049)\n",
      "tensor(28.4785)\n",
      "tensor(4.8399)\n",
      "tensor(2.0134)\n",
      "tensor(2245.8555)\n"
     ]
    }
   ],
   "source": [
    "Q_norm = torch.sqrt(torch.abs(torch.linalg.eig(Q.T @ Q).eigenvalues).max())\n",
    "Q_inv_norm = torch.sqrt(torch.abs(torch.linalg.eig(torch.inverse(Q).T @ torch.inverse(Q)).eigenvalues).max())\n",
    "R_norm = torch.sqrt(torch.abs(torch.linalg.eig(R.T @ R).eigenvalues).max())\n",
    "R_inv_norm = torch.sqrt(torch.abs(torch.linalg.eig(torch.inverse(R).T @ torch.inverse(R)).eigenvalues).max())\n",
    "print(Q_norm)\n",
    "print(Q_inv_norm)\n",
    "print(R_norm)\n",
    "print(R_inv_norm)\n",
    "print(Q_norm**2 * Q_inv_norm * R_norm * R_inv_norm**2)"
   ]
  },
  {
   "cell_type": "code",
   "execution_count": 41,
   "metadata": {},
   "outputs": [],
   "source": [
    "true_b, true_c, True_V = LQR_2D_true_solution(A, B, sig, Q, R, beta)\n",
    "b_init = true_b + torch.randn(2, 2)\n",
    "c_init = 2. * torch.rand(2, 1) - 1.\n",
    "Q_init = 4. * torch.rand(10) - 2.\n",
    "V_init = true_V_eval_2D(A, B, b_init, R, Q, beta, sig)"
   ]
  },
  {
   "cell_type": "code",
   "execution_count": 42,
   "metadata": {},
   "outputs": [
    {
     "name": "stdout",
     "output_type": "stream",
     "text": [
      "tensor([[-0.0234,  0.0271],\n",
      "        [ 0.0070, -0.0137]])\n",
      "tensor([[0.],\n",
      "        [0.]])\n",
      "tensor([ 0.0000, -0.1879,  0.2343, -0.0783])\n",
      "tensor([ 0.0000, -0.4098,  1.4119, -1.8218])\n"
     ]
    }
   ],
   "source": [
    "print(true_b)\n",
    "print(true_c)\n",
    "print(True_V)\n",
    "print(V_init)"
   ]
  },
  {
   "cell_type": "code",
   "execution_count": 44,
   "metadata": {},
   "outputs": [
    {
     "name": "stderr",
     "output_type": "stream",
     "text": [
      "Running RL method: 100%|██████████| 20/20 [00:14<00:00,  1.42it/s]\n"
     ]
    }
   ],
   "source": [
    "bd_low_s = -2\n",
    "bd_upper_s = 2\n",
    "bd_low_a = -2\n",
    "bd_upper_a = 2\n",
    "reward = reward\n",
    "bases_Q = bases_poly_2D_s_a_simp\n",
    "num_iter = 20\n",
    "GD_num_iter = 75\n",
    "m=int(1e6)\n",
    "m_Q=int(1e6)\n",
    "I=6\n",
    "I_Q=6\n",
    "true_V = True_V\n",
    "info_true = {\"A\":A, \"B\":B, \"sig\":sig, \"R\":R, \"Q\":Q}\n",
    "dt = 0.001\n",
    "simple_basis = True\n",
    "b_val_GD, V_exact_dist_1 = RL_finder_2D_LQR(beta, b_init, bd_low_s, bd_upper_s, bd_low_a, bd_upper_a, reward, simple_basis, bases_Q, num_iter, I, m_Q, dt, true_V, info_true)"
   ]
  },
  {
   "cell_type": "code",
   "execution_count": 45,
   "metadata": {},
   "outputs": [
    {
     "data": {
      "text/plain": [
       "[50.0132183143718,\n",
       " 4.824221235823765,\n",
       " 0.04992104431614899,\n",
       " 4.248204445542779e-06,\n",
       " 1.0763719685405871e-07,\n",
       " 1.0770364565360164e-07,\n",
       " 1.0770364595293298e-07,\n",
       " 1.0770364533190083e-07,\n",
       " 1.0770364976177951e-07,\n",
       " 1.0770364535427028e-07,\n",
       " 1.0770364565360164e-07,\n",
       " 1.0770364565360164e-07,\n",
       " 1.0770364563123217e-07,\n",
       " 1.0770364876897709e-07,\n",
       " 1.0770364565360164e-07,\n",
       " 1.0770364876897709e-07,\n",
       " 1.0770364535427028e-07,\n",
       " 1.0770364565360164e-07,\n",
       " 1.0770364535427028e-07,\n",
       " 1.0770364535427028e-07]"
      ]
     },
     "execution_count": 45,
     "metadata": {},
     "output_type": "execute_result"
    }
   ],
   "source": [
    "V_exact_dist_1"
   ]
  },
  {
   "cell_type": "code",
   "execution_count": 46,
   "metadata": {},
   "outputs": [
    {
     "data": {
      "text/plain": [
       "[tensor([[ 0.4920,  0.4707],\n",
       "         [-1.5929,  0.6245]]),\n",
       " tensor([[-1.7957,  0.6119],\n",
       "         [-0.3613,  0.1049]]),\n",
       " tensor([[-0.1830,  0.0885],\n",
       "         [-0.0252, -0.0014]]),\n",
       " tensor([[-0.0249,  0.0276],\n",
       "         [ 0.0066, -0.0135]]),\n",
       " tensor([[-0.0233,  0.0270],\n",
       "         [ 0.0069, -0.0137]]),\n",
       " tensor([[-0.0233,  0.0270],\n",
       "         [ 0.0069, -0.0137]]),\n",
       " tensor([[-0.0233,  0.0270],\n",
       "         [ 0.0069, -0.0137]]),\n",
       " tensor([[-0.0233,  0.0270],\n",
       "         [ 0.0069, -0.0137]]),\n",
       " tensor([[-0.0233,  0.0270],\n",
       "         [ 0.0069, -0.0137]]),\n",
       " tensor([[-0.0233,  0.0270],\n",
       "         [ 0.0069, -0.0137]]),\n",
       " tensor([[-0.0233,  0.0270],\n",
       "         [ 0.0069, -0.0137]]),\n",
       " tensor([[-0.0233,  0.0270],\n",
       "         [ 0.0069, -0.0137]]),\n",
       " tensor([[-0.0233,  0.0270],\n",
       "         [ 0.0069, -0.0137]]),\n",
       " tensor([[-0.0233,  0.0270],\n",
       "         [ 0.0069, -0.0137]]),\n",
       " tensor([[-0.0233,  0.0270],\n",
       "         [ 0.0069, -0.0137]]),\n",
       " tensor([[-0.0233,  0.0270],\n",
       "         [ 0.0069, -0.0137]]),\n",
       " tensor([[-0.0233,  0.0270],\n",
       "         [ 0.0069, -0.0137]]),\n",
       " tensor([[-0.0233,  0.0270],\n",
       "         [ 0.0069, -0.0137]]),\n",
       " tensor([[-0.0233,  0.0270],\n",
       "         [ 0.0069, -0.0137]]),\n",
       " tensor([[-0.0233,  0.0270],\n",
       "         [ 0.0069, -0.0137]])]"
      ]
     },
     "execution_count": 46,
     "metadata": {},
     "output_type": "execute_result"
    }
   ],
   "source": [
    "b_val_GD"
   ]
  }
 ],
 "metadata": {
  "kernelspec": {
   "display_name": "test",
   "language": "python",
   "name": "python3"
  },
  "language_info": {
   "codemirror_mode": {
    "name": "ipython",
    "version": 3
   },
   "file_extension": ".py",
   "mimetype": "text/x-python",
   "name": "python",
   "nbconvert_exporter": "python",
   "pygments_lexer": "ipython3",
   "version": "3.9.16"
  }
 },
 "nbformat": 4,
 "nbformat_minor": 2
}
