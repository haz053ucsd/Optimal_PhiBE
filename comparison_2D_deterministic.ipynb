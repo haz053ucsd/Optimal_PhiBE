{
 "cells": [
  {
   "cell_type": "code",
   "execution_count": 2,
   "metadata": {},
   "outputs": [],
   "source": [
    "import torch\n",
    "from utils import LQR_2D_true_solution, out_put, LQR_1D_true_solution, l_2_compute_1D_Q, l_2_compute_1D_V, true_V_eval_2D\n",
    "from bases import bases_poly, d_bases_poly, sec_bases_poly, bases_2d, bases_poly_simp, d_bases_poly_simp, sec_bases_poly_simp, bases_2d_simp, bases_poly_2D, bases_poly_2D_s_a, d_bases_poly_2D, bases_poly_2D_simp, d_bases_poly_2D_simp, sec_d_bases_poly_2D, sec_d_bases_poly_2D_simp, bases_poly_2D_s_a_simp\n",
    "from main_phibe import phibe_finder_1D_LQR, phibe_finder_2D_LQR\n",
    "from main_RL import RL_finder_1D_LQR, RL_finder_2D_LQR\n",
    "import matplotlib.pyplot as plt\n",
    "from math import sqrt\n",
    "import numpy as np"
   ]
  },
  {
   "cell_type": "code",
   "execution_count": 3,
   "metadata": {},
   "outputs": [],
   "source": [
    "torch.set_default_dtype(torch.float64)\n",
    "device = torch.device(\"cpu\")"
   ]
  },
  {
   "cell_type": "code",
   "execution_count": 4,
   "metadata": {},
   "outputs": [],
   "source": [
    "def reward(traj_mat, act_mat):\n",
    "    # traj_mat shape: (m, I, dim)\n",
    "    # act_mat shape: (m, I, dim)\n",
    "    # output shape: (m, I, 1)\n",
    "    r_1 = torch.einsum(\"ijk,kl,ijl->ij\", traj_mat, Q, traj_mat)\n",
    "    r_2 = torch.einsum(\"ijk,kl,ijl->ij\", act_mat, R, act_mat)\n",
    "    return (- r_1 - r_2).unsqueeze(-1)"
   ]
  },
  {
   "cell_type": "code",
   "execution_count": 33,
   "metadata": {},
   "outputs": [],
   "source": [
    "beta = 0.\n",
    "A =  torch.inverse(0.2 * torch.tensor([[-3.0, 1.0], [1., -3.0]]))\n",
    "B =  0.2 * torch.tensor([[3.0, 1.0], [1., 3.0]])\n",
    "# C = - 0.1 * torch.tensor([[2.0, 1.0], [1., 1.0]])\n",
    "# D = 0.1 * torch.tensor([[3.0, 2.0], [.5, 1.0]])\n",
    "sig = 0.\n",
    "# Q = 1 * torch.tensor([[0.54, -0.86], [-0.86, 1.5]])\n",
    "# R = 1 * torch.inverse(torch.tensor([[1.92, 0.4], [0.4, 0.3]]))\n",
    "# Q = 1 * torch.tensor([[0.54, -0.26], [-0.26, 0.4]])\n",
    "# R = 1 * torch.inverse(torch.tensor([[1.92, 0.4], [0.4, 0.3]]))\n",
    "# Q = 1 * torch.tensor([[0.9, 0.89], [0.89, 0.9]])\n",
    "# R = 1 * torch.inverse(torch.tensor([[.4, 0.398], [0.398, 0.4]]))\n",
    "Q = 1 * torch.tensor([[0.9, 0.6], [0.6, 0.9]])\n",
    "R = 1 * torch.inverse(torch.tensor([[.4, 0.3], [0.3, 0.4]]))"
   ]
  },
  {
   "cell_type": "code",
   "execution_count": 34,
   "metadata": {},
   "outputs": [
    {
     "name": "stdout",
     "output_type": "stream",
     "text": [
      "tensor(25.0000)\n"
     ]
    }
   ],
   "source": [
    "A_norm = torch.sqrt(torch.abs(torch.linalg.eig(A.T @ A).eigenvalues).max())\n",
    "A_inv_norm = torch.sqrt(torch.abs(torch.linalg.eig(torch.inverse(A).T @ torch.inverse(A)).eigenvalues).max())\n",
    "B_norm = torch.sqrt(torch.abs(torch.linalg.eig(B.T @ B).eigenvalues).max())\n",
    "B_inv_norm = torch.sqrt(torch.abs(torch.linalg.eig(torch.inverse(B).T @ torch.inverse(B)).eigenvalues).max())\n",
    "print(A_norm**2 * A_inv_norm * B_norm * B_inv_norm**2)"
   ]
  },
  {
   "cell_type": "code",
   "execution_count": 35,
   "metadata": {},
   "outputs": [
    {
     "name": "stdout",
     "output_type": "stream",
     "text": [
      "tensor(36.7500)\n"
     ]
    }
   ],
   "source": [
    "Q_norm = torch.sqrt(torch.abs(torch.linalg.eig(Q.T @ Q).eigenvalues).max())\n",
    "Q_inv_norm = torch.sqrt(torch.abs(torch.linalg.eig(torch.inverse(Q).T @ torch.inverse(Q)).eigenvalues).max())\n",
    "R_norm = torch.sqrt(torch.abs(torch.linalg.eig(R.T @ R).eigenvalues).max())\n",
    "R_inv_norm = torch.sqrt(torch.abs(torch.linalg.eig(torch.inverse(R).T @ torch.inverse(R)).eigenvalues).max())\n",
    "print(Q_norm**2 * Q_inv_norm * R_norm * R_inv_norm**2)"
   ]
  },
  {
   "cell_type": "code",
   "execution_count": 36,
   "metadata": {},
   "outputs": [],
   "source": [
    "true_b, true_c, True_V = LQR_2D_true_solution(A, B, sig, Q, R, beta)\n",
    "b_init = true_b + torch.randn(2, 2)\n",
    "c_init = 2. * torch.rand(2, 1) - 1.\n",
    "Q_init = 4. * torch.rand(10) - 2.\n",
    "V_init = true_V_eval_2D(A, B, b_init, R, Q, beta, sig)"
   ]
  },
  {
   "cell_type": "code",
   "execution_count": 37,
   "metadata": {},
   "outputs": [
    {
     "name": "stdout",
     "output_type": "stream",
     "text": [
      "tensor([[-0.0843, -0.0795],\n",
      "        [-0.0795, -0.0843]])\n",
      "tensor([[0.],\n",
      "        [0.]])\n",
      "tensor([ 0.0000, -0.2061, -0.1724, -0.2061])\n",
      "tensor([ 0.0000, -1.2388,  2.3277, -1.8926])\n"
     ]
    }
   ],
   "source": [
    "print(true_b)\n",
    "print(true_c)\n",
    "print(True_V)\n",
    "print(V_init)"
   ]
  },
  {
   "cell_type": "code",
   "execution_count": 38,
   "metadata": {},
   "outputs": [
    {
     "name": "stderr",
     "output_type": "stream",
     "text": [
      "Running Optimal Phibe of order 1 using Galerkin: 100%|██████████| 30/30 [00:28<00:00,  1.06it/s]\n"
     ]
    }
   ],
   "source": [
    "bd_low_s = -2\n",
    "bd_upper_s = 2\n",
    "bd_low_b = -2\n",
    "bd_upper_b = 2\n",
    "reward = reward\n",
    "bases_V = bases_poly_2D_simp\n",
    "d_bases_V = d_bases_poly_2D_simp\n",
    "sec_d_bases_V = sec_d_bases_poly_2D_simp\n",
    "bases_Q = bases_poly_2D_s_a_simp\n",
    "num_iter = 30\n",
    "GD_num_iter = 75\n",
    "m=int(1e6)\n",
    "m_Q=int(1e6)\n",
    "I=6\n",
    "I_Q=6\n",
    "lr=0.1\n",
    "order = 1\n",
    "true_V = True_V\n",
    "info_true = {\"A\":A, \"B\":B, \"sig\":sig, \"R\":R, \"Q\":Q}\n",
    "dt = 50\n",
    "simp_basis = True\n",
    "deterministic = True\n",
    "b_val_phibe, V_exact_dist_phibe_1, V = phibe_finder_2D_LQR(beta, b_init, Q_init, bd_low_s, bd_upper_s, bd_low_b, bd_upper_b, reward, simp_basis, bases_V, d_bases_V, sec_d_bases_V, bases_Q, num_iter, deterministic, \"Galerkin\", GD_num_iter, m, m_Q, I, lr, dt, order, true_V, info_true)"
   ]
  },
  {
   "cell_type": "code",
   "execution_count": 39,
   "metadata": {},
   "outputs": [
    {
     "name": "stderr",
     "output_type": "stream",
     "text": [
      "Running RL method: 100%|██████████| 30/30 [00:16<00:00,  1.77it/s]\n"
     ]
    }
   ],
   "source": [
    "bd_low_s = -2\n",
    "bd_upper_s = 2\n",
    "bd_low_a = -2\n",
    "bd_upper_a = 2\n",
    "reward = reward\n",
    "bases_Q = bases_poly_2D_s_a_simp\n",
    "num_iter = 30\n",
    "GD_num_iter = 75\n",
    "m=int(1e6)\n",
    "m_Q=int(1e6)\n",
    "I=6\n",
    "I_Q=6\n",
    "true_V = True_V\n",
    "info_true = {\"A\":A, \"B\":B, \"sig\":sig, \"R\":R, \"Q\":Q}\n",
    "dt = 50\n",
    "simple_basis = True\n",
    "b_val_RL, V_exact_dist_RL_1 = RL_finder_2D_LQR(beta, b_init, bd_low_s, bd_upper_s, bd_low_a, bd_upper_a, reward, simple_basis, bases_Q, num_iter, I, m_Q, dt, true_V, info_true)"
   ]
  },
  {
   "cell_type": "code",
   "execution_count": 40,
   "metadata": {},
   "outputs": [
    {
     "data": {
      "image/png": "[encoded data removed]",
      "text/plain": [
       "<Figure size 1000x600 with 1 Axes>"
      ]
     },
     "metadata": {},
     "output_type": "display_data"
    }
   ],
   "source": [
    "x_tensor = torch.arange(30)\n",
    "w_tensor = torch.tensor(V_exact_dist_phibe_1[:30], dtype=torch.float64)\n",
    "v_tensor = torch.tensor(V_exact_dist_RL_1[:30], dtype=torch.float64)\n",
    "x_values = x_tensor.numpy()\n",
    "w_values = w_tensor.numpy()\n",
    "v_values = v_tensor.numpy()\n",
    "plt.figure(figsize=(10, 6))\n",
    "plt.xticks(fontsize=12)  # Adjust 12 as needed\n",
    "plt.yticks(fontsize=12)\n",
    "plt.semilogy(x_values, w_values, label='PhiBE', color='red')\n",
    "plt.semilogy(x_values, v_values, label='RL', color='green')\n",
    "plt.title('Error during the iteration (measured by policy)', fontsize=16)\n",
    "plt.xlabel('iterations', fontsize=16)\n",
    "plt.ylabel('value', fontsize=16)\n",
    "plt.grid(True)\n",
    "plt.legend(fontsize=16)\n",
    "plt.show()"
   ]
  },
  {
   "cell_type": "code",
   "execution_count": 69,
   "metadata": {},
   "outputs": [],
   "source": [
    "beta = 0.\n",
    "# A =  torch.inverse(0.2 * torch.tensor([[-3.0, 1.0], [1., -3.0]]))\n",
    "# B =  0.2 * torch.tensor([[3.0, 1.0], [1., 3.0]])\n",
    "A = 1 * torch.tensor([[-0.9, 0.85], [0.85, -0.88]])\n",
    "B = 1 * torch.inverse(torch.tensor([[.4, 0.38], [0.38, 0.4]]))\n",
    "# C = - 0.1 * torch.tensor([[2.0, 1.0], [1., 1.0]])\n",
    "# D = 0.1 * torch.tensor([[3.0, 2.0], [.5, 1.0]])\n",
    "sig = 0.\n",
    "# Q = 1 * torch.tensor([[0.54, -0.86], [-0.86, 1.5]])\n",
    "# R = 1 * torch.inverse(torch.tensor([[1.92, 0.4], [0.4, 0.3]]))\n",
    "# Q = 1 * torch.tensor([[0.54, -0.26], [-0.26, 0.4]])\n",
    "# R = 1 * torch.inverse(torch.tensor([[1.92, 0.4], [0.4, 0.3]]))\n",
    "# Q = 1 * torch.tensor([[0.9, 0.89], [0.89, 0.9]])\n",
    "# R = 1 * torch.inverse(torch.tensor([[.4, 0.398], [0.398, 0.4]]))\n",
    "Q = 1 * torch.tensor([[0.9, 0.6], [0.6, 0.9]])\n",
    "R = 1 * torch.inverse(torch.tensor([[.4, 0.3], [0.3, 0.4]]))"
   ]
  },
  {
   "cell_type": "code",
   "execution_count": 70,
   "metadata": {},
   "outputs": [
    {
     "name": "stdout",
     "output_type": "stream",
     "text": [
      "tensor(2306.0366)\n"
     ]
    }
   ],
   "source": [
    "A_norm = torch.sqrt(torch.abs(torch.linalg.eig(A.T @ A).eigenvalues).max())\n",
    "A_inv_norm = torch.sqrt(torch.abs(torch.linalg.eig(torch.inverse(A).T @ torch.inverse(A)).eigenvalues).max())\n",
    "B_norm = torch.sqrt(torch.abs(torch.linalg.eig(B.T @ B).eigenvalues).max())\n",
    "B_inv_norm = torch.sqrt(torch.abs(torch.linalg.eig(torch.inverse(B).T @ torch.inverse(B)).eigenvalues).max())\n",
    "print(A_norm**2 * A_inv_norm * B_norm * B_inv_norm**2)"
   ]
  },
  {
   "cell_type": "code",
   "execution_count": 71,
   "metadata": {},
   "outputs": [
    {
     "name": "stdout",
     "output_type": "stream",
     "text": [
      "tensor(36.7500)\n"
     ]
    }
   ],
   "source": [
    "Q_norm = torch.sqrt(torch.abs(torch.linalg.eig(Q.T @ Q).eigenvalues).max())\n",
    "Q_inv_norm = torch.sqrt(torch.abs(torch.linalg.eig(torch.inverse(Q).T @ torch.inverse(Q)).eigenvalues).max())\n",
    "R_norm = torch.sqrt(torch.abs(torch.linalg.eig(R.T @ R).eigenvalues).max())\n",
    "R_inv_norm = torch.sqrt(torch.abs(torch.linalg.eig(torch.inverse(R).T @ torch.inverse(R)).eigenvalues).max())\n",
    "print(Q_norm**2 * Q_inv_norm * R_norm * R_inv_norm**2)"
   ]
  },
  {
   "cell_type": "code",
   "execution_count": 83,
   "metadata": {},
   "outputs": [],
   "source": [
    "true_b, true_c, True_V = LQR_2D_true_solution(A, B, sig, Q, R, beta)\n",
    "b_init = true_b + torch.randn(2, 2)\n",
    "c_init = 2. * torch.rand(2, 1) - 1.\n",
    "Q_init = 4. * torch.rand(10) - 2.\n",
    "V_init = true_V_eval_2D(A, B, b_init, R, Q, beta, sig)"
   ]
  },
  {
   "cell_type": "code",
   "execution_count": 84,
   "metadata": {},
   "outputs": [
    {
     "name": "stdout",
     "output_type": "stream",
     "text": [
      "tensor([[-0.5646, -0.4237],\n",
      "        [-0.4283, -0.5712]])\n",
      "tensor([[0.],\n",
      "        [0.]])\n",
      "tensor([ 0.0000, -0.5690, -1.0791, -0.5668])\n",
      "tensor([ 0.0000, -1.9168, -3.6875, -1.8298])\n"
     ]
    }
   ],
   "source": [
    "print(true_b)\n",
    "print(true_c)\n",
    "print(True_V)\n",
    "print(V_init)"
   ]
  },
  {
   "cell_type": "code",
   "execution_count": 85,
   "metadata": {},
   "outputs": [
    {
     "name": "stderr",
     "output_type": "stream",
     "text": [
      "Running Optimal Phibe of order 1 using Galerkin: 100%|██████████| 30/30 [00:26<00:00,  1.14it/s]\n"
     ]
    }
   ],
   "source": [
    "bd_low_s = -2\n",
    "bd_upper_s = 2\n",
    "bd_low_b = -2\n",
    "bd_upper_b = 2\n",
    "reward = reward\n",
    "bases_V = bases_poly_2D_simp\n",
    "d_bases_V = d_bases_poly_2D_simp\n",
    "sec_d_bases_V = sec_d_bases_poly_2D_simp\n",
    "bases_Q = bases_poly_2D_s_a_simp\n",
    "num_iter = 30\n",
    "GD_num_iter = 75\n",
    "m=int(1e6)\n",
    "m_Q=int(1e6)\n",
    "I=6\n",
    "I_Q=6\n",
    "lr=0.1\n",
    "order = 1\n",
    "true_V = True_V\n",
    "info_true = {\"A\":A, \"B\":B, \"sig\":sig, \"R\":R, \"Q\":Q}\n",
    "dt = 1\n",
    "simp_basis = True\n",
    "deterministic = True\n",
    "b_val_phibe_2, V_exact_dist_phibe_2, V = phibe_finder_2D_LQR(beta, b_init, Q_init, bd_low_s, bd_upper_s, bd_low_b, bd_upper_b, reward, simp_basis, bases_V, d_bases_V, sec_d_bases_V, bases_Q, num_iter, deterministic, \"Galerkin\", GD_num_iter, m, m_Q, I, lr, dt, order, true_V, info_true)"
   ]
  },
  {
   "cell_type": "code",
   "execution_count": 86,
   "metadata": {},
   "outputs": [
    {
     "name": "stderr",
     "output_type": "stream",
     "text": [
      "Running RL method:  37%|███▋      | 11/30 [00:07<00:12,  1.53it/s]"
     ]
    },
    {
     "name": "stdout",
     "output_type": "stream",
     "text": [
      "infeasibility detected\n"
     ]
    },
    {
     "name": "stderr",
     "output_type": "stream",
     "text": [
      "Running RL method: 100%|██████████| 30/30 [00:19<00:00,  1.50it/s]\n"
     ]
    }
   ],
   "source": [
    "bd_low_s = -2\n",
    "bd_upper_s = 2\n",
    "bd_low_a = -2\n",
    "bd_upper_a = 2\n",
    "reward = reward\n",
    "bases_Q = bases_poly_2D_s_a_simp\n",
    "num_iter = 30\n",
    "GD_num_iter = 75\n",
    "m=int(1e6)\n",
    "m_Q=int(1e6)\n",
    "I=6\n",
    "I_Q=6\n",
    "true_V = True_V\n",
    "info_true = {\"A\":A, \"B\":B, \"sig\":sig, \"R\":R, \"Q\":Q}\n",
    "dt = 1\n",
    "simple_basis = True\n",
    "b_val_RL_2, V_exact_dist_RL_2 = RL_finder_2D_LQR(beta, b_init, bd_low_s, bd_upper_s, bd_low_a, bd_upper_a, reward, simple_basis, bases_Q, num_iter, I, m_Q, dt, true_V, info_true)"
   ]
  },
  {
   "cell_type": "code",
   "execution_count": 88,
   "metadata": {},
   "outputs": [
    {
     "data": {
      "image/png": "[encoded data removed]",
      "text/plain": [
       "<Figure size 1000x600 with 1 Axes>"
      ]
     },
     "metadata": {},
     "output_type": "display_data"
    }
   ],
   "source": [
    "x_tensor = torch.arange(30)\n",
    "w_tensor = torch.tensor(V_exact_dist_phibe_2[:30], dtype=torch.float64)\n",
    "v_tensor = torch.tensor(V_exact_dist_RL_2[:30], dtype=torch.float64)\n",
    "x_values = x_tensor.numpy()\n",
    "w_values = w_tensor.numpy()\n",
    "v_values = v_tensor.numpy()\n",
    "plt.figure(figsize=(10, 6))\n",
    "plt.xticks(fontsize=12)  # Adjust 12 as needed\n",
    "plt.yticks(fontsize=12)\n",
    "plt.semilogy(x_values, w_values, label='PhiBE', color='red')\n",
    "plt.semilogy(x_values, v_values, label='RL', color='green')\n",
    "plt.title('Error during the iteration (measured by policy)', fontsize=16)\n",
    "plt.xlabel('iterations', fontsize=16)\n",
    "plt.ylabel('value', fontsize=16)\n",
    "plt.grid(True)\n",
    "plt.legend(fontsize=16)\n",
    "plt.show()"
   ]
  },
  {
   "cell_type": "code",
   "execution_count": 99,
   "metadata": {},
   "outputs": [],
   "source": [
    "beta = 0.\n",
    "A =  torch.inverse(0.2 * torch.tensor([[-3.0, 1.0], [1., -3.0]]))\n",
    "B =  0.2 * torch.tensor([[3.0, 1.0], [1., 3.0]])\n",
    "# A = 1 * torch.tensor([[-0.9, 0.85], [0.85, -0.88]])\n",
    "# B = 1 * torch.inverse(torch.tensor([[.4, 0.38], [0.38, 0.4]]))\n",
    "# C = - 0.1 * torch.tensor([[2.0, 1.0], [1., 1.0]])\n",
    "# D = 0.1 * torch.tensor([[3.0, 2.0], [.5, 1.0]])\n",
    "sig = 0.\n",
    "# Q = 1 * torch.tensor([[0.54, -0.86], [-0.86, 1.5]])\n",
    "# R = 1 * torch.inverse(torch.tensor([[1.92, 0.4], [0.4, 0.3]]))\n",
    "# Q = 1 * torch.tensor([[0.54, -0.26], [-0.26, 0.4]])\n",
    "# R = 1 * torch.inverse(torch.tensor([[1.92, 0.4], [0.4, 0.3]]))\n",
    "Q = 1 * torch.tensor([[0.9, 0.89], [0.89, 0.9]])\n",
    "R = 1 * torch.inverse(torch.tensor([[.4, 0.398], [0.398, 0.4]]))\n",
    "# Q = 1 * torch.tensor([[0.9, 0.6], [0.6, 0.9]])\n",
    "# R = 1 * torch.inverse(torch.tensor([[.4, 0.3], [0.3, 0.4]]))"
   ]
  },
  {
   "cell_type": "code",
   "execution_count": 100,
   "metadata": {},
   "outputs": [
    {
     "name": "stdout",
     "output_type": "stream",
     "text": [
      "tensor(25.0000)\n"
     ]
    }
   ],
   "source": [
    "A_norm = torch.sqrt(torch.abs(torch.linalg.eig(A.T @ A).eigenvalues).max())\n",
    "A_inv_norm = torch.sqrt(torch.abs(torch.linalg.eig(torch.inverse(A).T @ torch.inverse(A)).eigenvalues).max())\n",
    "B_norm = torch.sqrt(torch.abs(torch.linalg.eig(B.T @ B).eigenvalues).max())\n",
    "B_inv_norm = torch.sqrt(torch.abs(torch.linalg.eig(torch.inverse(B).T @ torch.inverse(B)).eigenvalues).max())\n",
    "print(A_norm**2 * A_inv_norm * B_norm * B_inv_norm**2)"
   ]
  },
  {
   "cell_type": "code",
   "execution_count": 101,
   "metadata": {},
   "outputs": [
    {
     "name": "stdout",
     "output_type": "stream",
     "text": [
      "tensor(102019.1848)\n"
     ]
    }
   ],
   "source": [
    "Q_norm = torch.sqrt(torch.abs(torch.linalg.eig(Q.T @ Q).eigenvalues).max())\n",
    "Q_inv_norm = torch.sqrt(torch.abs(torch.linalg.eig(torch.inverse(Q).T @ torch.inverse(Q)).eigenvalues).max())\n",
    "R_norm = torch.sqrt(torch.abs(torch.linalg.eig(R.T @ R).eigenvalues).max())\n",
    "R_inv_norm = torch.sqrt(torch.abs(torch.linalg.eig(torch.inverse(R).T @ torch.inverse(R)).eigenvalues).max())\n",
    "print(Q_norm**2 * Q_inv_norm * R_norm * R_inv_norm**2)"
   ]
  },
  {
   "cell_type": "code",
   "execution_count": 102,
   "metadata": {},
   "outputs": [],
   "source": [
    "true_b, true_c, True_V = LQR_2D_true_solution(A, B, sig, Q, R, beta)\n",
    "b_init = true_b + torch.randn(2, 2)\n",
    "c_init = 2. * torch.rand(2, 1) - 1.\n",
    "Q_init = 4. * torch.rand(10) - 2.\n",
    "V_init = true_V_eval_2D(A, B, b_init, R, Q, beta, sig)"
   ]
  },
  {
   "cell_type": "code",
   "execution_count": 103,
   "metadata": {},
   "outputs": [
    {
     "name": "stdout",
     "output_type": "stream",
     "text": [
      "tensor([[-0.1104, -0.1104],\n",
      "        [-0.1104, -0.1104]])\n",
      "tensor([[0.],\n",
      "        [0.]])\n",
      "tensor([ 0.0000, -0.1749, -0.3418, -0.1749])\n",
      "tensor([   0.0000, -393.0230,  219.2219,  -40.3157])\n"
     ]
    }
   ],
   "source": [
    "print(true_b)\n",
    "print(true_c)\n",
    "print(True_V)\n",
    "print(V_init)"
   ]
  },
  {
   "cell_type": "code",
   "execution_count": 104,
   "metadata": {},
   "outputs": [
    {
     "name": "stderr",
     "output_type": "stream",
     "text": [
      "Running Optimal Phibe of order 1 using Galerkin:   3%|▎         | 1/30 [00:01<00:34,  1.19s/it]"
     ]
    },
    {
     "name": "stdout",
     "output_type": "stream",
     "text": [
      "infeasibility detected\n"
     ]
    },
    {
     "name": "stderr",
     "output_type": "stream",
     "text": [
      "Running Optimal Phibe of order 1 using Galerkin:   7%|▋         | 2/30 [00:02<00:29,  1.06s/it]"
     ]
    },
    {
     "name": "stdout",
     "output_type": "stream",
     "text": [
      "infeasibility detected\n"
     ]
    },
    {
     "name": "stderr",
     "output_type": "stream",
     "text": [
      "Running Optimal Phibe of order 1 using Galerkin:  10%|█         | 3/30 [00:03<00:26,  1.03it/s]"
     ]
    },
    {
     "name": "stdout",
     "output_type": "stream",
     "text": [
      "infeasibility detected\n"
     ]
    },
    {
     "name": "stderr",
     "output_type": "stream",
     "text": [
      "Running Optimal Phibe of order 1 using Galerkin:  13%|█▎        | 4/30 [00:03<00:23,  1.10it/s]"
     ]
    },
    {
     "name": "stdout",
     "output_type": "stream",
     "text": [
      "infeasibility detected\n"
     ]
    },
    {
     "name": "stderr",
     "output_type": "stream",
     "text": [
      "Running Optimal Phibe of order 1 using Galerkin:  17%|█▋        | 5/30 [00:04<00:22,  1.13it/s]"
     ]
    },
    {
     "name": "stdout",
     "output_type": "stream",
     "text": [
      "infeasibility detected\n"
     ]
    },
    {
     "name": "stderr",
     "output_type": "stream",
     "text": [
      "Running Optimal Phibe of order 1 using Galerkin:  20%|██        | 6/30 [00:05<00:20,  1.15it/s]"
     ]
    },
    {
     "name": "stdout",
     "output_type": "stream",
     "text": [
      "infeasibility detected\n"
     ]
    },
    {
     "name": "stderr",
     "output_type": "stream",
     "text": [
      "Running Optimal Phibe of order 1 using Galerkin: 100%|██████████| 30/30 [00:25<00:00,  1.17it/s]\n"
     ]
    }
   ],
   "source": [
    "bd_low_s = -2\n",
    "bd_upper_s = 2\n",
    "bd_low_b = -2\n",
    "bd_upper_b = 2\n",
    "reward = reward\n",
    "bases_V = bases_poly_2D_simp\n",
    "d_bases_V = d_bases_poly_2D_simp\n",
    "sec_d_bases_V = sec_d_bases_poly_2D_simp\n",
    "bases_Q = bases_poly_2D_s_a_simp\n",
    "num_iter = 30\n",
    "GD_num_iter = 75\n",
    "m=int(1e6)\n",
    "m_Q=int(1e6)\n",
    "I=6\n",
    "I_Q=6\n",
    "lr=0.1\n",
    "order = 1\n",
    "true_V = True_V\n",
    "info_true = {\"A\":A, \"B\":B, \"sig\":sig, \"R\":R, \"Q\":Q}\n",
    "dt = 0.1\n",
    "simp_basis = True\n",
    "deterministic = True\n",
    "b_val_phibe_3, V_exact_dist_phibe_3, V = phibe_finder_2D_LQR(beta, b_init, Q_init, bd_low_s, bd_upper_s, bd_low_b, bd_upper_b, reward, simp_basis, bases_V, d_bases_V, sec_d_bases_V, bases_Q, num_iter, deterministic, \"Galerkin\", GD_num_iter, m, m_Q, I, lr, dt, order, true_V, info_true)"
   ]
  },
  {
   "cell_type": "code",
   "execution_count": 105,
   "metadata": {},
   "outputs": [
    {
     "name": "stderr",
     "output_type": "stream",
     "text": [
      "Running RL method:   3%|▎         | 1/30 [00:00<00:18,  1.56it/s]"
     ]
    },
    {
     "name": "stdout",
     "output_type": "stream",
     "text": [
      "infeasibility detected\n"
     ]
    },
    {
     "name": "stderr",
     "output_type": "stream",
     "text": [
      "Running RL method:   7%|▋         | 2/30 [00:01<00:17,  1.61it/s]"
     ]
    },
    {
     "name": "stdout",
     "output_type": "stream",
     "text": [
      "infeasibility detected\n"
     ]
    },
    {
     "name": "stderr",
     "output_type": "stream",
     "text": [
      "Running RL method:  10%|█         | 3/30 [00:01<00:16,  1.63it/s]"
     ]
    },
    {
     "name": "stdout",
     "output_type": "stream",
     "text": [
      "infeasibility detected\n"
     ]
    },
    {
     "name": "stderr",
     "output_type": "stream",
     "text": [
      "Running RL method:  20%|██        | 6/30 [00:03<00:15,  1.53it/s]"
     ]
    },
    {
     "name": "stdout",
     "output_type": "stream",
     "text": [
      "infeasibility detected\n"
     ]
    },
    {
     "name": "stderr",
     "output_type": "stream",
     "text": [
      "Running RL method:  27%|██▋       | 8/30 [00:05<00:14,  1.54it/s]"
     ]
    },
    {
     "name": "stdout",
     "output_type": "stream",
     "text": [
      "infeasibility detected\n"
     ]
    },
    {
     "name": "stderr",
     "output_type": "stream",
     "text": [
      "Running RL method:  37%|███▋      | 11/30 [00:07<00:12,  1.55it/s]"
     ]
    },
    {
     "name": "stdout",
     "output_type": "stream",
     "text": [
      "infeasibility detected\n"
     ]
    },
    {
     "name": "stderr",
     "output_type": "stream",
     "text": [
      "Running RL method:  57%|█████▋    | 17/30 [00:11<00:08,  1.45it/s]"
     ]
    },
    {
     "name": "stdout",
     "output_type": "stream",
     "text": [
      "infeasibility detected\n"
     ]
    },
    {
     "name": "stderr",
     "output_type": "stream",
     "text": [
      "Running RL method:  80%|████████  | 24/30 [00:15<00:03,  1.52it/s]"
     ]
    },
    {
     "name": "stdout",
     "output_type": "stream",
     "text": [
      "infeasibility detected\n"
     ]
    },
    {
     "name": "stderr",
     "output_type": "stream",
     "text": [
      "Running RL method:  83%|████████▎ | 25/30 [00:16<00:03,  1.54it/s]"
     ]
    },
    {
     "name": "stdout",
     "output_type": "stream",
     "text": [
      "infeasibility detected\n"
     ]
    },
    {
     "name": "stderr",
     "output_type": "stream",
     "text": [
      "Running RL method:  93%|█████████▎| 28/30 [00:18<00:01,  1.51it/s]"
     ]
    },
    {
     "name": "stdout",
     "output_type": "stream",
     "text": [
      "infeasibility detected\n"
     ]
    },
    {
     "name": "stderr",
     "output_type": "stream",
     "text": [
      "Running RL method: 100%|██████████| 30/30 [00:19<00:00,  1.51it/s]\n"
     ]
    }
   ],
   "source": [
    "bd_low_s = -2\n",
    "bd_upper_s = 2\n",
    "bd_low_a = -2\n",
    "bd_upper_a = 2\n",
    "reward = reward\n",
    "bases_Q = bases_poly_2D_s_a_simp\n",
    "num_iter = 30\n",
    "GD_num_iter = 75\n",
    "m=int(1e6)\n",
    "m_Q=int(1e6)\n",
    "I=6\n",
    "I_Q=6\n",
    "true_V = True_V\n",
    "info_true = {\"A\":A, \"B\":B, \"sig\":sig, \"R\":R, \"Q\":Q}\n",
    "dt = 0.1\n",
    "simple_basis = True\n",
    "b_val_RL_3, V_exact_dist_RL_3 = RL_finder_2D_LQR(beta, b_init, bd_low_s, bd_upper_s, bd_low_a, bd_upper_a, reward, simple_basis, bases_Q, num_iter, I, m_Q, dt, true_V, info_true)"
   ]
  },
  {
   "cell_type": "code",
   "execution_count": 106,
   "metadata": {},
   "outputs": [
    {
     "data": {
      "image/png": "[encoded data removed]",
      "text/plain": [
       "<Figure size 1000x600 with 1 Axes>"
      ]
     },
     "metadata": {},
     "output_type": "display_data"
    }
   ],
   "source": [
    "x_tensor = torch.arange(30)\n",
    "w_tensor = torch.tensor(V_exact_dist_phibe_3[:30], dtype=torch.float64)\n",
    "v_tensor = torch.tensor(V_exact_dist_RL_3[:30], dtype=torch.float64)\n",
    "x_values = x_tensor.numpy()\n",
    "w_values = w_tensor.numpy()\n",
    "v_values = v_tensor.numpy()\n",
    "plt.figure(figsize=(10, 6))\n",
    "plt.xticks(fontsize=12)  # Adjust 12 as needed\n",
    "plt.yticks(fontsize=12)\n",
    "plt.semilogy(x_values, w_values, label='PhiBE', color='red')\n",
    "plt.semilogy(x_values, v_values, label='RL', color='green')\n",
    "plt.title('Error during the iteration (measured by policy)', fontsize=16)\n",
    "plt.xlabel('iterations', fontsize=16)\n",
    "plt.ylabel('value', fontsize=16)\n",
    "plt.grid(True)\n",
    "plt.legend(fontsize=16)\n",
    "plt.show()"
   ]
  },
  {
   "cell_type": "code",
   "execution_count": 5,
   "metadata": {},
   "outputs": [],
   "source": [
    "beta = 0.\n",
    "# A =  torch.inverse(0.2 * torch.tensor([[-3.0, 1.0], [1., -3.0]]))\n",
    "# B =  0.2 * torch.tensor([[3.0, 1.0], [1., 3.0]])\n",
    "A = 1 * torch.tensor([[0.9, 0.899], [0.899, 0.88]])\n",
    "B = 1 * torch.inverse(torch.tensor([[.4, 0.38], [0.38, 0.4]]))\n",
    "# C = - 0.1 * torch.tensor([[2.0, 1.0], [1., 1.0]])\n",
    "# D = 0.1 * torch.tensor([[3.0, 2.0], [.5, 1.0]])\n",
    "sig = 0.\n",
    "# Q = 1 * torch.tensor([[0.54, -0.86], [-0.86, 1.5]])\n",
    "# R = 1 * torch.inverse(torch.tensor([[1.92, 0.4], [0.4, 0.3]]))\n",
    "# Q = 1 * torch.tensor([[0.54, -0.26], [-0.26, 0.4]])\n",
    "# R = 1 * torch.inverse(torch.tensor([[1.92, 0.4], [0.4, 0.3]]))\n",
    "# Q = 1 * torch.tensor([[0.9, 0.89], [0.89, 0.9]])\n",
    "# R = 1 * torch.inverse(torch.tensor([[.4, 0.398], [0.398, 0.4]]))\n",
    "Q = 1 * torch.tensor([[0.9, 0.6], [0.6, 0.9]])\n",
    "R = 1 * torch.inverse(torch.tensor([[.4, 0.3], [0.3, 0.4]]))"
   ]
  },
  {
   "cell_type": "code",
   "execution_count": 6,
   "metadata": {},
   "outputs": [
    {
     "name": "stdout",
     "output_type": "stream",
     "text": [
      "tensor(10751.9915)\n"
     ]
    }
   ],
   "source": [
    "A_norm = torch.sqrt(torch.abs(torch.linalg.eig(A.T @ A).eigenvalues).max())\n",
    "A_inv_norm = torch.sqrt(torch.abs(torch.linalg.eig(torch.inverse(A).T @ torch.inverse(A)).eigenvalues).max())\n",
    "B_norm = torch.sqrt(torch.abs(torch.linalg.eig(B.T @ B).eigenvalues).max())\n",
    "B_inv_norm = torch.sqrt(torch.abs(torch.linalg.eig(torch.inverse(B).T @ torch.inverse(B)).eigenvalues).max())\n",
    "print(A_norm**2 * A_inv_norm * B_norm * B_inv_norm**2)"
   ]
  },
  {
   "cell_type": "code",
   "execution_count": 7,
   "metadata": {},
   "outputs": [
    {
     "name": "stdout",
     "output_type": "stream",
     "text": [
      "tensor(36.7500)\n"
     ]
    }
   ],
   "source": [
    "Q_norm = torch.sqrt(torch.abs(torch.linalg.eig(Q.T @ Q).eigenvalues).max())\n",
    "Q_inv_norm = torch.sqrt(torch.abs(torch.linalg.eig(torch.inverse(Q).T @ torch.inverse(Q)).eigenvalues).max())\n",
    "R_norm = torch.sqrt(torch.abs(torch.linalg.eig(R.T @ R).eigenvalues).max())\n",
    "R_inv_norm = torch.sqrt(torch.abs(torch.linalg.eig(torch.inverse(R).T @ torch.inverse(R)).eigenvalues).max())\n",
    "print(Q_norm**2 * Q_inv_norm * R_norm * R_inv_norm**2)"
   ]
  },
  {
   "cell_type": "code",
   "execution_count": 10,
   "metadata": {},
   "outputs": [],
   "source": [
    "true_b, true_c, True_V = LQR_2D_true_solution(A, B, sig, Q, R, beta)\n",
    "b_init = true_b + torch.randn(2, 2)\n",
    "c_init = 2. * torch.rand(2, 1) - 1.\n",
    "Q_init = 4. * torch.rand(10) - 2.\n",
    "V_init = true_V_eval_2D(A, B, b_init, R, Q, beta, sig)"
   ]
  },
  {
   "cell_type": "code",
   "execution_count": 16,
   "metadata": {},
   "outputs": [
    {
     "name": "stdout",
     "output_type": "stream",
     "text": [
      "tensor([[-1.6591, -1.4832],\n",
      "        [-1.4699, -1.6401]])\n",
      "tensor([[0.],\n",
      "        [0.]])\n",
      "tensor([ 0.0000, -1.7558, -3.4488, -1.7622])\n",
      "tensor([ 0.0000, -1.8545, -3.5322, -1.8067])\n"
     ]
    }
   ],
   "source": [
    "print(true_b)\n",
    "print(true_c)\n",
    "print(True_V)\n",
    "print(V_init)"
   ]
  },
  {
   "cell_type": "code",
   "execution_count": 18,
   "metadata": {},
   "outputs": [
    {
     "name": "stderr",
     "output_type": "stream",
     "text": [
      "Running Optimal Phibe of order 1 using Galerkin:  33%|███▎      | 10/30 [00:13<00:23,  1.18s/it]"
     ]
    },
    {
     "name": "stdout",
     "output_type": "stream",
     "text": [
      "infeasibility detected\n"
     ]
    },
    {
     "name": "stderr",
     "output_type": "stream",
     "text": [
      "Running Optimal Phibe of order 1 using Galerkin:  70%|███████   | 21/30 [00:25<00:08,  1.07it/s]"
     ]
    },
    {
     "name": "stdout",
     "output_type": "stream",
     "text": [
      "infeasibility detected\n"
     ]
    },
    {
     "name": "stderr",
     "output_type": "stream",
     "text": [
      "Running Optimal Phibe of order 1 using Galerkin:  73%|███████▎  | 22/30 [00:26<00:07,  1.10it/s]"
     ]
    },
    {
     "name": "stdout",
     "output_type": "stream",
     "text": [
      "infeasibility detected\n"
     ]
    },
    {
     "name": "stderr",
     "output_type": "stream",
     "text": [
      "Running Optimal Phibe of order 1 using Galerkin:  77%|███████▋  | 23/30 [00:26<00:06,  1.11it/s]"
     ]
    },
    {
     "name": "stdout",
     "output_type": "stream",
     "text": [
      "infeasibility detected\n"
     ]
    },
    {
     "name": "stderr",
     "output_type": "stream",
     "text": [
      "Running Optimal Phibe of order 1 using Galerkin: 100%|██████████| 30/30 [00:32<00:00,  1.10s/it]\n"
     ]
    }
   ],
   "source": [
    "bd_low_s = -2\n",
    "bd_upper_s = 2\n",
    "bd_low_b = -2\n",
    "bd_upper_b = 2\n",
    "reward = reward\n",
    "bases_V = bases_poly_2D_simp\n",
    "d_bases_V = d_bases_poly_2D_simp\n",
    "sec_d_bases_V = sec_d_bases_poly_2D_simp\n",
    "bases_Q = bases_poly_2D_s_a_simp\n",
    "num_iter = 30\n",
    "GD_num_iter = 75\n",
    "m=int(1e6)\n",
    "m_Q=int(1e6)\n",
    "I=6\n",
    "I_Q=6\n",
    "lr=0.1\n",
    "order = 1\n",
    "true_V = True_V\n",
    "info_true = {\"A\":A, \"B\":B, \"sig\":sig, \"R\":R, \"Q\":Q}\n",
    "dt = 0.01\n",
    "simp_basis = True\n",
    "deterministic = True\n",
    "b_val_phibe_4, V_exact_dist_phibe_4, V = phibe_finder_2D_LQR(beta, b_init, Q_init, bd_low_s, bd_upper_s, bd_low_b, bd_upper_b, reward, simp_basis, bases_V, d_bases_V, sec_d_bases_V, bases_Q, num_iter, deterministic, \"Galerkin\", GD_num_iter, m, m_Q, I, lr, dt, order, true_V, info_true)"
   ]
  },
  {
   "cell_type": "code",
   "execution_count": 19,
   "metadata": {},
   "outputs": [
    {
     "name": "stderr",
     "output_type": "stream",
     "text": [
      "Running RL method:  23%|██▎       | 7/30 [00:04<00:14,  1.54it/s]"
     ]
    },
    {
     "name": "stdout",
     "output_type": "stream",
     "text": [
      "infeasibility detected\n"
     ]
    },
    {
     "name": "stderr",
     "output_type": "stream",
     "text": [
      "Running RL method:  43%|████▎     | 13/30 [00:08<00:11,  1.54it/s]"
     ]
    },
    {
     "name": "stdout",
     "output_type": "stream",
     "text": [
      "infeasibility detected\n"
     ]
    },
    {
     "name": "stderr",
     "output_type": "stream",
     "text": [
      "Running RL method:  47%|████▋     | 14/30 [00:09<00:10,  1.55it/s]"
     ]
    },
    {
     "name": "stdout",
     "output_type": "stream",
     "text": [
      "infeasibility detected\n"
     ]
    },
    {
     "name": "stderr",
     "output_type": "stream",
     "text": [
      "Running RL method: 100%|██████████| 30/30 [00:19<00:00,  1.52it/s]\n"
     ]
    }
   ],
   "source": [
    "bd_low_s = -2\n",
    "bd_upper_s = 2\n",
    "bd_low_a = -2\n",
    "bd_upper_a = 2\n",
    "reward = reward\n",
    "bases_Q = bases_poly_2D_s_a_simp\n",
    "num_iter = 30\n",
    "GD_num_iter = 75\n",
    "m=int(1e6)\n",
    "m_Q=int(1e6)\n",
    "I=6\n",
    "I_Q=6\n",
    "true_V = True_V\n",
    "info_true = {\"A\":A, \"B\":B, \"sig\":sig, \"R\":R, \"Q\":Q}\n",
    "dt = 0.01\n",
    "simple_basis = True\n",
    "b_val_RL_4, V_exact_dist_RL_4 = RL_finder_2D_LQR(beta, b_init, bd_low_s, bd_upper_s, bd_low_a, bd_upper_a, reward, simple_basis, bases_Q, num_iter, I, m_Q, dt, true_V, info_true)"
   ]
  },
  {
   "cell_type": "code",
   "execution_count": 20,
   "metadata": {},
   "outputs": [
    {
     "data": {
      "image/png": "[encoded data removed]",
      "text/plain": [
       "<Figure size 1000x600 with 1 Axes>"
      ]
     },
     "metadata": {},
     "output_type": "display_data"
    }
   ],
   "source": [
    "x_tensor = torch.arange(30)\n",
    "w_tensor = torch.tensor(V_exact_dist_phibe_4[:30], dtype=torch.float64)\n",
    "v_tensor = torch.tensor(V_exact_dist_RL_4[:30], dtype=torch.float64)\n",
    "x_values = x_tensor.numpy()\n",
    "w_values = w_tensor.numpy()\n",
    "v_values = v_tensor.numpy()\n",
    "plt.figure(figsize=(10, 6))\n",
    "plt.xticks(fontsize=12)  # Adjust 12 as needed\n",
    "plt.yticks(fontsize=12)\n",
    "plt.semilogy(x_values, w_values, label='PhiBE', color='red')\n",
    "plt.semilogy(x_values, v_values, label='RL', color='green')\n",
    "plt.title('Error during the iteration (measured by policy)', fontsize=16)\n",
    "plt.xlabel('iterations', fontsize=16)\n",
    "plt.ylabel('value', fontsize=16)\n",
    "plt.grid(True)\n",
    "plt.legend(fontsize=16)\n",
    "plt.show()"
   ]
  }
 ],
 "metadata": {
  "kernelspec": {
   "display_name": "test",
   "language": "python",
   "name": "python3"
  },
  "language_info": {
   "codemirror_mode": {
    "name": "ipython",
    "version": 3
   },
   "file_extension": ".py",
   "mimetype": "text/x-python",
   "name": "python",
   "nbconvert_exporter": "python",
   "pygments_lexer": "ipython3",
   "version": "3.9.16"
  }
 },
 "nbformat": 4,
 "nbformat_minor": 2
}
