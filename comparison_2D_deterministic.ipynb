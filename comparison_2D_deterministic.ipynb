{
 "cells": [
  {
   "cell_type": "code",
   "execution_count": 1,
   "metadata": {},
   "outputs": [],
   "source": [
    "import torch\n",
    "from utils import LQR_2D_true_solution, out_put, LQR_1D_true_solution, l_2_compute_1D_Q, l_2_compute_1D_V, true_V_eval_2D\n",
    "from bases import bases_poly, d_bases_poly, sec_bases_poly, bases_2d, bases_poly_simp, d_bases_poly_simp, sec_bases_poly_simp, bases_2d_simp, bases_poly_2D, bases_poly_2D_s_a, d_bases_poly_2D, bases_poly_2D_simp, d_bases_poly_2D_simp, sec_d_bases_poly_2D, sec_d_bases_poly_2D_simp, bases_poly_2D_s_a_simp\n",
    "from main_phibe import phibe_finder_1D_LQR, phibe_finder_2D_LQR\n",
    "from main_RL import RL_finder_1D_LQR, RL_finder_2D_LQR\n",
    "import matplotlib.pyplot as plt\n",
    "from math import sqrt\n",
    "import numpy as np"
   ]
  },
  {
   "cell_type": "code",
   "execution_count": 2,
   "metadata": {},
   "outputs": [],
   "source": [
    "torch.set_default_dtype(torch.float64)\n",
    "device = torch.device(\"cpu\")"
   ]
  },
  {
   "cell_type": "code",
   "execution_count": 3,
   "metadata": {},
   "outputs": [],
   "source": [
    "def reward(traj_mat, act_mat):\n",
    "    # traj_mat shape: (m, I, dim)\n",
    "    # act_mat shape: (m, I, dim)\n",
    "    # output shape: (m, I, 1)\n",
    "    r_1 = torch.einsum(\"ijk,kl,ijl->ij\", traj_mat, Q, traj_mat)\n",
    "    r_2 = torch.einsum(\"ijk,kl,ijl->ij\", act_mat, R, act_mat)\n",
    "    return (- r_1 - r_2).unsqueeze(-1)"
   ]
  },
  {
   "cell_type": "code",
   "execution_count": 179,
   "metadata": {},
   "outputs": [],
   "source": [
    "beta = 0.\n",
    "A =  0.5 * torch.inverse(0.2 * torch.tensor([[-3.0, 1.0], [1., -3.0]]))\n",
    "# B =  0.2 * torch.tensor([[3.0, 1.0], [1., 3.0]])\n",
    "# A = torch.tensor([[0.6, 0.8], [0.8, -0.6]])\n",
    "B = torch.tensor([[1, 0.1], [0.1, 1.01]])\n",
    "sig = 0.\n",
    "Q = 1 * torch.tensor([[1, 0.2], [0.2, 1.04]])\n",
    "R = 1 * torch.tensor([[1.2, 0.3], [0.3, 0.8]])"
   ]
  },
  {
   "cell_type": "code",
   "execution_count": 180,
   "metadata": {},
   "outputs": [
    {
     "name": "stdout",
     "output_type": "stream",
     "text": [
      "torch.return_types.linalg_eig(\n",
      "eigenvalues=tensor([1.3606+0.j, 0.6394+0.j]),\n",
      "eigenvectors=tensor([[ 0.8817+0.j, -0.4719+0.j],\n",
      "        [ 0.4719+0.j,  0.8817+0.j]]))\n",
      "torch.return_types.linalg_eig(\n",
      "eigenvalues=tensor([0.8190+0.j, 1.2210+0.j]),\n",
      "eigenvectors=tensor([[-0.7415+0.j, -0.6710+0.j],\n",
      "        [ 0.6710+0.j, -0.7415+0.j]]))\n"
     ]
    }
   ],
   "source": [
    "print(torch.linalg.eig(R))\n",
    "print(torch.linalg.eig(Q))\n",
    "# smaller difference"
   ]
  },
  {
   "cell_type": "code",
   "execution_count": 181,
   "metadata": {},
   "outputs": [
    {
     "name": "stdout",
     "output_type": "stream",
     "text": [
      "tensor(3.3742)\n"
     ]
    }
   ],
   "source": [
    "A_norm = torch.sqrt(torch.abs(torch.linalg.eig(A.T @ A).eigenvalues).max())\n",
    "A_inv_norm = torch.sqrt(torch.abs(torch.linalg.eig(torch.inverse(A).T @ torch.inverse(A)).eigenvalues).max())\n",
    "B_norm = torch.sqrt(torch.abs(torch.linalg.eig(B.T @ B).eigenvalues).max())\n",
    "B_inv_norm = torch.sqrt(torch.abs(torch.linalg.eig(torch.inverse(B).T @ torch.inverse(B)).eigenvalues).max())\n",
    "print(A_norm**2 * A_inv_norm * B_norm * B_inv_norm**2)"
   ]
  },
  {
   "cell_type": "code",
   "execution_count": 182,
   "metadata": {},
   "outputs": [
    {
     "name": "stdout",
     "output_type": "stream",
     "text": [
      "torch.return_types.linalg_eig(\n",
      "eigenvalues=tensor([-1.2500+0.j, -0.6250+0.j]),\n",
      "eigenvectors=tensor([[-0.7071+0.j,  0.7071+0.j],\n",
      "        [-0.7071+0.j, -0.7071+0.j]]))\n",
      "torch.return_types.linalg_eig(\n",
      "eigenvalues=tensor([0.9049+0.j, 1.1051+0.j]),\n",
      "eigenvectors=tensor([[-0.7245+0.j, -0.6892+0.j],\n",
      "        [ 0.6892+0.j, -0.7245+0.j]]))\n"
     ]
    }
   ],
   "source": [
    "print(torch.linalg.eig(A))\n",
    "print(torch.linalg.eig(B))\n",
    "# smaller difference"
   ]
  },
  {
   "cell_type": "code",
   "execution_count": 183,
   "metadata": {},
   "outputs": [
    {
     "name": "stdout",
     "output_type": "stream",
     "text": [
      "tensor(6.0570)\n"
     ]
    }
   ],
   "source": [
    "Q_norm = torch.sqrt(torch.abs(torch.linalg.eig(Q.T @ Q).eigenvalues).max())\n",
    "Q_inv_norm = torch.sqrt(torch.abs(torch.linalg.eig(torch.inverse(Q).T @ torch.inverse(Q)).eigenvalues).max())\n",
    "R_norm = torch.sqrt(torch.abs(torch.linalg.eig(R.T @ R).eigenvalues).max())\n",
    "R_inv_norm = torch.sqrt(torch.abs(torch.linalg.eig(torch.inverse(R).T @ torch.inverse(R)).eigenvalues).max())\n",
    "print(Q_norm**2 * Q_inv_norm * R_norm * R_inv_norm**2)"
   ]
  },
  {
   "cell_type": "code",
   "execution_count": 184,
   "metadata": {},
   "outputs": [],
   "source": [
    "true_b, true_c, True_V = LQR_2D_true_solution(A, B, sig, Q, R, beta)\n",
    "b_init = true_b + torch.randn(2, 2)\n",
    "Q_init = 4. * torch.rand(10) - 2.\n",
    "V_init = true_V_eval_2D(A, B, b_init, R, Q, beta, sig)"
   ]
  },
  {
   "cell_type": "code",
   "execution_count": 185,
   "metadata": {},
   "outputs": [
    {
     "name": "stdout",
     "output_type": "stream",
     "text": [
      "tensor([[-0.3994,  0.1253],\n",
      "        [ 0.1163, -0.5850]])\n",
      "tensor([[0.],\n",
      "        [0.]])\n",
      "tensor([ 0.0000, -0.4279,  0.0353, -0.4462])\n",
      "tensor([ 0.0000, -0.4499,  0.1160, -0.6762])\n"
     ]
    }
   ],
   "source": [
    "print(true_b)\n",
    "print(true_c)\n",
    "print(True_V)\n",
    "print(V_init)"
   ]
  },
  {
   "cell_type": "code",
   "execution_count": 186,
   "metadata": {},
   "outputs": [
    {
     "name": "stderr",
     "output_type": "stream",
     "text": [
      "Running Optimal Phibe of order 1 using Galerkin: 100%|██████████| 30/30 [00:26<00:00,  1.14it/s]\n"
     ]
    }
   ],
   "source": [
    "bd_low_s = -2\n",
    "bd_upper_s = 2\n",
    "bd_low_b = -2\n",
    "bd_upper_b = 2\n",
    "reward = reward\n",
    "bases_V = bases_poly_2D_simp\n",
    "d_bases_V = d_bases_poly_2D_simp\n",
    "sec_d_bases_V = sec_d_bases_poly_2D_simp\n",
    "bases_Q = bases_poly_2D_s_a_simp\n",
    "num_iter = 30\n",
    "GD_num_iter = 75\n",
    "m=int(1e6)\n",
    "m_Q=int(1e6)\n",
    "I=6\n",
    "I_Q=6\n",
    "lr=0.1\n",
    "order = 1\n",
    "true_V = True_V\n",
    "info_true = {\"A\":A, \"B\":B, \"sig\":sig, \"R\":R, \"Q\":Q}\n",
    "dt = 2\n",
    "simp_basis = True\n",
    "deterministic = True\n",
    "b_val_phibe, V_exact_dist_phibe_1, V = phibe_finder_2D_LQR(beta, b_init, Q_init, bd_low_s, bd_upper_s, bd_low_b, bd_upper_b, reward, simp_basis, bases_V, d_bases_V, sec_d_bases_V, bases_Q, num_iter, deterministic, \"Galerkin\", GD_num_iter, m, m_Q, I, lr, dt, order, true_V, info_true)"
   ]
  },
  {
   "cell_type": "code",
   "execution_count": 187,
   "metadata": {},
   "outputs": [
    {
     "name": "stderr",
     "output_type": "stream",
     "text": [
      "Running Optimal Phibe of order 2 using Galerkin: 100%|██████████| 30/30 [00:18<00:00,  1.60it/s]\n"
     ]
    }
   ],
   "source": [
    "bd_low_s = -2\n",
    "bd_upper_s = 2\n",
    "bd_low_b = -2\n",
    "bd_upper_b = 2\n",
    "reward = reward\n",
    "bases_V = bases_poly_2D_simp\n",
    "d_bases_V = d_bases_poly_2D_simp\n",
    "sec_d_bases_V = sec_d_bases_poly_2D_simp\n",
    "bases_Q = bases_poly_2D_s_a_simp\n",
    "num_iter = 30\n",
    "GD_num_iter = 75\n",
    "m=int(1e6)\n",
    "m_Q=int(1e6)\n",
    "I=6\n",
    "I_Q=6\n",
    "lr=0.1\n",
    "order = 2\n",
    "true_V = True_V\n",
    "info_true = {\"A\":A, \"B\":B, \"sig\":sig, \"R\":R, \"Q\":Q}\n",
    "dt = 2\n",
    "simp_basis = True\n",
    "deterministic = True\n",
    "b_val_phibe, V_exact_dist_phibe_2, V = phibe_finder_2D_LQR(beta, b_init, Q_init, bd_low_s, bd_upper_s, bd_low_b, bd_upper_b, reward, simp_basis, bases_V, d_bases_V, sec_d_bases_V, bases_Q, num_iter, deterministic, \"Galerkin\", GD_num_iter, m, m_Q, I, lr, dt, order, true_V, info_true)"
   ]
  },
  {
   "cell_type": "code",
   "execution_count": 188,
   "metadata": {},
   "outputs": [
    {
     "name": "stderr",
     "output_type": "stream",
     "text": [
      "Running RL method: 100%|██████████| 30/30 [00:19<00:00,  1.57it/s]\n"
     ]
    }
   ],
   "source": [
    "bd_low_s = -2\n",
    "bd_upper_s = 2\n",
    "bd_low_a = -2\n",
    "bd_upper_a = 2\n",
    "reward = reward\n",
    "bases_Q = bases_poly_2D_s_a_simp\n",
    "num_iter = 30\n",
    "GD_num_iter = 75\n",
    "m=int(1e6)\n",
    "m_Q=int(1e6)\n",
    "I=6\n",
    "I_Q=6\n",
    "true_V = True_V\n",
    "info_true = {\"A\":A, \"B\":B, \"sig\":sig, \"R\":R, \"Q\":Q}\n",
    "dt = 2\n",
    "simple_basis = True\n",
    "b_val_RL, V_exact_dist_RL = RL_finder_2D_LQR(beta, b_init, bd_low_s, bd_upper_s, bd_low_a, bd_upper_a, reward, simple_basis, bases_Q, num_iter, I, m_Q, dt, true_V, info_true)"
   ]
  },
  {
   "cell_type": "code",
   "execution_count": 189,
   "metadata": {},
   "outputs": [
    {
     "data": {
      "image/png": "[encoded data removed]",
      "text/plain": [
       "<Figure size 1000x600 with 1 Axes>"
      ]
     },
     "metadata": {},
     "output_type": "display_data"
    }
   ],
   "source": [
    "x_tensor = torch.arange(30)\n",
    "w_tensor = torch.tensor(V_exact_dist_phibe_1[:30], dtype=torch.float64)\n",
    "v_tensor = torch.tensor(V_exact_dist_RL[:30], dtype=torch.float64)\n",
    "y_tensor = torch.tensor(V_exact_dist_phibe_2[:30], dtype=torch.float64)\n",
    "x_values = x_tensor.numpy()\n",
    "w_values = w_tensor.numpy()\n",
    "y_values = y_tensor.numpy()\n",
    "v_values = v_tensor.numpy()\n",
    "plt.figure(figsize=(10, 6))\n",
    "plt.xticks(fontsize=12)  # Adjust 12 as needed\n",
    "plt.yticks(fontsize=12)\n",
    "plt.semilogy(x_values, w_values, label='PhiBE_1', color='red')\n",
    "plt.semilogy(x_values, y_values, label='PhiBE_2', color='blue')\n",
    "plt.semilogy(x_values, v_values, label='RL', color='green')\n",
    "plt.title('Error during the iteration (measured by policy)', fontsize=16)\n",
    "plt.xlabel('iterations', fontsize=16)\n",
    "plt.ylabel('value', fontsize=16)\n",
    "plt.grid(True)\n",
    "plt.legend(fontsize=16)\n",
    "plt.show()"
   ]
  },
  {
   "cell_type": "code",
   "execution_count": 205,
   "metadata": {},
   "outputs": [],
   "source": [
    "beta = 0.\n",
    "A =  torch.inverse(0.2 * torch.tensor([[-3.0, 1.0], [1., -3.0]]))\n",
    "B =  0.2 * torch.tensor([[3.0, 1.0], [1., 3.0]])\n",
    "# A = 1 * torch.inverse(torch.tensor([[.4, 0.2], [0.2, 0.4]]))\n",
    "# A = torch.tensor([[1.5, 0.6], [0.6, 1.8]])\n",
    "# B = torch.tensor([[0.4, 0.2], [0.2, 0.6]])\n",
    "# C = - 0.1 * torch.tensor([[2.0, 1.0], [1., 1.0]])\n",
    "# D = 0.1 * torch.tensor([[3.0, 2.0], [.5, 1.0]])\n",
    "sig = 0.\n",
    "# Q = 1 * torch.tensor([[0.54, -0.86], [-0.86, 1.5]])\n",
    "# R = 1 * torch.inverse(torch.tensor([[1.92, 0.4], [0.4, 0.3]]))\n",
    "# Q = 1 * torch.tensor([[0.54, -0.26], [-0.26, 0.4]])\n",
    "# R = 1 * torch.inverse(torch.tensor([[1.92, 0.4], [0.4, 0.3]]))\n",
    "# Q = 1 * torch.tensor([[0.9, 0.89], [0.89, 0.9]])\n",
    "# R = 1 * torch.inverse(torch.tensor([[.4, 0.398], [0.398, 0.4]]))\n",
    "# Q = 1 * torch.tensor([[0.9, 0.6], [0.6, 0.9]])\n",
    "# R = 1 * torch.inverse(torch.tensor([[.4, 0.3], [0.3, 0.4]]))\n",
    "Q = 1 * torch.tensor([[1, 0.2], [0.2, 1.04]])\n",
    "R = 1 * torch.tensor([[1.2, 0.3], [0.3, 0.8]])"
   ]
  },
  {
   "cell_type": "code",
   "execution_count": 206,
   "metadata": {},
   "outputs": [
    {
     "name": "stdout",
     "output_type": "stream",
     "text": [
      "torch.return_types.linalg_eig(\n",
      "eigenvalues=tensor([-2.5000+0.j, -1.2500+0.j]),\n",
      "eigenvectors=tensor([[-0.7071+0.j,  0.7071+0.j],\n",
      "        [-0.7071+0.j, -0.7071+0.j]]))\n",
      "torch.return_types.linalg_eig(\n",
      "eigenvalues=tensor([0.8000+0.j, 0.4000+0.j]),\n",
      "eigenvectors=tensor([[ 0.7071+0.j, -0.7071+0.j],\n",
      "        [ 0.7071+0.j,  0.7071+0.j]]))\n",
      "torch.return_types.linalg_eig(\n",
      "eigenvalues=tensor([0.8190+0.j, 1.2210+0.j]),\n",
      "eigenvectors=tensor([[-0.7415+0.j, -0.6710+0.j],\n",
      "        [ 0.6710+0.j, -0.7415+0.j]]))\n",
      "torch.return_types.linalg_eig(\n",
      "eigenvalues=tensor([1.3606+0.j, 0.6394+0.j]),\n",
      "eigenvectors=tensor([[ 0.8817+0.j, -0.4719+0.j],\n",
      "        [ 0.4719+0.j,  0.8817+0.j]]))\n"
     ]
    }
   ],
   "source": [
    "print(torch.linalg.eig(A))\n",
    "print(torch.linalg.eig(B))\n",
    "print(torch.linalg.eig(Q))\n",
    "print(torch.linalg.eig(R))"
   ]
  },
  {
   "cell_type": "code",
   "execution_count": 207,
   "metadata": {},
   "outputs": [
    {
     "name": "stdout",
     "output_type": "stream",
     "text": [
      "tensor(25.0000)\n"
     ]
    }
   ],
   "source": [
    "A_norm = torch.sqrt(torch.abs(torch.linalg.eig(A.T @ A).eigenvalues).max())\n",
    "A_inv_norm = torch.sqrt(torch.abs(torch.linalg.eig(torch.inverse(A).T @ torch.inverse(A)).eigenvalues).max())\n",
    "B_norm = torch.sqrt(torch.abs(torch.linalg.eig(B.T @ B).eigenvalues).max())\n",
    "B_inv_norm = torch.sqrt(torch.abs(torch.linalg.eig(torch.inverse(B).T @ torch.inverse(B)).eigenvalues).max())\n",
    "print(A_norm**2 * A_inv_norm * B_norm * B_inv_norm**2)"
   ]
  },
  {
   "cell_type": "code",
   "execution_count": 208,
   "metadata": {},
   "outputs": [
    {
     "name": "stdout",
     "output_type": "stream",
     "text": [
      "tensor(6.0570)\n"
     ]
    }
   ],
   "source": [
    "Q_norm = torch.sqrt(torch.abs(torch.linalg.eig(Q.T @ Q).eigenvalues).max())\n",
    "Q_inv_norm = torch.sqrt(torch.abs(torch.linalg.eig(torch.inverse(Q).T @ torch.inverse(Q)).eigenvalues).max())\n",
    "R_norm = torch.sqrt(torch.abs(torch.linalg.eig(R.T @ R).eigenvalues).max())\n",
    "R_inv_norm = torch.sqrt(torch.abs(torch.linalg.eig(torch.inverse(R).T @ torch.inverse(R)).eigenvalues).max())\n",
    "print(Q_norm**2 * Q_inv_norm * R_norm * R_inv_norm**2)"
   ]
  },
  {
   "cell_type": "code",
   "execution_count": 209,
   "metadata": {},
   "outputs": [],
   "source": [
    "true_b, true_c, True_V = LQR_2D_true_solution(A, B, sig, Q, R, beta)\n",
    "b_init = true_b + torch.randn(2, 2)\n",
    "c_init = 2. * torch.rand(2, 1) - 1.\n",
    "Q_init = 4. * torch.rand(10) - 2.\n",
    "V_init = true_V_eval_2D(A, B, b_init, R, Q, beta, sig)"
   ]
  },
  {
   "cell_type": "code",
   "execution_count": 210,
   "metadata": {},
   "outputs": [
    {
     "name": "stdout",
     "output_type": "stream",
     "text": [
      "tensor([[-0.1335,  0.0258],\n",
      "        [ 0.0115, -0.2110]])\n",
      "tensor([[0.],\n",
      "        [0.]])\n",
      "tensor([ 0.0000, -0.2818,  0.0801, -0.2745])\n",
      "tensor([ 0.0000, -0.7087,  0.2898, -0.6000])\n"
     ]
    }
   ],
   "source": [
    "print(true_b)\n",
    "print(true_c)\n",
    "print(True_V)\n",
    "print(V_init)"
   ]
  },
  {
   "cell_type": "code",
   "execution_count": 211,
   "metadata": {},
   "outputs": [
    {
     "name": "stderr",
     "output_type": "stream",
     "text": [
      "Running Optimal Phibe of order 1 using Galerkin: 100%|██████████| 30/30 [00:27<00:00,  1.11it/s]\n"
     ]
    }
   ],
   "source": [
    "bd_low_s = -2\n",
    "bd_upper_s = 2\n",
    "bd_low_b = -2\n",
    "bd_upper_b = 2\n",
    "reward = reward\n",
    "bases_V = bases_poly_2D_simp\n",
    "d_bases_V = d_bases_poly_2D_simp\n",
    "sec_d_bases_V = sec_d_bases_poly_2D_simp\n",
    "bases_Q = bases_poly_2D_s_a_simp\n",
    "num_iter = 30\n",
    "GD_num_iter = 75\n",
    "m=int(1e6)\n",
    "m_Q=int(1e6)\n",
    "I=6\n",
    "I_Q=6\n",
    "lr=0.1\n",
    "order = 1\n",
    "true_V = True_V\n",
    "info_true = {\"A\":A, \"B\":B, \"sig\":sig, \"R\":R, \"Q\":Q}\n",
    "dt = 1\n",
    "simp_basis = True\n",
    "deterministic = True\n",
    "b_val_phibe_1, V_exact_dist_phibe_1, V = phibe_finder_2D_LQR(beta, b_init, Q_init, bd_low_s, bd_upper_s, bd_low_b, bd_upper_b, reward, simp_basis, bases_V, d_bases_V, sec_d_bases_V, bases_Q, num_iter, deterministic, \"Galerkin\", GD_num_iter, m, m_Q, I, lr, dt, order, true_V, info_true)"
   ]
  },
  {
   "cell_type": "code",
   "execution_count": 216,
   "metadata": {},
   "outputs": [
    {
     "name": "stderr",
     "output_type": "stream",
     "text": [
      "Running Optimal Phibe of order 2 using Galerkin: 100%|██████████| 30/30 [00:18<00:00,  1.62it/s]\n"
     ]
    }
   ],
   "source": [
    "bd_low_s = -2\n",
    "bd_upper_s = 2\n",
    "bd_low_b = -2\n",
    "bd_upper_b = 2\n",
    "reward = reward\n",
    "bases_V = bases_poly_2D_simp\n",
    "d_bases_V = d_bases_poly_2D_simp\n",
    "sec_d_bases_V = sec_d_bases_poly_2D_simp\n",
    "bases_Q = bases_poly_2D_s_a_simp\n",
    "num_iter = 30\n",
    "GD_num_iter = 75\n",
    "m=int(1e6)\n",
    "m_Q=int(1e6)\n",
    "I=6\n",
    "I_Q=6\n",
    "lr=0.1\n",
    "order = 2\n",
    "true_V = True_V\n",
    "info_true = {\"A\":A, \"B\":B, \"sig\":sig, \"R\":R, \"Q\":Q}\n",
    "dt = 1\n",
    "simp_basis = True\n",
    "deterministic = True\n",
    "b_val_phibe_2, V_exact_dist_phibe_2, V = phibe_finder_2D_LQR(beta, b_init, Q_init, bd_low_s, bd_upper_s, bd_low_b, bd_upper_b, reward, simp_basis, bases_V, d_bases_V, sec_d_bases_V, bases_Q, num_iter, deterministic, \"Galerkin\", GD_num_iter, m, m_Q, I, lr, dt, order, true_V, info_true)"
   ]
  },
  {
   "cell_type": "code",
   "execution_count": 217,
   "metadata": {},
   "outputs": [
    {
     "name": "stderr",
     "output_type": "stream",
     "text": [
      "Running RL method: 100%|██████████| 30/30 [00:19<00:00,  1.53it/s]\n"
     ]
    }
   ],
   "source": [
    "bd_low_s = -2\n",
    "bd_upper_s = 2\n",
    "bd_low_a = -2\n",
    "bd_upper_a = 2\n",
    "reward = reward\n",
    "bases_Q = bases_poly_2D_s_a_simp\n",
    "num_iter = 30\n",
    "GD_num_iter = 75\n",
    "m=int(1e6)\n",
    "m_Q=int(1e6)\n",
    "I=6\n",
    "I_Q=6\n",
    "true_V = True_V\n",
    "info_true = {\"A\":A, \"B\":B, \"sig\":sig, \"R\":R, \"Q\":Q}\n",
    "dt = 1\n",
    "simple_basis = True\n",
    "b_val_RL, V_exact_dist_RL = RL_finder_2D_LQR(beta, b_init, bd_low_s, bd_upper_s, bd_low_a, bd_upper_a, reward, simple_basis, bases_Q, num_iter, I, m_Q, dt, true_V, info_true)"
   ]
  },
  {
   "cell_type": "code",
   "execution_count": 218,
   "metadata": {},
   "outputs": [
    {
     "data": {
      "image/png": "[encoded data removed]",
      "text/plain": [
       "<Figure size 1000x600 with 1 Axes>"
      ]
     },
     "metadata": {},
     "output_type": "display_data"
    }
   ],
   "source": [
    "x_tensor = torch.arange(30)\n",
    "y_tensor = torch.tensor(V_exact_dist_phibe_2[:30], dtype=torch.float64)\n",
    "w_tensor = torch.tensor(V_exact_dist_phibe_1[:30], dtype=torch.float64)\n",
    "v_tensor = torch.tensor(V_exact_dist_RL[:30], dtype=torch.float64)\n",
    "x_values = x_tensor.numpy()\n",
    "w_values = w_tensor.numpy()\n",
    "y_values = y_tensor.numpy()\n",
    "v_values = v_tensor.numpy()\n",
    "plt.figure(figsize=(10, 6))\n",
    "plt.xticks(fontsize=12)  # Adjust 12 as needed\n",
    "plt.yticks(fontsize=12)\n",
    "plt.semilogy(x_values, w_values, label='PhiBE_1', color='red')\n",
    "plt.semilogy(x_values, y_values, label='PhiBE_2', color='blue')\n",
    "plt.semilogy(x_values, v_values, label='RL', color='green')\n",
    "plt.title('Error during the iteration (measured by policy)', fontsize=16)\n",
    "plt.xlabel('iterations', fontsize=16)\n",
    "plt.ylabel('value', fontsize=16)\n",
    "plt.grid(True)\n",
    "plt.legend(fontsize=16)\n",
    "plt.show()"
   ]
  },
  {
   "cell_type": "code",
   "execution_count": 371,
   "metadata": {},
   "outputs": [],
   "source": [
    "beta = 0.\n",
    "# A =  torch.inverse(0.2 * torch.tensor([[-3.0, 1.0], [1., -3.0]]))\n",
    "# B =  0.2 * torch.tensor([[3.0, 1.0], [1., 3.0]])\n",
    "A =  0.5 * torch.inverse(0.2 * torch.tensor([[-3.0, 1.0], [1., -3.0]]))\n",
    "# B =  0.2 * torch.tensor([[3.0, 1.0], [1., 3.0]])\n",
    "# A = torch.tensor([[0.6, 0.8], [0.8, -0.6]])\n",
    "B = torch.tensor([[1, 0.1], [0.1, 1.01]])\n",
    "# A = 1 * torch.tensor([[-0.9, 0.85], [0.85, -0.88]])\n",
    "# B = 1 * torch.inverse(torch.tensor([[.4, 0.38], [0.38, 0.4]]))\n",
    "# C = - 0.1 * torch.tensor([[2.0, 1.0], [1., 1.0]])\n",
    "# D = 0.1 * torch.tensor([[3.0, 2.0], [.5, 1.0]])\n",
    "sig = 0.\n",
    "# Q = 1 * torch.tensor([[0.54, -0.86], [-0.86, 1.5]])\n",
    "# R = 1 * torch.inverse(torch.tensor([[1.92, 0.4], [0.4, 0.3]]))\n",
    "# Q = 1 * torch.tensor([[0.54, -0.26], [-0.26, 0.4]])\n",
    "# R = 1 * torch.inverse(torch.tensor([[1.92, 0.4], [0.4, 0.3]]))\n",
    "Q = 1 * torch.inverse(torch.tensor([[.4, 0.35], [0.35, 0.4]]))\n",
    "R = 1 * torch.tensor([[0.9, 0.85], [0.85, 0.9]])\n",
    "# Q = 1 * torch.tensor([[0.9, 0.6], [0.6, 0.9]])\n",
    "# R = 1 * torch.inverse(torch.tensor([[.4, 0.3], [0.3, 0.4]]))"
   ]
  },
  {
   "cell_type": "code",
   "execution_count": 372,
   "metadata": {},
   "outputs": [
    {
     "name": "stdout",
     "output_type": "stream",
     "text": [
      "torch.return_types.linalg_eig(\n",
      "eigenvalues=tensor([-1.2500+0.j, -0.6250+0.j]),\n",
      "eigenvectors=tensor([[-0.7071+0.j,  0.7071+0.j],\n",
      "        [-0.7071+0.j, -0.7071+0.j]]))\n",
      "torch.return_types.linalg_eig(\n",
      "eigenvalues=tensor([0.9049+0.j, 1.1051+0.j]),\n",
      "eigenvectors=tensor([[-0.7245+0.j, -0.6892+0.j],\n",
      "        [ 0.6892+0.j, -0.7245+0.j]]))\n",
      "torch.return_types.linalg_eig(\n",
      "eigenvalues=tensor([20.0000+0.j,  1.3333+0.j]),\n",
      "eigenvectors=tensor([[ 0.7071+0.j,  0.7071+0.j],\n",
      "        [-0.7071+0.j,  0.7071+0.j]]))\n",
      "torch.return_types.linalg_eig(\n",
      "eigenvalues=tensor([1.7500+0.j, 0.0500+0.j]),\n",
      "eigenvectors=tensor([[ 0.7071+0.j, -0.7071+0.j],\n",
      "        [ 0.7071+0.j,  0.7071+0.j]]))\n"
     ]
    }
   ],
   "source": [
    "print(torch.linalg.eig(A))\n",
    "print(torch.linalg.eig(B))\n",
    "print(torch.linalg.eig(Q))\n",
    "print(torch.linalg.eig(R))"
   ]
  },
  {
   "cell_type": "code",
   "execution_count": 373,
   "metadata": {},
   "outputs": [
    {
     "name": "stdout",
     "output_type": "stream",
     "text": [
      "tensor(3.3742)\n"
     ]
    }
   ],
   "source": [
    "A_norm = torch.sqrt(torch.abs(torch.linalg.eig(A.T @ A).eigenvalues).max())\n",
    "A_inv_norm = torch.sqrt(torch.abs(torch.linalg.eig(torch.inverse(A).T @ torch.inverse(A)).eigenvalues).max())\n",
    "B_norm = torch.sqrt(torch.abs(torch.linalg.eig(B.T @ B).eigenvalues).max())\n",
    "B_inv_norm = torch.sqrt(torch.abs(torch.linalg.eig(torch.inverse(B).T @ torch.inverse(B)).eigenvalues).max())\n",
    "print(A_norm**2 * A_inv_norm * B_norm * B_inv_norm**2)"
   ]
  },
  {
   "cell_type": "code",
   "execution_count": 374,
   "metadata": {},
   "outputs": [
    {
     "name": "stdout",
     "output_type": "stream",
     "text": [
      "tensor(210000.0000)\n"
     ]
    }
   ],
   "source": [
    "Q_norm = torch.sqrt(torch.abs(torch.linalg.eig(Q.T @ Q).eigenvalues).max())\n",
    "Q_inv_norm = torch.sqrt(torch.abs(torch.linalg.eig(torch.inverse(Q).T @ torch.inverse(Q)).eigenvalues).max())\n",
    "R_norm = torch.sqrt(torch.abs(torch.linalg.eig(R.T @ R).eigenvalues).max())\n",
    "R_inv_norm = torch.sqrt(torch.abs(torch.linalg.eig(torch.inverse(R).T @ torch.inverse(R)).eigenvalues).max())\n",
    "print(Q_norm**2 * Q_inv_norm * R_norm * R_inv_norm**2)"
   ]
  },
  {
   "cell_type": "code",
   "execution_count": 375,
   "metadata": {},
   "outputs": [],
   "source": [
    "true_b, true_c, True_V = LQR_2D_true_solution(A, B, sig, Q, R, beta)\n",
    "b_init = true_b + torch.randn(2, 2)\n",
    "c_init = 2. * torch.rand(2, 1) - 1.\n",
    "Q_init = 4. * torch.rand(10) - 2.\n",
    "V_init = true_V_eval_2D(A, B, b_init, R, Q, beta, sig)"
   ]
  },
  {
   "cell_type": "code",
   "execution_count": 376,
   "metadata": {},
   "outputs": [
    {
     "name": "stdout",
     "output_type": "stream",
     "text": [
      "tensor([[-9.8068,  9.5130],\n",
      "        [ 9.5107, -9.8121]])\n",
      "tensor([[0.],\n",
      "        [0.]])\n",
      "tensor([ 0.0000, -0.7670,  0.5962, -0.7718])\n",
      "tensor([ 0.0000, -0.8485,  0.4161, -0.8818])\n"
     ]
    }
   ],
   "source": [
    "print(true_b)\n",
    "print(true_c)\n",
    "print(True_V)\n",
    "print(V_init)"
   ]
  },
  {
   "cell_type": "code",
   "execution_count": 388,
   "metadata": {},
   "outputs": [
    {
     "name": "stderr",
     "output_type": "stream",
     "text": [
      "Running Optimal Phibe of order 1 using Galerkin:  37%|███▋      | 11/30 [00:18<00:31,  1.67s/it]"
     ]
    },
    {
     "name": "stdout",
     "output_type": "stream",
     "text": [
      "infeasibility detected\n"
     ]
    },
    {
     "name": "stderr",
     "output_type": "stream",
     "text": [
      "Running Optimal Phibe of order 1 using Galerkin:  60%|██████    | 18/30 [00:30<00:20,  1.67s/it]"
     ]
    },
    {
     "name": "stdout",
     "output_type": "stream",
     "text": [
      "infeasibility detected\n"
     ]
    },
    {
     "name": "stderr",
     "output_type": "stream",
     "text": [
      "Running Optimal Phibe of order 1 using Galerkin:  77%|███████▋  | 23/30 [00:38<00:11,  1.67s/it]"
     ]
    },
    {
     "name": "stdout",
     "output_type": "stream",
     "text": [
      "infeasibility detected\n"
     ]
    },
    {
     "name": "stderr",
     "output_type": "stream",
     "text": [
      "Running Optimal Phibe of order 1 using Galerkin:  80%|████████  | 24/30 [00:40<00:10,  1.67s/it]"
     ]
    },
    {
     "name": "stdout",
     "output_type": "stream",
     "text": [
      "infeasibility detected\n"
     ]
    },
    {
     "name": "stderr",
     "output_type": "stream",
     "text": [
      "Running Optimal Phibe of order 1 using Galerkin: 100%|██████████| 30/30 [00:50<00:00,  1.68s/it]\n"
     ]
    }
   ],
   "source": [
    "bd_low_s = -5\n",
    "bd_upper_s = 5\n",
    "bd_low_b = -10\n",
    "bd_upper_b = 10\n",
    "reward = reward\n",
    "bases_V = bases_poly_2D_simp\n",
    "d_bases_V = d_bases_poly_2D_simp\n",
    "sec_d_bases_V = sec_d_bases_poly_2D_simp\n",
    "bases_Q = bases_poly_2D_s_a_simp\n",
    "num_iter = 30\n",
    "GD_num_iter = 75\n",
    "m=int(1e6)\n",
    "m_Q=int(1e6)\n",
    "I=12\n",
    "I_Q=6\n",
    "lr=0.1\n",
    "order = 1\n",
    "true_V = True_V\n",
    "info_true = {\"A\":A, \"B\":B, \"sig\":sig, \"R\":R, \"Q\":Q}\n",
    "dt = 0.1\n",
    "simp_basis = True\n",
    "deterministic = True\n",
    "b_val_phibe_1, V_exact_dist_phibe_1, V = phibe_finder_2D_LQR(beta, b_init, Q_init, bd_low_s, bd_upper_s, bd_low_b, bd_upper_b, reward, simp_basis, bases_V, d_bases_V, sec_d_bases_V, bases_Q, num_iter, deterministic, \"Galerkin\", GD_num_iter, m, m_Q, I, lr, dt, order, true_V, info_true)"
   ]
  },
  {
   "cell_type": "code",
   "execution_count": 389,
   "metadata": {},
   "outputs": [
    {
     "name": "stderr",
     "output_type": "stream",
     "text": [
      "Running Optimal Phibe of order 2 using Galerkin:  33%|███▎      | 10/30 [00:11<00:23,  1.16s/it]"
     ]
    },
    {
     "name": "stdout",
     "output_type": "stream",
     "text": [
      "infeasibility detected\n"
     ]
    },
    {
     "name": "stderr",
     "output_type": "stream",
     "text": [
      "Running Optimal Phibe of order 2 using Galerkin:  43%|████▎     | 13/30 [00:15<00:19,  1.15s/it]"
     ]
    },
    {
     "name": "stdout",
     "output_type": "stream",
     "text": [
      "infeasibility detected\n"
     ]
    },
    {
     "name": "stderr",
     "output_type": "stream",
     "text": [
      "Running Optimal Phibe of order 2 using Galerkin: 100%|██████████| 30/30 [00:38<00:00,  1.30s/it]\n"
     ]
    }
   ],
   "source": [
    "bd_low_s = -5\n",
    "bd_upper_s = 5\n",
    "bd_low_b = -10\n",
    "bd_upper_b = 10\n",
    "reward = reward\n",
    "bases_V = bases_poly_2D_simp\n",
    "d_bases_V = d_bases_poly_2D_simp\n",
    "sec_d_bases_V = sec_d_bases_poly_2D_simp\n",
    "bases_Q = bases_poly_2D_s_a_simp\n",
    "num_iter = 30\n",
    "GD_num_iter = 75\n",
    "m=int(1e6)\n",
    "m_Q=int(1e6)\n",
    "I=12\n",
    "I_Q=6\n",
    "lr=0.1\n",
    "order = 2\n",
    "true_V = True_V\n",
    "info_true = {\"A\":A, \"B\":B, \"sig\":sig, \"R\":R, \"Q\":Q}\n",
    "dt = 0.1\n",
    "simp_basis = True\n",
    "deterministic = True\n",
    "b_val_phibe_2, V_exact_dist_phibe_2, V = phibe_finder_2D_LQR(beta, b_init, Q_init, bd_low_s, bd_upper_s, bd_low_b, bd_upper_b, reward, simp_basis, bases_V, d_bases_V, sec_d_bases_V, bases_Q, num_iter, deterministic, \"Galerkin\", GD_num_iter, m, m_Q, I, lr, dt, order, true_V, info_true)"
   ]
  },
  {
   "cell_type": "code",
   "execution_count": 392,
   "metadata": {},
   "outputs": [
    {
     "name": "stderr",
     "output_type": "stream",
     "text": [
      "Running RL method:   0%|          | 0/30 [00:00<?, ?it/s]"
     ]
    },
    {
     "name": "stderr",
     "output_type": "stream",
     "text": [
      "Running RL method: 100%|██████████| 30/30 [00:37<00:00,  1.24s/it]\n"
     ]
    }
   ],
   "source": [
    "bd_low_s = -5\n",
    "bd_upper_s = 5\n",
    "bd_low_a = -10\n",
    "bd_upper_a = 10\n",
    "reward = reward\n",
    "bases_Q = bases_poly_2D_s_a_simp\n",
    "num_iter = 30\n",
    "GD_num_iter = 75\n",
    "m=int(1e6)\n",
    "m_Q=int(1e6)\n",
    "I=12\n",
    "I_Q=6\n",
    "true_V = True_V\n",
    "info_true = {\"A\":A, \"B\":B, \"sig\":sig, \"R\":R, \"Q\":Q}\n",
    "dt = 0.1\n",
    "simple_basis = True\n",
    "b_val_RL, V_exact_dist_RL = RL_finder_2D_LQR(beta, b_init, bd_low_s, bd_upper_s, bd_low_a, bd_upper_a, reward, simple_basis, bases_Q, num_iter, I, m_Q, dt, true_V, info_true)"
   ]
  },
  {
   "cell_type": "code",
   "execution_count": 393,
   "metadata": {},
   "outputs": [
    {
     "data": {
      "image/png": "[encoded data removed]",
      "text/plain": [
       "<Figure size 1000x600 with 1 Axes>"
      ]
     },
     "metadata": {},
     "output_type": "display_data"
    }
   ],
   "source": [
    "x_tensor = torch.arange(30)\n",
    "y_tensor = torch.tensor(V_exact_dist_phibe_2[:30], dtype=torch.float64)\n",
    "w_tensor = torch.tensor(V_exact_dist_phibe_1[:30], dtype=torch.float64)\n",
    "v_tensor = torch.tensor(V_exact_dist_RL[:30], dtype=torch.float64)\n",
    "x_values = x_tensor.numpy()\n",
    "w_values = w_tensor.numpy()\n",
    "y_values = y_tensor.numpy()\n",
    "v_values = v_tensor.numpy()\n",
    "plt.figure(figsize=(10, 6))\n",
    "plt.xticks(fontsize=12)  # Adjust 12 as needed\n",
    "plt.yticks(fontsize=12)\n",
    "plt.semilogy(x_values, w_values, label='PhiBE_1', color='red')\n",
    "plt.semilogy(x_values, y_values, label='PhiBE_2', color='blue')\n",
    "plt.semilogy(x_values, v_values, label='RL', color='green')\n",
    "plt.title('Error during the iteration (measured by policy)', fontsize=16)\n",
    "plt.xlabel('iterations', fontsize=16)\n",
    "plt.ylabel('value', fontsize=16)\n",
    "plt.grid(True)\n",
    "plt.legend(fontsize=16)\n",
    "plt.show()"
   ]
  },
  {
   "cell_type": "code",
   "execution_count": 394,
   "metadata": {},
   "outputs": [],
   "source": [
    "beta = 0.\n",
    "# A =  torch.inverse(0.2 * torch.tensor([[-3.0, 1.0], [1., -3.0]]))\n",
    "# B =  0.2 * torch.tensor([[3.0, 1.0], [1., 3.0]])\n",
    "B = 1 * torch.tensor([[0.9, 0.85], [0.85, 0.88]])\n",
    "A = 1 * torch.inverse(torch.tensor([[.4, 0.35], [0.35, 0.4]]))\n",
    "# C = - 0.1 * torch.tensor([[2.0, 1.0], [1., 1.0]])\n",
    "# D = 0.1 * torch.tensor([[3.0, 2.0], [.5, 1.0]])\n",
    "sig = 0.\n",
    "# Q = 1 * torch.tensor([[0.54, -0.86], [-0.86, 1.5]])\n",
    "# R = 1 * torch.inverse(torch.tensor([[1.92, 0.4], [0.4, 0.3]]))\n",
    "# Q = 1 * torch.tensor([[0.54, -0.26], [-0.26, 0.4]])\n",
    "# R = 1 * torch.inverse(torch.tensor([[1.92, 0.4], [0.4, 0.3]]))\n",
    "# Q = 1 * torch.tensor([[0.9, 0.89], [0.89, 0.9]])\n",
    "# R = 1 * torch.inverse(torch.tensor([[.4, 0.398], [0.398, 0.4]]))\n",
    "# Q = 1 * torch.tensor([[0.9, 0.6], [0.6, 0.9]])\n",
    "# R = 1 * torch.inverse(torch.tensor([[.4, 0.3], [0.3, 0.4]]))\n",
    "Q = 1 * torch.tensor([[1, 0.2], [0.2, 1.04]])\n",
    "R = 1 * torch.tensor([[1.2, 0.3], [0.3, 0.8]])"
   ]
  },
  {
   "cell_type": "code",
   "execution_count": 395,
   "metadata": {},
   "outputs": [
    {
     "name": "stdout",
     "output_type": "stream",
     "text": [
      "torch.return_types.linalg_eig(\n",
      "eigenvalues=tensor([20.0000+0.j,  1.3333+0.j]),\n",
      "eigenvectors=tensor([[ 0.7071+0.j,  0.7071+0.j],\n",
      "        [-0.7071+0.j,  0.7071+0.j]]))\n",
      "torch.return_types.linalg_eig(\n",
      "eigenvalues=tensor([1.7401+0.j, 0.0399+0.j]),\n",
      "eigenvectors=tensor([[ 0.7113+0.j, -0.7029+0.j],\n",
      "        [ 0.7029+0.j,  0.7113+0.j]]))\n",
      "torch.return_types.linalg_eig(\n",
      "eigenvalues=tensor([0.8190+0.j, 1.2210+0.j]),\n",
      "eigenvectors=tensor([[-0.7415+0.j, -0.6710+0.j],\n",
      "        [ 0.6710+0.j, -0.7415+0.j]]))\n",
      "torch.return_types.linalg_eig(\n",
      "eigenvalues=tensor([1.3606+0.j, 0.6394+0.j]),\n",
      "eigenvectors=tensor([[ 0.8817+0.j, -0.4719+0.j],\n",
      "        [ 0.4719+0.j,  0.8817+0.j]]))\n"
     ]
    }
   ],
   "source": [
    "print(torch.linalg.eig(A))\n",
    "print(torch.linalg.eig(B))\n",
    "print(torch.linalg.eig(Q))\n",
    "print(torch.linalg.eig(R))"
   ]
  },
  {
   "cell_type": "code",
   "execution_count": 396,
   "metadata": {},
   "outputs": [
    {
     "name": "stdout",
     "output_type": "stream",
     "text": [
      "tensor(327222.7078)\n"
     ]
    }
   ],
   "source": [
    "A_norm = torch.sqrt(torch.abs(torch.linalg.eig(A.T @ A).eigenvalues).max())\n",
    "A_inv_norm = torch.sqrt(torch.abs(torch.linalg.eig(torch.inverse(A).T @ torch.inverse(A)).eigenvalues).max())\n",
    "B_norm = torch.sqrt(torch.abs(torch.linalg.eig(B.T @ B).eigenvalues).max())\n",
    "B_inv_norm = torch.sqrt(torch.abs(torch.linalg.eig(torch.inverse(B).T @ torch.inverse(B)).eigenvalues).max())\n",
    "print(A_norm**2 * A_inv_norm * B_norm * B_inv_norm**2)"
   ]
  },
  {
   "cell_type": "code",
   "execution_count": 397,
   "metadata": {},
   "outputs": [
    {
     "name": "stdout",
     "output_type": "stream",
     "text": [
      "tensor(6.0570)\n"
     ]
    }
   ],
   "source": [
    "Q_norm = torch.sqrt(torch.abs(torch.linalg.eig(Q.T @ Q).eigenvalues).max())\n",
    "Q_inv_norm = torch.sqrt(torch.abs(torch.linalg.eig(torch.inverse(Q).T @ torch.inverse(Q)).eigenvalues).max())\n",
    "R_norm = torch.sqrt(torch.abs(torch.linalg.eig(R.T @ R).eigenvalues).max())\n",
    "R_inv_norm = torch.sqrt(torch.abs(torch.linalg.eig(torch.inverse(R).T @ torch.inverse(R)).eigenvalues).max())\n",
    "print(Q_norm**2 * Q_inv_norm * R_norm * R_inv_norm**2)"
   ]
  },
  {
   "cell_type": "code",
   "execution_count": 406,
   "metadata": {},
   "outputs": [],
   "source": [
    "true_b, true_c, True_V = LQR_2D_true_solution(A, B, sig, Q, R, beta)\n",
    "b_init = true_b + 100 * torch.randn(2, 2)\n",
    "Q_init = 4. * torch.rand(10) - 2.\n",
    "V_init = true_V_eval_2D(A, B, b_init, R, Q, beta, sig)"
   ]
  },
  {
   "cell_type": "code",
   "execution_count": 407,
   "metadata": {},
   "outputs": [
    {
     "name": "stdout",
     "output_type": "stream",
     "text": [
      "tensor([[-494.1155,  492.5599],\n",
      "        [ 509.9291, -512.4116]])\n",
      "tensor([[0.],\n",
      "        [0.]])\n",
      "tensor([    0.0000, -8743.7596, 17487.8757, -8747.0079])\n",
      "tensor([    0.0000, -8891.1967, 17745.2722, -8921.8010])\n"
     ]
    }
   ],
   "source": [
    "print(true_b)\n",
    "print(true_c)\n",
    "print(True_V)\n",
    "print(V_init)"
   ]
  },
  {
   "cell_type": "code",
   "execution_count": 408,
   "metadata": {},
   "outputs": [
    {
     "data": {
      "text/plain": [
       "tensor([[-556.3512,  452.0072],\n",
       "        [ 581.7678, -600.4013]])"
      ]
     },
     "execution_count": 408,
     "metadata": {},
     "output_type": "execute_result"
    }
   ],
   "source": [
    "b_init"
   ]
  },
  {
   "cell_type": "code",
   "execution_count": 409,
   "metadata": {},
   "outputs": [
    {
     "name": "stderr",
     "output_type": "stream",
     "text": [
      "Running Optimal Phibe of order 1 using Galerkin: 100%|██████████| 30/30 [00:25<00:00,  1.16it/s]\n"
     ]
    }
   ],
   "source": [
    "bd_low_s = -500\n",
    "bd_upper_s = 500\n",
    "bd_low_b = -600\n",
    "bd_upper_b = 600\n",
    "reward = reward\n",
    "bases_V = bases_poly_2D_simp\n",
    "d_bases_V = d_bases_poly_2D_simp\n",
    "sec_d_bases_V = sec_d_bases_poly_2D_simp\n",
    "bases_Q = bases_poly_2D_s_a_simp\n",
    "num_iter = 30\n",
    "GD_num_iter = 75\n",
    "m=int(1e6)\n",
    "m_Q=int(1e6)\n",
    "I=6\n",
    "I_Q=6\n",
    "lr=0.1\n",
    "order = 1\n",
    "true_V = True_V\n",
    "info_true = {\"A\":A, \"B\":B, \"sig\":sig, \"R\":R, \"Q\":Q}\n",
    "dt = 0.01\n",
    "simp_basis = True\n",
    "deterministic = True\n",
    "b_val_phibe_1, V_exact_dist_phibe_1, V = phibe_finder_2D_LQR(beta, b_init, Q_init, bd_low_s, bd_upper_s, bd_low_b, bd_upper_b, reward, simp_basis, bases_V, d_bases_V, sec_d_bases_V, bases_Q, num_iter, deterministic, \"Galerkin\", GD_num_iter, m, m_Q, I, lr, dt, order, true_V, info_true)"
   ]
  },
  {
   "cell_type": "code",
   "execution_count": 410,
   "metadata": {},
   "outputs": [
    {
     "name": "stderr",
     "output_type": "stream",
     "text": [
      "Running Optimal Phibe of order 2 using Galerkin:  70%|███████   | 21/30 [00:12<00:05,  1.66it/s]"
     ]
    },
    {
     "name": "stdout",
     "output_type": "stream",
     "text": [
      "infeasibility detected\n"
     ]
    },
    {
     "name": "stderr",
     "output_type": "stream",
     "text": [
      "Running Optimal Phibe of order 2 using Galerkin: 100%|██████████| 30/30 [00:18<00:00,  1.62it/s]\n"
     ]
    }
   ],
   "source": [
    "bd_low_s = -500\n",
    "bd_upper_s = 500\n",
    "bd_low_b = -600\n",
    "bd_upper_b = 600\n",
    "reward = reward\n",
    "bases_V = bases_poly_2D_simp\n",
    "d_bases_V = d_bases_poly_2D_simp\n",
    "sec_d_bases_V = sec_d_bases_poly_2D_simp\n",
    "bases_Q = bases_poly_2D_s_a_simp\n",
    "num_iter = 30\n",
    "GD_num_iter = 75\n",
    "m=int(1e6)\n",
    "m_Q=int(1e6)\n",
    "I=6\n",
    "I_Q=6\n",
    "lr=0.1\n",
    "order = 2\n",
    "true_V = True_V\n",
    "info_true = {\"A\":A, \"B\":B, \"sig\":sig, \"R\":R, \"Q\":Q}\n",
    "dt = 0.01\n",
    "simp_basis = True\n",
    "deterministic = True\n",
    "b_val_phibe_2, V_exact_dist_phibe_2, V = phibe_finder_2D_LQR(beta, b_init, Q_init, bd_low_s, bd_upper_s, bd_low_b, bd_upper_b, reward, simp_basis, bases_V, d_bases_V, sec_d_bases_V, bases_Q, num_iter, deterministic, \"Galerkin\", GD_num_iter, m, m_Q, I, lr, dt, order, true_V, info_true)"
   ]
  },
  {
   "cell_type": "code",
   "execution_count": 411,
   "metadata": {},
   "outputs": [
    {
     "name": "stdout",
     "output_type": "stream",
     "text": [
      "tensor([[-494.0440,  492.4887],\n",
      "        [ 510.0084, -512.4912]])\n",
      "tensor([[-494.1278,  492.5723],\n",
      "        [ 509.9092, -512.3919]])\n"
     ]
    }
   ],
   "source": [
    "print(b_val_phibe_1[-1])\n",
    "print(b_val_phibe_2[-1])"
   ]
  },
  {
   "cell_type": "code",
   "execution_count": 414,
   "metadata": {},
   "outputs": [
    {
     "name": "stderr",
     "output_type": "stream",
     "text": [
      "Running RL method: 100%|██████████| 30/30 [00:20<00:00,  1.49it/s]\n"
     ]
    }
   ],
   "source": [
    "bd_low_s = -500\n",
    "bd_upper_s = 500\n",
    "bd_low_a = -600\n",
    "bd_upper_a = 600\n",
    "reward = reward\n",
    "bases_Q = bases_poly_2D_s_a_simp\n",
    "num_iter = 30\n",
    "GD_num_iter = 75\n",
    "m=int(1e6)\n",
    "m_Q=int(1e6)\n",
    "I=6\n",
    "I_Q=6\n",
    "true_V = True_V\n",
    "info_true = {\"A\":A, \"B\":B, \"sig\":sig, \"R\":R, \"Q\":Q}\n",
    "dt = 0.01\n",
    "simple_basis = True\n",
    "b_val_RL_4, V_exact_dist_RL_4 = RL_finder_2D_LQR(beta, b_init, bd_low_s, bd_upper_s, bd_low_a, bd_upper_a, reward, simple_basis, bases_Q, num_iter, I, m_Q, dt, true_V, info_true)"
   ]
  },
  {
   "cell_type": "code",
   "execution_count": 415,
   "metadata": {},
   "outputs": [
    {
     "data": {
      "image/png": "[encoded data removed]",
      "text/plain": [
       "<Figure size 1000x600 with 1 Axes>"
      ]
     },
     "metadata": {},
     "output_type": "display_data"
    }
   ],
   "source": [
    "x_tensor = torch.arange(30)\n",
    "y_tensor = torch.tensor(V_exact_dist_phibe_2[:30], dtype=torch.float64)\n",
    "w_tensor = torch.tensor(V_exact_dist_phibe_1[:30], dtype=torch.float64)\n",
    "v_tensor = torch.tensor(V_exact_dist_RL[:30], dtype=torch.float64)\n",
    "x_values = x_tensor.numpy()\n",
    "w_values = w_tensor.numpy()\n",
    "y_values = y_tensor.numpy()\n",
    "v_values = v_tensor.numpy()\n",
    "plt.figure(figsize=(10, 6))\n",
    "plt.xticks(fontsize=12)  # Adjust 12 as needed\n",
    "plt.yticks(fontsize=12)\n",
    "plt.semilogy(x_values, w_values, label='PhiBE_1', color='red')\n",
    "plt.semilogy(x_values, y_values, label='PhiBE_2', color='blue')\n",
    "plt.semilogy(x_values, v_values, label='RL', color='green')\n",
    "plt.title('Error during the iteration (measured by policy)', fontsize=16)\n",
    "plt.xlabel('iterations', fontsize=16)\n",
    "plt.ylabel('value', fontsize=16)\n",
    "plt.grid(True)\n",
    "plt.legend(fontsize=16)\n",
    "plt.show()"
   ]
  }
 ],
 "metadata": {
  "kernelspec": {
   "display_name": "test",
   "language": "python",
   "name": "python3"
  },
  "language_info": {
   "codemirror_mode": {
    "name": "ipython",
    "version": 3
   },
   "file_extension": ".py",
   "mimetype": "text/x-python",
   "name": "python",
   "nbconvert_exporter": "python",
   "pygments_lexer": "ipython3",
   "version": "3.9.16"
  }
 },
 "nbformat": 4,
 "nbformat_minor": 2
}
