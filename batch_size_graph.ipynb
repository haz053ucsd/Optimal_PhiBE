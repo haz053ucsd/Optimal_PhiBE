{
 "cells": [
  {
   "cell_type": "code",
   "execution_count": 1,
   "metadata": {},
   "outputs": [],
   "source": [
    "import torch\n",
    "from utils import LQR_2D_true_solution, out_put, LQR_1D_true_solution, l_2_compute_1D_Q, l_2_compute_1D_V, true_V_eval_2D, LQR_1D_PhiBE_true_solution_1st_order, LQR_1D_PhiBE_true_solution_2nd_order, LQR_1D_BE_true_solution\n",
    "from bases import bases_poly, d_bases_poly, sec_bases_poly, bases_2d, bases_poly_simp, d_bases_poly_simp, sec_bases_poly_simp, bases_2d_simp, bases_poly_2D, bases_poly_2D_s_a, d_bases_poly_2D, bases_poly_2D_simp, d_bases_poly_2D_simp, sec_d_bases_poly_2D, sec_d_bases_poly_2D_simp\n",
    "from main_phibe import phibe_finder_1D_LQR, phibe_finder_2D_LQR\n",
    "from main_RL import RL_finder_1D_LQR, RL_finder_2D_LQR\n",
    "import matplotlib.pyplot as plt\n",
    "from math import sqrt\n",
    "import numpy as np"
   ]
  },
  {
   "cell_type": "code",
   "execution_count": 2,
   "metadata": {},
   "outputs": [],
   "source": [
    "torch.set_default_dtype(torch.float64)\n",
    "device = torch.device(\"cpu\")"
   ]
  },
  {
   "cell_type": "code",
   "execution_count": 3,
   "metadata": {},
   "outputs": [],
   "source": [
    "def reward(s, a):\n",
    "    return - Q * (s**2) - R * (a**2)"
   ]
  },
  {
   "cell_type": "code",
   "execution_count": 4,
   "metadata": {},
   "outputs": [],
   "source": [
    "# stochastic"
   ]
  },
  {
   "cell_type": "code",
   "execution_count": 5,
   "metadata": {},
   "outputs": [
    {
     "name": "stdout",
     "output_type": "stream",
     "text": [
      "-0.09901951359278449 tensor([-0.0007,  0.0000, -0.1980])\n"
     ]
    }
   ],
   "source": [
    "A = -1.0\n",
    "B = 0.5\n",
    "sig = 0.1\n",
    "R = 1\n",
    "Q = 1\n",
    "S = 0\n",
    "beta = 3\n",
    "info_true = {\"A\":A, \"B\":B, \"sig\":sig, \"R\":R, \"Q\":Q,}\n",
    "true_b, True_V = LQR_1D_true_solution(A, B, Q, R, sig, beta)\n",
    "print(true_b, True_V)"
   ]
  },
  {
   "cell_type": "code",
   "execution_count": 6,
   "metadata": {},
   "outputs": [
    {
     "name": "stdout",
     "output_type": "stream",
     "text": [
      "tensor([-0.0007,  0.0000, -0.1980])\n"
     ]
    }
   ],
   "source": [
    "print(True_V)"
   ]
  },
  {
   "cell_type": "code",
   "execution_count": 7,
   "metadata": {},
   "outputs": [],
   "source": [
    "b_init = 0.5\n",
    "c_init = 0.5\n",
    "Q_init = 0.5 * torch.tensor([1., 1., 1., 1.]).to(device)"
   ]
  },
  {
   "cell_type": "code",
   "execution_count": 8,
   "metadata": {},
   "outputs": [],
   "source": [
    "num_traj = 30"
   ]
  },
  {
   "cell_type": "code",
   "execution_count": 9,
   "metadata": {},
   "outputs": [],
   "source": [
    "V_exact_dist_total_1st = torch.zeros(num_traj, 6)\n",
    "V_exact_dist_total_2nd = torch.zeros(num_traj, 6)\n",
    "V_exact_dist_total_RL = torch.zeros(num_traj, 6)"
   ]
  },
  {
   "cell_type": "code",
   "execution_count": 10,
   "metadata": {},
   "outputs": [],
   "source": [
    "bd_low_s = -1.\n",
    "bd_upper_s = 1.\n",
    "bd_low_b = -1.\n",
    "bd_upper_b = 1.\n",
    "bd_low_c = -1.\n",
    "bd_upper_c = 1.\n",
    "bd_low_a = -1.\n",
    "bd_upper_a = 1.\n",
    "num_iter = 80\n",
    "GD_num_iter = 80\n",
    "I = 4\n",
    "lr = 0.1\n",
    "dt= 0.1\n",
    "reward = reward\n",
    "bases_V = bases_poly\n",
    "d_bases_V = d_bases_poly\n",
    "sec_d_bases_V = sec_bases_poly\n",
    "bases_Q = bases_2d\n",
    "true_V=True_V\n",
    "simp_basis = False\n",
    "deterministic = True"
   ]
  },
  {
   "cell_type": "code",
   "execution_count": 11,
   "metadata": {},
   "outputs": [
    {
     "name": "stdout",
     "output_type": "stream",
     "text": [
      "running experiment round 0\n"
     ]
    },
    {
     "name": "stderr",
     "output_type": "stream",
     "text": [
      "Running Optimal Phibe of order 1 using Galerkin:   0%|          | 0/80 [00:00<?, ?it/s]"
     ]
    },
    {
     "name": "stderr",
     "output_type": "stream",
     "text": [
      "Running Optimal Phibe of order 1 using Galerkin: 100%|██████████| 80/80 [00:00<00:00, 89.01it/s]\n",
      "Running Optimal Phibe of order 2 using Galerkin: 100%|██████████| 80/80 [00:00<00:00, 92.51it/s]\n",
      "Running Optimal BE PI: 100%|██████████| 80/80 [00:00<00:00, 95.65it/s]\n",
      "Running Optimal Phibe of order 1 using Galerkin: 100%|██████████| 80/80 [00:00<00:00, 84.46it/s]\n",
      "Running Optimal Phibe of order 2 using Galerkin: 100%|██████████| 80/80 [00:00<00:00, 91.81it/s]\n",
      "Running Optimal BE PI: 100%|██████████| 80/80 [00:00<00:00, 89.46it/s]\n",
      "Running Optimal Phibe of order 1 using Galerkin: 100%|██████████| 80/80 [00:00<00:00, 84.35it/s]\n",
      "Running Optimal Phibe of order 2 using Galerkin: 100%|██████████| 80/80 [00:00<00:00, 91.02it/s]\n",
      "Running Optimal BE PI: 100%|██████████| 80/80 [00:00<00:00, 90.06it/s]\n",
      "Running Optimal Phibe of order 1 using Galerkin: 100%|██████████| 80/80 [00:01<00:00, 62.77it/s]\n",
      "Running Optimal Phibe of order 2 using Galerkin: 100%|██████████| 80/80 [00:01<00:00, 76.05it/s]\n",
      "Running Optimal BE PI: 100%|██████████| 80/80 [00:01<00:00, 69.39it/s]\n",
      "Running Optimal Phibe of order 1 using Galerkin: 100%|██████████| 80/80 [00:04<00:00, 19.04it/s]\n",
      "Running Optimal Phibe of order 2 using Galerkin: 100%|██████████| 80/80 [00:02<00:00, 28.02it/s]\n",
      "Running Optimal BE PI: 100%|██████████| 80/80 [00:03<00:00, 23.91it/s]\n",
      "Running Optimal Phibe of order 1 using Galerkin: 100%|██████████| 80/80 [00:16<00:00,  4.86it/s]\n",
      "Running Optimal Phibe of order 2 using Galerkin: 100%|██████████| 80/80 [00:09<00:00,  8.08it/s]\n",
      "Running Optimal BE PI: 100%|██████████| 80/80 [00:12<00:00,  6.40it/s]\n"
     ]
    },
    {
     "name": "stdout",
     "output_type": "stream",
     "text": [
      "running experiment round 1\n"
     ]
    },
    {
     "name": "stderr",
     "output_type": "stream",
     "text": [
      "Running Optimal Phibe of order 1 using Galerkin: 100%|██████████| 80/80 [00:00<00:00, 97.64it/s]\n",
      "Running Optimal Phibe of order 2 using Galerkin: 100%|██████████| 80/80 [00:00<00:00, 85.36it/s]\n",
      "Running Optimal BE PI: 100%|██████████| 80/80 [00:00<00:00, 98.86it/s] \n",
      "Running Optimal Phibe of order 1 using Galerkin: 100%|██████████| 80/80 [00:00<00:00, 97.96it/s]\n",
      "Running Optimal Phibe of order 2 using Galerkin: 100%|██████████| 80/80 [00:00<00:00, 86.74it/s]\n",
      "Running Optimal BE PI: 100%|██████████| 80/80 [00:00<00:00, 99.45it/s]\n",
      "Running Optimal Phibe of order 1 using Galerkin: 100%|██████████| 80/80 [00:00<00:00, 92.91it/s]\n",
      "Running Optimal Phibe of order 2 using Galerkin: 100%|██████████| 80/80 [00:00<00:00, 86.87it/s]\n",
      "Running Optimal BE PI: 100%|██████████| 80/80 [00:00<00:00, 88.90it/s]\n",
      "Running Optimal Phibe of order 1 using Galerkin: 100%|██████████| 80/80 [00:01<00:00, 65.63it/s]\n",
      "Running Optimal Phibe of order 2 using Galerkin: 100%|██████████| 80/80 [00:01<00:00, 72.88it/s]\n",
      "Running Optimal BE PI: 100%|██████████| 80/80 [00:01<00:00, 71.62it/s]\n",
      "Running Optimal Phibe of order 1 using Galerkin: 100%|██████████| 80/80 [00:04<00:00, 18.88it/s]\n",
      "Running Optimal Phibe of order 2 using Galerkin: 100%|██████████| 80/80 [00:02<00:00, 27.89it/s]\n",
      "Running Optimal BE PI: 100%|██████████| 80/80 [00:03<00:00, 22.81it/s]\n",
      "Running Optimal Phibe of order 1 using Galerkin: 100%|██████████| 80/80 [00:16<00:00,  4.83it/s]\n",
      "Running Optimal Phibe of order 2 using Galerkin: 100%|██████████| 80/80 [00:09<00:00,  8.09it/s]\n",
      "Running Optimal BE PI: 100%|██████████| 80/80 [00:12<00:00,  6.32it/s]\n"
     ]
    },
    {
     "name": "stdout",
     "output_type": "stream",
     "text": [
      "running experiment round 2\n"
     ]
    },
    {
     "name": "stderr",
     "output_type": "stream",
     "text": [
      "Running Optimal Phibe of order 1 using Galerkin: 100%|██████████| 80/80 [00:00<00:00, 96.88it/s]\n",
      "Running Optimal Phibe of order 2 using Galerkin: 100%|██████████| 80/80 [00:00<00:00, 97.36it/s]\n",
      "Running Optimal BE PI: 100%|██████████| 80/80 [00:00<00:00, 87.98it/s] \n",
      "Running Optimal Phibe of order 1 using Galerkin: 100%|██████████| 80/80 [00:00<00:00, 95.12it/s]\n",
      "Running Optimal Phibe of order 2 using Galerkin: 100%|██████████| 80/80 [00:00<00:00, 98.02it/s]\n",
      "Running Optimal BE PI: 100%|██████████| 80/80 [00:00<00:00, 98.83it/s] \n",
      "Running Optimal Phibe of order 1 using Galerkin: 100%|██████████| 80/80 [00:00<00:00, 83.24it/s]\n",
      "Running Optimal Phibe of order 2 using Galerkin: 100%|██████████| 80/80 [00:00<00:00, 96.53it/s]\n",
      "Running Optimal BE PI: 100%|██████████| 80/80 [00:00<00:00, 95.19it/s]\n",
      "Running Optimal Phibe of order 1 using Galerkin: 100%|██████████| 80/80 [00:01<00:00, 59.74it/s]\n",
      "Running Optimal Phibe of order 2 using Galerkin: 100%|██████████| 80/80 [00:01<00:00, 79.00it/s]\n",
      "Running Optimal BE PI: 100%|██████████| 80/80 [00:01<00:00, 68.99it/s]\n",
      "Running Optimal Phibe of order 1 using Galerkin: 100%|██████████| 80/80 [00:04<00:00, 19.16it/s]\n",
      "Running Optimal Phibe of order 2 using Galerkin: 100%|██████████| 80/80 [00:02<00:00, 26.69it/s]\n",
      "Running Optimal BE PI: 100%|██████████| 80/80 [00:03<00:00, 23.55it/s]\n",
      "Running Optimal Phibe of order 1 using Galerkin: 100%|██████████| 80/80 [00:16<00:00,  4.80it/s]\n",
      "Running Optimal Phibe of order 2 using Galerkin: 100%|██████████| 80/80 [00:09<00:00,  8.01it/s]\n",
      "Running Optimal BE PI: 100%|██████████| 80/80 [00:12<00:00,  6.37it/s]\n"
     ]
    },
    {
     "name": "stdout",
     "output_type": "stream",
     "text": [
      "running experiment round 3\n"
     ]
    },
    {
     "name": "stderr",
     "output_type": "stream",
     "text": [
      "Running Optimal Phibe of order 1 using Galerkin: 100%|██████████| 80/80 [00:00<00:00, 92.18it/s]\n",
      "Running Optimal Phibe of order 2 using Galerkin: 100%|██████████| 80/80 [00:00<00:00, 96.22it/s]\n",
      "Running Optimal BE PI: 100%|██████████| 80/80 [00:00<00:00, 82.41it/s]\n",
      "Running Optimal Phibe of order 1 using Galerkin: 100%|██████████| 80/80 [00:00<00:00, 97.30it/s]\n",
      "Running Optimal Phibe of order 2 using Galerkin: 100%|██████████| 80/80 [00:00<00:00, 98.61it/s]\n",
      "Running Optimal BE PI: 100%|██████████| 80/80 [00:00<00:00, 97.75it/s]\n",
      "Running Optimal Phibe of order 1 using Galerkin: 100%|██████████| 80/80 [00:01<00:00, 79.91it/s]\n",
      "Running Optimal Phibe of order 2 using Galerkin: 100%|██████████| 80/80 [00:00<00:00, 95.84it/s]\n",
      "Running Optimal BE PI: 100%|██████████| 80/80 [00:00<00:00, 95.31it/s]\n",
      "Running Optimal Phibe of order 1 using Galerkin: 100%|██████████| 80/80 [00:01<00:00, 62.59it/s]\n",
      "Running Optimal Phibe of order 2 using Galerkin: 100%|██████████| 80/80 [00:01<00:00, 69.52it/s]\n",
      "Running Optimal BE PI: 100%|██████████| 80/80 [00:01<00:00, 71.49it/s]\n",
      "Running Optimal Phibe of order 1 using Galerkin: 100%|██████████| 80/80 [00:04<00:00, 18.95it/s]\n",
      "Running Optimal Phibe of order 2 using Galerkin: 100%|██████████| 80/80 [00:03<00:00, 26.02it/s]\n",
      "Running Optimal BE PI: 100%|██████████| 80/80 [00:03<00:00, 23.89it/s]\n",
      "Running Optimal Phibe of order 1 using Galerkin: 100%|██████████| 80/80 [00:17<00:00,  4.61it/s]\n",
      "Running Optimal Phibe of order 2 using Galerkin: 100%|██████████| 80/80 [00:10<00:00,  7.49it/s]\n",
      "Running Optimal BE PI: 100%|██████████| 80/80 [00:13<00:00,  5.88it/s]\n"
     ]
    },
    {
     "name": "stdout",
     "output_type": "stream",
     "text": [
      "running experiment round 4\n"
     ]
    },
    {
     "name": "stderr",
     "output_type": "stream",
     "text": [
      "Running Optimal Phibe of order 1 using Galerkin: 100%|██████████| 80/80 [00:01<00:00, 75.89it/s]\n",
      "Running Optimal Phibe of order 2 using Galerkin: 100%|██████████| 80/80 [00:00<00:00, 94.86it/s]\n",
      "Running Optimal BE PI: 100%|██████████| 80/80 [00:00<00:00, 99.51it/s] \n",
      "Running Optimal Phibe of order 1 using Galerkin: 100%|██████████| 80/80 [00:00<00:00, 97.33it/s]\n",
      "Running Optimal Phibe of order 2 using Galerkin: 100%|██████████| 80/80 [00:00<00:00, 82.54it/s]\n",
      "Running Optimal BE PI: 100%|██████████| 80/80 [00:00<00:00, 98.99it/s]\n",
      "Running Optimal Phibe of order 1 using Galerkin: 100%|██████████| 80/80 [00:00<00:00, 93.24it/s]\n",
      "Running Optimal Phibe of order 2 using Galerkin: 100%|██████████| 80/80 [00:00<00:00, 95.97it/s]\n",
      "Running Optimal BE PI: 100%|██████████| 80/80 [00:00<00:00, 80.59it/s]\n",
      "Running Optimal Phibe of order 1 using Galerkin: 100%|██████████| 80/80 [00:01<00:00, 64.94it/s]\n",
      "Running Optimal Phibe of order 2 using Galerkin: 100%|██████████| 80/80 [00:01<00:00, 76.13it/s]\n",
      "Running Optimal BE PI: 100%|██████████| 80/80 [00:01<00:00, 71.30it/s]\n",
      "Running Optimal Phibe of order 1 using Galerkin: 100%|██████████| 80/80 [00:04<00:00, 18.50it/s]\n",
      "Running Optimal Phibe of order 2 using Galerkin: 100%|██████████| 80/80 [00:02<00:00, 27.29it/s]\n",
      "Running Optimal BE PI: 100%|██████████| 80/80 [00:03<00:00, 24.00it/s]\n",
      "Running Optimal Phibe of order 1 using Galerkin: 100%|██████████| 80/80 [00:18<00:00,  4.29it/s]\n",
      "Running Optimal Phibe of order 2 using Galerkin: 100%|██████████| 80/80 [00:12<00:00,  6.44it/s]\n",
      "Running Optimal BE PI: 100%|██████████| 80/80 [00:15<00:00,  5.18it/s]\n"
     ]
    },
    {
     "name": "stdout",
     "output_type": "stream",
     "text": [
      "running experiment round 5\n"
     ]
    },
    {
     "name": "stderr",
     "output_type": "stream",
     "text": [
      "Running Optimal Phibe of order 1 using Galerkin: 100%|██████████| 80/80 [00:00<00:00, 81.56it/s]\n",
      "Running Optimal Phibe of order 2 using Galerkin: 100%|██████████| 80/80 [00:00<00:00, 90.61it/s]\n",
      "Running Optimal BE PI: 100%|██████████| 80/80 [00:00<00:00, 98.61it/s]\n",
      "Running Optimal Phibe of order 1 using Galerkin: 100%|██████████| 80/80 [00:00<00:00, 80.73it/s]\n",
      "Running Optimal Phibe of order 2 using Galerkin: 100%|██████████| 80/80 [00:00<00:00, 99.09it/s]\n",
      "Running Optimal BE PI: 100%|██████████| 80/80 [00:00<00:00, 99.36it/s] \n",
      "Running Optimal Phibe of order 1 using Galerkin: 100%|██████████| 80/80 [00:00<00:00, 92.85it/s]\n",
      "Running Optimal Phibe of order 2 using Galerkin: 100%|██████████| 80/80 [00:00<00:00, 95.66it/s]\n",
      "Running Optimal BE PI: 100%|██████████| 80/80 [00:01<00:00, 78.40it/s]\n",
      "Running Optimal Phibe of order 1 using Galerkin: 100%|██████████| 80/80 [00:01<00:00, 62.73it/s]\n",
      "Running Optimal Phibe of order 2 using Galerkin: 100%|██████████| 80/80 [00:01<00:00, 78.37it/s]\n",
      "Running Optimal BE PI: 100%|██████████| 80/80 [00:01<00:00, 71.13it/s]\n",
      "Running Optimal Phibe of order 1 using Galerkin: 100%|██████████| 80/80 [00:04<00:00, 19.05it/s]\n",
      "Running Optimal Phibe of order 2 using Galerkin: 100%|██████████| 80/80 [00:03<00:00, 20.68it/s]\n",
      "Running Optimal BE PI: 100%|██████████| 80/80 [00:04<00:00, 19.71it/s]\n",
      "Running Optimal Phibe of order 1 using Galerkin: 100%|██████████| 80/80 [00:20<00:00,  3.83it/s]\n",
      "Running Optimal Phibe of order 2 using Galerkin: 100%|██████████| 80/80 [00:11<00:00,  6.85it/s]\n",
      "Running Optimal BE PI: 100%|██████████| 80/80 [00:14<00:00,  5.42it/s]\n"
     ]
    },
    {
     "name": "stdout",
     "output_type": "stream",
     "text": [
      "running experiment round 6\n"
     ]
    },
    {
     "name": "stderr",
     "output_type": "stream",
     "text": [
      "Running Optimal Phibe of order 1 using Galerkin: 100%|██████████| 80/80 [00:01<00:00, 67.61it/s]\n",
      "Running Optimal Phibe of order 2 using Galerkin: 100%|██████████| 80/80 [00:00<00:00, 97.55it/s]\n",
      "Running Optimal BE PI: 100%|██████████| 80/80 [00:00<00:00, 99.30it/s] \n",
      "Running Optimal Phibe of order 1 using Galerkin: 100%|██████████| 80/80 [00:00<00:00, 97.58it/s]\n",
      "Running Optimal Phibe of order 2 using Galerkin: 100%|██████████| 80/80 [00:00<00:00, 97.64it/s]\n",
      "Running Optimal BE PI: 100%|██████████| 80/80 [00:01<00:00, 79.64it/s]\n",
      "Running Optimal Phibe of order 1 using Galerkin: 100%|██████████| 80/80 [00:00<00:00, 93.23it/s]\n",
      "Running Optimal Phibe of order 2 using Galerkin: 100%|██████████| 80/80 [00:00<00:00, 95.82it/s]\n",
      "Running Optimal BE PI: 100%|██████████| 80/80 [00:00<00:00, 93.03it/s]\n",
      "Running Optimal Phibe of order 1 using Galerkin: 100%|██████████| 80/80 [00:01<00:00, 64.78it/s]\n",
      "Running Optimal Phibe of order 2 using Galerkin: 100%|██████████| 80/80 [00:01<00:00, 65.64it/s]\n",
      "Running Optimal BE PI: 100%|██████████| 80/80 [00:01<00:00, 70.99it/s]\n",
      "Running Optimal Phibe of order 1 using Galerkin: 100%|██████████| 80/80 [00:04<00:00, 18.97it/s]\n",
      "Running Optimal Phibe of order 2 using Galerkin: 100%|██████████| 80/80 [00:02<00:00, 27.68it/s]\n",
      "Running Optimal BE PI: 100%|██████████| 80/80 [00:03<00:00, 23.83it/s]\n",
      "Running Optimal Phibe of order 1 using Galerkin: 100%|██████████| 80/80 [00:20<00:00,  3.85it/s]\n",
      "Running Optimal Phibe of order 2 using Galerkin: 100%|██████████| 80/80 [00:11<00:00,  6.93it/s]\n",
      "Running Optimal BE PI: 100%|██████████| 80/80 [00:14<00:00,  5.43it/s]\n"
     ]
    },
    {
     "name": "stdout",
     "output_type": "stream",
     "text": [
      "running experiment round 7\n"
     ]
    },
    {
     "name": "stderr",
     "output_type": "stream",
     "text": [
      "Running Optimal Phibe of order 1 using Galerkin: 100%|██████████| 80/80 [00:00<00:00, 84.00it/s]\n",
      "Running Optimal Phibe of order 2 using Galerkin: 100%|██████████| 80/80 [00:00<00:00, 96.37it/s]\n",
      "Running Optimal BE PI: 100%|██████████| 80/80 [00:00<00:00, 98.34it/s] \n",
      "Running Optimal Phibe of order 1 using Galerkin: 100%|██████████| 80/80 [00:01<00:00, 74.84it/s]\n",
      "Running Optimal Phibe of order 2 using Galerkin: 100%|██████████| 80/80 [00:00<00:00, 97.06it/s]\n",
      "Running Optimal BE PI: 100%|██████████| 80/80 [00:00<00:00, 96.90it/s]\n",
      "Running Optimal Phibe of order 1 using Galerkin: 100%|██████████| 80/80 [00:00<00:00, 92.99it/s]\n",
      "Running Optimal Phibe of order 2 using Galerkin: 100%|██████████| 80/80 [00:00<00:00, 95.35it/s]\n",
      "Running Optimal BE PI: 100%|██████████| 80/80 [00:00<00:00, 94.49it/s]\n",
      "Running Optimal Phibe of order 1 using Galerkin: 100%|██████████| 80/80 [00:01<00:00, 55.34it/s]\n",
      "Running Optimal Phibe of order 2 using Galerkin: 100%|██████████| 80/80 [00:01<00:00, 78.46it/s]\n",
      "Running Optimal BE PI: 100%|██████████| 80/80 [00:01<00:00, 70.97it/s]\n",
      "Running Optimal Phibe of order 1 using Galerkin: 100%|██████████| 80/80 [00:04<00:00, 17.12it/s]\n",
      "Running Optimal Phibe of order 2 using Galerkin: 100%|██████████| 80/80 [00:03<00:00, 25.68it/s]\n",
      "Running Optimal BE PI: 100%|██████████| 80/80 [00:04<00:00, 18.01it/s]\n",
      "Running Optimal Phibe of order 1 using Galerkin: 100%|██████████| 80/80 [00:20<00:00,  3.82it/s]\n",
      "Running Optimal Phibe of order 2 using Galerkin: 100%|██████████| 80/80 [00:11<00:00,  6.77it/s]\n",
      "Running Optimal BE PI: 100%|██████████| 80/80 [00:15<00:00,  5.26it/s]\n"
     ]
    },
    {
     "name": "stdout",
     "output_type": "stream",
     "text": [
      "running experiment round 8\n"
     ]
    },
    {
     "name": "stderr",
     "output_type": "stream",
     "text": [
      "Running Optimal Phibe of order 1 using Galerkin: 100%|██████████| 80/80 [00:00<00:00, 85.77it/s]\n",
      "Running Optimal Phibe of order 2 using Galerkin: 100%|██████████| 80/80 [00:00<00:00, 98.06it/s]\n",
      "Running Optimal BE PI: 100%|██████████| 80/80 [00:01<00:00, 73.67it/s]\n",
      "Running Optimal Phibe of order 1 using Galerkin: 100%|██████████| 80/80 [00:01<00:00, 70.99it/s]\n",
      "Running Optimal Phibe of order 2 using Galerkin: 100%|██████████| 80/80 [00:00<00:00, 88.46it/s]\n",
      "Running Optimal BE PI: 100%|██████████| 80/80 [00:00<00:00, 99.01it/s]\n",
      "Running Optimal Phibe of order 1 using Galerkin: 100%|██████████| 80/80 [00:00<00:00, 93.48it/s]\n",
      "Running Optimal Phibe of order 2 using Galerkin: 100%|██████████| 80/80 [00:00<00:00, 96.73it/s]\n",
      "Running Optimal BE PI: 100%|██████████| 80/80 [00:01<00:00, 73.58it/s]\n",
      "Running Optimal Phibe of order 1 using Galerkin: 100%|██████████| 80/80 [00:01<00:00, 64.65it/s]\n",
      "Running Optimal Phibe of order 2 using Galerkin: 100%|██████████| 80/80 [00:01<00:00, 78.28it/s]\n",
      "Running Optimal BE PI: 100%|██████████| 80/80 [00:01<00:00, 68.24it/s]\n",
      "Running Optimal Phibe of order 1 using Galerkin: 100%|██████████| 80/80 [00:04<00:00, 18.34it/s]\n",
      "Running Optimal Phibe of order 2 using Galerkin: 100%|██████████| 80/80 [00:03<00:00, 22.71it/s]\n",
      "Running Optimal BE PI: 100%|██████████| 80/80 [00:04<00:00, 18.41it/s]\n",
      "Running Optimal Phibe of order 1 using Galerkin: 100%|██████████| 80/80 [00:20<00:00,  3.92it/s]\n",
      "Running Optimal Phibe of order 2 using Galerkin: 100%|██████████| 80/80 [00:11<00:00,  6.95it/s]\n",
      "Running Optimal BE PI: 100%|██████████| 80/80 [00:15<00:00,  5.25it/s]\n"
     ]
    },
    {
     "name": "stdout",
     "output_type": "stream",
     "text": [
      "running experiment round 9\n"
     ]
    },
    {
     "name": "stderr",
     "output_type": "stream",
     "text": [
      "Running Optimal Phibe of order 1 using Galerkin: 100%|██████████| 80/80 [00:00<00:00, 87.60it/s]\n",
      "Running Optimal Phibe of order 2 using Galerkin: 100%|██████████| 80/80 [00:00<00:00, 97.51it/s]\n",
      "Running Optimal BE PI: 100%|██████████| 80/80 [00:00<00:00, 96.28it/s]\n",
      "Running Optimal Phibe of order 1 using Galerkin: 100%|██████████| 80/80 [00:01<00:00, 71.71it/s]\n",
      "Running Optimal Phibe of order 2 using Galerkin: 100%|██████████| 80/80 [00:00<00:00, 95.04it/s]\n",
      "Running Optimal BE PI: 100%|██████████| 80/80 [00:00<00:00, 98.64it/s] \n",
      "Running Optimal Phibe of order 1 using Galerkin: 100%|██████████| 80/80 [00:00<00:00, 93.16it/s]\n",
      "Running Optimal Phibe of order 2 using Galerkin: 100%|██████████| 80/80 [00:00<00:00, 95.96it/s]\n",
      "Running Optimal BE PI: 100%|██████████| 80/80 [00:00<00:00, 95.24it/s]\n",
      "Running Optimal Phibe of order 1 using Galerkin: 100%|██████████| 80/80 [00:01<00:00, 53.58it/s]\n",
      "Running Optimal Phibe of order 2 using Galerkin: 100%|██████████| 80/80 [00:01<00:00, 79.24it/s]\n",
      "Running Optimal BE PI: 100%|██████████| 80/80 [00:01<00:00, 71.02it/s]\n",
      "Running Optimal Phibe of order 1 using Galerkin: 100%|██████████| 80/80 [00:04<00:00, 18.72it/s]\n",
      "Running Optimal Phibe of order 2 using Galerkin: 100%|██████████| 80/80 [00:02<00:00, 27.95it/s]\n",
      "Running Optimal BE PI: 100%|██████████| 80/80 [00:03<00:00, 22.18it/s]\n",
      "Running Optimal Phibe of order 1 using Galerkin: 100%|██████████| 80/80 [00:19<00:00,  4.05it/s]\n",
      "Running Optimal Phibe of order 2 using Galerkin: 100%|██████████| 80/80 [00:12<00:00,  6.52it/s]\n",
      "Running Optimal BE PI: 100%|██████████| 80/80 [00:14<00:00,  5.40it/s]\n"
     ]
    },
    {
     "name": "stdout",
     "output_type": "stream",
     "text": [
      "running experiment round 10\n"
     ]
    },
    {
     "name": "stderr",
     "output_type": "stream",
     "text": [
      "Running Optimal Phibe of order 1 using Galerkin: 100%|██████████| 80/80 [00:00<00:00, 86.98it/s]\n",
      "Running Optimal Phibe of order 2 using Galerkin: 100%|██████████| 80/80 [00:00<00:00, 98.35it/s]\n",
      "Running Optimal BE PI: 100%|██████████| 80/80 [00:00<00:00, 98.78it/s]\n",
      "Running Optimal Phibe of order 1 using Galerkin: 100%|██████████| 80/80 [00:00<00:00, 97.79it/s]\n",
      "Running Optimal Phibe of order 2 using Galerkin: 100%|██████████| 80/80 [00:00<00:00, 95.18it/s]\n",
      "Running Optimal BE PI: 100%|██████████| 80/80 [00:01<00:00, 71.92it/s]\n",
      "Running Optimal Phibe of order 1 using Galerkin: 100%|██████████| 80/80 [00:00<00:00, 92.21it/s]\n",
      "Running Optimal Phibe of order 2 using Galerkin: 100%|██████████| 80/80 [00:00<00:00, 92.89it/s]\n",
      "Running Optimal BE PI: 100%|██████████| 80/80 [00:00<00:00, 95.34it/s]\n",
      "Running Optimal Phibe of order 1 using Galerkin: 100%|██████████| 80/80 [00:01<00:00, 64.33it/s]\n",
      "Running Optimal Phibe of order 2 using Galerkin: 100%|██████████| 80/80 [00:01<00:00, 78.74it/s]\n",
      "Running Optimal BE PI: 100%|██████████| 80/80 [00:01<00:00, 71.20it/s]\n",
      "Running Optimal Phibe of order 1 using Galerkin: 100%|██████████| 80/80 [00:04<00:00, 16.98it/s]\n",
      "Running Optimal Phibe of order 2 using Galerkin: 100%|██████████| 80/80 [00:02<00:00, 27.39it/s]\n",
      "Running Optimal BE PI: 100%|██████████| 80/80 [00:04<00:00, 17.62it/s]\n",
      "Running Optimal Phibe of order 1 using Galerkin: 100%|██████████| 80/80 [00:21<00:00,  3.75it/s]\n",
      "Running Optimal Phibe of order 2 using Galerkin: 100%|██████████| 80/80 [00:11<00:00,  6.76it/s]\n",
      "Running Optimal BE PI: 100%|██████████| 80/80 [00:14<00:00,  5.39it/s]\n"
     ]
    },
    {
     "name": "stdout",
     "output_type": "stream",
     "text": [
      "running experiment round 11\n"
     ]
    },
    {
     "name": "stderr",
     "output_type": "stream",
     "text": [
      "Running Optimal Phibe of order 1 using Galerkin: 100%|██████████| 80/80 [00:01<00:00, 79.32it/s]\n",
      "Running Optimal Phibe of order 2 using Galerkin: 100%|██████████| 80/80 [00:01<00:00, 66.20it/s]\n",
      "Running Optimal BE PI: 100%|██████████| 80/80 [00:00<00:00, 98.26it/s]\n",
      "Running Optimal Phibe of order 1 using Galerkin: 100%|██████████| 80/80 [00:00<00:00, 96.53it/s]\n",
      "Running Optimal Phibe of order 2 using Galerkin: 100%|██████████| 80/80 [00:00<00:00, 97.07it/s]\n",
      "Running Optimal BE PI: 100%|██████████| 80/80 [00:00<00:00, 93.73it/s]\n",
      "Running Optimal Phibe of order 1 using Galerkin: 100%|██████████| 80/80 [00:00<00:00, 91.86it/s]\n",
      "Running Optimal Phibe of order 2 using Galerkin: 100%|██████████| 80/80 [00:00<00:00, 94.88it/s]\n",
      "Running Optimal BE PI: 100%|██████████| 80/80 [00:01<00:00, 67.55it/s]\n",
      "Running Optimal Phibe of order 1 using Galerkin: 100%|██████████| 80/80 [00:01<00:00, 64.15it/s]\n",
      "Running Optimal Phibe of order 2 using Galerkin: 100%|██████████| 80/80 [00:01<00:00, 78.36it/s]\n",
      "Running Optimal BE PI: 100%|██████████| 80/80 [00:01<00:00, 70.03it/s]\n",
      "Running Optimal Phibe of order 1 using Galerkin: 100%|██████████| 80/80 [00:04<00:00, 18.18it/s]\n",
      "Running Optimal Phibe of order 2 using Galerkin: 100%|██████████| 80/80 [00:03<00:00, 23.10it/s]\n",
      "Running Optimal BE PI: 100%|██████████| 80/80 [00:04<00:00, 19.22it/s]\n",
      "Running Optimal Phibe of order 1 using Galerkin: 100%|██████████| 80/80 [00:22<00:00,  3.62it/s]\n",
      "Running Optimal Phibe of order 2 using Galerkin: 100%|██████████| 80/80 [00:12<00:00,  6.60it/s]\n",
      "Running Optimal BE PI: 100%|██████████| 80/80 [00:15<00:00,  5.28it/s]\n"
     ]
    },
    {
     "name": "stdout",
     "output_type": "stream",
     "text": [
      "running experiment round 12\n"
     ]
    },
    {
     "name": "stderr",
     "output_type": "stream",
     "text": [
      "Running Optimal Phibe of order 1 using Galerkin: 100%|██████████| 80/80 [00:00<00:00, 80.64it/s]\n",
      "Running Optimal Phibe of order 2 using Galerkin: 100%|██████████| 80/80 [00:00<00:00, 94.28it/s]\n",
      "Running Optimal BE PI: 100%|██████████| 80/80 [00:00<00:00, 98.02it/s]\n",
      "Running Optimal Phibe of order 1 using Galerkin: 100%|██████████| 80/80 [00:00<00:00, 97.14it/s]\n",
      "Running Optimal Phibe of order 2 using Galerkin: 100%|██████████| 80/80 [00:00<00:00, 96.28it/s]\n",
      "Running Optimal BE PI: 100%|██████████| 80/80 [00:01<00:00, 68.13it/s]\n",
      "Running Optimal Phibe of order 1 using Galerkin: 100%|██████████| 80/80 [00:00<00:00, 92.17it/s]\n",
      "Running Optimal Phibe of order 2 using Galerkin: 100%|██████████| 80/80 [00:00<00:00, 94.24it/s]\n",
      "Running Optimal BE PI: 100%|██████████| 80/80 [00:00<00:00, 91.37it/s]\n",
      "Running Optimal Phibe of order 1 using Galerkin: 100%|██████████| 80/80 [00:01<00:00, 63.98it/s]\n",
      "Running Optimal Phibe of order 2 using Galerkin: 100%|██████████| 80/80 [00:01<00:00, 77.68it/s]\n",
      "Running Optimal BE PI: 100%|██████████| 80/80 [00:01<00:00, 69.76it/s]\n",
      "Running Optimal Phibe of order 1 using Galerkin: 100%|██████████| 80/80 [00:04<00:00, 18.55it/s]\n",
      "Running Optimal Phibe of order 2 using Galerkin: 100%|██████████| 80/80 [00:04<00:00, 19.98it/s]\n",
      "Running Optimal BE PI: 100%|██████████| 80/80 [00:04<00:00, 19.84it/s]\n",
      "Running Optimal Phibe of order 1 using Galerkin: 100%|██████████| 80/80 [00:20<00:00,  3.81it/s]\n",
      "Running Optimal Phibe of order 2 using Galerkin: 100%|██████████| 80/80 [00:11<00:00,  6.72it/s]\n",
      "Running Optimal BE PI: 100%|██████████| 80/80 [00:14<00:00,  5.36it/s]\n"
     ]
    },
    {
     "name": "stdout",
     "output_type": "stream",
     "text": [
      "running experiment round 13\n"
     ]
    },
    {
     "name": "stderr",
     "output_type": "stream",
     "text": [
      "Running Optimal Phibe of order 1 using Galerkin: 100%|██████████| 80/80 [00:00<00:00, 84.79it/s]\n",
      "Running Optimal Phibe of order 2 using Galerkin: 100%|██████████| 80/80 [00:00<00:00, 95.88it/s]\n",
      "Running Optimal BE PI: 100%|██████████| 80/80 [00:00<00:00, 96.82it/s]\n",
      "Running Optimal Phibe of order 1 using Galerkin: 100%|██████████| 80/80 [00:01<00:00, 65.23it/s]\n",
      "Running Optimal Phibe of order 2 using Galerkin: 100%|██████████| 80/80 [00:00<00:00, 96.77it/s]\n",
      "Running Optimal BE PI: 100%|██████████| 80/80 [00:00<00:00, 98.17it/s]\n",
      "Running Optimal Phibe of order 1 using Galerkin: 100%|██████████| 80/80 [00:01<00:00, 63.35it/s]\n",
      "Running Optimal Phibe of order 2 using Galerkin: 100%|██████████| 80/80 [00:00<00:00, 94.22it/s]\n",
      "Running Optimal BE PI: 100%|██████████| 80/80 [00:00<00:00, 92.15it/s]\n",
      "Running Optimal Phibe of order 1 using Galerkin: 100%|██████████| 80/80 [00:01<00:00, 61.13it/s]\n",
      "Running Optimal Phibe of order 2 using Galerkin: 100%|██████████| 80/80 [00:01<00:00, 71.93it/s]\n",
      "Running Optimal BE PI: 100%|██████████| 80/80 [00:01<00:00, 51.63it/s]\n",
      "Running Optimal Phibe of order 1 using Galerkin: 100%|██████████| 80/80 [00:04<00:00, 17.75it/s]\n",
      "Running Optimal Phibe of order 2 using Galerkin: 100%|██████████| 80/80 [00:03<00:00, 22.06it/s]\n",
      "Running Optimal BE PI: 100%|██████████| 80/80 [00:04<00:00, 19.13it/s]\n",
      "Running Optimal Phibe of order 1 using Galerkin: 100%|██████████| 80/80 [00:20<00:00,  3.86it/s]\n",
      "Running Optimal Phibe of order 2 using Galerkin: 100%|██████████| 80/80 [00:11<00:00,  6.68it/s]\n",
      "Running Optimal BE PI: 100%|██████████| 80/80 [00:16<00:00,  4.99it/s]\n"
     ]
    },
    {
     "name": "stdout",
     "output_type": "stream",
     "text": [
      "running experiment round 14\n"
     ]
    },
    {
     "name": "stderr",
     "output_type": "stream",
     "text": [
      "Running Optimal Phibe of order 1 using Galerkin: 100%|██████████| 80/80 [00:00<00:00, 82.78it/s]\n",
      "Running Optimal Phibe of order 2 using Galerkin: 100%|██████████| 80/80 [00:00<00:00, 95.00it/s]\n",
      "Running Optimal BE PI: 100%|██████████| 80/80 [00:01<00:00, 63.10it/s]\n",
      "Running Optimal Phibe of order 1 using Galerkin: 100%|██████████| 80/80 [00:00<00:00, 97.02it/s]\n",
      "Running Optimal Phibe of order 2 using Galerkin: 100%|██████████| 80/80 [00:00<00:00, 96.63it/s]\n",
      "Running Optimal BE PI: 100%|██████████| 80/80 [00:00<00:00, 96.89it/s]\n",
      "Running Optimal Phibe of order 1 using Galerkin: 100%|██████████| 80/80 [00:00<00:00, 83.43it/s]\n",
      "Running Optimal Phibe of order 2 using Galerkin: 100%|██████████| 80/80 [00:00<00:00, 94.32it/s]\n",
      "Running Optimal BE PI: 100%|██████████| 80/80 [00:00<00:00, 94.15it/s]\n",
      "Running Optimal Phibe of order 1 using Galerkin: 100%|██████████| 80/80 [00:01<00:00, 61.30it/s]\n",
      "Running Optimal Phibe of order 2 using Galerkin: 100%|██████████| 80/80 [00:01<00:00, 56.55it/s]\n",
      "Running Optimal BE PI: 100%|██████████| 80/80 [00:01<00:00, 67.57it/s]\n",
      "Running Optimal Phibe of order 1 using Galerkin: 100%|██████████| 80/80 [00:04<00:00, 18.37it/s]\n",
      "Running Optimal Phibe of order 2 using Galerkin: 100%|██████████| 80/80 [00:03<00:00, 22.99it/s]\n",
      "Running Optimal BE PI: 100%|██████████| 80/80 [00:04<00:00, 18.93it/s]\n",
      "Running Optimal Phibe of order 1 using Galerkin: 100%|██████████| 80/80 [00:20<00:00,  3.96it/s]\n",
      "Running Optimal Phibe of order 2 using Galerkin: 100%|██████████| 80/80 [00:12<00:00,  6.36it/s]\n",
      "Running Optimal BE PI: 100%|██████████| 80/80 [00:17<00:00,  4.54it/s]\n"
     ]
    },
    {
     "name": "stdout",
     "output_type": "stream",
     "text": [
      "running experiment round 15\n"
     ]
    },
    {
     "name": "stderr",
     "output_type": "stream",
     "text": [
      "Running Optimal Phibe of order 1 using Galerkin: 100%|██████████| 80/80 [00:01<00:00, 54.82it/s]\n",
      "Running Optimal Phibe of order 2 using Galerkin: 100%|██████████| 80/80 [00:01<00:00, 55.87it/s]\n",
      "Running Optimal BE PI: 100%|██████████| 80/80 [00:00<00:00, 85.69it/s]\n",
      "Running Optimal Phibe of order 1 using Galerkin: 100%|██████████| 80/80 [00:00<00:00, 93.35it/s]\n",
      "Running Optimal Phibe of order 2 using Galerkin: 100%|██████████| 80/80 [00:00<00:00, 92.54it/s]\n",
      "Running Optimal BE PI: 100%|██████████| 80/80 [00:00<00:00, 96.00it/s]\n",
      "Running Optimal Phibe of order 1 using Galerkin: 100%|██████████| 80/80 [00:00<00:00, 91.67it/s]\n",
      "Running Optimal Phibe of order 2 using Galerkin: 100%|██████████| 80/80 [00:00<00:00, 89.26it/s]\n",
      "Running Optimal BE PI: 100%|██████████| 80/80 [00:00<00:00, 84.16it/s]\n",
      "Running Optimal Phibe of order 1 using Galerkin: 100%|██████████| 80/80 [00:01<00:00, 60.17it/s]\n",
      "Running Optimal Phibe of order 2 using Galerkin: 100%|██████████| 80/80 [00:01<00:00, 76.60it/s]\n",
      "Running Optimal BE PI: 100%|██████████| 80/80 [00:01<00:00, 49.15it/s]\n",
      "Running Optimal Phibe of order 1 using Galerkin: 100%|██████████| 80/80 [00:04<00:00, 16.47it/s]\n",
      "Running Optimal Phibe of order 2 using Galerkin: 100%|██████████| 80/80 [00:03<00:00, 21.60it/s]\n",
      "Running Optimal BE PI: 100%|██████████| 80/80 [00:04<00:00, 18.82it/s]\n",
      "Running Optimal Phibe of order 1 using Galerkin: 100%|██████████| 80/80 [00:21<00:00,  3.65it/s]\n",
      "Running Optimal Phibe of order 2 using Galerkin: 100%|██████████| 80/80 [00:12<00:00,  6.61it/s]\n",
      "Running Optimal BE PI: 100%|██████████| 80/80 [00:15<00:00,  5.28it/s]\n"
     ]
    },
    {
     "name": "stdout",
     "output_type": "stream",
     "text": [
      "running experiment round 16\n"
     ]
    },
    {
     "name": "stderr",
     "output_type": "stream",
     "text": [
      "Running Optimal Phibe of order 1 using Galerkin: 100%|██████████| 80/80 [00:00<00:00, 86.35it/s]\n",
      "Running Optimal Phibe of order 2 using Galerkin: 100%|██████████| 80/80 [00:00<00:00, 97.59it/s]\n",
      "Running Optimal BE PI: 100%|██████████| 80/80 [00:01<00:00, 62.18it/s]\n",
      "Running Optimal Phibe of order 1 using Galerkin: 100%|██████████| 80/80 [00:00<00:00, 97.91it/s]\n",
      "Running Optimal Phibe of order 2 using Galerkin: 100%|██████████| 80/80 [00:00<00:00, 98.49it/s]\n",
      "Running Optimal BE PI: 100%|██████████| 80/80 [00:00<00:00, 99.79it/s] \n",
      "Running Optimal Phibe of order 1 using Galerkin: 100%|██████████| 80/80 [00:00<00:00, 92.55it/s]\n",
      "Running Optimal Phibe of order 2 using Galerkin: 100%|██████████| 80/80 [00:00<00:00, 96.20it/s]\n",
      "Running Optimal BE PI: 100%|██████████| 80/80 [00:00<00:00, 95.44it/s]\n",
      "Running Optimal Phibe of order 1 using Galerkin: 100%|██████████| 80/80 [00:01<00:00, 62.69it/s]\n",
      "Running Optimal Phibe of order 2 using Galerkin: 100%|██████████| 80/80 [00:01<00:00, 75.97it/s]\n",
      "Running Optimal BE PI: 100%|██████████| 80/80 [00:01<00:00, 69.27it/s]\n",
      "Running Optimal Phibe of order 1 using Galerkin: 100%|██████████| 80/80 [00:04<00:00, 17.34it/s]\n",
      "Running Optimal Phibe of order 2 using Galerkin: 100%|██████████| 80/80 [00:03<00:00, 25.95it/s]\n",
      "Running Optimal BE PI: 100%|██████████| 80/80 [00:04<00:00, 19.33it/s]\n",
      "Running Optimal Phibe of order 1 using Galerkin: 100%|██████████| 80/80 [00:20<00:00,  3.97it/s]\n",
      "Running Optimal Phibe of order 2 using Galerkin: 100%|██████████| 80/80 [00:11<00:00,  6.95it/s]\n",
      "Running Optimal BE PI: 100%|██████████| 80/80 [00:14<00:00,  5.59it/s]\n"
     ]
    },
    {
     "name": "stdout",
     "output_type": "stream",
     "text": [
      "running experiment round 17\n"
     ]
    },
    {
     "name": "stderr",
     "output_type": "stream",
     "text": [
      "Running Optimal Phibe of order 1 using Galerkin: 100%|██████████| 80/80 [00:00<00:00, 87.46it/s]\n",
      "Running Optimal Phibe of order 2 using Galerkin: 100%|██████████| 80/80 [00:00<00:00, 93.39it/s]\n",
      "Running Optimal BE PI: 100%|██████████| 80/80 [00:00<00:00, 97.39it/s]\n",
      "Running Optimal Phibe of order 1 using Galerkin: 100%|██████████| 80/80 [00:01<00:00, 62.21it/s]\n",
      "Running Optimal Phibe of order 2 using Galerkin: 100%|██████████| 80/80 [00:00<00:00, 94.60it/s]\n",
      "Running Optimal BE PI: 100%|██████████| 80/80 [00:00<00:00, 97.76it/s]\n",
      "Running Optimal Phibe of order 1 using Galerkin: 100%|██████████| 80/80 [00:00<00:00, 93.51it/s]\n",
      "Running Optimal Phibe of order 2 using Galerkin: 100%|██████████| 80/80 [00:00<00:00, 95.45it/s]\n",
      "Running Optimal BE PI: 100%|██████████| 80/80 [00:00<00:00, 95.49it/s]\n",
      "Running Optimal Phibe of order 1 using Galerkin: 100%|██████████| 80/80 [00:01<00:00, 60.29it/s]\n",
      "Running Optimal Phibe of order 2 using Galerkin: 100%|██████████| 80/80 [00:01<00:00, 78.04it/s]\n",
      "Running Optimal BE PI: 100%|██████████| 80/80 [00:01<00:00, 69.84it/s]\n",
      "Running Optimal Phibe of order 1 using Galerkin: 100%|██████████| 80/80 [00:04<00:00, 17.35it/s]\n",
      "Running Optimal Phibe of order 2 using Galerkin: 100%|██████████| 80/80 [00:03<00:00, 25.86it/s]\n",
      "Running Optimal BE PI: 100%|██████████| 80/80 [00:04<00:00, 18.50it/s]\n",
      "Running Optimal Phibe of order 1 using Galerkin: 100%|██████████| 80/80 [00:19<00:00,  4.11it/s]\n",
      "Running Optimal Phibe of order 2 using Galerkin: 100%|██████████| 80/80 [00:12<00:00,  6.49it/s]\n",
      "Running Optimal BE PI: 100%|██████████| 80/80 [00:14<00:00,  5.48it/s]\n"
     ]
    },
    {
     "name": "stdout",
     "output_type": "stream",
     "text": [
      "running experiment round 18\n"
     ]
    },
    {
     "name": "stderr",
     "output_type": "stream",
     "text": [
      "Running Optimal Phibe of order 1 using Galerkin: 100%|██████████| 80/80 [00:00<00:00, 86.69it/s]\n",
      "Running Optimal Phibe of order 2 using Galerkin: 100%|██████████| 80/80 [00:00<00:00, 93.59it/s]\n",
      "Running Optimal BE PI: 100%|██████████| 80/80 [00:01<00:00, 63.68it/s]\n",
      "Running Optimal Phibe of order 1 using Galerkin: 100%|██████████| 80/80 [00:00<00:00, 85.41it/s]\n",
      "Running Optimal Phibe of order 2 using Galerkin: 100%|██████████| 80/80 [00:00<00:00, 98.16it/s]\n",
      "Running Optimal BE PI: 100%|██████████| 80/80 [00:00<00:00, 98.87it/s] \n",
      "Running Optimal Phibe of order 1 using Galerkin: 100%|██████████| 80/80 [00:01<00:00, 58.60it/s]\n",
      "Running Optimal Phibe of order 2 using Galerkin: 100%|██████████| 80/80 [00:00<00:00, 96.71it/s]\n",
      "Running Optimal BE PI: 100%|██████████| 80/80 [00:00<00:00, 95.96it/s]\n",
      "Running Optimal Phibe of order 1 using Galerkin: 100%|██████████| 80/80 [00:01<00:00, 58.15it/s]\n",
      "Running Optimal Phibe of order 2 using Galerkin: 100%|██████████| 80/80 [00:01<00:00, 78.47it/s]\n",
      "Running Optimal BE PI: 100%|██████████| 80/80 [00:01<00:00, 68.80it/s]\n",
      "Running Optimal Phibe of order 1 using Galerkin: 100%|██████████| 80/80 [00:04<00:00, 18.93it/s]\n",
      "Running Optimal Phibe of order 2 using Galerkin: 100%|██████████| 80/80 [00:02<00:00, 26.70it/s]\n",
      "Running Optimal BE PI: 100%|██████████| 80/80 [00:03<00:00, 20.28it/s]\n",
      "Running Optimal Phibe of order 1 using Galerkin: 100%|██████████| 80/80 [00:19<00:00,  4.08it/s]\n",
      "Running Optimal Phibe of order 2 using Galerkin: 100%|██████████| 80/80 [00:12<00:00,  6.59it/s]\n",
      "Running Optimal BE PI: 100%|██████████| 80/80 [00:16<00:00,  4.86it/s]\n"
     ]
    },
    {
     "name": "stdout",
     "output_type": "stream",
     "text": [
      "running experiment round 19\n"
     ]
    },
    {
     "name": "stderr",
     "output_type": "stream",
     "text": [
      "Running Optimal Phibe of order 1 using Galerkin: 100%|██████████| 80/80 [00:01<00:00, 73.71it/s]\n",
      "Running Optimal Phibe of order 2 using Galerkin: 100%|██████████| 80/80 [00:00<00:00, 95.32it/s]\n",
      "Running Optimal BE PI: 100%|██████████| 80/80 [00:00<00:00, 96.90it/s]\n",
      "Running Optimal Phibe of order 1 using Galerkin: 100%|██████████| 80/80 [00:00<00:00, 97.48it/s]\n",
      "Running Optimal Phibe of order 2 using Galerkin: 100%|██████████| 80/80 [00:00<00:00, 98.42it/s]\n",
      "Running Optimal BE PI: 100%|██████████| 80/80 [00:00<00:00, 98.47it/s]\n",
      "Running Optimal Phibe of order 1 using Galerkin: 100%|██████████| 80/80 [00:00<00:00, 89.17it/s]\n",
      "Running Optimal Phibe of order 2 using Galerkin: 100%|██████████| 80/80 [00:00<00:00, 95.03it/s]\n",
      "Running Optimal BE PI: 100%|██████████| 80/80 [00:00<00:00, 94.98it/s]\n",
      "Running Optimal Phibe of order 1 using Galerkin: 100%|██████████| 80/80 [00:01<00:00, 42.90it/s]\n",
      "Running Optimal Phibe of order 2 using Galerkin: 100%|██████████| 80/80 [00:01<00:00, 76.61it/s]\n",
      "Running Optimal BE PI: 100%|██████████| 80/80 [00:01<00:00, 68.44it/s]\n",
      "Running Optimal Phibe of order 1 using Galerkin: 100%|██████████| 80/80 [00:04<00:00, 18.85it/s]\n",
      "Running Optimal Phibe of order 2 using Galerkin: 100%|██████████| 80/80 [00:03<00:00, 25.07it/s]\n",
      "Running Optimal BE PI: 100%|██████████| 80/80 [00:04<00:00, 19.91it/s]\n",
      "Running Optimal Phibe of order 1 using Galerkin: 100%|██████████| 80/80 [00:19<00:00,  4.09it/s]\n",
      "Running Optimal Phibe of order 2 using Galerkin: 100%|██████████| 80/80 [00:11<00:00,  6.71it/s]\n",
      "Running Optimal BE PI: 100%|██████████| 80/80 [00:14<00:00,  5.50it/s]\n"
     ]
    },
    {
     "name": "stdout",
     "output_type": "stream",
     "text": [
      "running experiment round 20\n"
     ]
    },
    {
     "name": "stderr",
     "output_type": "stream",
     "text": [
      "Running Optimal Phibe of order 1 using Galerkin: 100%|██████████| 80/80 [00:00<00:00, 85.57it/s]\n",
      "Running Optimal Phibe of order 2 using Galerkin: 100%|██████████| 80/80 [00:00<00:00, 98.08it/s]\n",
      "Running Optimal BE PI: 100%|██████████| 80/80 [00:01<00:00, 57.62it/s]\n",
      "Running Optimal Phibe of order 1 using Galerkin: 100%|██████████| 80/80 [00:00<00:00, 97.98it/s]\n",
      "Running Optimal Phibe of order 2 using Galerkin: 100%|██████████| 80/80 [00:00<00:00, 94.17it/s]\n",
      "Running Optimal BE PI: 100%|██████████| 80/80 [00:00<00:00, 98.73it/s]\n",
      "Running Optimal Phibe of order 1 using Galerkin: 100%|██████████| 80/80 [00:00<00:00, 92.96it/s]\n",
      "Running Optimal Phibe of order 2 using Galerkin: 100%|██████████| 80/80 [00:00<00:00, 95.52it/s]\n",
      "Running Optimal BE PI: 100%|██████████| 80/80 [00:00<00:00, 95.92it/s]\n",
      "Running Optimal Phibe of order 1 using Galerkin: 100%|██████████| 80/80 [00:01<00:00, 62.23it/s]\n",
      "Running Optimal Phibe of order 2 using Galerkin: 100%|██████████| 80/80 [00:01<00:00, 74.90it/s]\n",
      "Running Optimal BE PI: 100%|██████████| 80/80 [00:01<00:00, 69.01it/s]\n",
      "Running Optimal Phibe of order 1 using Galerkin: 100%|██████████| 80/80 [00:04<00:00, 19.19it/s]\n",
      "Running Optimal Phibe of order 2 using Galerkin: 100%|██████████| 80/80 [00:03<00:00, 26.56it/s]\n",
      "Running Optimal BE PI: 100%|██████████| 80/80 [00:04<00:00, 19.27it/s]\n",
      "Running Optimal Phibe of order 1 using Galerkin: 100%|██████████| 80/80 [00:19<00:00,  4.00it/s]\n",
      "Running Optimal Phibe of order 2 using Galerkin: 100%|██████████| 80/80 [00:11<00:00,  6.86it/s]\n",
      "Running Optimal BE PI: 100%|██████████| 80/80 [00:14<00:00,  5.45it/s]\n"
     ]
    },
    {
     "name": "stdout",
     "output_type": "stream",
     "text": [
      "running experiment round 21\n"
     ]
    },
    {
     "name": "stderr",
     "output_type": "stream",
     "text": [
      "Running Optimal Phibe of order 1 using Galerkin: 100%|██████████| 80/80 [00:00<00:00, 82.05it/s]\n",
      "Running Optimal Phibe of order 2 using Galerkin: 100%|██████████| 80/80 [00:00<00:00, 95.16it/s]\n",
      "Running Optimal BE PI: 100%|██████████| 80/80 [00:00<00:00, 99.11it/s] \n",
      "Running Optimal Phibe of order 1 using Galerkin: 100%|██████████| 80/80 [00:00<00:00, 98.16it/s] \n",
      "Running Optimal Phibe of order 2 using Galerkin: 100%|██████████| 80/80 [00:00<00:00, 97.59it/s]\n",
      "Running Optimal BE PI: 100%|██████████| 80/80 [00:00<00:00, 99.44it/s] \n",
      "Running Optimal Phibe of order 1 using Galerkin: 100%|██████████| 80/80 [00:00<00:00, 93.13it/s]\n",
      "Running Optimal Phibe of order 2 using Galerkin: 100%|██████████| 80/80 [00:01<00:00, 56.87it/s]\n",
      "Running Optimal BE PI: 100%|██████████| 80/80 [00:00<00:00, 95.50it/s]\n",
      "Running Optimal Phibe of order 1 using Galerkin: 100%|██████████| 80/80 [00:01<00:00, 60.30it/s]\n",
      "Running Optimal Phibe of order 2 using Galerkin: 100%|██████████| 80/80 [00:01<00:00, 76.32it/s]\n",
      "Running Optimal BE PI: 100%|██████████| 80/80 [00:01<00:00, 65.14it/s]\n",
      "Running Optimal Phibe of order 1 using Galerkin: 100%|██████████| 80/80 [00:04<00:00, 17.65it/s]\n",
      "Running Optimal Phibe of order 2 using Galerkin: 100%|██████████| 80/80 [00:03<00:00, 20.70it/s]\n",
      "Running Optimal BE PI: 100%|██████████| 80/80 [00:04<00:00, 19.18it/s]\n",
      "Running Optimal Phibe of order 1 using Galerkin: 100%|██████████| 80/80 [00:21<00:00,  3.73it/s]\n",
      "Running Optimal Phibe of order 2 using Galerkin: 100%|██████████| 80/80 [00:12<00:00,  6.55it/s]\n",
      "Running Optimal BE PI: 100%|██████████| 80/80 [00:15<00:00,  5.23it/s]\n"
     ]
    },
    {
     "name": "stdout",
     "output_type": "stream",
     "text": [
      "running experiment round 22\n"
     ]
    },
    {
     "name": "stderr",
     "output_type": "stream",
     "text": [
      "Running Optimal Phibe of order 1 using Galerkin: 100%|██████████| 80/80 [00:00<00:00, 83.16it/s]\n",
      "Running Optimal Phibe of order 2 using Galerkin: 100%|██████████| 80/80 [00:01<00:00, 54.75it/s]\n",
      "Running Optimal BE PI: 100%|██████████| 80/80 [00:00<00:00, 98.30it/s]\n",
      "Running Optimal Phibe of order 1 using Galerkin: 100%|██████████| 80/80 [00:00<00:00, 96.20it/s]\n",
      "Running Optimal Phibe of order 2 using Galerkin: 100%|██████████| 80/80 [00:00<00:00, 94.05it/s]\n",
      "Running Optimal BE PI: 100%|██████████| 80/80 [00:00<00:00, 97.83it/s]\n",
      "Running Optimal Phibe of order 1 using Galerkin: 100%|██████████| 80/80 [00:00<00:00, 89.99it/s]\n",
      "Running Optimal Phibe of order 2 using Galerkin: 100%|██████████| 80/80 [00:00<00:00, 94.04it/s]\n",
      "Running Optimal BE PI: 100%|██████████| 80/80 [00:00<00:00, 93.45it/s]\n",
      "Running Optimal Phibe of order 1 using Galerkin: 100%|██████████| 80/80 [00:01<00:00, 60.62it/s]\n",
      "Running Optimal Phibe of order 2 using Galerkin: 100%|██████████| 80/80 [00:01<00:00, 75.20it/s]\n",
      "Running Optimal BE PI: 100%|██████████| 80/80 [00:01<00:00, 64.65it/s]\n",
      "Running Optimal Phibe of order 1 using Galerkin: 100%|██████████| 80/80 [00:04<00:00, 18.45it/s]\n",
      "Running Optimal Phibe of order 2 using Galerkin: 100%|██████████| 80/80 [00:05<00:00, 15.96it/s]\n",
      "Running Optimal BE PI: 100%|██████████| 80/80 [00:03<00:00, 20.74it/s]\n",
      "Running Optimal Phibe of order 1 using Galerkin: 100%|██████████| 80/80 [00:20<00:00,  3.89it/s]\n",
      "Running Optimal Phibe of order 2 using Galerkin: 100%|██████████| 80/80 [00:11<00:00,  6.70it/s]\n",
      "Running Optimal BE PI: 100%|██████████| 80/80 [00:14<00:00,  5.35it/s]\n"
     ]
    },
    {
     "name": "stdout",
     "output_type": "stream",
     "text": [
      "running experiment round 23\n"
     ]
    },
    {
     "name": "stderr",
     "output_type": "stream",
     "text": [
      "Running Optimal Phibe of order 1 using Galerkin: 100%|██████████| 80/80 [00:01<00:00, 76.95it/s]\n",
      "Running Optimal Phibe of order 2 using Galerkin: 100%|██████████| 80/80 [00:00<00:00, 94.97it/s]\n",
      "Running Optimal BE PI: 100%|██████████| 80/80 [00:00<00:00, 98.32it/s]\n",
      "Running Optimal Phibe of order 1 using Galerkin: 100%|██████████| 80/80 [00:00<00:00, 96.66it/s]\n",
      "Running Optimal Phibe of order 2 using Galerkin: 100%|██████████| 80/80 [00:00<00:00, 96.79it/s]\n",
      "Running Optimal BE PI: 100%|██████████| 80/80 [00:01<00:00, 65.08it/s]\n",
      "Running Optimal Phibe of order 1 using Galerkin: 100%|██████████| 80/80 [00:00<00:00, 89.23it/s]\n",
      "Running Optimal Phibe of order 2 using Galerkin: 100%|██████████| 80/80 [00:00<00:00, 92.89it/s]\n",
      "Running Optimal BE PI: 100%|██████████| 80/80 [00:01<00:00, 50.96it/s]\n",
      "Running Optimal Phibe of order 1 using Galerkin: 100%|██████████| 80/80 [00:01<00:00, 61.18it/s]\n",
      "Running Optimal Phibe of order 2 using Galerkin: 100%|██████████| 80/80 [00:01<00:00, 75.62it/s]\n",
      "Running Optimal BE PI: 100%|██████████| 80/80 [00:01<00:00, 66.73it/s]\n",
      "Running Optimal Phibe of order 1 using Galerkin: 100%|██████████| 80/80 [00:04<00:00, 17.16it/s]\n",
      "Running Optimal Phibe of order 2 using Galerkin: 100%|██████████| 80/80 [00:03<00:00, 21.72it/s]\n",
      "Running Optimal BE PI: 100%|██████████| 80/80 [00:04<00:00, 18.84it/s]\n",
      "Running Optimal Phibe of order 1 using Galerkin: 100%|██████████| 80/80 [00:20<00:00,  3.90it/s]\n",
      "Running Optimal Phibe of order 2 using Galerkin: 100%|██████████| 80/80 [00:11<00:00,  6.74it/s]\n",
      "Running Optimal BE PI: 100%|██████████| 80/80 [00:15<00:00,  5.00it/s]\n"
     ]
    },
    {
     "name": "stdout",
     "output_type": "stream",
     "text": [
      "running experiment round 24\n"
     ]
    },
    {
     "name": "stderr",
     "output_type": "stream",
     "text": [
      "Running Optimal Phibe of order 1 using Galerkin: 100%|██████████| 80/80 [00:00<00:00, 82.72it/s]\n",
      "Running Optimal Phibe of order 2 using Galerkin: 100%|██████████| 80/80 [00:00<00:00, 89.99it/s]\n",
      "Running Optimal BE PI: 100%|██████████| 80/80 [00:00<00:00, 98.13it/s]\n",
      "Running Optimal Phibe of order 1 using Galerkin: 100%|██████████| 80/80 [00:01<00:00, 53.53it/s]\n",
      "Running Optimal Phibe of order 2 using Galerkin: 100%|██████████| 80/80 [00:00<00:00, 96.77it/s]\n",
      "Running Optimal BE PI: 100%|██████████| 80/80 [00:00<00:00, 98.13it/s]\n",
      "Running Optimal Phibe of order 1 using Galerkin: 100%|██████████| 80/80 [00:00<00:00, 89.36it/s]\n",
      "Running Optimal Phibe of order 2 using Galerkin: 100%|██████████| 80/80 [00:00<00:00, 94.20it/s]\n",
      "Running Optimal BE PI: 100%|██████████| 80/80 [00:00<00:00, 92.54it/s]\n",
      "Running Optimal Phibe of order 1 using Galerkin: 100%|██████████| 80/80 [00:01<00:00, 60.85it/s]\n",
      "Running Optimal Phibe of order 2 using Galerkin: 100%|██████████| 80/80 [00:01<00:00, 76.75it/s]\n",
      "Running Optimal BE PI: 100%|██████████| 80/80 [00:01<00:00, 65.26it/s]\n",
      "Running Optimal Phibe of order 1 using Galerkin: 100%|██████████| 80/80 [00:04<00:00, 18.15it/s]\n",
      "Running Optimal Phibe of order 2 using Galerkin: 100%|██████████| 80/80 [00:03<00:00, 21.69it/s]\n",
      "Running Optimal BE PI: 100%|██████████| 80/80 [00:04<00:00, 18.88it/s]\n",
      "Running Optimal Phibe of order 1 using Galerkin: 100%|██████████| 80/80 [00:20<00:00,  3.93it/s]\n",
      "Running Optimal Phibe of order 2 using Galerkin: 100%|██████████| 80/80 [00:13<00:00,  6.04it/s]\n",
      "Running Optimal BE PI: 100%|██████████| 80/80 [00:15<00:00,  5.29it/s]\n"
     ]
    },
    {
     "name": "stdout",
     "output_type": "stream",
     "text": [
      "running experiment round 25\n"
     ]
    },
    {
     "name": "stderr",
     "output_type": "stream",
     "text": [
      "Running Optimal Phibe of order 1 using Galerkin: 100%|██████████| 80/80 [00:00<00:00, 81.53it/s]\n",
      "Running Optimal Phibe of order 2 using Galerkin: 100%|██████████| 80/80 [00:00<00:00, 84.92it/s]\n",
      "Running Optimal BE PI: 100%|██████████| 80/80 [00:00<00:00, 96.87it/s]\n",
      "Running Optimal Phibe of order 1 using Galerkin: 100%|██████████| 80/80 [00:00<00:00, 96.32it/s]\n",
      "Running Optimal Phibe of order 2 using Galerkin: 100%|██████████| 80/80 [00:00<00:00, 96.53it/s]\n",
      "Running Optimal BE PI: 100%|██████████| 80/80 [00:00<00:00, 97.28it/s]\n",
      "Running Optimal Phibe of order 1 using Galerkin: 100%|██████████| 80/80 [00:00<00:00, 89.67it/s]\n",
      "Running Optimal Phibe of order 2 using Galerkin: 100%|██████████| 80/80 [00:00<00:00, 93.88it/s]\n",
      "Running Optimal BE PI: 100%|██████████| 80/80 [00:00<00:00, 93.52it/s]\n",
      "Running Optimal Phibe of order 1 using Galerkin: 100%|██████████| 80/80 [00:01<00:00, 58.56it/s]\n",
      "Running Optimal Phibe of order 2 using Galerkin: 100%|██████████| 80/80 [00:01<00:00, 75.08it/s]\n",
      "Running Optimal BE PI: 100%|██████████| 80/80 [00:01<00:00, 66.87it/s]\n",
      "Running Optimal Phibe of order 1 using Galerkin: 100%|██████████| 80/80 [00:05<00:00, 15.45it/s]\n",
      "Running Optimal Phibe of order 2 using Galerkin: 100%|██████████| 80/80 [00:03<00:00, 22.76it/s]\n",
      "Running Optimal BE PI: 100%|██████████| 80/80 [00:04<00:00, 19.20it/s]\n",
      "Running Optimal Phibe of order 1 using Galerkin: 100%|██████████| 80/80 [00:22<00:00,  3.56it/s]\n",
      "Running Optimal Phibe of order 2 using Galerkin: 100%|██████████| 80/80 [00:12<00:00,  6.60it/s]\n",
      "Running Optimal BE PI: 100%|██████████| 80/80 [00:16<00:00,  4.88it/s]\n"
     ]
    },
    {
     "name": "stdout",
     "output_type": "stream",
     "text": [
      "running experiment round 26\n"
     ]
    },
    {
     "name": "stderr",
     "output_type": "stream",
     "text": [
      "Running Optimal Phibe of order 1 using Galerkin: 100%|██████████| 80/80 [00:01<00:00, 79.20it/s]\n",
      "Running Optimal Phibe of order 2 using Galerkin: 100%|██████████| 80/80 [00:00<00:00, 92.71it/s]\n",
      "Running Optimal BE PI: 100%|██████████| 80/80 [00:00<00:00, 90.35it/s]\n",
      "Running Optimal Phibe of order 1 using Galerkin: 100%|██████████| 80/80 [00:00<00:00, 96.40it/s]\n",
      "Running Optimal Phibe of order 2 using Galerkin: 100%|██████████| 80/80 [00:00<00:00, 97.35it/s]\n",
      "Running Optimal BE PI: 100%|██████████| 80/80 [00:00<00:00, 97.40it/s]\n",
      "Running Optimal Phibe of order 1 using Galerkin: 100%|██████████| 80/80 [00:00<00:00, 89.89it/s]\n",
      "Running Optimal Phibe of order 2 using Galerkin: 100%|██████████| 80/80 [00:01<00:00, 51.64it/s]\n",
      "Running Optimal BE PI: 100%|██████████| 80/80 [00:00<00:00, 94.48it/s]\n",
      "Running Optimal Phibe of order 1 using Galerkin: 100%|██████████| 80/80 [00:01<00:00, 60.80it/s]\n",
      "Running Optimal Phibe of order 2 using Galerkin: 100%|██████████| 80/80 [00:01<00:00, 71.48it/s]\n",
      "Running Optimal BE PI: 100%|██████████| 80/80 [00:01<00:00, 67.68it/s]\n",
      "Running Optimal Phibe of order 1 using Galerkin: 100%|██████████| 80/80 [00:04<00:00, 17.89it/s]\n",
      "Running Optimal Phibe of order 2 using Galerkin: 100%|██████████| 80/80 [00:03<00:00, 21.23it/s]\n",
      "Running Optimal BE PI: 100%|██████████| 80/80 [00:04<00:00, 17.26it/s]\n",
      "Running Optimal Phibe of order 1 using Galerkin: 100%|██████████| 80/80 [00:21<00:00,  3.78it/s]\n",
      "Running Optimal Phibe of order 2 using Galerkin: 100%|██████████| 80/80 [00:12<00:00,  6.50it/s]\n",
      "Running Optimal BE PI: 100%|██████████| 80/80 [00:15<00:00,  5.17it/s]\n"
     ]
    },
    {
     "name": "stdout",
     "output_type": "stream",
     "text": [
      "running experiment round 27\n"
     ]
    },
    {
     "name": "stderr",
     "output_type": "stream",
     "text": [
      "Running Optimal Phibe of order 1 using Galerkin: 100%|██████████| 80/80 [00:00<00:00, 82.15it/s]\n",
      "Running Optimal Phibe of order 2 using Galerkin: 100%|██████████| 80/80 [00:00<00:00, 94.24it/s]\n",
      "Running Optimal BE PI: 100%|██████████| 80/80 [00:00<00:00, 97.91it/s]\n",
      "Running Optimal Phibe of order 1 using Galerkin: 100%|██████████| 80/80 [00:01<00:00, 51.06it/s]\n",
      "Running Optimal Phibe of order 2 using Galerkin: 100%|██████████| 80/80 [00:00<00:00, 91.57it/s]\n",
      "Running Optimal BE PI: 100%|██████████| 80/80 [00:00<00:00, 92.68it/s]\n",
      "Running Optimal Phibe of order 1 using Galerkin: 100%|██████████| 80/80 [00:00<00:00, 91.55it/s]\n",
      "Running Optimal Phibe of order 2 using Galerkin: 100%|██████████| 80/80 [00:00<00:00, 93.87it/s]\n",
      "Running Optimal BE PI: 100%|██████████| 80/80 [00:01<00:00, 63.41it/s]\n",
      "Running Optimal Phibe of order 1 using Galerkin: 100%|██████████| 80/80 [00:01<00:00, 57.40it/s]\n",
      "Running Optimal Phibe of order 2 using Galerkin: 100%|██████████| 80/80 [00:01<00:00, 74.58it/s]\n",
      "Running Optimal BE PI: 100%|██████████| 80/80 [00:01<00:00, 60.50it/s]\n",
      "Running Optimal Phibe of order 1 using Galerkin: 100%|██████████| 80/80 [00:04<00:00, 16.45it/s]\n",
      "Running Optimal Phibe of order 2 using Galerkin: 100%|██████████| 80/80 [00:03<00:00, 20.96it/s]\n",
      "Running Optimal BE PI: 100%|██████████| 80/80 [00:04<00:00, 19.05it/s]\n",
      "Running Optimal Phibe of order 1 using Galerkin: 100%|██████████| 80/80 [00:20<00:00,  3.81it/s]\n",
      "Running Optimal Phibe of order 2 using Galerkin: 100%|██████████| 80/80 [00:12<00:00,  6.50it/s]\n",
      "Running Optimal BE PI: 100%|██████████| 80/80 [00:15<00:00,  5.00it/s]\n"
     ]
    },
    {
     "name": "stdout",
     "output_type": "stream",
     "text": [
      "running experiment round 28\n"
     ]
    },
    {
     "name": "stderr",
     "output_type": "stream",
     "text": [
      "Running Optimal Phibe of order 1 using Galerkin: 100%|██████████| 80/80 [00:01<00:00, 44.40it/s]\n",
      "Running Optimal Phibe of order 2 using Galerkin: 100%|██████████| 80/80 [00:00<00:00, 97.44it/s]\n",
      "Running Optimal BE PI: 100%|██████████| 80/80 [00:00<00:00, 98.03it/s]\n",
      "Running Optimal Phibe of order 1 using Galerkin: 100%|██████████| 80/80 [00:00<00:00, 96.67it/s]\n",
      "Running Optimal Phibe of order 2 using Galerkin: 100%|██████████| 80/80 [00:00<00:00, 96.86it/s]\n",
      "Running Optimal BE PI: 100%|██████████| 80/80 [00:00<00:00, 95.71it/s]\n",
      "Running Optimal Phibe of order 1 using Galerkin: 100%|██████████| 80/80 [00:00<00:00, 90.47it/s]\n",
      "Running Optimal Phibe of order 2 using Galerkin: 100%|██████████| 80/80 [00:00<00:00, 94.15it/s]\n",
      "Running Optimal BE PI: 100%|██████████| 80/80 [00:00<00:00, 93.32it/s]\n",
      "Running Optimal Phibe of order 1 using Galerkin: 100%|██████████| 80/80 [00:01<00:00, 60.46it/s]\n",
      "Running Optimal Phibe of order 2 using Galerkin: 100%|██████████| 80/80 [00:01<00:00, 75.17it/s]\n",
      "Running Optimal BE PI: 100%|██████████| 80/80 [00:01<00:00, 66.57it/s]\n",
      "Running Optimal Phibe of order 1 using Galerkin: 100%|██████████| 80/80 [00:04<00:00, 17.92it/s]\n",
      "Running Optimal Phibe of order 2 using Galerkin: 100%|██████████| 80/80 [00:03<00:00, 22.06it/s]\n",
      "Running Optimal BE PI: 100%|██████████| 80/80 [00:04<00:00, 18.56it/s]\n",
      "Running Optimal Phibe of order 1 using Galerkin: 100%|██████████| 80/80 [00:21<00:00,  3.75it/s]\n",
      "Running Optimal Phibe of order 2 using Galerkin: 100%|██████████| 80/80 [00:12<00:00,  6.30it/s]\n",
      "Running Optimal BE PI: 100%|██████████| 80/80 [00:15<00:00,  5.17it/s]\n"
     ]
    },
    {
     "name": "stdout",
     "output_type": "stream",
     "text": [
      "running experiment round 29\n"
     ]
    },
    {
     "name": "stderr",
     "output_type": "stream",
     "text": [
      "Running Optimal Phibe of order 1 using Galerkin: 100%|██████████| 80/80 [00:00<00:00, 81.03it/s]\n",
      "Running Optimal Phibe of order 2 using Galerkin: 100%|██████████| 80/80 [00:00<00:00, 93.95it/s]\n",
      "Running Optimal BE PI: 100%|██████████| 80/80 [00:00<00:00, 97.11it/s]\n",
      "Running Optimal Phibe of order 1 using Galerkin: 100%|██████████| 80/80 [00:00<00:00, 96.22it/s]\n",
      "Running Optimal Phibe of order 2 using Galerkin: 100%|██████████| 80/80 [00:00<00:00, 97.04it/s]\n",
      "Running Optimal BE PI: 100%|██████████| 80/80 [00:00<00:00, 97.39it/s]\n",
      "Running Optimal Phibe of order 1 using Galerkin: 100%|██████████| 80/80 [00:00<00:00, 87.74it/s]\n",
      "Running Optimal Phibe of order 2 using Galerkin: 100%|██████████| 80/80 [00:00<00:00, 94.23it/s]\n",
      "Running Optimal BE PI: 100%|██████████| 80/80 [00:00<00:00, 92.39it/s]\n",
      "Running Optimal Phibe of order 1 using Galerkin: 100%|██████████| 80/80 [00:01<00:00, 60.50it/s]\n",
      "Running Optimal Phibe of order 2 using Galerkin: 100%|██████████| 80/80 [00:01<00:00, 75.12it/s]\n",
      "Running Optimal BE PI: 100%|██████████| 80/80 [00:01<00:00, 66.75it/s]\n",
      "Running Optimal Phibe of order 1 using Galerkin: 100%|██████████| 80/80 [00:05<00:00, 15.49it/s]\n",
      "Running Optimal Phibe of order 2 using Galerkin: 100%|██████████| 80/80 [00:03<00:00, 22.20it/s]\n",
      "Running Optimal BE PI: 100%|██████████| 80/80 [00:04<00:00, 18.75it/s]\n",
      "Running Optimal Phibe of order 1 using Galerkin: 100%|██████████| 80/80 [00:21<00:00,  3.67it/s]\n",
      "Running Optimal Phibe of order 2 using Galerkin: 100%|██████████| 80/80 [00:12<00:00,  6.56it/s]\n",
      "Running Optimal BE PI: 100%|██████████| 80/80 [00:15<00:00,  5.11it/s]\n"
     ]
    }
   ],
   "source": [
    "for traj_idx in range(num_traj):\n",
    "    print(f'running experiment round {traj_idx}')\n",
    "    V_exact_dist_final_1st = []\n",
    "    V_exact_dist_final_2nd = []\n",
    "    V_exact_dist_final_RL = []\n",
    "\n",
    "    for batch_size in [5* int(1e2), int(1e3), int(1e4), int(1e5), int(1e6), 5 * int(1e6)]:\n",
    "        b_init = 0.5\n",
    "        c_init = 0.5\n",
    "        Q_init = 0.5 * torch.tensor([1., 1., 1., 1., 1., 1.]).to(device)\n",
    "        _, V_exact_dist_1, _ = phibe_finder_1D_LQR(beta, b_init, Q_init, bd_low_s, bd_upper_s, bd_low_b, bd_upper_b, reward, simp_basis,\n",
    "                                                                                     bases_V, d_bases_V, sec_d_bases_V, bases_Q, num_iter, deterministic, \"Galerkin\", GD_num_iter, int(batch_size / I), int(batch_size / I), I, lr, dt, 1, \n",
    "                                                                                     true_V, info_true)\n",
    "\n",
    "        b_init = 0.5\n",
    "        c_init = 0.5\n",
    "        Q_init = 0.5 * torch.tensor([1., 1., 1., 1., 1., 1.]).to(device)\n",
    "        _, V_exact_dist_2, _ = phibe_finder_1D_LQR(beta, b_init, Q_init, bd_low_s, bd_upper_s, bd_low_b, bd_upper_b, reward, simp_basis,\n",
    "                                                                                     bases_V, d_bases_V, sec_d_bases_V, bases_Q, num_iter, deterministic, \"Galerkin\", GD_num_iter, int(batch_size / I), int(batch_size / I), I, lr, dt, 2, \n",
    "                                                                                     true_V, info_true)\n",
    "\n",
    "        b_init = 0.5\n",
    "        c_init = 0.5\n",
    "        Q_init = 0.5 * torch.tensor([1., 1., 1., 1., 1., 1.]).to(device)\n",
    "        b_val_RL, V_exact_dist_RL = RL_finder_1D_LQR(beta, b_init, bd_low_s, bd_upper_s, bd_low_a, bd_upper_a, reward, False, bases_Q, num_iter, int(batch_size / I), I, dt, true_V, info_true)\n",
    "\n",
    "        V_exact_dist_final_1st.append(torch.tensor(V_exact_dist_1, dtype=torch.float64)[-10:].mean())\n",
    "        V_exact_dist_final_2nd.append(torch.tensor(V_exact_dist_2, dtype=torch.float64)[-10:].mean())\n",
    "        V_exact_dist_final_RL.append(torch.tensor(V_exact_dist_RL, dtype=torch.float64)[-10:].mean())\n",
    "\n",
    "\n",
    "    V_exact_dist_total_2nd[traj_idx, :] = torch.tensor(V_exact_dist_final_2nd, dtype=torch.float64)\n",
    "    V_exact_dist_total_1st[traj_idx, :] = torch.tensor(V_exact_dist_final_1st, dtype=torch.float64)\n",
    "    V_exact_dist_total_RL[traj_idx, :] = torch.tensor(V_exact_dist_final_RL, dtype=torch.float64)"
   ]
  },
  {
   "cell_type": "code",
   "execution_count": 13,
   "metadata": {},
   "outputs": [
    {
     "name": "stderr",
     "output_type": "stream",
     "text": [
      "The PostScript backend does not support transparency; partially transparent artists will be rendered opaque.\n"
     ]
    },
    {
     "data": {
      "image/png": "[encoded data removed]",
      "text/plain": [
       "<Figure size 1200x800 with 1 Axes>"
      ]
     },
     "metadata": {},
     "output_type": "display_data"
    }
   ],
   "source": [
    "trajectories_RL = V_exact_dist_total_RL[:, :]\n",
    "trajectories_2nd = V_exact_dist_total_2nd[:, :]\n",
    "trajectories_1st = V_exact_dist_total_1st[:, :]\n",
    "\n",
    "trajectories_np_RL = trajectories_RL.numpy()\n",
    "trajectories_np_2nd = trajectories_2nd.numpy()\n",
    "trajectories_np_1st = trajectories_1st.numpy()\n",
    "\n",
    "x_values = [500, 1000, 10000, 100000, 1000000, 5 * 1e6]\n",
    "\n",
    "min_trajectory_RL = trajectories_np_RL.min(axis=0)\n",
    "max_trajectory_RL = trajectories_np_RL.max(axis=0)\n",
    "mean_trajectory_RL = trajectories_np_RL.mean(axis=0)\n",
    "\n",
    "min_trajectory_1st = trajectories_np_1st.min(axis=0)\n",
    "max_trajectory_1st = trajectories_np_1st.max(axis=0)\n",
    "mean_trajectory_1st = trajectories_np_1st.mean(axis=0)\n",
    "\n",
    "min_trajectory_2nd = trajectories_np_2nd.min(axis=0)\n",
    "max_trajectory_2nd = trajectories_np_2nd.max(axis=0)\n",
    "mean_trajectory_2nd = trajectories_np_2nd.mean(axis=0)\n",
    "\n",
    "plt.figure(figsize=(12, 8))\n",
    "\n",
    "plt.fill_between(x_values, min_trajectory_2nd, max_trajectory_2nd, color='lightblue', alpha=0.3, label='Min-Max Range of 2nd-order Optimal-PhiBE')\n",
    "plt.fill_between(x_values, min_trajectory_1st, max_trajectory_1st, color='lightcoral', alpha=0.2, label='Min-Max Range of 1st-order Optimal-PhiBE')\n",
    "plt.fill_between(x_values, min_trajectory_RL, max_trajectory_RL, color='green', alpha=0.2, label='Min-Max Range of Optimal-BE')\n",
    "\n",
    "plt.loglog(x_values, mean_trajectory_2nd, color='blue', linewidth=3, label='2nd-order Optimal-PhiBE')\n",
    "plt.loglog(x_values, mean_trajectory_1st, color='red', linewidth=3, label='1st-order Optimal-PhiBE')\n",
    "plt.loglog(x_values, mean_trajectory_RL, color='green', linewidth=3, label='Optimal-BE')\n",
    "\n",
    "plt.xlabel('Number of Data Points (log scale)', fontsize=16)\n",
    "plt.ylabel('Error (log scale)', fontsize=16)\n",
    "\n",
    "plt.legend(fontsize=14)\n",
    "\n",
    "plt.grid(True)\n",
    "\n",
    "plt.xticks(fontsize=14)\n",
    "plt.yticks(fontsize=14)\n",
    "plt.savefig(\"LQR/bs/bs.eps\", format='eps')\n",
    "plt.show()"
   ]
  }
 ],
 "metadata": {
  "kernelspec": {
   "display_name": "test",
   "language": "python",
   "name": "python3"
  },
  "language_info": {
   "codemirror_mode": {
    "name": "ipython",
    "version": 3
   },
   "file_extension": ".py",
   "mimetype": "text/x-python",
   "name": "python",
   "nbconvert_exporter": "python",
   "pygments_lexer": "ipython3",
   "version": "3.9.16"
  }
 },
 "nbformat": 4,
 "nbformat_minor": 2
}
