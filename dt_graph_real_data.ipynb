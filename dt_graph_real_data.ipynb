{
 "cells": [
  {
   "cell_type": "code",
   "execution_count": 5,
   "metadata": {},
   "outputs": [],
   "source": [
    "import torch\n",
    "from utils import LQR_2D_true_solution, LQR_1D_true_solution, true_V_eval_2D\n",
    "from bases import bases_poly, d_bases_poly, sec_bases_poly, bases_2d, bases_poly_2D_simp, d_bases_poly_2D_simp, sec_d_bases_poly_2D_simp, bases_poly_2D_s_a_simp\n",
    "from main_phibe import phibe_finder_1D_LQR, phibe_finder_2D_LQR\n",
    "from main_RL import RL_finder_1D_LQR, RL_finder_2D_LQR\n",
    "import matplotlib.pyplot as plt\n",
    "from math import sqrt\n",
    "import numpy as np"
   ]
  },
  {
   "cell_type": "code",
   "execution_count": 6,
   "metadata": {},
   "outputs": [],
   "source": [
    "torch.set_default_dtype(torch.float64)\n",
    "device = torch.device(\"cpu\")"
   ]
  },
  {
   "cell_type": "code",
   "execution_count": 7,
   "metadata": {},
   "outputs": [],
   "source": [
    "def reward(s, a):\n",
    "    return - Q * (s**2) - R * (a**2)"
   ]
  },
  {
   "cell_type": "code",
   "execution_count": 8,
   "metadata": {},
   "outputs": [
    {
     "name": "stdout",
     "output_type": "stream",
     "text": [
      "-0.16227766016837952 tensor([-0.0000,  0.0000, -0.3246])\n"
     ]
    }
   ],
   "source": [
    "A = -1.0\n",
    "B = 0.5\n",
    "sig = 0.\n",
    "R = 1\n",
    "Q = 1\n",
    "S = 0\n",
    "beta = 1\n",
    "info_true = {\"A\":A, \"B\":B, \"sig\":sig, \"R\":R, \"Q\":Q,}\n",
    "true_b, True_V = LQR_1D_true_solution(A, B, Q, R, sig, beta)\n",
    "print(true_b, True_V)"
   ]
  },
  {
   "cell_type": "code",
   "execution_count": 9,
   "metadata": {},
   "outputs": [],
   "source": [
    "b_init = 0.5\n",
    "c_init = 0.5\n",
    "Q_init = 0.5 * torch.tensor([1., 1., 1., 1.]).to(device)"
   ]
  },
  {
   "cell_type": "code",
   "execution_count": 10,
   "metadata": {},
   "outputs": [],
   "source": [
    "num_traj = 30"
   ]
  },
  {
   "cell_type": "code",
   "execution_count": 11,
   "metadata": {},
   "outputs": [],
   "source": [
    "V_exact_dist_total_1st = torch.zeros(num_traj, 6)\n",
    "V_exact_dist_total_2nd = torch.zeros(num_traj, 6)\n",
    "V_exact_dist_total_RL = torch.zeros(num_traj, 6)"
   ]
  },
  {
   "cell_type": "code",
   "execution_count": 12,
   "metadata": {},
   "outputs": [],
   "source": [
    "bd_low_s = -1.\n",
    "bd_upper_s = 1.\n",
    "bd_low_b = -1.\n",
    "bd_upper_b = 1.\n",
    "bd_low_c = -1.\n",
    "bd_upper_c = 1.\n",
    "bd_low_a = -1.\n",
    "bd_upper_a = 1.\n",
    "num_iter = 30\n",
    "GD_num_iter = 30\n",
    "I = 4\n",
    "lr = 1\n",
    "batch_size = int(1e6)\n",
    "reward = reward\n",
    "bases_V = bases_poly\n",
    "d_bases_V = d_bases_poly\n",
    "sec_d_bases_V = sec_bases_poly\n",
    "bases_Q = bases_2d\n",
    "true_V=True_V\n",
    "simp_basis = False\n",
    "deterministic = True"
   ]
  },
  {
   "cell_type": "code",
   "execution_count": 13,
   "metadata": {},
   "outputs": [
    {
     "name": "stdout",
     "output_type": "stream",
     "text": [
      "running experiment round 0\n"
     ]
    },
    {
     "name": "stderr",
     "output_type": "stream",
     "text": [
      "Running Optimal Phibe of order 1 using Galerkin: 100%|██████████| 30/30 [00:01<00:00, 18.30it/s]\n",
      "Running Optimal Phibe of order 2 using Galerkin: 100%|██████████| 30/30 [00:01<00:00, 27.64it/s]\n",
      "Running Optimal BE PI: 100%|██████████| 30/30 [00:01<00:00, 26.87it/s]\n",
      "Running Optimal Phibe of order 1 using Galerkin: 100%|██████████| 30/30 [00:01<00:00, 20.65it/s]\n",
      "Running Optimal Phibe of order 2 using Galerkin: 100%|██████████| 30/30 [00:00<00:00, 31.46it/s]\n",
      "Running Optimal BE PI: 100%|██████████| 30/30 [00:01<00:00, 27.46it/s]\n",
      "Running Optimal Phibe of order 1 using Galerkin: 100%|██████████| 30/30 [00:01<00:00, 20.82it/s]\n",
      "Running Optimal Phibe of order 2 using Galerkin: 100%|██████████| 30/30 [00:00<00:00, 31.64it/s]\n",
      "Running Optimal BE PI: 100%|██████████| 30/30 [00:01<00:00, 25.89it/s]\n",
      "Running Optimal Phibe of order 1 using Galerkin: 100%|██████████| 30/30 [00:01<00:00, 21.24it/s]\n",
      "Running Optimal Phibe of order 2 using Galerkin: 100%|██████████| 30/30 [00:00<00:00, 31.87it/s]\n",
      "Running Optimal BE PI: 100%|██████████| 30/30 [00:01<00:00, 25.16it/s]\n",
      "Running Optimal Phibe of order 1 using Galerkin: 100%|██████████| 30/30 [00:01<00:00, 21.04it/s]\n",
      "Running Optimal Phibe of order 2 using Galerkin: 100%|██████████| 30/30 [00:00<00:00, 31.36it/s]\n",
      "Running Optimal BE PI: 100%|██████████| 30/30 [00:01<00:00, 25.44it/s]\n",
      "Running Optimal Phibe of order 1 using Galerkin: 100%|██████████| 30/30 [00:01<00:00, 21.05it/s]\n",
      "Running Optimal Phibe of order 2 using Galerkin: 100%|██████████| 30/30 [00:00<00:00, 31.59it/s]\n",
      "Running Optimal BE PI: 100%|██████████| 30/30 [00:01<00:00, 26.67it/s]\n"
     ]
    },
    {
     "name": "stdout",
     "output_type": "stream",
     "text": [
      "running experiment round 1\n"
     ]
    },
    {
     "name": "stderr",
     "output_type": "stream",
     "text": [
      "Running Optimal Phibe of order 1 using Galerkin: 100%|██████████| 30/30 [00:01<00:00, 20.79it/s]\n",
      "Running Optimal Phibe of order 2 using Galerkin: 100%|██████████| 30/30 [00:00<00:00, 31.91it/s]\n",
      "Running Optimal BE PI: 100%|██████████| 30/30 [00:01<00:00, 24.87it/s]\n",
      "Running Optimal Phibe of order 1 using Galerkin: 100%|██████████| 30/30 [00:01<00:00, 21.39it/s]\n",
      "Running Optimal Phibe of order 2 using Galerkin: 100%|██████████| 30/30 [00:00<00:00, 32.24it/s]\n",
      "Running Optimal BE PI: 100%|██████████| 30/30 [00:01<00:00, 27.16it/s]\n",
      "Running Optimal Phibe of order 1 using Galerkin: 100%|██████████| 30/30 [00:01<00:00, 21.11it/s]\n",
      "Running Optimal Phibe of order 2 using Galerkin: 100%|██████████| 30/30 [00:00<00:00, 32.77it/s]\n",
      "Running Optimal BE PI: 100%|██████████| 30/30 [00:01<00:00, 27.30it/s]\n",
      "Running Optimal Phibe of order 1 using Galerkin: 100%|██████████| 30/30 [00:01<00:00, 20.26it/s]\n",
      "Running Optimal Phibe of order 2 using Galerkin: 100%|██████████| 30/30 [00:00<00:00, 30.45it/s]\n",
      "Running Optimal BE PI: 100%|██████████| 30/30 [00:01<00:00, 27.17it/s]\n",
      "Running Optimal Phibe of order 1 using Galerkin: 100%|██████████| 30/30 [00:01<00:00, 17.22it/s]\n",
      "Running Optimal Phibe of order 2 using Galerkin: 100%|██████████| 30/30 [00:00<00:00, 30.88it/s]\n",
      "Running Optimal BE PI: 100%|██████████| 30/30 [00:01<00:00, 26.41it/s]\n",
      "Running Optimal Phibe of order 1 using Galerkin: 100%|██████████| 30/30 [00:01<00:00, 19.31it/s]\n",
      "Running Optimal Phibe of order 2 using Galerkin: 100%|██████████| 30/30 [00:00<00:00, 32.87it/s]\n",
      "Running Optimal BE PI: 100%|██████████| 30/30 [00:01<00:00, 27.43it/s]\n"
     ]
    },
    {
     "name": "stdout",
     "output_type": "stream",
     "text": [
      "running experiment round 2\n"
     ]
    },
    {
     "name": "stderr",
     "output_type": "stream",
     "text": [
      "Running Optimal Phibe of order 1 using Galerkin: 100%|██████████| 30/30 [00:01<00:00, 20.07it/s]\n",
      "Running Optimal Phibe of order 2 using Galerkin: 100%|██████████| 30/30 [00:00<00:00, 30.44it/s]\n",
      "Running Optimal BE PI: 100%|██████████| 30/30 [00:01<00:00, 25.73it/s]\n",
      "Running Optimal Phibe of order 1 using Galerkin: 100%|██████████| 30/30 [00:01<00:00, 19.30it/s]\n",
      "Running Optimal Phibe of order 2 using Galerkin: 100%|██████████| 30/30 [00:00<00:00, 30.58it/s]\n",
      "Running Optimal BE PI: 100%|██████████| 30/30 [00:01<00:00, 26.75it/s]\n",
      "Running Optimal Phibe of order 1 using Galerkin: 100%|██████████| 30/30 [00:01<00:00, 20.40it/s]\n",
      "Running Optimal Phibe of order 2 using Galerkin: 100%|██████████| 30/30 [00:00<00:00, 31.02it/s]\n",
      "Running Optimal BE PI: 100%|██████████| 30/30 [00:01<00:00, 26.47it/s]\n",
      "Running Optimal Phibe of order 1 using Galerkin: 100%|██████████| 30/30 [00:01<00:00, 19.04it/s]\n",
      "Running Optimal Phibe of order 2 using Galerkin: 100%|██████████| 30/30 [00:00<00:00, 30.67it/s]\n",
      "Running Optimal BE PI: 100%|██████████| 30/30 [00:01<00:00, 24.84it/s]\n",
      "Running Optimal Phibe of order 1 using Galerkin: 100%|██████████| 30/30 [00:01<00:00, 19.69it/s]\n",
      "Running Optimal Phibe of order 2 using Galerkin: 100%|██████████| 30/30 [00:00<00:00, 32.16it/s]\n",
      "Running Optimal BE PI: 100%|██████████| 30/30 [00:01<00:00, 24.95it/s]\n",
      "Running Optimal Phibe of order 1 using Galerkin: 100%|██████████| 30/30 [00:01<00:00, 18.21it/s]\n",
      "Running Optimal Phibe of order 2 using Galerkin: 100%|██████████| 30/30 [00:00<00:00, 32.05it/s]\n",
      "Running Optimal BE PI: 100%|██████████| 30/30 [00:01<00:00, 27.01it/s]\n"
     ]
    },
    {
     "name": "stdout",
     "output_type": "stream",
     "text": [
      "running experiment round 3\n"
     ]
    },
    {
     "name": "stderr",
     "output_type": "stream",
     "text": [
      "Running Optimal Phibe of order 1 using Galerkin: 100%|██████████| 30/30 [00:01<00:00, 20.30it/s]\n",
      "Running Optimal Phibe of order 2 using Galerkin: 100%|██████████| 30/30 [00:00<00:00, 31.14it/s]\n",
      "Running Optimal BE PI: 100%|██████████| 30/30 [00:01<00:00, 25.94it/s]\n",
      "Running Optimal Phibe of order 1 using Galerkin: 100%|██████████| 30/30 [00:01<00:00, 19.30it/s]\n",
      "Running Optimal Phibe of order 2 using Galerkin: 100%|██████████| 30/30 [00:00<00:00, 31.15it/s]\n",
      "Running Optimal BE PI: 100%|██████████| 30/30 [00:01<00:00, 26.87it/s]\n",
      "Running Optimal Phibe of order 1 using Galerkin: 100%|██████████| 30/30 [00:01<00:00, 20.60it/s]\n",
      "Running Optimal Phibe of order 2 using Galerkin: 100%|██████████| 30/30 [00:00<00:00, 31.25it/s]\n",
      "Running Optimal BE PI: 100%|██████████| 30/30 [00:01<00:00, 26.65it/s]\n",
      "Running Optimal Phibe of order 1 using Galerkin: 100%|██████████| 30/30 [00:01<00:00, 20.88it/s]\n",
      "Running Optimal Phibe of order 2 using Galerkin: 100%|██████████| 30/30 [00:00<00:00, 30.35it/s]\n",
      "Running Optimal BE PI: 100%|██████████| 30/30 [00:01<00:00, 26.59it/s]\n",
      "Running Optimal Phibe of order 1 using Galerkin: 100%|██████████| 30/30 [00:01<00:00, 20.51it/s]\n",
      "Running Optimal Phibe of order 2 using Galerkin: 100%|██████████| 30/30 [00:00<00:00, 30.68it/s]\n",
      "Running Optimal BE PI: 100%|██████████| 30/30 [00:01<00:00, 26.72it/s]\n",
      "Running Optimal Phibe of order 1 using Galerkin: 100%|██████████| 30/30 [00:01<00:00, 19.53it/s]\n",
      "Running Optimal Phibe of order 2 using Galerkin: 100%|██████████| 30/30 [00:00<00:00, 31.09it/s]\n",
      "Running Optimal BE PI: 100%|██████████| 30/30 [00:01<00:00, 25.50it/s]\n"
     ]
    },
    {
     "name": "stdout",
     "output_type": "stream",
     "text": [
      "running experiment round 4\n"
     ]
    },
    {
     "name": "stderr",
     "output_type": "stream",
     "text": [
      "Running Optimal Phibe of order 1 using Galerkin: 100%|██████████| 30/30 [00:01<00:00, 21.21it/s]\n",
      "Running Optimal Phibe of order 2 using Galerkin: 100%|██████████| 30/30 [00:00<00:00, 30.94it/s]\n",
      "Running Optimal BE PI: 100%|██████████| 30/30 [00:01<00:00, 27.39it/s]\n",
      "Running Optimal Phibe of order 1 using Galerkin: 100%|██████████| 30/30 [00:01<00:00, 20.95it/s]\n",
      "Running Optimal Phibe of order 2 using Galerkin: 100%|██████████| 30/30 [00:00<00:00, 30.46it/s]\n",
      "Running Optimal BE PI: 100%|██████████| 30/30 [00:01<00:00, 25.97it/s]\n",
      "Running Optimal Phibe of order 1 using Galerkin: 100%|██████████| 30/30 [00:01<00:00, 20.83it/s]\n",
      "Running Optimal Phibe of order 2 using Galerkin: 100%|██████████| 30/30 [00:00<00:00, 30.46it/s]\n",
      "Running Optimal BE PI: 100%|██████████| 30/30 [00:01<00:00, 21.22it/s]\n",
      "Running Optimal Phibe of order 1 using Galerkin: 100%|██████████| 30/30 [00:01<00:00, 21.29it/s]\n",
      "Running Optimal Phibe of order 2 using Galerkin: 100%|██████████| 30/30 [00:00<00:00, 33.73it/s]\n",
      "Running Optimal BE PI: 100%|██████████| 30/30 [00:01<00:00, 25.86it/s]\n",
      "Running Optimal Phibe of order 1 using Galerkin: 100%|██████████| 30/30 [00:01<00:00, 21.37it/s]\n",
      "Running Optimal Phibe of order 2 using Galerkin: 100%|██████████| 30/30 [00:00<00:00, 32.28it/s]\n",
      "Running Optimal BE PI: 100%|██████████| 30/30 [00:01<00:00, 28.00it/s]\n",
      "Running Optimal Phibe of order 1 using Galerkin: 100%|██████████| 30/30 [00:01<00:00, 21.83it/s]\n",
      "Running Optimal Phibe of order 2 using Galerkin: 100%|██████████| 30/30 [00:00<00:00, 31.96it/s]\n",
      "Running Optimal BE PI: 100%|██████████| 30/30 [00:01<00:00, 26.24it/s]\n"
     ]
    },
    {
     "name": "stdout",
     "output_type": "stream",
     "text": [
      "running experiment round 5\n"
     ]
    },
    {
     "name": "stderr",
     "output_type": "stream",
     "text": [
      "Running Optimal Phibe of order 1 using Galerkin: 100%|██████████| 30/30 [00:01<00:00, 20.37it/s]\n",
      "Running Optimal Phibe of order 2 using Galerkin: 100%|██████████| 30/30 [00:00<00:00, 30.02it/s]\n",
      "Running Optimal BE PI: 100%|██████████| 30/30 [00:01<00:00, 27.23it/s]\n",
      "Running Optimal Phibe of order 1 using Galerkin: 100%|██████████| 30/30 [00:01<00:00, 21.62it/s]\n",
      "Running Optimal Phibe of order 2 using Galerkin: 100%|██████████| 30/30 [00:00<00:00, 33.79it/s]\n",
      "Running Optimal BE PI: 100%|██████████| 30/30 [00:01<00:00, 28.18it/s]\n",
      "Running Optimal Phibe of order 1 using Galerkin: 100%|██████████| 30/30 [00:01<00:00, 20.96it/s]\n",
      "Running Optimal Phibe of order 2 using Galerkin: 100%|██████████| 30/30 [00:00<00:00, 32.33it/s]\n",
      "Running Optimal BE PI: 100%|██████████| 30/30 [00:01<00:00, 27.98it/s]\n",
      "Running Optimal Phibe of order 1 using Galerkin: 100%|██████████| 30/30 [00:01<00:00, 21.33it/s]\n",
      "Running Optimal Phibe of order 2 using Galerkin: 100%|██████████| 30/30 [00:00<00:00, 32.54it/s]\n",
      "Running Optimal BE PI: 100%|██████████| 30/30 [00:01<00:00, 28.10it/s]\n",
      "Running Optimal Phibe of order 1 using Galerkin: 100%|██████████| 30/30 [00:01<00:00, 21.82it/s]\n",
      "Running Optimal Phibe of order 2 using Galerkin: 100%|██████████| 30/30 [00:00<00:00, 31.95it/s]\n",
      "Running Optimal BE PI: 100%|██████████| 30/30 [00:01<00:00, 27.37it/s]\n",
      "Running Optimal Phibe of order 1 using Galerkin: 100%|██████████| 30/30 [00:01<00:00, 21.48it/s]\n",
      "Running Optimal Phibe of order 2 using Galerkin: 100%|██████████| 30/30 [00:00<00:00, 33.88it/s]\n",
      "Running Optimal BE PI: 100%|██████████| 30/30 [00:01<00:00, 27.88it/s]\n"
     ]
    },
    {
     "name": "stdout",
     "output_type": "stream",
     "text": [
      "running experiment round 6\n"
     ]
    },
    {
     "name": "stderr",
     "output_type": "stream",
     "text": [
      "Running Optimal Phibe of order 1 using Galerkin: 100%|██████████| 30/30 [00:01<00:00, 21.76it/s]\n",
      "Running Optimal Phibe of order 2 using Galerkin: 100%|██████████| 30/30 [00:00<00:00, 30.83it/s]\n",
      "Running Optimal BE PI: 100%|██████████| 30/30 [00:01<00:00, 26.18it/s]\n",
      "Running Optimal Phibe of order 1 using Galerkin: 100%|██████████| 30/30 [00:01<00:00, 17.28it/s]\n",
      "Running Optimal Phibe of order 2 using Galerkin: 100%|██████████| 30/30 [00:01<00:00, 26.80it/s]\n",
      "Running Optimal BE PI: 100%|██████████| 30/30 [00:01<00:00, 22.18it/s]\n",
      "Running Optimal Phibe of order 1 using Galerkin: 100%|██████████| 30/30 [00:01<00:00, 16.87it/s]\n",
      "Running Optimal Phibe of order 2 using Galerkin: 100%|██████████| 30/30 [00:01<00:00, 24.68it/s]\n",
      "Running Optimal BE PI: 100%|██████████| 30/30 [00:01<00:00, 27.03it/s]\n",
      "Running Optimal Phibe of order 1 using Galerkin: 100%|██████████| 30/30 [00:01<00:00, 20.79it/s]\n",
      "Running Optimal Phibe of order 2 using Galerkin: 100%|██████████| 30/30 [00:00<00:00, 30.69it/s]\n",
      "Running Optimal BE PI: 100%|██████████| 30/30 [00:01<00:00, 27.03it/s]\n",
      "Running Optimal Phibe of order 1 using Galerkin: 100%|██████████| 30/30 [00:01<00:00, 21.32it/s]\n",
      "Running Optimal Phibe of order 2 using Galerkin: 100%|██████████| 30/30 [00:00<00:00, 33.54it/s]\n",
      "Running Optimal BE PI: 100%|██████████| 30/30 [00:01<00:00, 27.48it/s]\n",
      "Running Optimal Phibe of order 1 using Galerkin: 100%|██████████| 30/30 [00:01<00:00, 21.63it/s]\n",
      "Running Optimal Phibe of order 2 using Galerkin: 100%|██████████| 30/30 [00:00<00:00, 31.64it/s]\n",
      "Running Optimal BE PI: 100%|██████████| 30/30 [00:01<00:00, 26.25it/s]\n"
     ]
    },
    {
     "name": "stdout",
     "output_type": "stream",
     "text": [
      "running experiment round 7\n"
     ]
    },
    {
     "name": "stderr",
     "output_type": "stream",
     "text": [
      "Running Optimal Phibe of order 1 using Galerkin: 100%|██████████| 30/30 [00:01<00:00, 20.77it/s]\n",
      "Running Optimal Phibe of order 2 using Galerkin: 100%|██████████| 30/30 [00:00<00:00, 32.92it/s]\n",
      "Running Optimal BE PI: 100%|██████████| 30/30 [00:01<00:00, 28.07it/s]\n",
      "Running Optimal Phibe of order 1 using Galerkin: 100%|██████████| 30/30 [00:01<00:00, 21.29it/s]\n",
      "Running Optimal Phibe of order 2 using Galerkin: 100%|██████████| 30/30 [00:01<00:00, 23.82it/s]\n",
      "Running Optimal BE PI: 100%|██████████| 30/30 [00:01<00:00, 24.73it/s]\n",
      "Running Optimal Phibe of order 1 using Galerkin: 100%|██████████| 30/30 [00:01<00:00, 21.08it/s]\n",
      "Running Optimal Phibe of order 2 using Galerkin: 100%|██████████| 30/30 [00:00<00:00, 32.78it/s]\n",
      "Running Optimal BE PI: 100%|██████████| 30/30 [00:01<00:00, 27.36it/s]\n",
      "Running Optimal Phibe of order 1 using Galerkin: 100%|██████████| 30/30 [00:01<00:00, 21.19it/s]\n",
      "Running Optimal Phibe of order 2 using Galerkin: 100%|██████████| 30/30 [00:00<00:00, 31.85it/s]\n",
      "Running Optimal BE PI: 100%|██████████| 30/30 [00:01<00:00, 28.01it/s]\n",
      "Running Optimal Phibe of order 1 using Galerkin: 100%|██████████| 30/30 [00:01<00:00, 20.23it/s]\n",
      "Running Optimal Phibe of order 2 using Galerkin: 100%|██████████| 30/30 [00:00<00:00, 32.05it/s]\n",
      "Running Optimal BE PI: 100%|██████████| 30/30 [00:01<00:00, 27.31it/s]\n",
      "Running Optimal Phibe of order 1 using Galerkin: 100%|██████████| 30/30 [00:01<00:00, 19.71it/s]\n",
      "Running Optimal Phibe of order 2 using Galerkin: 100%|██████████| 30/30 [00:00<00:00, 31.70it/s]\n",
      "Running Optimal BE PI: 100%|██████████| 30/30 [00:01<00:00, 27.56it/s]\n"
     ]
    },
    {
     "name": "stdout",
     "output_type": "stream",
     "text": [
      "running experiment round 8\n"
     ]
    },
    {
     "name": "stderr",
     "output_type": "stream",
     "text": [
      "Running Optimal Phibe of order 1 using Galerkin: 100%|██████████| 30/30 [00:01<00:00, 19.70it/s]\n",
      "Running Optimal Phibe of order 2 using Galerkin: 100%|██████████| 30/30 [00:00<00:00, 32.31it/s]\n",
      "Running Optimal BE PI: 100%|██████████| 30/30 [00:01<00:00, 27.33it/s]\n",
      "Running Optimal Phibe of order 1 using Galerkin: 100%|██████████| 30/30 [00:01<00:00, 20.71it/s]\n",
      "Running Optimal Phibe of order 2 using Galerkin: 100%|██████████| 30/30 [00:00<00:00, 32.70it/s]\n",
      "Running Optimal BE PI: 100%|██████████| 30/30 [00:01<00:00, 27.46it/s]\n",
      "Running Optimal Phibe of order 1 using Galerkin: 100%|██████████| 30/30 [00:01<00:00, 20.47it/s]\n",
      "Running Optimal Phibe of order 2 using Galerkin: 100%|██████████| 30/30 [00:01<00:00, 29.32it/s]\n",
      "Running Optimal BE PI: 100%|██████████| 30/30 [00:01<00:00, 26.80it/s]\n",
      "Running Optimal Phibe of order 1 using Galerkin: 100%|██████████| 30/30 [00:01<00:00, 20.96it/s]\n",
      "Running Optimal Phibe of order 2 using Galerkin: 100%|██████████| 30/30 [00:00<00:00, 31.85it/s]\n",
      "Running Optimal BE PI: 100%|██████████| 30/30 [00:01<00:00, 27.74it/s]\n",
      "Running Optimal Phibe of order 1 using Galerkin: 100%|██████████| 30/30 [00:01<00:00, 21.39it/s]\n",
      "Running Optimal Phibe of order 2 using Galerkin: 100%|██████████| 30/30 [00:00<00:00, 31.51it/s]\n",
      "Running Optimal BE PI: 100%|██████████| 30/30 [00:01<00:00, 27.48it/s]\n",
      "Running Optimal Phibe of order 1 using Galerkin: 100%|██████████| 30/30 [00:01<00:00, 19.56it/s]\n",
      "Running Optimal Phibe of order 2 using Galerkin: 100%|██████████| 30/30 [00:00<00:00, 32.53it/s]\n",
      "Running Optimal BE PI: 100%|██████████| 30/30 [00:01<00:00, 27.38it/s]\n"
     ]
    },
    {
     "name": "stdout",
     "output_type": "stream",
     "text": [
      "running experiment round 9\n"
     ]
    },
    {
     "name": "stderr",
     "output_type": "stream",
     "text": [
      "Running Optimal Phibe of order 1 using Galerkin: 100%|██████████| 30/30 [00:01<00:00, 21.06it/s]\n",
      "Running Optimal Phibe of order 2 using Galerkin: 100%|██████████| 30/30 [00:00<00:00, 32.43it/s]\n",
      "Running Optimal BE PI: 100%|██████████| 30/30 [00:01<00:00, 25.99it/s]\n",
      "Running Optimal Phibe of order 1 using Galerkin: 100%|██████████| 30/30 [00:01<00:00, 20.98it/s]\n",
      "Running Optimal Phibe of order 2 using Galerkin: 100%|██████████| 30/30 [00:00<00:00, 32.64it/s]\n",
      "Running Optimal BE PI: 100%|██████████| 30/30 [00:01<00:00, 27.70it/s]\n",
      "Running Optimal Phibe of order 1 using Galerkin: 100%|██████████| 30/30 [00:01<00:00, 19.34it/s]\n",
      "Running Optimal Phibe of order 2 using Galerkin: 100%|██████████| 30/30 [00:00<00:00, 32.45it/s]\n",
      "Running Optimal BE PI: 100%|██████████| 30/30 [00:01<00:00, 27.31it/s]\n",
      "Running Optimal Phibe of order 1 using Galerkin: 100%|██████████| 30/30 [00:01<00:00, 20.21it/s]\n",
      "Running Optimal Phibe of order 2 using Galerkin: 100%|██████████| 30/30 [00:00<00:00, 32.29it/s]\n",
      "Running Optimal BE PI: 100%|██████████| 30/30 [00:01<00:00, 27.58it/s]\n",
      "Running Optimal Phibe of order 1 using Galerkin: 100%|██████████| 30/30 [00:01<00:00, 21.17it/s]\n",
      "Running Optimal Phibe of order 2 using Galerkin: 100%|██████████| 30/30 [00:00<00:00, 31.89it/s]\n",
      "Running Optimal BE PI: 100%|██████████| 30/30 [00:01<00:00, 27.57it/s]\n",
      "Running Optimal Phibe of order 1 using Galerkin: 100%|██████████| 30/30 [00:01<00:00, 19.58it/s]\n",
      "Running Optimal Phibe of order 2 using Galerkin: 100%|██████████| 30/30 [00:00<00:00, 32.16it/s]\n",
      "Running Optimal BE PI: 100%|██████████| 30/30 [00:01<00:00, 27.66it/s]\n"
     ]
    },
    {
     "name": "stdout",
     "output_type": "stream",
     "text": [
      "running experiment round 10\n"
     ]
    },
    {
     "name": "stderr",
     "output_type": "stream",
     "text": [
      "Running Optimal Phibe of order 1 using Galerkin: 100%|██████████| 30/30 [00:01<00:00, 16.81it/s]\n",
      "Running Optimal Phibe of order 2 using Galerkin: 100%|██████████| 30/30 [00:00<00:00, 31.34it/s]\n",
      "Running Optimal BE PI: 100%|██████████| 30/30 [00:01<00:00, 27.48it/s]\n",
      "Running Optimal Phibe of order 1 using Galerkin: 100%|██████████| 30/30 [00:01<00:00, 21.31it/s]\n",
      "Running Optimal Phibe of order 2 using Galerkin: 100%|██████████| 30/30 [00:00<00:00, 30.49it/s]\n",
      "Running Optimal BE PI: 100%|██████████| 30/30 [00:01<00:00, 26.85it/s]\n",
      "Running Optimal Phibe of order 1 using Galerkin: 100%|██████████| 30/30 [00:01<00:00, 20.81it/s]\n",
      "Running Optimal Phibe of order 2 using Galerkin: 100%|██████████| 30/30 [00:00<00:00, 31.81it/s]\n",
      "Running Optimal BE PI: 100%|██████████| 30/30 [00:01<00:00, 26.84it/s]\n",
      "Running Optimal Phibe of order 1 using Galerkin: 100%|██████████| 30/30 [00:01<00:00, 20.16it/s]\n",
      "Running Optimal Phibe of order 2 using Galerkin: 100%|██████████| 30/30 [00:00<00:00, 30.42it/s]\n",
      "Running Optimal BE PI: 100%|██████████| 30/30 [00:01<00:00, 26.67it/s]\n",
      "Running Optimal Phibe of order 1 using Galerkin: 100%|██████████| 30/30 [00:01<00:00, 20.19it/s]\n",
      "Running Optimal Phibe of order 2 using Galerkin: 100%|██████████| 30/30 [00:00<00:00, 32.24it/s]\n",
      "Running Optimal BE PI: 100%|██████████| 30/30 [00:01<00:00, 27.28it/s]\n",
      "Running Optimal Phibe of order 1 using Galerkin: 100%|██████████| 30/30 [00:01<00:00, 20.98it/s]\n",
      "Running Optimal Phibe of order 2 using Galerkin: 100%|██████████| 30/30 [00:00<00:00, 30.95it/s]\n",
      "Running Optimal BE PI: 100%|██████████| 30/30 [00:01<00:00, 25.79it/s]\n"
     ]
    },
    {
     "name": "stdout",
     "output_type": "stream",
     "text": [
      "running experiment round 11\n"
     ]
    },
    {
     "name": "stderr",
     "output_type": "stream",
     "text": [
      "Running Optimal Phibe of order 1 using Galerkin: 100%|██████████| 30/30 [00:01<00:00, 18.15it/s]\n",
      "Running Optimal Phibe of order 2 using Galerkin: 100%|██████████| 30/30 [00:00<00:00, 32.14it/s]\n",
      "Running Optimal BE PI: 100%|██████████| 30/30 [00:01<00:00, 26.90it/s]\n",
      "Running Optimal Phibe of order 1 using Galerkin: 100%|██████████| 30/30 [00:01<00:00, 20.47it/s]\n",
      "Running Optimal Phibe of order 2 using Galerkin: 100%|██████████| 30/30 [00:00<00:00, 30.88it/s]\n",
      "Running Optimal BE PI: 100%|██████████| 30/30 [00:01<00:00, 24.17it/s]\n",
      "Running Optimal Phibe of order 1 using Galerkin: 100%|██████████| 30/30 [00:01<00:00, 20.71it/s]\n",
      "Running Optimal Phibe of order 2 using Galerkin: 100%|██████████| 30/30 [00:00<00:00, 30.41it/s]\n",
      "Running Optimal BE PI: 100%|██████████| 30/30 [00:01<00:00, 26.43it/s]\n",
      "Running Optimal Phibe of order 1 using Galerkin: 100%|██████████| 30/30 [00:01<00:00, 20.64it/s]\n",
      "Running Optimal Phibe of order 2 using Galerkin: 100%|██████████| 30/30 [00:00<00:00, 31.71it/s]\n",
      "Running Optimal BE PI: 100%|██████████| 30/30 [00:01<00:00, 25.32it/s]\n",
      "Running Optimal Phibe of order 1 using Galerkin: 100%|██████████| 30/30 [00:01<00:00, 20.70it/s]\n",
      "Running Optimal Phibe of order 2 using Galerkin: 100%|██████████| 30/30 [00:00<00:00, 32.53it/s]\n",
      "Running Optimal BE PI: 100%|██████████| 30/30 [00:01<00:00, 27.10it/s]\n",
      "Running Optimal Phibe of order 1 using Galerkin: 100%|██████████| 30/30 [00:01<00:00, 20.76it/s]\n",
      "Running Optimal Phibe of order 2 using Galerkin: 100%|██████████| 30/30 [00:00<00:00, 31.52it/s]\n",
      "Running Optimal BE PI: 100%|██████████| 30/30 [00:01<00:00, 27.06it/s]\n"
     ]
    },
    {
     "name": "stdout",
     "output_type": "stream",
     "text": [
      "running experiment round 12\n"
     ]
    },
    {
     "name": "stderr",
     "output_type": "stream",
     "text": [
      "Running Optimal Phibe of order 1 using Galerkin: 100%|██████████| 30/30 [00:01<00:00, 19.93it/s]\n",
      "Running Optimal Phibe of order 2 using Galerkin: 100%|██████████| 30/30 [00:00<00:00, 32.24it/s]\n",
      "Running Optimal BE PI: 100%|██████████| 30/30 [00:01<00:00, 27.32it/s]\n",
      "Running Optimal Phibe of order 1 using Galerkin: 100%|██████████| 30/30 [00:01<00:00, 20.92it/s]\n",
      "Running Optimal Phibe of order 2 using Galerkin: 100%|██████████| 30/30 [00:00<00:00, 32.28it/s]\n",
      "Running Optimal BE PI: 100%|██████████| 30/30 [00:01<00:00, 27.32it/s]\n",
      "Running Optimal Phibe of order 1 using Galerkin: 100%|██████████| 30/30 [00:01<00:00, 19.40it/s]\n",
      "Running Optimal Phibe of order 2 using Galerkin: 100%|██████████| 30/30 [00:00<00:00, 32.08it/s]\n",
      "Running Optimal BE PI: 100%|██████████| 30/30 [00:01<00:00, 26.13it/s]\n",
      "Running Optimal Phibe of order 1 using Galerkin: 100%|██████████| 30/30 [00:01<00:00, 19.88it/s]\n",
      "Running Optimal Phibe of order 2 using Galerkin: 100%|██████████| 30/30 [00:00<00:00, 31.88it/s]\n",
      "Running Optimal BE PI: 100%|██████████| 30/30 [00:01<00:00, 27.18it/s]\n",
      "Running Optimal Phibe of order 1 using Galerkin: 100%|██████████| 30/30 [00:01<00:00, 20.71it/s]\n",
      "Running Optimal Phibe of order 2 using Galerkin: 100%|██████████| 30/30 [00:00<00:00, 30.96it/s]\n",
      "Running Optimal BE PI: 100%|██████████| 30/30 [00:01<00:00, 18.42it/s]\n",
      "Running Optimal Phibe of order 1 using Galerkin: 100%|██████████| 30/30 [00:01<00:00, 20.64it/s]\n",
      "Running Optimal Phibe of order 2 using Galerkin: 100%|██████████| 30/30 [00:00<00:00, 32.72it/s]\n",
      "Running Optimal BE PI: 100%|██████████| 30/30 [00:01<00:00, 26.77it/s]\n"
     ]
    },
    {
     "name": "stdout",
     "output_type": "stream",
     "text": [
      "running experiment round 13\n"
     ]
    },
    {
     "name": "stderr",
     "output_type": "stream",
     "text": [
      "Running Optimal Phibe of order 1 using Galerkin: 100%|██████████| 30/30 [00:01<00:00, 20.77it/s]\n",
      "Running Optimal Phibe of order 2 using Galerkin: 100%|██████████| 30/30 [00:01<00:00, 29.12it/s]\n",
      "Running Optimal BE PI: 100%|██████████| 30/30 [00:01<00:00, 26.65it/s]\n",
      "Running Optimal Phibe of order 1 using Galerkin: 100%|██████████| 30/30 [00:01<00:00, 20.91it/s]\n",
      "Running Optimal Phibe of order 2 using Galerkin: 100%|██████████| 30/30 [00:00<00:00, 32.18it/s]\n",
      "Running Optimal BE PI: 100%|██████████| 30/30 [00:01<00:00, 25.56it/s]\n",
      "Running Optimal Phibe of order 1 using Galerkin: 100%|██████████| 30/30 [00:01<00:00, 20.88it/s]\n",
      "Running Optimal Phibe of order 2 using Galerkin: 100%|██████████| 30/30 [00:00<00:00, 32.06it/s]\n",
      "Running Optimal BE PI: 100%|██████████| 30/30 [00:01<00:00, 25.80it/s]\n",
      "Running Optimal Phibe of order 1 using Galerkin: 100%|██████████| 30/30 [00:01<00:00, 21.00it/s]\n",
      "Running Optimal Phibe of order 2 using Galerkin: 100%|██████████| 30/30 [00:00<00:00, 32.40it/s]\n",
      "Running Optimal BE PI: 100%|██████████| 30/30 [00:01<00:00, 26.95it/s]\n",
      "Running Optimal Phibe of order 1 using Galerkin: 100%|██████████| 30/30 [00:01<00:00, 20.57it/s]\n",
      "Running Optimal Phibe of order 2 using Galerkin: 100%|██████████| 30/30 [00:00<00:00, 31.86it/s]\n",
      "Running Optimal BE PI: 100%|██████████| 30/30 [00:01<00:00, 25.58it/s]\n",
      "Running Optimal Phibe of order 1 using Galerkin: 100%|██████████| 30/30 [00:01<00:00, 20.50it/s]\n",
      "Running Optimal Phibe of order 2 using Galerkin: 100%|██████████| 30/30 [00:00<00:00, 30.09it/s]\n",
      "Running Optimal BE PI: 100%|██████████| 30/30 [00:01<00:00, 26.97it/s]\n"
     ]
    },
    {
     "name": "stdout",
     "output_type": "stream",
     "text": [
      "running experiment round 14\n"
     ]
    },
    {
     "name": "stderr",
     "output_type": "stream",
     "text": [
      "Running Optimal Phibe of order 1 using Galerkin: 100%|██████████| 30/30 [00:01<00:00, 20.59it/s]\n",
      "Running Optimal Phibe of order 2 using Galerkin: 100%|██████████| 30/30 [00:00<00:00, 32.10it/s]\n",
      "Running Optimal BE PI: 100%|██████████| 30/30 [00:01<00:00, 27.55it/s]\n",
      "Running Optimal Phibe of order 1 using Galerkin: 100%|██████████| 30/30 [00:01<00:00, 19.85it/s]\n",
      "Running Optimal Phibe of order 2 using Galerkin: 100%|██████████| 30/30 [00:00<00:00, 32.00it/s]\n",
      "Running Optimal BE PI: 100%|██████████| 30/30 [00:01<00:00, 26.82it/s]\n",
      "Running Optimal Phibe of order 1 using Galerkin: 100%|██████████| 30/30 [00:01<00:00, 20.89it/s]\n",
      "Running Optimal Phibe of order 2 using Galerkin: 100%|██████████| 30/30 [00:00<00:00, 32.26it/s]\n",
      "Running Optimal BE PI: 100%|██████████| 30/30 [00:01<00:00, 26.98it/s]\n",
      "Running Optimal Phibe of order 1 using Galerkin: 100%|██████████| 30/30 [00:01<00:00, 19.95it/s]\n",
      "Running Optimal Phibe of order 2 using Galerkin: 100%|██████████| 30/30 [00:00<00:00, 31.96it/s]\n",
      "Running Optimal BE PI: 100%|██████████| 30/30 [00:01<00:00, 26.83it/s]\n",
      "Running Optimal Phibe of order 1 using Galerkin: 100%|██████████| 30/30 [00:01<00:00, 18.28it/s]\n",
      "Running Optimal Phibe of order 2 using Galerkin: 100%|██████████| 30/30 [00:00<00:00, 32.10it/s]\n",
      "Running Optimal BE PI: 100%|██████████| 30/30 [00:01<00:00, 27.18it/s]\n",
      "Running Optimal Phibe of order 1 using Galerkin: 100%|██████████| 30/30 [00:01<00:00, 19.04it/s]\n",
      "Running Optimal Phibe of order 2 using Galerkin: 100%|██████████| 30/30 [00:01<00:00, 25.90it/s]\n",
      "Running Optimal BE PI: 100%|██████████| 30/30 [00:01<00:00, 21.47it/s]\n"
     ]
    },
    {
     "name": "stdout",
     "output_type": "stream",
     "text": [
      "running experiment round 15\n"
     ]
    },
    {
     "name": "stderr",
     "output_type": "stream",
     "text": [
      "Running Optimal Phibe of order 1 using Galerkin: 100%|██████████| 30/30 [00:01<00:00, 16.42it/s]\n",
      "Running Optimal Phibe of order 2 using Galerkin: 100%|██████████| 30/30 [00:01<00:00, 25.93it/s]\n",
      "Running Optimal BE PI: 100%|██████████| 30/30 [00:01<00:00, 23.42it/s]\n",
      "Running Optimal Phibe of order 1 using Galerkin: 100%|██████████| 30/30 [00:01<00:00, 19.30it/s]\n",
      "Running Optimal Phibe of order 2 using Galerkin: 100%|██████████| 30/30 [00:00<00:00, 32.22it/s]\n",
      "Running Optimal BE PI: 100%|██████████| 30/30 [00:01<00:00, 25.41it/s]\n",
      "Running Optimal Phibe of order 1 using Galerkin: 100%|██████████| 30/30 [00:01<00:00, 20.45it/s]\n",
      "Running Optimal Phibe of order 2 using Galerkin: 100%|██████████| 30/30 [00:00<00:00, 32.02it/s]\n",
      "Running Optimal BE PI: 100%|██████████| 30/30 [00:01<00:00, 27.05it/s]\n",
      "Running Optimal Phibe of order 1 using Galerkin: 100%|██████████| 30/30 [00:02<00:00, 14.84it/s]\n",
      "Running Optimal Phibe of order 2 using Galerkin: 100%|██████████| 30/30 [00:00<00:00, 32.34it/s]\n",
      "Running Optimal BE PI: 100%|██████████| 30/30 [00:01<00:00, 26.99it/s]\n",
      "Running Optimal Phibe of order 1 using Galerkin: 100%|██████████| 30/30 [00:01<00:00, 20.63it/s]\n",
      "Running Optimal Phibe of order 2 using Galerkin: 100%|██████████| 30/30 [00:00<00:00, 32.59it/s]\n",
      "Running Optimal BE PI: 100%|██████████| 30/30 [00:01<00:00, 26.82it/s]\n",
      "Running Optimal Phibe of order 1 using Galerkin: 100%|██████████| 30/30 [00:01<00:00, 20.69it/s]\n",
      "Running Optimal Phibe of order 2 using Galerkin: 100%|██████████| 30/30 [00:01<00:00, 29.73it/s]\n",
      "Running Optimal BE PI: 100%|██████████| 30/30 [00:01<00:00, 26.28it/s]\n"
     ]
    },
    {
     "name": "stdout",
     "output_type": "stream",
     "text": [
      "running experiment round 16\n"
     ]
    },
    {
     "name": "stderr",
     "output_type": "stream",
     "text": [
      "Running Optimal Phibe of order 1 using Galerkin: 100%|██████████| 30/30 [00:01<00:00, 20.81it/s]\n",
      "Running Optimal Phibe of order 2 using Galerkin: 100%|██████████| 30/30 [00:00<00:00, 32.51it/s]\n",
      "Running Optimal BE PI: 100%|██████████| 30/30 [00:01<00:00, 27.55it/s]\n",
      "Running Optimal Phibe of order 1 using Galerkin: 100%|██████████| 30/30 [00:01<00:00, 20.90it/s]\n",
      "Running Optimal Phibe of order 2 using Galerkin: 100%|██████████| 30/30 [00:00<00:00, 30.59it/s]\n",
      "Running Optimal BE PI: 100%|██████████| 30/30 [00:01<00:00, 27.07it/s]\n",
      "Running Optimal Phibe of order 1 using Galerkin: 100%|██████████| 30/30 [00:01<00:00, 20.71it/s]\n",
      "Running Optimal Phibe of order 2 using Galerkin: 100%|██████████| 30/30 [00:00<00:00, 32.16it/s]\n",
      "Running Optimal BE PI: 100%|██████████| 30/30 [00:01<00:00, 26.13it/s]\n",
      "Running Optimal Phibe of order 1 using Galerkin: 100%|██████████| 30/30 [00:01<00:00, 20.59it/s]\n",
      "Running Optimal Phibe of order 2 using Galerkin: 100%|██████████| 30/30 [00:00<00:00, 31.77it/s]\n",
      "Running Optimal BE PI: 100%|██████████| 30/30 [00:01<00:00, 25.81it/s]\n",
      "Running Optimal Phibe of order 1 using Galerkin: 100%|██████████| 30/30 [00:01<00:00, 20.32it/s]\n",
      "Running Optimal Phibe of order 2 using Galerkin: 100%|██████████| 30/30 [00:00<00:00, 32.33it/s]\n",
      "Running Optimal BE PI: 100%|██████████| 30/30 [00:01<00:00, 23.26it/s]\n",
      "Running Optimal Phibe of order 1 using Galerkin: 100%|██████████| 30/30 [00:01<00:00, 19.06it/s]\n",
      "Running Optimal Phibe of order 2 using Galerkin: 100%|██████████| 30/30 [00:00<00:00, 31.65it/s]\n",
      "Running Optimal BE PI: 100%|██████████| 30/30 [00:01<00:00, 26.02it/s]\n"
     ]
    },
    {
     "name": "stdout",
     "output_type": "stream",
     "text": [
      "running experiment round 17\n"
     ]
    },
    {
     "name": "stderr",
     "output_type": "stream",
     "text": [
      "Running Optimal Phibe of order 1 using Galerkin: 100%|██████████| 30/30 [00:01<00:00, 20.79it/s]\n",
      "Running Optimal Phibe of order 2 using Galerkin: 100%|██████████| 30/30 [00:00<00:00, 32.78it/s]\n",
      "Running Optimal BE PI: 100%|██████████| 30/30 [00:01<00:00, 27.11it/s]\n",
      "Running Optimal Phibe of order 1 using Galerkin: 100%|██████████| 30/30 [00:01<00:00, 20.97it/s]\n",
      "Running Optimal Phibe of order 2 using Galerkin: 100%|██████████| 30/30 [00:00<00:00, 31.93it/s]\n",
      "Running Optimal BE PI: 100%|██████████| 30/30 [00:01<00:00, 27.03it/s]\n",
      "Running Optimal Phibe of order 1 using Galerkin: 100%|██████████| 30/30 [00:01<00:00, 19.90it/s]\n",
      "Running Optimal Phibe of order 2 using Galerkin: 100%|██████████| 30/30 [00:00<00:00, 31.31it/s]\n",
      "Running Optimal BE PI: 100%|██████████| 30/30 [00:01<00:00, 27.18it/s]\n",
      "Running Optimal Phibe of order 1 using Galerkin: 100%|██████████| 30/30 [00:01<00:00, 20.70it/s]\n",
      "Running Optimal Phibe of order 2 using Galerkin: 100%|██████████| 30/30 [00:00<00:00, 31.73it/s]\n",
      "Running Optimal BE PI: 100%|██████████| 30/30 [00:01<00:00, 26.51it/s]\n",
      "Running Optimal Phibe of order 1 using Galerkin: 100%|██████████| 30/30 [00:01<00:00, 19.92it/s]\n",
      "Running Optimal Phibe of order 2 using Galerkin: 100%|██████████| 30/30 [00:00<00:00, 32.43it/s]\n",
      "Running Optimal BE PI: 100%|██████████| 30/30 [00:01<00:00, 27.15it/s]\n",
      "Running Optimal Phibe of order 1 using Galerkin: 100%|██████████| 30/30 [00:01<00:00, 20.96it/s]\n",
      "Running Optimal Phibe of order 2 using Galerkin: 100%|██████████| 30/30 [00:00<00:00, 33.93it/s]\n",
      "Running Optimal BE PI: 100%|██████████| 30/30 [00:01<00:00, 27.76it/s]\n"
     ]
    },
    {
     "name": "stdout",
     "output_type": "stream",
     "text": [
      "running experiment round 18\n"
     ]
    },
    {
     "name": "stderr",
     "output_type": "stream",
     "text": [
      "Running Optimal Phibe of order 1 using Galerkin: 100%|██████████| 30/30 [00:01<00:00, 20.26it/s]\n",
      "Running Optimal Phibe of order 2 using Galerkin: 100%|██████████| 30/30 [00:00<00:00, 32.95it/s]\n",
      "Running Optimal BE PI: 100%|██████████| 30/30 [00:01<00:00, 27.59it/s]\n",
      "Running Optimal Phibe of order 1 using Galerkin: 100%|██████████| 30/30 [00:01<00:00, 21.07it/s]\n",
      "Running Optimal Phibe of order 2 using Galerkin: 100%|██████████| 30/30 [00:00<00:00, 32.06it/s]\n",
      "Running Optimal BE PI: 100%|██████████| 30/30 [00:01<00:00, 20.31it/s]\n",
      "Running Optimal Phibe of order 1 using Galerkin: 100%|██████████| 30/30 [00:01<00:00, 20.27it/s]\n",
      "Running Optimal Phibe of order 2 using Galerkin: 100%|██████████| 30/30 [00:01<00:00, 29.01it/s]\n",
      "Running Optimal BE PI: 100%|██████████| 30/30 [00:01<00:00, 27.42it/s]\n",
      "Running Optimal Phibe of order 1 using Galerkin: 100%|██████████| 30/30 [00:01<00:00, 21.28it/s]\n",
      "Running Optimal Phibe of order 2 using Galerkin: 100%|██████████| 30/30 [00:00<00:00, 32.98it/s]\n",
      "Running Optimal BE PI: 100%|██████████| 30/30 [00:01<00:00, 27.33it/s]\n",
      "Running Optimal Phibe of order 1 using Galerkin: 100%|██████████| 30/30 [00:01<00:00, 21.06it/s]\n",
      "Running Optimal Phibe of order 2 using Galerkin: 100%|██████████| 30/30 [00:00<00:00, 32.48it/s]\n",
      "Running Optimal BE PI: 100%|██████████| 30/30 [00:01<00:00, 25.79it/s]\n",
      "Running Optimal Phibe of order 1 using Galerkin: 100%|██████████| 30/30 [00:01<00:00, 20.91it/s]\n",
      "Running Optimal Phibe of order 2 using Galerkin: 100%|██████████| 30/30 [00:00<00:00, 31.07it/s]\n",
      "Running Optimal BE PI: 100%|██████████| 30/30 [00:01<00:00, 23.04it/s]\n"
     ]
    },
    {
     "name": "stdout",
     "output_type": "stream",
     "text": [
      "running experiment round 19\n"
     ]
    },
    {
     "name": "stderr",
     "output_type": "stream",
     "text": [
      "Running Optimal Phibe of order 1 using Galerkin: 100%|██████████| 30/30 [00:01<00:00, 20.48it/s]\n",
      "Running Optimal Phibe of order 2 using Galerkin: 100%|██████████| 30/30 [00:00<00:00, 31.24it/s]\n",
      "Running Optimal BE PI: 100%|██████████| 30/30 [00:01<00:00, 25.39it/s]\n",
      "Running Optimal Phibe of order 1 using Galerkin: 100%|██████████| 30/30 [00:01<00:00, 20.27it/s]\n",
      "Running Optimal Phibe of order 2 using Galerkin: 100%|██████████| 30/30 [00:00<00:00, 30.87it/s]\n",
      "Running Optimal BE PI: 100%|██████████| 30/30 [00:01<00:00, 26.14it/s]\n",
      "Running Optimal Phibe of order 1 using Galerkin: 100%|██████████| 30/30 [00:01<00:00, 19.56it/s]\n",
      "Running Optimal Phibe of order 2 using Galerkin: 100%|██████████| 30/30 [00:00<00:00, 30.75it/s]\n",
      "Running Optimal BE PI: 100%|██████████| 30/30 [00:01<00:00, 26.81it/s]\n",
      "Running Optimal Phibe of order 1 using Galerkin: 100%|██████████| 30/30 [00:01<00:00, 19.62it/s]\n",
      "Running Optimal Phibe of order 2 using Galerkin: 100%|██████████| 30/30 [00:00<00:00, 31.51it/s]\n",
      "Running Optimal BE PI: 100%|██████████| 30/30 [00:01<00:00, 23.58it/s]\n",
      "Running Optimal Phibe of order 1 using Galerkin: 100%|██████████| 30/30 [00:01<00:00, 15.39it/s]\n",
      "Running Optimal Phibe of order 2 using Galerkin: 100%|██████████| 30/30 [00:01<00:00, 25.57it/s]\n",
      "Running Optimal BE PI: 100%|██████████| 30/30 [00:01<00:00, 22.17it/s]\n",
      "Running Optimal Phibe of order 1 using Galerkin: 100%|██████████| 30/30 [00:01<00:00, 17.33it/s]\n",
      "Running Optimal Phibe of order 2 using Galerkin: 100%|██████████| 30/30 [00:00<00:00, 30.84it/s]\n",
      "Running Optimal BE PI: 100%|██████████| 30/30 [00:01<00:00, 26.24it/s]\n"
     ]
    },
    {
     "name": "stdout",
     "output_type": "stream",
     "text": [
      "running experiment round 20\n"
     ]
    },
    {
     "name": "stderr",
     "output_type": "stream",
     "text": [
      "Running Optimal Phibe of order 1 using Galerkin: 100%|██████████| 30/30 [00:01<00:00, 20.31it/s]\n",
      "Running Optimal Phibe of order 2 using Galerkin: 100%|██████████| 30/30 [00:00<00:00, 30.53it/s]\n",
      "Running Optimal BE PI: 100%|██████████| 30/30 [00:01<00:00, 26.28it/s]\n",
      "Running Optimal Phibe of order 1 using Galerkin: 100%|██████████| 30/30 [00:01<00:00, 19.65it/s]\n",
      "Running Optimal Phibe of order 2 using Galerkin: 100%|██████████| 30/30 [00:00<00:00, 30.59it/s]\n",
      "Running Optimal BE PI: 100%|██████████| 30/30 [00:01<00:00, 26.13it/s]\n",
      "Running Optimal Phibe of order 1 using Galerkin: 100%|██████████| 30/30 [00:01<00:00, 19.84it/s]\n",
      "Running Optimal Phibe of order 2 using Galerkin: 100%|██████████| 30/30 [00:00<00:00, 31.25it/s]\n",
      "Running Optimal BE PI: 100%|██████████| 30/30 [00:01<00:00, 26.41it/s]\n",
      "Running Optimal Phibe of order 1 using Galerkin: 100%|██████████| 30/30 [00:01<00:00, 20.33it/s]\n",
      "Running Optimal Phibe of order 2 using Galerkin: 100%|██████████| 30/30 [00:00<00:00, 31.94it/s]\n",
      "Running Optimal BE PI: 100%|██████████| 30/30 [00:01<00:00, 27.20it/s]\n",
      "Running Optimal Phibe of order 1 using Galerkin: 100%|██████████| 30/30 [00:01<00:00, 20.76it/s]\n",
      "Running Optimal Phibe of order 2 using Galerkin: 100%|██████████| 30/30 [00:00<00:00, 30.19it/s]\n",
      "Running Optimal BE PI: 100%|██████████| 30/30 [00:01<00:00, 25.93it/s]\n",
      "Running Optimal Phibe of order 1 using Galerkin: 100%|██████████| 30/30 [00:01<00:00, 20.81it/s]\n",
      "Running Optimal Phibe of order 2 using Galerkin: 100%|██████████| 30/30 [00:00<00:00, 32.14it/s]\n",
      "Running Optimal BE PI: 100%|██████████| 30/30 [00:01<00:00, 20.89it/s]\n"
     ]
    },
    {
     "name": "stdout",
     "output_type": "stream",
     "text": [
      "running experiment round 21\n"
     ]
    },
    {
     "name": "stderr",
     "output_type": "stream",
     "text": [
      "Running Optimal Phibe of order 1 using Galerkin: 100%|██████████| 30/30 [00:01<00:00, 20.61it/s]\n",
      "Running Optimal Phibe of order 2 using Galerkin: 100%|██████████| 30/30 [00:01<00:00, 28.12it/s]\n",
      "Running Optimal BE PI: 100%|██████████| 30/30 [00:01<00:00, 26.39it/s]\n",
      "Running Optimal Phibe of order 1 using Galerkin: 100%|██████████| 30/30 [00:01<00:00, 19.84it/s]\n",
      "Running Optimal Phibe of order 2 using Galerkin: 100%|██████████| 30/30 [00:00<00:00, 32.09it/s]\n",
      "Running Optimal BE PI: 100%|██████████| 30/30 [00:01<00:00, 22.38it/s]\n",
      "Running Optimal Phibe of order 1 using Galerkin: 100%|██████████| 30/30 [00:01<00:00, 20.32it/s]\n",
      "Running Optimal Phibe of order 2 using Galerkin: 100%|██████████| 30/30 [00:00<00:00, 30.82it/s]\n",
      "Running Optimal BE PI: 100%|██████████| 30/30 [00:01<00:00, 25.79it/s]\n",
      "Running Optimal Phibe of order 1 using Galerkin: 100%|██████████| 30/30 [00:01<00:00, 20.58it/s]\n",
      "Running Optimal Phibe of order 2 using Galerkin: 100%|██████████| 30/30 [00:00<00:00, 31.30it/s]\n",
      "Running Optimal BE PI: 100%|██████████| 30/30 [00:01<00:00, 27.25it/s]\n",
      "Running Optimal Phibe of order 1 using Galerkin: 100%|██████████| 30/30 [00:01<00:00, 20.63it/s]\n",
      "Running Optimal Phibe of order 2 using Galerkin: 100%|██████████| 30/30 [00:00<00:00, 30.66it/s]\n",
      "Running Optimal BE PI: 100%|██████████| 30/30 [00:01<00:00, 25.51it/s]\n",
      "Running Optimal Phibe of order 1 using Galerkin: 100%|██████████| 30/30 [00:01<00:00, 20.51it/s]\n",
      "Running Optimal Phibe of order 2 using Galerkin: 100%|██████████| 30/30 [00:00<00:00, 30.53it/s]\n",
      "Running Optimal BE PI: 100%|██████████| 30/30 [00:01<00:00, 26.98it/s]\n"
     ]
    },
    {
     "name": "stdout",
     "output_type": "stream",
     "text": [
      "running experiment round 22\n"
     ]
    },
    {
     "name": "stderr",
     "output_type": "stream",
     "text": [
      "Running Optimal Phibe of order 1 using Galerkin: 100%|██████████| 30/30 [00:01<00:00, 20.55it/s]\n",
      "Running Optimal Phibe of order 2 using Galerkin: 100%|██████████| 30/30 [00:00<00:00, 31.03it/s]\n",
      "Running Optimal BE PI: 100%|██████████| 30/30 [00:01<00:00, 25.87it/s]\n",
      "Running Optimal Phibe of order 1 using Galerkin: 100%|██████████| 30/30 [00:01<00:00, 20.56it/s]\n",
      "Running Optimal Phibe of order 2 using Galerkin: 100%|██████████| 30/30 [00:00<00:00, 32.17it/s]\n",
      "Running Optimal BE PI: 100%|██████████| 30/30 [00:01<00:00, 27.33it/s]\n",
      "Running Optimal Phibe of order 1 using Galerkin: 100%|██████████| 30/30 [00:01<00:00, 20.12it/s]\n",
      "Running Optimal Phibe of order 2 using Galerkin: 100%|██████████| 30/30 [00:00<00:00, 32.04it/s]\n",
      "Running Optimal BE PI: 100%|██████████| 30/30 [00:01<00:00, 27.43it/s]\n",
      "Running Optimal Phibe of order 1 using Galerkin: 100%|██████████| 30/30 [00:01<00:00, 20.19it/s]\n",
      "Running Optimal Phibe of order 2 using Galerkin: 100%|██████████| 30/30 [00:00<00:00, 32.44it/s]\n",
      "Running Optimal BE PI: 100%|██████████| 30/30 [00:01<00:00, 27.06it/s]\n",
      "Running Optimal Phibe of order 1 using Galerkin: 100%|██████████| 30/30 [00:01<00:00, 20.44it/s]\n",
      "Running Optimal Phibe of order 2 using Galerkin: 100%|██████████| 30/30 [00:00<00:00, 31.63it/s]\n",
      "Running Optimal BE PI: 100%|██████████| 30/30 [00:01<00:00, 26.60it/s]\n",
      "Running Optimal Phibe of order 1 using Galerkin: 100%|██████████| 30/30 [00:01<00:00, 19.75it/s]\n",
      "Running Optimal Phibe of order 2 using Galerkin: 100%|██████████| 30/30 [00:00<00:00, 31.12it/s]\n",
      "Running Optimal BE PI: 100%|██████████| 30/30 [00:01<00:00, 26.75it/s]\n"
     ]
    },
    {
     "name": "stdout",
     "output_type": "stream",
     "text": [
      "running experiment round 23\n"
     ]
    },
    {
     "name": "stderr",
     "output_type": "stream",
     "text": [
      "Running Optimal Phibe of order 1 using Galerkin: 100%|██████████| 30/30 [00:01<00:00, 20.74it/s]\n",
      "Running Optimal Phibe of order 2 using Galerkin: 100%|██████████| 30/30 [00:00<00:00, 31.72it/s]\n",
      "Running Optimal BE PI: 100%|██████████| 30/30 [00:01<00:00, 27.08it/s]\n",
      "Running Optimal Phibe of order 1 using Galerkin: 100%|██████████| 30/30 [00:01<00:00, 19.75it/s]\n",
      "Running Optimal Phibe of order 2 using Galerkin: 100%|██████████| 30/30 [00:00<00:00, 31.46it/s]\n",
      "Running Optimal BE PI: 100%|██████████| 30/30 [00:01<00:00, 24.78it/s]\n",
      "Running Optimal Phibe of order 1 using Galerkin: 100%|██████████| 30/30 [00:01<00:00, 20.26it/s]\n",
      "Running Optimal Phibe of order 2 using Galerkin: 100%|██████████| 30/30 [00:00<00:00, 30.87it/s]\n",
      "Running Optimal BE PI: 100%|██████████| 30/30 [00:01<00:00, 26.72it/s]\n",
      "Running Optimal Phibe of order 1 using Galerkin: 100%|██████████| 30/30 [00:01<00:00, 20.45it/s]\n",
      "Running Optimal Phibe of order 2 using Galerkin: 100%|██████████| 30/30 [00:01<00:00, 28.70it/s]\n",
      "Running Optimal BE PI: 100%|██████████| 30/30 [00:01<00:00, 26.72it/s]\n",
      "Running Optimal Phibe of order 1 using Galerkin: 100%|██████████| 30/30 [00:01<00:00, 16.82it/s]\n",
      "Running Optimal Phibe of order 2 using Galerkin: 100%|██████████| 30/30 [00:00<00:00, 32.76it/s]\n",
      "Running Optimal BE PI: 100%|██████████| 30/30 [00:01<00:00, 28.11it/s]\n",
      "Running Optimal Phibe of order 1 using Galerkin: 100%|██████████| 30/30 [00:01<00:00, 21.25it/s]\n",
      "Running Optimal Phibe of order 2 using Galerkin: 100%|██████████| 30/30 [00:01<00:00, 25.15it/s]\n",
      "Running Optimal BE PI: 100%|██████████| 30/30 [00:01<00:00, 25.13it/s]\n"
     ]
    },
    {
     "name": "stdout",
     "output_type": "stream",
     "text": [
      "running experiment round 24\n"
     ]
    },
    {
     "name": "stderr",
     "output_type": "stream",
     "text": [
      "Running Optimal Phibe of order 1 using Galerkin: 100%|██████████| 30/30 [00:01<00:00, 21.07it/s]\n",
      "Running Optimal Phibe of order 2 using Galerkin: 100%|██████████| 30/30 [00:00<00:00, 32.14it/s]\n",
      "Running Optimal BE PI: 100%|██████████| 30/30 [00:01<00:00, 27.86it/s]\n",
      "Running Optimal Phibe of order 1 using Galerkin: 100%|██████████| 30/30 [00:01<00:00, 21.17it/s]\n",
      "Running Optimal Phibe of order 2 using Galerkin: 100%|██████████| 30/30 [00:00<00:00, 32.98it/s]\n",
      "Running Optimal BE PI: 100%|██████████| 30/30 [00:01<00:00, 26.24it/s]\n",
      "Running Optimal Phibe of order 1 using Galerkin: 100%|██████████| 30/30 [00:01<00:00, 20.75it/s]\n",
      "Running Optimal Phibe of order 2 using Galerkin: 100%|██████████| 30/30 [00:00<00:00, 32.43it/s]\n",
      "Running Optimal BE PI: 100%|██████████| 30/30 [00:01<00:00, 26.97it/s]\n",
      "Running Optimal Phibe of order 1 using Galerkin: 100%|██████████| 30/30 [00:01<00:00, 21.06it/s]\n",
      "Running Optimal Phibe of order 2 using Galerkin: 100%|██████████| 30/30 [00:00<00:00, 32.46it/s]\n",
      "Running Optimal BE PI: 100%|██████████| 30/30 [00:01<00:00, 27.79it/s]\n",
      "Running Optimal Phibe of order 1 using Galerkin: 100%|██████████| 30/30 [00:01<00:00, 19.89it/s]\n",
      "Running Optimal Phibe of order 2 using Galerkin: 100%|██████████| 30/30 [00:00<00:00, 32.24it/s]\n",
      "Running Optimal BE PI: 100%|██████████| 30/30 [00:01<00:00, 26.33it/s]\n",
      "Running Optimal Phibe of order 1 using Galerkin: 100%|██████████| 30/30 [00:01<00:00, 20.45it/s]\n",
      "Running Optimal Phibe of order 2 using Galerkin: 100%|██████████| 30/30 [00:01<00:00, 26.21it/s]\n",
      "Running Optimal BE PI: 100%|██████████| 30/30 [00:01<00:00, 23.01it/s]\n"
     ]
    },
    {
     "name": "stdout",
     "output_type": "stream",
     "text": [
      "running experiment round 25\n"
     ]
    },
    {
     "name": "stderr",
     "output_type": "stream",
     "text": [
      "Running Optimal Phibe of order 1 using Galerkin: 100%|██████████| 30/30 [00:01<00:00, 16.98it/s]\n",
      "Running Optimal Phibe of order 2 using Galerkin: 100%|██████████| 30/30 [00:00<00:00, 30.34it/s]\n",
      "Running Optimal BE PI: 100%|██████████| 30/30 [00:01<00:00, 23.99it/s]\n",
      "Running Optimal Phibe of order 1 using Galerkin: 100%|██████████| 30/30 [00:01<00:00, 17.91it/s]\n",
      "Running Optimal Phibe of order 2 using Galerkin: 100%|██████████| 30/30 [00:01<00:00, 29.20it/s]\n",
      "Running Optimal BE PI: 100%|██████████| 30/30 [00:01<00:00, 23.47it/s]\n",
      "Running Optimal Phibe of order 1 using Galerkin: 100%|██████████| 30/30 [00:01<00:00, 17.17it/s]\n",
      "Running Optimal Phibe of order 2 using Galerkin: 100%|██████████| 30/30 [00:01<00:00, 28.84it/s]\n",
      "Running Optimal BE PI: 100%|██████████| 30/30 [00:01<00:00, 23.21it/s]\n",
      "Running Optimal Phibe of order 1 using Galerkin: 100%|██████████| 30/30 [00:01<00:00, 17.49it/s]\n",
      "Running Optimal Phibe of order 2 using Galerkin: 100%|██████████| 30/30 [00:01<00:00, 26.61it/s]\n",
      "Running Optimal BE PI: 100%|██████████| 30/30 [00:01<00:00, 21.55it/s]\n",
      "Running Optimal Phibe of order 1 using Galerkin: 100%|██████████| 30/30 [00:01<00:00, 17.60it/s]\n",
      "Running Optimal Phibe of order 2 using Galerkin: 100%|██████████| 30/30 [00:01<00:00, 25.52it/s]\n",
      "Running Optimal BE PI: 100%|██████████| 30/30 [00:01<00:00, 23.06it/s]\n",
      "Running Optimal Phibe of order 1 using Galerkin: 100%|██████████| 30/30 [00:01<00:00, 17.65it/s]\n",
      "Running Optimal Phibe of order 2 using Galerkin: 100%|██████████| 30/30 [00:01<00:00, 23.27it/s]\n",
      "Running Optimal BE PI: 100%|██████████| 30/30 [00:01<00:00, 21.98it/s]\n"
     ]
    },
    {
     "name": "stdout",
     "output_type": "stream",
     "text": [
      "running experiment round 26\n"
     ]
    },
    {
     "name": "stderr",
     "output_type": "stream",
     "text": [
      "Running Optimal Phibe of order 1 using Galerkin: 100%|██████████| 30/30 [00:01<00:00, 17.22it/s]\n",
      "Running Optimal Phibe of order 2 using Galerkin: 100%|██████████| 30/30 [00:01<00:00, 25.64it/s]\n",
      "Running Optimal BE PI: 100%|██████████| 30/30 [00:01<00:00, 23.02it/s]\n",
      "Running Optimal Phibe of order 1 using Galerkin: 100%|██████████| 30/30 [00:01<00:00, 16.75it/s]\n",
      "Running Optimal Phibe of order 2 using Galerkin: 100%|██████████| 30/30 [00:01<00:00, 17.90it/s]\n",
      "Running Optimal BE PI: 100%|██████████| 30/30 [00:01<00:00, 22.51it/s]\n",
      "Running Optimal Phibe of order 1 using Galerkin: 100%|██████████| 30/30 [00:01<00:00, 17.41it/s]\n",
      "Running Optimal Phibe of order 2 using Galerkin: 100%|██████████| 30/30 [00:01<00:00, 25.50it/s]\n",
      "Running Optimal BE PI: 100%|██████████| 30/30 [00:01<00:00, 22.58it/s]\n",
      "Running Optimal Phibe of order 1 using Galerkin: 100%|██████████| 30/30 [00:01<00:00, 15.91it/s]\n",
      "Running Optimal Phibe of order 2 using Galerkin: 100%|██████████| 30/30 [00:01<00:00, 25.91it/s]\n",
      "Running Optimal BE PI: 100%|██████████| 30/30 [00:01<00:00, 21.33it/s]\n",
      "Running Optimal Phibe of order 1 using Galerkin: 100%|██████████| 30/30 [00:01<00:00, 15.38it/s]\n",
      "Running Optimal Phibe of order 2 using Galerkin: 100%|██████████| 30/30 [00:01<00:00, 26.93it/s]\n",
      "Running Optimal BE PI: 100%|██████████| 30/30 [00:01<00:00, 21.63it/s]\n",
      "Running Optimal Phibe of order 1 using Galerkin: 100%|██████████| 30/30 [00:01<00:00, 17.55it/s]\n",
      "Running Optimal Phibe of order 2 using Galerkin: 100%|██████████| 30/30 [00:01<00:00, 25.43it/s]\n",
      "Running Optimal BE PI: 100%|██████████| 30/30 [00:01<00:00, 23.04it/s]\n"
     ]
    },
    {
     "name": "stdout",
     "output_type": "stream",
     "text": [
      "running experiment round 27\n"
     ]
    },
    {
     "name": "stderr",
     "output_type": "stream",
     "text": [
      "Running Optimal Phibe of order 1 using Galerkin: 100%|██████████| 30/30 [00:01<00:00, 17.44it/s]\n",
      "Running Optimal Phibe of order 2 using Galerkin: 100%|██████████| 30/30 [00:01<00:00, 24.10it/s]\n",
      "Running Optimal BE PI: 100%|██████████| 30/30 [00:01<00:00, 22.58it/s]\n",
      "Running Optimal Phibe of order 1 using Galerkin: 100%|██████████| 30/30 [00:01<00:00, 17.82it/s]\n",
      "Running Optimal Phibe of order 2 using Galerkin: 100%|██████████| 30/30 [00:01<00:00, 25.75it/s]\n",
      "Running Optimal BE PI: 100%|██████████| 30/30 [00:01<00:00, 22.85it/s]\n",
      "Running Optimal Phibe of order 1 using Galerkin: 100%|██████████| 30/30 [00:01<00:00, 17.88it/s]\n",
      "Running Optimal Phibe of order 2 using Galerkin: 100%|██████████| 30/30 [00:01<00:00, 23.94it/s]\n",
      "Running Optimal BE PI: 100%|██████████| 30/30 [00:01<00:00, 22.91it/s]\n",
      "Running Optimal Phibe of order 1 using Galerkin: 100%|██████████| 30/30 [00:01<00:00, 17.86it/s]\n",
      "Running Optimal Phibe of order 2 using Galerkin: 100%|██████████| 30/30 [00:01<00:00, 27.02it/s]\n",
      "Running Optimal BE PI: 100%|██████████| 30/30 [00:01<00:00, 23.97it/s]\n",
      "Running Optimal Phibe of order 1 using Galerkin: 100%|██████████| 30/30 [00:01<00:00, 16.93it/s]\n",
      "Running Optimal Phibe of order 2 using Galerkin: 100%|██████████| 30/30 [00:01<00:00, 25.41it/s]\n",
      "Running Optimal BE PI: 100%|██████████| 30/30 [00:01<00:00, 22.73it/s]\n",
      "Running Optimal Phibe of order 1 using Galerkin: 100%|██████████| 30/30 [00:01<00:00, 17.71it/s]\n",
      "Running Optimal Phibe of order 2 using Galerkin: 100%|██████████| 30/30 [00:01<00:00, 25.58it/s]\n",
      "Running Optimal BE PI: 100%|██████████| 30/30 [00:01<00:00, 21.45it/s]\n"
     ]
    },
    {
     "name": "stdout",
     "output_type": "stream",
     "text": [
      "running experiment round 28\n"
     ]
    },
    {
     "name": "stderr",
     "output_type": "stream",
     "text": [
      "Running Optimal Phibe of order 1 using Galerkin: 100%|██████████| 30/30 [00:01<00:00, 17.08it/s]\n",
      "Running Optimal Phibe of order 2 using Galerkin: 100%|██████████| 30/30 [00:01<00:00, 24.92it/s]\n",
      "Running Optimal BE PI: 100%|██████████| 30/30 [00:01<00:00, 22.77it/s]\n",
      "Running Optimal Phibe of order 1 using Galerkin: 100%|██████████| 30/30 [00:01<00:00, 17.52it/s]\n",
      "Running Optimal Phibe of order 2 using Galerkin: 100%|██████████| 30/30 [00:01<00:00, 25.69it/s]\n",
      "Running Optimal BE PI: 100%|██████████| 30/30 [00:01<00:00, 21.33it/s]\n",
      "Running Optimal Phibe of order 1 using Galerkin: 100%|██████████| 30/30 [00:01<00:00, 16.99it/s]\n",
      "Running Optimal Phibe of order 2 using Galerkin: 100%|██████████| 30/30 [00:01<00:00, 25.44it/s]\n",
      "Running Optimal BE PI: 100%|██████████| 30/30 [00:01<00:00, 23.61it/s]\n",
      "Running Optimal Phibe of order 1 using Galerkin: 100%|██████████| 30/30 [00:01<00:00, 17.24it/s]\n",
      "Running Optimal Phibe of order 2 using Galerkin: 100%|██████████| 30/30 [00:01<00:00, 16.59it/s]\n",
      "Running Optimal BE PI: 100%|██████████| 30/30 [00:01<00:00, 22.68it/s]\n",
      "Running Optimal Phibe of order 1 using Galerkin: 100%|██████████| 30/30 [00:01<00:00, 17.60it/s]\n",
      "Running Optimal Phibe of order 2 using Galerkin: 100%|██████████| 30/30 [00:01<00:00, 26.40it/s]\n",
      "Running Optimal BE PI: 100%|██████████| 30/30 [00:01<00:00, 22.92it/s]\n",
      "Running Optimal Phibe of order 1 using Galerkin: 100%|██████████| 30/30 [00:01<00:00, 16.68it/s]\n",
      "Running Optimal Phibe of order 2 using Galerkin: 100%|██████████| 30/30 [00:01<00:00, 26.29it/s]\n",
      "Running Optimal BE PI: 100%|██████████| 30/30 [00:01<00:00, 22.83it/s]\n"
     ]
    },
    {
     "name": "stdout",
     "output_type": "stream",
     "text": [
      "running experiment round 29\n"
     ]
    },
    {
     "name": "stderr",
     "output_type": "stream",
     "text": [
      "Running Optimal Phibe of order 1 using Galerkin: 100%|██████████| 30/30 [00:01<00:00, 17.69it/s]\n",
      "Running Optimal Phibe of order 2 using Galerkin: 100%|██████████| 30/30 [00:01<00:00, 26.62it/s]\n",
      "Running Optimal BE PI: 100%|██████████| 30/30 [00:01<00:00, 21.69it/s]\n",
      "Running Optimal Phibe of order 1 using Galerkin: 100%|██████████| 30/30 [00:01<00:00, 17.79it/s]\n",
      "Running Optimal Phibe of order 2 using Galerkin: 100%|██████████| 30/30 [00:01<00:00, 26.68it/s]\n",
      "Running Optimal BE PI: 100%|██████████| 30/30 [00:01<00:00, 23.63it/s]\n",
      "Running Optimal Phibe of order 1 using Galerkin: 100%|██████████| 30/30 [00:01<00:00, 17.32it/s]\n",
      "Running Optimal Phibe of order 2 using Galerkin: 100%|██████████| 30/30 [00:01<00:00, 26.44it/s]\n",
      "Running Optimal BE PI: 100%|██████████| 30/30 [00:01<00:00, 21.04it/s]\n",
      "Running Optimal Phibe of order 1 using Galerkin: 100%|██████████| 30/30 [00:01<00:00, 17.96it/s]\n",
      "Running Optimal Phibe of order 2 using Galerkin: 100%|██████████| 30/30 [00:01<00:00, 27.42it/s]\n",
      "Running Optimal BE PI: 100%|██████████| 30/30 [00:01<00:00, 20.01it/s]\n",
      "Running Optimal Phibe of order 1 using Galerkin: 100%|██████████| 30/30 [00:01<00:00, 18.00it/s]\n",
      "Running Optimal Phibe of order 2 using Galerkin: 100%|██████████| 30/30 [00:01<00:00, 22.83it/s]\n",
      "Running Optimal BE PI: 100%|██████████| 30/30 [00:01<00:00, 23.23it/s]\n",
      "Running Optimal Phibe of order 1 using Galerkin: 100%|██████████| 30/30 [00:01<00:00, 17.74it/s]\n",
      "Running Optimal Phibe of order 2 using Galerkin: 100%|██████████| 30/30 [00:01<00:00, 27.35it/s]\n",
      "Running Optimal BE PI: 100%|██████████| 30/30 [00:01<00:00, 23.03it/s]\n"
     ]
    }
   ],
   "source": [
    "for traj_idx in range(num_traj):\n",
    "    print(f'running experiment round {traj_idx}')\n",
    "    V_exact_dist_final_1st = []\n",
    "    V_exact_dist_final_2nd = []\n",
    "    V_exact_dist_final_RL = []\n",
    "\n",
    "    for dt in [5 * 1e-3, 1e-2, 5 * 1e-2, 1e-1, 1, 2.5]:\n",
    "        b_init = 0.5\n",
    "        c_init = 0.5\n",
    "        Q_init = 0.5 * torch.tensor([1., 1., 1., 1., 1., 1.]).to(device)\n",
    "        b1, V_exact_dist_1, _ = phibe_finder_1D_LQR(beta, b_init, Q_init, bd_low_s, bd_upper_s, bd_low_b, bd_upper_b, reward, simp_basis,\n",
    "                                                                                     bases_V, d_bases_V, sec_d_bases_V, bases_Q, num_iter, deterministic, \"Galerkin\", GD_num_iter, int(batch_size / I), int(batch_size / I), I, lr, dt, 1, \n",
    "                                                                                     true_V, info_true)\n",
    "\n",
    "        b_init = 0.5\n",
    "        c_init = 0.5\n",
    "        Q_init = 0.5 * torch.tensor([1., 1., 1., 1., 1., 1.]).to(device)\n",
    "        b2, V_exact_dist_2, _ = phibe_finder_1D_LQR(beta, b_init, Q_init, bd_low_s, bd_upper_s, bd_low_b, bd_upper_b, reward, simp_basis,\n",
    "                                                                                     bases_V, d_bases_V, sec_d_bases_V, bases_Q, num_iter, deterministic, \"Galerkin\", GD_num_iter, int(batch_size / I), int(batch_size / I), I, lr, dt, 2, \n",
    "                                                                                     true_V, info_true)\n",
    "\n",
    "        b_init = 0.5\n",
    "        c_init = 0.5\n",
    "        Q_init = 0.5 * torch.tensor([1., 1., 1., 1., 1., 1.]).to(device)\n",
    "        b_val_RL, V_exact_dist_RL = RL_finder_1D_LQR(beta, b_init, bd_low_s, bd_upper_s, bd_low_a, bd_upper_a, reward, False, bases_Q, num_iter, int(batch_size / I), I, dt, true_V, info_true)\n",
    "\n",
    "        V_exact_dist_final_1st.append(torch.abs(torch.tensor(b1, dtype=torch.float64)[-5:].mean() - true_b))\n",
    "        V_exact_dist_final_2nd.append(torch.abs(torch.tensor(b2, dtype=torch.float64)[-5:].mean() - true_b))\n",
    "        V_exact_dist_final_RL.append(torch.abs(torch.tensor(b_val_RL, dtype=torch.float64)[-5:].mean() - true_b))\n",
    "\n",
    "\n",
    "    V_exact_dist_total_2nd[traj_idx, :] = torch.tensor(V_exact_dist_final_2nd, dtype=torch.float64)\n",
    "    V_exact_dist_total_1st[traj_idx, :] = torch.tensor(V_exact_dist_final_1st, dtype=torch.float64)\n",
    "    V_exact_dist_total_RL[traj_idx, :] = torch.tensor(V_exact_dist_final_RL, dtype=torch.float64)"
   ]
  },
  {
   "cell_type": "code",
   "execution_count": 14,
   "metadata": {},
   "outputs": [
    {
     "name": "stderr",
     "output_type": "stream",
     "text": [
      "The PostScript backend does not support transparency; partially transparent artists will be rendered opaque.\n"
     ]
    },
    {
     "data": {
      "image/png": "[encoded data removed]",
      "text/plain": [
       "<Figure size 1200x800 with 1 Axes>"
      ]
     },
     "metadata": {},
     "output_type": "display_data"
    }
   ],
   "source": [
    "trajectories_RL = V_exact_dist_total_RL[:, :]\n",
    "trajectories_2nd = V_exact_dist_total_2nd[:, :]\n",
    "trajectories_1st = V_exact_dist_total_1st[:, :]\n",
    "\n",
    "trajectories_np_RL = trajectories_RL.numpy()\n",
    "trajectories_np_2nd = trajectories_2nd.numpy()\n",
    "trajectories_np_1st = trajectories_1st.numpy()\n",
    "\n",
    "x_values = [5 * 1e-3, 1e-2, 5 * 1e-2, 1e-1, 1, 2.5]\n",
    "\n",
    "min_trajectory_RL = trajectories_np_RL.min(axis=0)\n",
    "max_trajectory_RL = trajectories_np_RL.max(axis=0)\n",
    "mean_trajectory_RL = trajectories_np_RL.mean(axis=0)\n",
    "\n",
    "min_trajectory_1st = trajectories_np_1st.min(axis=0)\n",
    "max_trajectory_1st = trajectories_np_1st.max(axis=0)\n",
    "mean_trajectory_1st = trajectories_np_1st.mean(axis=0)\n",
    "\n",
    "min_trajectory_2nd = trajectories_np_2nd.min(axis=0)\n",
    "max_trajectory_2nd = trajectories_np_2nd.max(axis=0)\n",
    "mean_trajectory_2nd = trajectories_np_2nd.mean(axis=0)\n",
    "\n",
    "plt.figure(figsize=(12, 8))\n",
    "\n",
    "plt.loglog(x_values, mean_trajectory_RL, color='green', linewidth=3, label='Optimal-BE')\n",
    "plt.loglog(x_values, mean_trajectory_1st, color='red', linewidth=3, label='1st-order Optimal-PhiBE')\n",
    "plt.loglog(x_values, mean_trajectory_2nd, color='blue', linewidth=3, label='2nd-order Optimal-PhiBE')\n",
    "\n",
    "plt.xlabel('dt (log scale)', fontsize=16)\n",
    "plt.ylabel('Error (log scale)', fontsize=16)\n",
    "\n",
    "plt.legend(fontsize=14)\n",
    "\n",
    "plt.grid(True)\n",
    "\n",
    "plt.xticks(fontsize=14)\n",
    "plt.yticks(fontsize=14)\n",
    "plt.savefig(\"LQR/dt/dt_1d.eps\", format='eps')\n",
    "plt.show()"
   ]
  },
  {
   "cell_type": "code",
   "execution_count": 15,
   "metadata": {},
   "outputs": [],
   "source": [
    "def reward(traj_mat, act_mat):\n",
    "    # traj_mat shape: (m, I, dim)\n",
    "    # act_mat shape: (m, I, dim)\n",
    "    # output shape: (m, I, 1)\n",
    "    r_1 = torch.einsum(\"ijk,kl,ijl->ij\", traj_mat, Q, traj_mat)\n",
    "    r_2 = torch.einsum(\"ijk,kl,ijl->ij\", act_mat, R, act_mat)\n",
    "    return (- r_1 - r_2).unsqueeze(-1)"
   ]
  },
  {
   "cell_type": "code",
   "execution_count": 16,
   "metadata": {},
   "outputs": [],
   "source": [
    "beta = 10.\n",
    "sig = 0.\n",
    "A = torch.tensor([[-9.3750, -3.1250], [-3.1250, -9.3750]])\n",
    "B = torch.tensor([[10., 1.], [1., 10.1]])\n",
    "Q = torch.tensor([[10., 2.], [2., 10.4]])\n",
    "R = torch.tensor([[12., 3.], [3., 8.]])"
   ]
  },
  {
   "cell_type": "code",
   "execution_count": 25,
   "metadata": {},
   "outputs": [],
   "source": [
    "true_b, true_c, True_V = LQR_2D_true_solution(A, B, sig, Q, R, beta)\n",
    "b_init = true_b + torch.randn(2, 2)\n",
    "Q_init = 4. * torch.rand(10) - 2.\n",
    "V_init = true_V_eval_2D(A, B, b_init, R, Q, beta, sig)"
   ]
  },
  {
   "cell_type": "code",
   "execution_count": 26,
   "metadata": {},
   "outputs": [
    {
     "data": {
      "text/plain": [
       "tensor([[-0.2794,  0.0770],\n",
       "        [ 0.0600, -0.4266]])"
      ]
     },
     "execution_count": 26,
     "metadata": {},
     "output_type": "execute_result"
    }
   ],
   "source": [
    "true_b"
   ]
  },
  {
   "cell_type": "code",
   "execution_count": 27,
   "metadata": {},
   "outputs": [
    {
     "data": {
      "text/plain": [
       "tensor([ 0.0000, -0.3146, -0.0082, -0.3169])"
      ]
     },
     "execution_count": 27,
     "metadata": {},
     "output_type": "execute_result"
    }
   ],
   "source": [
    "True_V"
   ]
  },
  {
   "cell_type": "code",
   "execution_count": 28,
   "metadata": {},
   "outputs": [
    {
     "data": {
      "text/plain": [
       "tensor([ 0.0000, -0.3903, -0.1569, -0.4616])"
      ]
     },
     "execution_count": 28,
     "metadata": {},
     "output_type": "execute_result"
    }
   ],
   "source": [
    "V_init"
   ]
  },
  {
   "cell_type": "code",
   "execution_count": 29,
   "metadata": {},
   "outputs": [],
   "source": [
    "bd_low_s = -2\n",
    "bd_upper_s = 2\n",
    "bd_low_b = -2\n",
    "bd_upper_b = 2\n",
    "reward = reward\n",
    "bases_V = bases_poly_2D_simp\n",
    "d_bases_V = d_bases_poly_2D_simp\n",
    "sec_d_bases_V = sec_d_bases_poly_2D_simp\n",
    "bases_Q = bases_poly_2D_s_a_simp\n",
    "num_iter = 15\n",
    "GD_num_iter = 75\n",
    "m=int(1e4)\n",
    "m_Q=int(1e4)\n",
    "I=6\n",
    "I_Q=6\n",
    "lr=0.1\n",
    "true_V = True_V\n",
    "info_true = {\"A\":A, \"B\":B, \"sig\":sig, \"R\":R, \"Q\":Q}\n",
    "simp_basis = True\n",
    "deterministic = True"
   ]
  },
  {
   "cell_type": "code",
   "execution_count": 30,
   "metadata": {},
   "outputs": [],
   "source": [
    "num_traj = 30"
   ]
  },
  {
   "cell_type": "code",
   "execution_count": 31,
   "metadata": {},
   "outputs": [],
   "source": [
    "V_exact_dist_total_1st = torch.zeros(num_traj, 6)\n",
    "V_exact_dist_total_2nd = torch.zeros(num_traj, 6)\n",
    "V_exact_dist_total_RL = torch.zeros(num_traj, 6)"
   ]
  },
  {
   "cell_type": "code",
   "execution_count": 32,
   "metadata": {},
   "outputs": [
    {
     "name": "stdout",
     "output_type": "stream",
     "text": [
      "running experiment round 0\n"
     ]
    },
    {
     "name": "stderr",
     "output_type": "stream",
     "text": [
      "Running Optimal Phibe of order 1 using Galerkin: 100%|██████████| 15/15 [00:02<00:00,  5.40it/s]\n",
      "Running Optimal Phibe of order 2 using Galerkin: 100%|██████████| 15/15 [00:02<00:00,  5.47it/s]\n",
      "Running Optimal BE PI: 100%|██████████| 15/15 [00:02<00:00,  5.43it/s]\n",
      "Running Optimal Phibe of order 1 using Galerkin: 100%|██████████| 15/15 [00:02<00:00,  5.46it/s]\n",
      "Running Optimal Phibe of order 2 using Galerkin: 100%|██████████| 15/15 [00:03<00:00,  4.92it/s]\n",
      "Running Optimal BE PI: 100%|██████████| 15/15 [00:02<00:00,  5.46it/s]\n",
      "Running Optimal Phibe of order 1 using Galerkin: 100%|██████████| 15/15 [00:02<00:00,  5.30it/s]\n",
      "Running Optimal Phibe of order 2 using Galerkin: 100%|██████████| 15/15 [00:03<00:00,  4.81it/s]\n",
      "Running Optimal BE PI: 100%|██████████| 15/15 [00:02<00:00,  5.46it/s]\n",
      "Running Optimal Phibe of order 1 using Galerkin: 100%|██████████| 15/15 [00:02<00:00,  5.43it/s]\n",
      "Running Optimal Phibe of order 2 using Galerkin: 100%|██████████| 15/15 [00:02<00:00,  5.35it/s]\n",
      "Running Optimal BE PI: 100%|██████████| 15/15 [00:03<00:00,  4.95it/s]\n",
      "Running Optimal Phibe of order 1 using Galerkin: 100%|██████████| 15/15 [00:02<00:00,  5.37it/s]\n",
      "Running Optimal Phibe of order 2 using Galerkin: 100%|██████████| 15/15 [00:02<00:00,  5.49it/s]\n",
      "Running Optimal BE PI: 100%|██████████| 15/15 [00:02<00:00,  6.47it/s]\n",
      "Running Optimal Phibe of order 1 using Galerkin: 100%|██████████| 15/15 [00:02<00:00,  5.45it/s]\n",
      "Running Optimal Phibe of order 2 using Galerkin: 100%|██████████| 15/15 [00:02<00:00,  5.47it/s]\n",
      "Running Optimal BE PI: 100%|██████████| 15/15 [00:00<00:00, 15.38it/s]\n"
     ]
    },
    {
     "name": "stdout",
     "output_type": "stream",
     "text": [
      "running experiment round 1\n"
     ]
    },
    {
     "name": "stderr",
     "output_type": "stream",
     "text": [
      "Running Optimal Phibe of order 1 using Galerkin: 100%|██████████| 15/15 [00:02<00:00,  5.49it/s]\n",
      "Running Optimal Phibe of order 2 using Galerkin: 100%|██████████| 15/15 [00:03<00:00,  4.94it/s]\n",
      "Running Optimal BE PI: 100%|██████████| 15/15 [00:02<00:00,  5.49it/s]\n",
      "Running Optimal Phibe of order 1 using Galerkin: 100%|██████████| 15/15 [00:02<00:00,  5.57it/s]\n",
      "Running Optimal Phibe of order 2 using Galerkin: 100%|██████████| 15/15 [00:02<00:00,  5.46it/s]\n",
      "Running Optimal BE PI: 100%|██████████| 15/15 [00:02<00:00,  5.44it/s]\n",
      "Running Optimal Phibe of order 1 using Galerkin: 100%|██████████| 15/15 [00:02<00:00,  5.33it/s]\n",
      "Running Optimal Phibe of order 2 using Galerkin: 100%|██████████| 15/15 [00:02<00:00,  5.44it/s]\n",
      "Running Optimal BE PI: 100%|██████████| 15/15 [00:03<00:00,  4.96it/s]\n",
      "Running Optimal Phibe of order 1 using Galerkin: 100%|██████████| 15/15 [00:02<00:00,  5.42it/s]\n",
      "Running Optimal Phibe of order 2 using Galerkin: 100%|██████████| 15/15 [00:02<00:00,  5.43it/s]\n",
      "Running Optimal BE PI: 100%|██████████| 15/15 [00:03<00:00,  4.90it/s]\n",
      "Running Optimal Phibe of order 1 using Galerkin: 100%|██████████| 15/15 [00:02<00:00,  5.28it/s]\n",
      "Running Optimal Phibe of order 2 using Galerkin: 100%|██████████| 15/15 [00:02<00:00,  5.44it/s]\n",
      "Running Optimal BE PI: 100%|██████████| 15/15 [00:02<00:00,  6.36it/s]\n",
      "Running Optimal Phibe of order 1 using Galerkin: 100%|██████████| 15/15 [00:02<00:00,  5.53it/s]\n",
      "Running Optimal Phibe of order 2 using Galerkin: 100%|██████████| 15/15 [00:03<00:00,  4.84it/s]\n",
      "Running Optimal BE PI: 100%|██████████| 15/15 [00:00<00:00, 15.36it/s]\n"
     ]
    },
    {
     "name": "stdout",
     "output_type": "stream",
     "text": [
      "running experiment round 2\n"
     ]
    },
    {
     "name": "stderr",
     "output_type": "stream",
     "text": [
      "Running Optimal Phibe of order 1 using Galerkin: 100%|██████████| 15/15 [00:02<00:00,  5.50it/s]\n",
      "Running Optimal Phibe of order 2 using Galerkin: 100%|██████████| 15/15 [00:02<00:00,  5.42it/s]\n",
      "Running Optimal BE PI: 100%|██████████| 15/15 [00:02<00:00,  5.45it/s]\n",
      "Running Optimal Phibe of order 1 using Galerkin: 100%|██████████| 15/15 [00:02<00:00,  5.49it/s]\n",
      "Running Optimal Phibe of order 2 using Galerkin: 100%|██████████| 15/15 [00:02<00:00,  5.44it/s]\n",
      "Running Optimal BE PI: 100%|██████████| 15/15 [00:02<00:00,  5.45it/s]\n",
      "Running Optimal Phibe of order 1 using Galerkin: 100%|██████████| 15/15 [00:03<00:00,  4.87it/s]\n",
      "Running Optimal Phibe of order 2 using Galerkin: 100%|██████████| 15/15 [00:02<00:00,  5.35it/s]\n",
      "Running Optimal BE PI: 100%|██████████| 15/15 [00:02<00:00,  5.48it/s]\n",
      "Running Optimal Phibe of order 1 using Galerkin: 100%|██████████| 15/15 [00:02<00:00,  5.46it/s]\n",
      "Running Optimal Phibe of order 2 using Galerkin: 100%|██████████| 15/15 [00:02<00:00,  5.45it/s]\n",
      "Running Optimal BE PI: 100%|██████████| 15/15 [00:02<00:00,  5.50it/s]\n",
      "Running Optimal Phibe of order 1 using Galerkin: 100%|██████████| 15/15 [00:02<00:00,  5.40it/s]\n",
      "Running Optimal Phibe of order 2 using Galerkin: 100%|██████████| 15/15 [00:02<00:00,  5.47it/s]\n",
      "Running Optimal BE PI: 100%|██████████| 15/15 [00:02<00:00,  5.04it/s]\n",
      "Running Optimal Phibe of order 1 using Galerkin: 100%|██████████| 15/15 [00:02<00:00,  5.31it/s]\n",
      "Running Optimal Phibe of order 2 using Galerkin: 100%|██████████| 15/15 [00:02<00:00,  5.49it/s]\n",
      "Running Optimal BE PI: 100%|██████████| 15/15 [00:00<00:00, 15.37it/s]\n"
     ]
    },
    {
     "name": "stdout",
     "output_type": "stream",
     "text": [
      "running experiment round 3\n"
     ]
    },
    {
     "name": "stderr",
     "output_type": "stream",
     "text": [
      "Running Optimal Phibe of order 1 using Galerkin: 100%|██████████| 15/15 [00:02<00:00,  5.52it/s]\n",
      "Running Optimal Phibe of order 2 using Galerkin: 100%|██████████| 15/15 [00:02<00:00,  5.44it/s]\n",
      "Running Optimal BE PI: 100%|██████████| 15/15 [00:02<00:00,  5.49it/s]\n",
      "Running Optimal Phibe of order 1 using Galerkin: 100%|██████████| 15/15 [00:02<00:00,  5.53it/s]\n",
      "Running Optimal Phibe of order 2 using Galerkin: 100%|██████████| 15/15 [00:03<00:00,  4.84it/s]\n",
      "Running Optimal BE PI: 100%|██████████| 15/15 [00:02<00:00,  5.21it/s]\n",
      "Running Optimal Phibe of order 1 using Galerkin: 100%|██████████| 15/15 [00:02<00:00,  5.27it/s]\n",
      "Running Optimal Phibe of order 2 using Galerkin: 100%|██████████| 15/15 [00:02<00:00,  5.44it/s]\n",
      "Running Optimal BE PI: 100%|██████████| 15/15 [00:02<00:00,  5.48it/s]\n",
      "Running Optimal Phibe of order 1 using Galerkin: 100%|██████████| 15/15 [00:02<00:00,  5.41it/s]\n",
      "Running Optimal Phibe of order 2 using Galerkin: 100%|██████████| 15/15 [00:02<00:00,  5.36it/s]\n",
      "Running Optimal BE PI: 100%|██████████| 15/15 [00:02<00:00,  5.52it/s]\n",
      "Running Optimal Phibe of order 1 using Galerkin: 100%|██████████| 15/15 [00:03<00:00,  4.96it/s]\n",
      "Running Optimal Phibe of order 2 using Galerkin: 100%|██████████| 15/15 [00:02<00:00,  5.45it/s]\n",
      "Running Optimal BE PI: 100%|██████████| 15/15 [00:02<00:00,  6.48it/s]\n",
      "Running Optimal Phibe of order 1 using Galerkin: 100%|██████████| 15/15 [00:02<00:00,  5.44it/s]\n",
      "Running Optimal Phibe of order 2 using Galerkin: 100%|██████████| 15/15 [00:02<00:00,  5.46it/s]\n",
      "Running Optimal BE PI: 100%|██████████| 15/15 [00:00<00:00, 15.01it/s]\n"
     ]
    },
    {
     "name": "stdout",
     "output_type": "stream",
     "text": [
      "running experiment round 4\n"
     ]
    },
    {
     "name": "stderr",
     "output_type": "stream",
     "text": [
      "Running Optimal Phibe of order 1 using Galerkin: 100%|██████████| 15/15 [00:02<00:00,  5.50it/s]\n",
      "Running Optimal Phibe of order 2 using Galerkin: 100%|██████████| 15/15 [00:03<00:00,  4.72it/s]\n",
      "Running Optimal BE PI: 100%|██████████| 15/15 [00:03<00:00,  4.79it/s]\n",
      "Running Optimal Phibe of order 1 using Galerkin: 100%|██████████| 15/15 [00:02<00:00,  5.43it/s]\n",
      "Running Optimal Phibe of order 2 using Galerkin: 100%|██████████| 15/15 [00:02<00:00,  5.37it/s]\n",
      "Running Optimal BE PI: 100%|██████████| 15/15 [00:02<00:00,  5.40it/s]\n",
      "Running Optimal Phibe of order 1 using Galerkin: 100%|██████████| 15/15 [00:02<00:00,  5.37it/s]\n",
      "Running Optimal Phibe of order 2 using Galerkin: 100%|██████████| 15/15 [00:02<00:00,  5.41it/s]\n",
      "Running Optimal BE PI: 100%|██████████| 15/15 [00:02<00:00,  5.49it/s]\n",
      "Running Optimal Phibe of order 1 using Galerkin: 100%|██████████| 15/15 [00:02<00:00,  5.44it/s]\n",
      "Running Optimal Phibe of order 2 using Galerkin: 100%|██████████| 15/15 [00:03<00:00,  4.90it/s]\n",
      "Running Optimal BE PI: 100%|██████████| 15/15 [00:02<00:00,  5.47it/s]\n",
      "Running Optimal Phibe of order 1 using Galerkin: 100%|██████████| 15/15 [00:02<00:00,  5.33it/s]\n",
      "Running Optimal Phibe of order 2 using Galerkin: 100%|██████████| 15/15 [00:02<00:00,  5.47it/s]\n",
      "Running Optimal BE PI: 100%|██████████| 15/15 [00:02<00:00,  6.34it/s]\n",
      "Running Optimal Phibe of order 1 using Galerkin: 100%|██████████| 15/15 [00:02<00:00,  5.44it/s]\n",
      "Running Optimal Phibe of order 2 using Galerkin: 100%|██████████| 15/15 [00:02<00:00,  5.46it/s]\n",
      "Running Optimal BE PI: 100%|██████████| 15/15 [00:00<00:00, 15.17it/s]\n"
     ]
    },
    {
     "name": "stdout",
     "output_type": "stream",
     "text": [
      "running experiment round 5\n"
     ]
    },
    {
     "name": "stderr",
     "output_type": "stream",
     "text": [
      "Running Optimal Phibe of order 1 using Galerkin: 100%|██████████| 15/15 [00:02<00:00,  5.39it/s]\n",
      "Running Optimal Phibe of order 2 using Galerkin: 100%|██████████| 15/15 [00:03<00:00,  4.86it/s]\n",
      "Running Optimal BE PI: 100%|██████████| 15/15 [00:02<00:00,  5.50it/s]\n",
      "Running Optimal Phibe of order 1 using Galerkin: 100%|██████████| 15/15 [00:02<00:00,  5.48it/s]\n",
      "Running Optimal Phibe of order 2 using Galerkin: 100%|██████████| 15/15 [00:03<00:00,  4.83it/s]\n",
      "Running Optimal BE PI: 100%|██████████| 15/15 [00:02<00:00,  5.23it/s]\n",
      "Running Optimal Phibe of order 1 using Galerkin: 100%|██████████| 15/15 [00:02<00:00,  5.30it/s]\n",
      "Running Optimal Phibe of order 2 using Galerkin: 100%|██████████| 15/15 [00:02<00:00,  5.42it/s]\n",
      "Running Optimal BE PI: 100%|██████████| 15/15 [00:02<00:00,  5.49it/s]\n",
      "Running Optimal Phibe of order 1 using Galerkin: 100%|██████████| 15/15 [00:03<00:00,  4.75it/s]\n",
      "Running Optimal Phibe of order 2 using Galerkin: 100%|██████████| 15/15 [00:02<00:00,  5.45it/s]\n",
      "Running Optimal BE PI: 100%|██████████| 15/15 [00:02<00:00,  5.55it/s]\n",
      "Running Optimal Phibe of order 1 using Galerkin: 100%|██████████| 15/15 [00:02<00:00,  5.48it/s]\n",
      "Running Optimal Phibe of order 2 using Galerkin: 100%|██████████| 15/15 [00:02<00:00,  5.33it/s]\n",
      "Running Optimal BE PI: 100%|██████████| 15/15 [00:02<00:00,  6.43it/s]\n",
      "Running Optimal Phibe of order 1 using Galerkin: 100%|██████████| 15/15 [00:02<00:00,  5.51it/s]\n",
      "Running Optimal Phibe of order 2 using Galerkin: 100%|██████████| 15/15 [00:02<00:00,  5.48it/s]\n",
      "Running Optimal BE PI: 100%|██████████| 15/15 [00:00<00:00, 15.43it/s]\n"
     ]
    },
    {
     "name": "stdout",
     "output_type": "stream",
     "text": [
      "running experiment round 6\n"
     ]
    },
    {
     "name": "stderr",
     "output_type": "stream",
     "text": [
      "Running Optimal Phibe of order 1 using Galerkin: 100%|██████████| 15/15 [00:03<00:00,  4.81it/s]\n",
      "Running Optimal Phibe of order 2 using Galerkin: 100%|██████████| 15/15 [00:02<00:00,  5.41it/s]\n",
      "Running Optimal BE PI: 100%|██████████| 15/15 [00:02<00:00,  5.47it/s]\n",
      "Running Optimal Phibe of order 1 using Galerkin: 100%|██████████| 15/15 [00:02<00:00,  5.44it/s]\n",
      "Running Optimal Phibe of order 2 using Galerkin: 100%|██████████| 15/15 [00:02<00:00,  5.40it/s]\n",
      "Running Optimal BE PI:  93%|█████████▎| 14/15 [00:02<00:00,  5.63it/s]"
     ]
    },
    {
     "name": "stdout",
     "output_type": "stream",
     "text": [
      "infeasibility detected\n"
     ]
    },
    {
     "name": "stderr",
     "output_type": "stream",
     "text": [
      "Running Optimal BE PI: 100%|██████████| 15/15 [00:02<00:00,  5.49it/s]\n",
      "Running Optimal Phibe of order 1 using Galerkin: 100%|██████████| 15/15 [00:02<00:00,  5.32it/s]\n",
      "Running Optimal Phibe of order 2 using Galerkin: 100%|██████████| 15/15 [00:02<00:00,  5.37it/s]\n",
      "Running Optimal BE PI: 100%|██████████| 15/15 [00:03<00:00,  4.24it/s]\n",
      "Running Optimal Phibe of order 1 using Galerkin: 100%|██████████| 15/15 [00:02<00:00,  5.51it/s]\n",
      "Running Optimal Phibe of order 2 using Galerkin: 100%|██████████| 15/15 [00:02<00:00,  5.40it/s]\n",
      "Running Optimal BE PI: 100%|██████████| 15/15 [00:02<00:00,  5.53it/s]\n",
      "Running Optimal Phibe of order 1 using Galerkin: 100%|██████████| 15/15 [00:02<00:00,  5.17it/s]\n",
      "Running Optimal Phibe of order 2 using Galerkin: 100%|██████████| 15/15 [00:02<00:00,  5.42it/s]\n",
      "Running Optimal BE PI: 100%|██████████| 15/15 [00:02<00:00,  6.49it/s]\n",
      "Running Optimal Phibe of order 1 using Galerkin: 100%|██████████| 15/15 [00:02<00:00,  5.50it/s]\n",
      "Running Optimal Phibe of order 2 using Galerkin: 100%|██████████| 15/15 [00:02<00:00,  5.43it/s]\n",
      "Running Optimal BE PI: 100%|██████████| 15/15 [00:01<00:00, 11.46it/s]\n"
     ]
    },
    {
     "name": "stdout",
     "output_type": "stream",
     "text": [
      "running experiment round 7\n"
     ]
    },
    {
     "name": "stderr",
     "output_type": "stream",
     "text": [
      "Running Optimal Phibe of order 1 using Galerkin: 100%|██████████| 15/15 [00:02<00:00,  5.49it/s]\n",
      "Running Optimal Phibe of order 2 using Galerkin: 100%|██████████| 15/15 [00:02<00:00,  5.43it/s]\n",
      "Running Optimal BE PI: 100%|██████████| 15/15 [00:02<00:00,  5.47it/s]\n",
      "Running Optimal Phibe of order 1 using Galerkin: 100%|██████████| 15/15 [00:02<00:00,  5.38it/s]\n",
      "Running Optimal Phibe of order 2 using Galerkin: 100%|██████████| 15/15 [00:02<00:00,  5.44it/s]\n",
      "Running Optimal BE PI: 100%|██████████| 15/15 [00:02<00:00,  5.45it/s]\n",
      "Running Optimal Phibe of order 1 using Galerkin: 100%|██████████| 15/15 [00:02<00:00,  5.29it/s]\n",
      "Running Optimal Phibe of order 2 using Galerkin: 100%|██████████| 15/15 [00:02<00:00,  5.32it/s]\n",
      "Running Optimal BE PI: 100%|██████████| 15/15 [00:03<00:00,  4.81it/s]\n",
      "Running Optimal Phibe of order 1 using Galerkin: 100%|██████████| 15/15 [00:02<00:00,  5.45it/s]\n",
      "Running Optimal Phibe of order 2 using Galerkin: 100%|██████████| 15/15 [00:02<00:00,  5.43it/s]\n",
      "Running Optimal BE PI: 100%|██████████| 15/15 [00:02<00:00,  5.42it/s]\n",
      "Running Optimal Phibe of order 1 using Galerkin: 100%|██████████| 15/15 [00:03<00:00,  4.75it/s]\n",
      "Running Optimal Phibe of order 2 using Galerkin: 100%|██████████| 15/15 [00:02<00:00,  5.44it/s]\n",
      "Running Optimal BE PI: 100%|██████████| 15/15 [00:02<00:00,  6.44it/s]\n",
      "Running Optimal Phibe of order 1 using Galerkin: 100%|██████████| 15/15 [00:02<00:00,  5.57it/s]\n",
      "Running Optimal Phibe of order 2 using Galerkin: 100%|██████████| 15/15 [00:02<00:00,  5.40it/s]\n",
      "Running Optimal BE PI: 100%|██████████| 15/15 [00:01<00:00, 10.84it/s]\n"
     ]
    },
    {
     "name": "stdout",
     "output_type": "stream",
     "text": [
      "running experiment round 8\n"
     ]
    },
    {
     "name": "stderr",
     "output_type": "stream",
     "text": [
      "Running Optimal Phibe of order 1 using Galerkin:  40%|████      | 6/15 [00:01<00:01,  5.53it/s]"
     ]
    },
    {
     "name": "stdout",
     "output_type": "stream",
     "text": [
      "infeasibility detected\n"
     ]
    },
    {
     "name": "stderr",
     "output_type": "stream",
     "text": [
      "Running Optimal Phibe of order 1 using Galerkin: 100%|██████████| 15/15 [00:02<00:00,  5.54it/s]\n",
      "Running Optimal Phibe of order 2 using Galerkin: 100%|██████████| 15/15 [00:02<00:00,  5.40it/s]\n",
      "Running Optimal BE PI: 100%|██████████| 15/15 [00:02<00:00,  5.42it/s]\n",
      "Running Optimal Phibe of order 1 using Galerkin: 100%|██████████| 15/15 [00:02<00:00,  5.39it/s]\n",
      "Running Optimal Phibe of order 2 using Galerkin: 100%|██████████| 15/15 [00:02<00:00,  5.28it/s]\n",
      "Running Optimal BE PI: 100%|██████████| 15/15 [00:02<00:00,  5.42it/s]\n",
      "Running Optimal Phibe of order 1 using Galerkin: 100%|██████████| 15/15 [00:02<00:00,  5.30it/s]\n",
      "Running Optimal Phibe of order 2 using Galerkin: 100%|██████████| 15/15 [00:02<00:00,  5.35it/s]\n",
      "Running Optimal BE PI: 100%|██████████| 15/15 [00:03<00:00,  4.87it/s]\n",
      "Running Optimal Phibe of order 1 using Galerkin: 100%|██████████| 15/15 [00:02<00:00,  5.33it/s]\n",
      "Running Optimal Phibe of order 2 using Galerkin: 100%|██████████| 15/15 [00:02<00:00,  5.41it/s]\n",
      "Running Optimal BE PI: 100%|██████████| 15/15 [00:02<00:00,  5.46it/s]\n",
      "Running Optimal Phibe of order 1 using Galerkin: 100%|██████████| 15/15 [00:02<00:00,  5.38it/s]\n",
      "Running Optimal Phibe of order 2 using Galerkin: 100%|██████████| 15/15 [00:02<00:00,  5.44it/s]\n",
      "Running Optimal BE PI: 100%|██████████| 15/15 [00:02<00:00,  6.31it/s]\n",
      "Running Optimal Phibe of order 1 using Galerkin: 100%|██████████| 15/15 [00:03<00:00,  4.82it/s]\n",
      "Running Optimal Phibe of order 2 using Galerkin: 100%|██████████| 15/15 [00:02<00:00,  5.39it/s]\n",
      "Running Optimal BE PI: 100%|██████████| 15/15 [00:00<00:00, 15.42it/s]\n"
     ]
    },
    {
     "name": "stdout",
     "output_type": "stream",
     "text": [
      "running experiment round 9\n"
     ]
    },
    {
     "name": "stderr",
     "output_type": "stream",
     "text": [
      "Running Optimal Phibe of order 1 using Galerkin: 100%|██████████| 15/15 [00:03<00:00,  4.72it/s]\n",
      "Running Optimal Phibe of order 2 using Galerkin: 100%|██████████| 15/15 [00:02<00:00,  5.27it/s]\n",
      "Running Optimal BE PI: 100%|██████████| 15/15 [00:02<00:00,  5.44it/s]\n",
      "Running Optimal Phibe of order 1 using Galerkin: 100%|██████████| 15/15 [00:02<00:00,  5.47it/s]\n",
      "Running Optimal Phibe of order 2 using Galerkin: 100%|██████████| 15/15 [00:02<00:00,  5.47it/s]\n",
      "Running Optimal BE PI: 100%|██████████| 15/15 [00:02<00:00,  5.44it/s]\n",
      "Running Optimal Phibe of order 1 using Galerkin: 100%|██████████| 15/15 [00:02<00:00,  5.22it/s]\n",
      "Running Optimal Phibe of order 2 using Galerkin: 100%|██████████| 15/15 [00:02<00:00,  5.46it/s]\n",
      "Running Optimal BE PI: 100%|██████████| 15/15 [00:02<00:00,  5.48it/s]\n",
      "Running Optimal Phibe of order 1 using Galerkin: 100%|██████████| 15/15 [00:03<00:00,  4.78it/s]\n",
      "Running Optimal Phibe of order 2 using Galerkin: 100%|██████████| 15/15 [00:02<00:00,  5.42it/s]\n",
      "Running Optimal BE PI: 100%|██████████| 15/15 [00:02<00:00,  5.55it/s]\n",
      "Running Optimal Phibe of order 1 using Galerkin: 100%|██████████| 15/15 [00:02<00:00,  5.37it/s]\n",
      "Running Optimal Phibe of order 2 using Galerkin: 100%|██████████| 15/15 [00:02<00:00,  5.42it/s]\n",
      "Running Optimal BE PI: 100%|██████████| 15/15 [00:02<00:00,  6.36it/s]\n",
      "Running Optimal Phibe of order 1 using Galerkin: 100%|██████████| 15/15 [00:02<00:00,  5.53it/s]\n",
      "Running Optimal Phibe of order 2 using Galerkin: 100%|██████████| 15/15 [00:02<00:00,  5.42it/s]\n",
      "Running Optimal BE PI: 100%|██████████| 15/15 [00:00<00:00, 15.30it/s]\n"
     ]
    },
    {
     "name": "stdout",
     "output_type": "stream",
     "text": [
      "running experiment round 10\n"
     ]
    },
    {
     "name": "stderr",
     "output_type": "stream",
     "text": [
      "Running Optimal Phibe of order 1 using Galerkin: 100%|██████████| 15/15 [00:02<00:00,  5.46it/s]\n",
      "Running Optimal Phibe of order 2 using Galerkin: 100%|██████████| 15/15 [00:03<00:00,  4.77it/s]\n",
      "Running Optimal BE PI: 100%|██████████| 15/15 [00:03<00:00,  4.79it/s]\n",
      "Running Optimal Phibe of order 1 using Galerkin: 100%|██████████| 15/15 [00:02<00:00,  5.46it/s]\n",
      "Running Optimal Phibe of order 2 using Galerkin: 100%|██████████| 15/15 [00:02<00:00,  5.43it/s]\n",
      "Running Optimal BE PI: 100%|██████████| 15/15 [00:02<00:00,  5.33it/s]\n",
      "Running Optimal Phibe of order 1 using Galerkin: 100%|██████████| 15/15 [00:02<00:00,  5.26it/s]\n",
      "Running Optimal Phibe of order 2 using Galerkin: 100%|██████████| 15/15 [00:02<00:00,  5.37it/s]\n",
      "Running Optimal BE PI: 100%|██████████| 15/15 [00:02<00:00,  5.46it/s]\n",
      "Running Optimal Phibe of order 1 using Galerkin: 100%|██████████| 15/15 [00:02<00:00,  5.31it/s]\n",
      "Running Optimal Phibe of order 2 using Galerkin: 100%|██████████| 15/15 [00:03<00:00,  4.61it/s]\n",
      "Running Optimal BE PI: 100%|██████████| 15/15 [00:02<00:00,  5.50it/s]\n",
      "Running Optimal Phibe of order 1 using Galerkin: 100%|██████████| 15/15 [00:02<00:00,  5.37it/s]\n",
      "Running Optimal Phibe of order 2 using Galerkin: 100%|██████████| 15/15 [00:02<00:00,  5.42it/s]\n",
      "Running Optimal BE PI: 100%|██████████| 15/15 [00:02<00:00,  6.44it/s]\n",
      "Running Optimal Phibe of order 1 using Galerkin: 100%|██████████| 15/15 [00:02<00:00,  5.44it/s]\n",
      "Running Optimal Phibe of order 2 using Galerkin: 100%|██████████| 15/15 [00:02<00:00,  5.46it/s]\n",
      "Running Optimal BE PI: 100%|██████████| 15/15 [00:00<00:00, 15.39it/s]\n"
     ]
    },
    {
     "name": "stdout",
     "output_type": "stream",
     "text": [
      "running experiment round 11\n"
     ]
    },
    {
     "name": "stderr",
     "output_type": "stream",
     "text": [
      "Running Optimal Phibe of order 1 using Galerkin: 100%|██████████| 15/15 [00:02<00:00,  5.39it/s]\n",
      "Running Optimal Phibe of order 2 using Galerkin: 100%|██████████| 15/15 [00:02<00:00,  5.40it/s]\n",
      "Running Optimal BE PI: 100%|██████████| 15/15 [00:03<00:00,  4.79it/s]\n",
      "Running Optimal Phibe of order 1 using Galerkin: 100%|██████████| 15/15 [00:02<00:00,  5.42it/s]\n",
      "Running Optimal Phibe of order 2 using Galerkin: 100%|██████████| 15/15 [00:02<00:00,  5.35it/s]\n",
      "Running Optimal BE PI: 100%|██████████| 15/15 [00:03<00:00,  4.71it/s]\n",
      "Running Optimal Phibe of order 1 using Galerkin: 100%|██████████| 15/15 [00:02<00:00,  5.17it/s]\n",
      "Running Optimal Phibe of order 2 using Galerkin: 100%|██████████| 15/15 [00:02<00:00,  5.37it/s]\n",
      "Running Optimal BE PI: 100%|██████████| 15/15 [00:02<00:00,  5.46it/s]\n",
      "Running Optimal Phibe of order 1 using Galerkin: 100%|██████████| 15/15 [00:02<00:00,  5.13it/s]\n",
      "Running Optimal Phibe of order 2 using Galerkin: 100%|██████████| 15/15 [00:02<00:00,  5.34it/s]\n",
      "Running Optimal BE PI: 100%|██████████| 15/15 [00:03<00:00,  4.72it/s]\n",
      "Running Optimal Phibe of order 1 using Galerkin: 100%|██████████| 15/15 [00:02<00:00,  5.37it/s]\n",
      "Running Optimal Phibe of order 2 using Galerkin: 100%|██████████| 15/15 [00:02<00:00,  5.27it/s]\n",
      "Running Optimal BE PI: 100%|██████████| 15/15 [00:02<00:00,  6.46it/s]\n",
      "Running Optimal Phibe of order 1 using Galerkin: 100%|██████████| 15/15 [00:02<00:00,  5.40it/s]\n",
      "Running Optimal Phibe of order 2 using Galerkin: 100%|██████████| 15/15 [00:02<00:00,  5.39it/s]\n",
      "Running Optimal BE PI: 100%|██████████| 15/15 [00:00<00:00, 15.41it/s]\n"
     ]
    },
    {
     "name": "stdout",
     "output_type": "stream",
     "text": [
      "running experiment round 12\n"
     ]
    },
    {
     "name": "stderr",
     "output_type": "stream",
     "text": [
      "Running Optimal Phibe of order 1 using Galerkin:  20%|██        | 3/15 [00:00<00:02,  5.44it/s]"
     ]
    },
    {
     "name": "stdout",
     "output_type": "stream",
     "text": [
      "infeasibility detected\n"
     ]
    },
    {
     "name": "stderr",
     "output_type": "stream",
     "text": [
      "Running Optimal Phibe of order 1 using Galerkin: 100%|██████████| 15/15 [00:02<00:00,  5.44it/s]\n",
      "Running Optimal Phibe of order 2 using Galerkin: 100%|██████████| 15/15 [00:02<00:00,  5.29it/s]\n",
      "Running Optimal BE PI: 100%|██████████| 15/15 [00:02<00:00,  5.43it/s]\n",
      "Running Optimal Phibe of order 1 using Galerkin: 100%|██████████| 15/15 [00:03<00:00,  4.77it/s]\n",
      "Running Optimal Phibe of order 2 using Galerkin: 100%|██████████| 15/15 [00:02<00:00,  5.35it/s]\n",
      "Running Optimal BE PI: 100%|██████████| 15/15 [00:02<00:00,  5.40it/s]\n",
      "Running Optimal Phibe of order 1 using Galerkin: 100%|██████████| 15/15 [00:02<00:00,  5.27it/s]\n",
      "Running Optimal Phibe of order 2 using Galerkin: 100%|██████████| 15/15 [00:02<00:00,  5.27it/s]\n",
      "Running Optimal BE PI: 100%|██████████| 15/15 [00:03<00:00,  4.99it/s]\n",
      "Running Optimal Phibe of order 1 using Galerkin: 100%|██████████| 15/15 [00:03<00:00,  4.47it/s]\n",
      "Running Optimal Phibe of order 2 using Galerkin: 100%|██████████| 15/15 [00:03<00:00,  4.94it/s]\n",
      "Running Optimal BE PI: 100%|██████████| 15/15 [00:03<00:00,  4.99it/s]\n",
      "Running Optimal Phibe of order 1 using Galerkin: 100%|██████████| 15/15 [00:03<00:00,  4.15it/s]\n",
      "Running Optimal Phibe of order 2 using Galerkin: 100%|██████████| 15/15 [00:03<00:00,  3.76it/s]\n",
      "Running Optimal BE PI: 100%|██████████| 15/15 [00:02<00:00,  5.10it/s]\n",
      "Running Optimal Phibe of order 1 using Galerkin: 100%|██████████| 15/15 [00:03<00:00,  4.16it/s]\n",
      "Running Optimal Phibe of order 2 using Galerkin: 100%|██████████| 15/15 [00:03<00:00,  4.12it/s]\n",
      "Running Optimal BE PI: 100%|██████████| 15/15 [00:01<00:00, 11.77it/s]\n"
     ]
    },
    {
     "name": "stdout",
     "output_type": "stream",
     "text": [
      "running experiment round 13\n"
     ]
    },
    {
     "name": "stderr",
     "output_type": "stream",
     "text": [
      "Running Optimal Phibe of order 1 using Galerkin: 100%|██████████| 15/15 [00:03<00:00,  4.08it/s]\n",
      "Running Optimal Phibe of order 2 using Galerkin: 100%|██████████| 15/15 [00:03<00:00,  3.91it/s]\n",
      "Running Optimal BE PI: 100%|██████████| 15/15 [00:03<00:00,  4.10it/s]\n",
      "Running Optimal Phibe of order 1 using Galerkin: 100%|██████████| 15/15 [00:03<00:00,  4.11it/s]\n",
      "Running Optimal Phibe of order 2 using Galerkin: 100%|██████████| 15/15 [00:03<00:00,  3.99it/s]\n",
      "Running Optimal BE PI: 100%|██████████| 15/15 [00:04<00:00,  3.55it/s]\n",
      "Running Optimal Phibe of order 1 using Galerkin: 100%|██████████| 15/15 [00:03<00:00,  3.99it/s]\n",
      "Running Optimal Phibe of order 2 using Galerkin: 100%|██████████| 15/15 [00:03<00:00,  4.06it/s]\n",
      "Running Optimal BE PI: 100%|██████████| 15/15 [00:03<00:00,  3.84it/s]\n",
      "Running Optimal Phibe of order 1 using Galerkin: 100%|██████████| 15/15 [00:03<00:00,  4.75it/s]\n",
      "Running Optimal Phibe of order 2 using Galerkin: 100%|██████████| 15/15 [00:03<00:00,  4.69it/s]\n",
      "Running Optimal BE PI: 100%|██████████| 15/15 [00:03<00:00,  4.63it/s]\n",
      "Running Optimal Phibe of order 1 using Galerkin: 100%|██████████| 15/15 [00:03<00:00,  4.68it/s]\n",
      "Running Optimal Phibe of order 2 using Galerkin: 100%|██████████| 15/15 [00:03<00:00,  4.84it/s]\n",
      "Running Optimal BE PI: 100%|██████████| 15/15 [00:02<00:00,  5.69it/s]\n",
      "Running Optimal Phibe of order 1 using Galerkin: 100%|██████████| 15/15 [00:03<00:00,  4.14it/s]\n",
      "Running Optimal Phibe of order 2 using Galerkin: 100%|██████████| 15/15 [00:03<00:00,  4.86it/s]\n",
      "Running Optimal BE PI: 100%|██████████| 15/15 [00:01<00:00, 13.97it/s]\n"
     ]
    },
    {
     "name": "stdout",
     "output_type": "stream",
     "text": [
      "running experiment round 14\n"
     ]
    },
    {
     "name": "stderr",
     "output_type": "stream",
     "text": [
      "Running Optimal Phibe of order 1 using Galerkin: 100%|██████████| 15/15 [00:03<00:00,  4.95it/s]\n",
      "Running Optimal Phibe of order 2 using Galerkin: 100%|██████████| 15/15 [00:03<00:00,  4.94it/s]\n",
      "Running Optimal BE PI: 100%|██████████| 15/15 [00:02<00:00,  5.15it/s]\n",
      "Running Optimal Phibe of order 1 using Galerkin: 100%|██████████| 15/15 [00:02<00:00,  5.13it/s]\n",
      "Running Optimal Phibe of order 2 using Galerkin: 100%|██████████| 15/15 [00:02<00:00,  5.10it/s]\n",
      "Running Optimal BE PI: 100%|██████████| 15/15 [00:02<00:00,  5.02it/s]\n",
      "Running Optimal Phibe of order 1 using Galerkin: 100%|██████████| 15/15 [00:02<00:00,  5.01it/s]\n",
      "Running Optimal Phibe of order 2 using Galerkin: 100%|██████████| 15/15 [00:03<00:00,  4.37it/s]\n",
      "Running Optimal BE PI: 100%|██████████| 15/15 [00:02<00:00,  5.29it/s]\n",
      "Running Optimal Phibe of order 1 using Galerkin: 100%|██████████| 15/15 [00:03<00:00,  4.11it/s]\n",
      "Running Optimal Phibe of order 2 using Galerkin: 100%|██████████| 15/15 [00:02<00:00,  5.01it/s]\n",
      "Running Optimal BE PI: 100%|██████████| 15/15 [00:02<00:00,  5.20it/s]\n",
      "Running Optimal Phibe of order 1 using Galerkin: 100%|██████████| 15/15 [00:02<00:00,  5.06it/s]\n",
      "Running Optimal Phibe of order 2 using Galerkin: 100%|██████████| 15/15 [00:02<00:00,  5.04it/s]\n",
      "Running Optimal BE PI: 100%|██████████| 15/15 [00:02<00:00,  6.15it/s]\n",
      "Running Optimal Phibe of order 1 using Galerkin: 100%|██████████| 15/15 [00:02<00:00,  5.20it/s]\n",
      "Running Optimal Phibe of order 2 using Galerkin: 100%|██████████| 15/15 [00:02<00:00,  5.17it/s]\n",
      "Running Optimal BE PI: 100%|██████████| 15/15 [00:01<00:00, 14.58it/s]\n"
     ]
    },
    {
     "name": "stdout",
     "output_type": "stream",
     "text": [
      "running experiment round 15\n"
     ]
    },
    {
     "name": "stderr",
     "output_type": "stream",
     "text": [
      "Running Optimal Phibe of order 1 using Galerkin: 100%|██████████| 15/15 [00:03<00:00,  4.40it/s]\n",
      "Running Optimal Phibe of order 2 using Galerkin: 100%|██████████| 15/15 [00:02<00:00,  5.34it/s]\n",
      "Running Optimal BE PI: 100%|██████████| 15/15 [00:02<00:00,  5.14it/s]\n",
      "Running Optimal Phibe of order 1 using Galerkin: 100%|██████████| 15/15 [00:02<00:00,  5.19it/s]\n",
      "Running Optimal Phibe of order 2 using Galerkin: 100%|██████████| 15/15 [00:02<00:00,  5.10it/s]\n",
      "Running Optimal BE PI: 100%|██████████| 15/15 [00:02<00:00,  5.22it/s]\n",
      "Running Optimal Phibe of order 1 using Galerkin: 100%|██████████| 15/15 [00:02<00:00,  5.08it/s]\n",
      "Running Optimal Phibe of order 2 using Galerkin: 100%|██████████| 15/15 [00:02<00:00,  5.21it/s]\n",
      "Running Optimal BE PI: 100%|██████████| 15/15 [00:02<00:00,  5.20it/s]\n",
      "Running Optimal Phibe of order 1 using Galerkin:  27%|██▋       | 4/15 [00:00<00:02,  5.27it/s]"
     ]
    },
    {
     "name": "stdout",
     "output_type": "stream",
     "text": [
      "infeasibility detected\n"
     ]
    },
    {
     "name": "stderr",
     "output_type": "stream",
     "text": [
      "Running Optimal Phibe of order 1 using Galerkin: 100%|██████████| 15/15 [00:02<00:00,  5.09it/s]\n",
      "Running Optimal Phibe of order 2 using Galerkin: 100%|██████████| 15/15 [00:03<00:00,  4.66it/s]\n",
      "Running Optimal BE PI: 100%|██████████| 15/15 [00:02<00:00,  5.55it/s]\n",
      "Running Optimal Phibe of order 1 using Galerkin: 100%|██████████| 15/15 [00:03<00:00,  4.81it/s]\n",
      "Running Optimal Phibe of order 2 using Galerkin: 100%|██████████| 15/15 [00:02<00:00,  5.21it/s]\n",
      "Running Optimal BE PI: 100%|██████████| 15/15 [00:02<00:00,  6.42it/s]\n",
      "Running Optimal Phibe of order 1 using Galerkin: 100%|██████████| 15/15 [00:03<00:00,  4.95it/s]\n",
      "Running Optimal Phibe of order 2 using Galerkin: 100%|██████████| 15/15 [00:02<00:00,  5.09it/s]\n",
      "Running Optimal BE PI: 100%|██████████| 15/15 [00:01<00:00, 14.12it/s]\n"
     ]
    },
    {
     "name": "stdout",
     "output_type": "stream",
     "text": [
      "running experiment round 16\n"
     ]
    },
    {
     "name": "stderr",
     "output_type": "stream",
     "text": [
      "Running Optimal Phibe of order 1 using Galerkin: 100%|██████████| 15/15 [00:02<00:00,  5.20it/s]\n",
      "Running Optimal Phibe of order 2 using Galerkin: 100%|██████████| 15/15 [00:02<00:00,  5.12it/s]\n",
      "Running Optimal BE PI: 100%|██████████| 15/15 [00:02<00:00,  5.11it/s]\n",
      "Running Optimal Phibe of order 1 using Galerkin: 100%|██████████| 15/15 [00:03<00:00,  3.99it/s]\n",
      "Running Optimal Phibe of order 2 using Galerkin: 100%|██████████| 15/15 [00:02<00:00,  5.09it/s]\n",
      "Running Optimal BE PI: 100%|██████████| 15/15 [00:02<00:00,  5.17it/s]\n",
      "Running Optimal Phibe of order 1 using Galerkin: 100%|██████████| 15/15 [00:03<00:00,  4.95it/s]\n",
      "Running Optimal Phibe of order 2 using Galerkin: 100%|██████████| 15/15 [00:02<00:00,  5.02it/s]\n",
      "Running Optimal BE PI: 100%|██████████| 15/15 [00:02<00:00,  5.12it/s]\n",
      "Running Optimal Phibe of order 1 using Galerkin: 100%|██████████| 15/15 [00:02<00:00,  5.09it/s]\n",
      "Running Optimal Phibe of order 2 using Galerkin:  67%|██████▋   | 10/15 [00:01<00:00,  5.26it/s]"
     ]
    },
    {
     "name": "stdout",
     "output_type": "stream",
     "text": [
      "infeasibility detected\n"
     ]
    },
    {
     "name": "stderr",
     "output_type": "stream",
     "text": [
      "Running Optimal Phibe of order 2 using Galerkin: 100%|██████████| 15/15 [00:02<00:00,  5.14it/s]\n",
      "Running Optimal BE PI: 100%|██████████| 15/15 [00:02<00:00,  5.22it/s]\n",
      "Running Optimal Phibe of order 1 using Galerkin: 100%|██████████| 15/15 [00:02<00:00,  5.05it/s]\n",
      "Running Optimal Phibe of order 2 using Galerkin: 100%|██████████| 15/15 [00:02<00:00,  5.18it/s]\n",
      "Running Optimal BE PI: 100%|██████████| 15/15 [00:03<00:00,  4.78it/s]\n",
      "Running Optimal Phibe of order 1 using Galerkin: 100%|██████████| 15/15 [00:03<00:00,  4.97it/s]\n",
      "Running Optimal Phibe of order 2 using Galerkin: 100%|██████████| 15/15 [00:02<00:00,  5.17it/s]\n",
      "Running Optimal BE PI: 100%|██████████| 15/15 [00:01<00:00, 14.27it/s]\n"
     ]
    },
    {
     "name": "stdout",
     "output_type": "stream",
     "text": [
      "running experiment round 17\n"
     ]
    },
    {
     "name": "stderr",
     "output_type": "stream",
     "text": [
      "Running Optimal Phibe of order 1 using Galerkin: 100%|██████████| 15/15 [00:02<00:00,  5.18it/s]\n",
      "Running Optimal Phibe of order 2 using Galerkin: 100%|██████████| 15/15 [00:02<00:00,  5.09it/s]\n",
      "Running Optimal BE PI: 100%|██████████| 15/15 [00:02<00:00,  5.15it/s]\n",
      "Running Optimal Phibe of order 1 using Galerkin: 100%|██████████| 15/15 [00:02<00:00,  5.19it/s]\n",
      "Running Optimal Phibe of order 2 using Galerkin: 100%|██████████| 15/15 [00:02<00:00,  5.15it/s]\n",
      "Running Optimal BE PI: 100%|██████████| 15/15 [00:03<00:00,  4.93it/s]\n",
      "Running Optimal Phibe of order 1 using Galerkin: 100%|██████████| 15/15 [00:03<00:00,  4.97it/s]\n",
      "Running Optimal Phibe of order 2 using Galerkin: 100%|██████████| 15/15 [00:03<00:00,  4.37it/s]\n",
      "Running Optimal BE PI: 100%|██████████| 15/15 [00:02<00:00,  5.17it/s]\n",
      "Running Optimal Phibe of order 1 using Galerkin: 100%|██████████| 15/15 [00:03<00:00,  4.71it/s]\n",
      "Running Optimal Phibe of order 2 using Galerkin: 100%|██████████| 15/15 [00:02<00:00,  5.13it/s]\n",
      "Running Optimal BE PI: 100%|██████████| 15/15 [00:02<00:00,  5.22it/s]\n",
      "Running Optimal Phibe of order 1 using Galerkin: 100%|██████████| 15/15 [00:02<00:00,  5.08it/s]\n",
      "Running Optimal Phibe of order 2 using Galerkin: 100%|██████████| 15/15 [00:02<00:00,  5.06it/s]\n",
      "Running Optimal BE PI: 100%|██████████| 15/15 [00:02<00:00,  6.10it/s]\n",
      "Running Optimal Phibe of order 1 using Galerkin: 100%|██████████| 15/15 [00:02<00:00,  5.22it/s]\n",
      "Running Optimal Phibe of order 2 using Galerkin: 100%|██████████| 15/15 [00:02<00:00,  5.07it/s]\n",
      "Running Optimal BE PI: 100%|██████████| 15/15 [00:01<00:00, 14.55it/s]\n"
     ]
    },
    {
     "name": "stdout",
     "output_type": "stream",
     "text": [
      "running experiment round 18\n"
     ]
    },
    {
     "name": "stderr",
     "output_type": "stream",
     "text": [
      "Running Optimal Phibe of order 1 using Galerkin: 100%|██████████| 15/15 [00:03<00:00,  4.12it/s]\n",
      "Running Optimal Phibe of order 2 using Galerkin: 100%|██████████| 15/15 [00:02<00:00,  5.14it/s]\n",
      "Running Optimal BE PI: 100%|██████████| 15/15 [00:02<00:00,  5.14it/s]\n",
      "Running Optimal Phibe of order 1 using Galerkin: 100%|██████████| 15/15 [00:02<00:00,  5.16it/s]\n",
      "Running Optimal Phibe of order 2 using Galerkin: 100%|██████████| 15/15 [00:02<00:00,  5.08it/s]\n",
      "Running Optimal BE PI: 100%|██████████| 15/15 [00:02<00:00,  5.09it/s]\n",
      "Running Optimal Phibe of order 1 using Galerkin: 100%|██████████| 15/15 [00:03<00:00,  4.96it/s]\n",
      "Running Optimal Phibe of order 2 using Galerkin: 100%|██████████| 15/15 [00:02<00:00,  5.05it/s]\n",
      "Running Optimal BE PI: 100%|██████████| 15/15 [00:02<00:00,  5.07it/s]\n",
      "Running Optimal Phibe of order 1 using Galerkin: 100%|██████████| 15/15 [00:03<00:00,  4.86it/s]\n",
      "Running Optimal Phibe of order 2 using Galerkin: 100%|██████████| 15/15 [00:02<00:00,  5.10it/s]\n",
      "Running Optimal BE PI: 100%|██████████| 15/15 [00:03<00:00,  4.55it/s]\n",
      "Running Optimal Phibe of order 1 using Galerkin: 100%|██████████| 15/15 [00:03<00:00,  4.85it/s]\n",
      "Running Optimal Phibe of order 2 using Galerkin: 100%|██████████| 15/15 [00:02<00:00,  5.09it/s]\n",
      "Running Optimal BE PI: 100%|██████████| 15/15 [00:02<00:00,  5.99it/s]\n",
      "Running Optimal Phibe of order 1 using Galerkin: 100%|██████████| 15/15 [00:02<00:00,  5.12it/s]\n",
      "Running Optimal Phibe of order 2 using Galerkin: 100%|██████████| 15/15 [00:02<00:00,  5.13it/s]\n",
      "Running Optimal BE PI: 100%|██████████| 15/15 [00:01<00:00, 14.49it/s]\n"
     ]
    },
    {
     "name": "stdout",
     "output_type": "stream",
     "text": [
      "running experiment round 19\n"
     ]
    },
    {
     "name": "stderr",
     "output_type": "stream",
     "text": [
      "Running Optimal Phibe of order 1 using Galerkin: 100%|██████████| 15/15 [00:02<00:00,  5.14it/s]\n",
      "Running Optimal Phibe of order 2 using Galerkin: 100%|██████████| 15/15 [00:02<00:00,  5.00it/s]\n",
      "Running Optimal BE PI: 100%|██████████| 15/15 [00:03<00:00,  4.43it/s]\n",
      "Running Optimal Phibe of order 1 using Galerkin: 100%|██████████| 15/15 [00:02<00:00,  5.16it/s]\n",
      "Running Optimal Phibe of order 2 using Galerkin: 100%|██████████| 15/15 [00:02<00:00,  5.08it/s]\n",
      "Running Optimal BE PI: 100%|██████████| 15/15 [00:03<00:00,  4.31it/s]\n",
      "Running Optimal Phibe of order 1 using Galerkin: 100%|██████████| 15/15 [00:03<00:00,  4.93it/s]\n",
      "Running Optimal Phibe of order 2 using Galerkin: 100%|██████████| 15/15 [00:02<00:00,  5.06it/s]\n",
      "Running Optimal BE PI: 100%|██████████| 15/15 [00:02<00:00,  5.17it/s]\n",
      "Running Optimal Phibe of order 1 using Galerkin: 100%|██████████| 15/15 [00:03<00:00,  4.89it/s]\n",
      "Running Optimal Phibe of order 2 using Galerkin: 100%|██████████| 15/15 [00:02<00:00,  5.06it/s]\n",
      "Running Optimal BE PI: 100%|██████████| 15/15 [00:02<00:00,  5.11it/s]\n",
      "Running Optimal Phibe of order 1 using Galerkin: 100%|██████████| 15/15 [00:03<00:00,  4.93it/s]\n",
      "Running Optimal Phibe of order 2 using Galerkin: 100%|██████████| 15/15 [00:03<00:00,  4.85it/s]\n",
      "Running Optimal BE PI: 100%|██████████| 15/15 [00:02<00:00,  6.04it/s]\n",
      "Running Optimal Phibe of order 1 using Galerkin: 100%|██████████| 15/15 [00:02<00:00,  5.04it/s]\n",
      "Running Optimal Phibe of order 2 using Galerkin: 100%|██████████| 15/15 [00:03<00:00,  4.32it/s]\n",
      "Running Optimal BE PI: 100%|██████████| 15/15 [00:01<00:00, 13.42it/s]\n"
     ]
    },
    {
     "name": "stdout",
     "output_type": "stream",
     "text": [
      "running experiment round 20\n"
     ]
    },
    {
     "name": "stderr",
     "output_type": "stream",
     "text": [
      "Running Optimal Phibe of order 1 using Galerkin: 100%|██████████| 15/15 [00:02<00:00,  5.06it/s]\n",
      "Running Optimal Phibe of order 2 using Galerkin: 100%|██████████| 15/15 [00:02<00:00,  5.07it/s]\n",
      "Running Optimal BE PI: 100%|██████████| 15/15 [00:02<00:00,  5.10it/s]\n",
      "Running Optimal Phibe of order 1 using Galerkin:  53%|█████▎    | 8/15 [00:01<00:01,  5.19it/s]"
     ]
    },
    {
     "name": "stdout",
     "output_type": "stream",
     "text": [
      "infeasibility detected\n"
     ]
    },
    {
     "name": "stderr",
     "output_type": "stream",
     "text": [
      "Running Optimal Phibe of order 1 using Galerkin:  73%|███████▎  | 11/15 [00:02<00:00,  5.02it/s]"
     ]
    },
    {
     "name": "stdout",
     "output_type": "stream",
     "text": [
      "infeasibility detected\n"
     ]
    },
    {
     "name": "stderr",
     "output_type": "stream",
     "text": [
      "Running Optimal Phibe of order 1 using Galerkin: 100%|██████████| 15/15 [00:03<00:00,  4.90it/s]\n",
      "Running Optimal Phibe of order 2 using Galerkin: 100%|██████████| 15/15 [00:03<00:00,  4.23it/s]\n",
      "Running Optimal BE PI: 100%|██████████| 15/15 [00:03<00:00,  4.99it/s]\n",
      "Running Optimal Phibe of order 1 using Galerkin: 100%|██████████| 15/15 [00:03<00:00,  4.84it/s]\n",
      "Running Optimal Phibe of order 2 using Galerkin: 100%|██████████| 15/15 [00:03<00:00,  4.72it/s]\n",
      "Running Optimal BE PI: 100%|██████████| 15/15 [00:02<00:00,  5.12it/s]\n",
      "Running Optimal Phibe of order 1 using Galerkin: 100%|██████████| 15/15 [00:03<00:00,  4.30it/s]\n",
      "Running Optimal Phibe of order 2 using Galerkin: 100%|██████████| 15/15 [00:02<00:00,  5.02it/s]\n",
      "Running Optimal BE PI: 100%|██████████| 15/15 [00:03<00:00,  4.92it/s]\n",
      "Running Optimal Phibe of order 1 using Galerkin: 100%|██████████| 15/15 [00:03<00:00,  4.96it/s]\n",
      "Running Optimal Phibe of order 2 using Galerkin: 100%|██████████| 15/15 [00:02<00:00,  5.04it/s]\n",
      "Running Optimal BE PI: 100%|██████████| 15/15 [00:02<00:00,  6.05it/s]\n",
      "Running Optimal Phibe of order 1 using Galerkin: 100%|██████████| 15/15 [00:02<00:00,  5.03it/s]\n",
      "Running Optimal Phibe of order 2 using Galerkin: 100%|██████████| 15/15 [00:02<00:00,  5.16it/s]\n",
      "Running Optimal BE PI: 100%|██████████| 15/15 [00:01<00:00, 14.58it/s]\n"
     ]
    },
    {
     "name": "stdout",
     "output_type": "stream",
     "text": [
      "running experiment round 21\n"
     ]
    },
    {
     "name": "stderr",
     "output_type": "stream",
     "text": [
      "Running Optimal Phibe of order 1 using Galerkin: 100%|██████████| 15/15 [00:02<00:00,  5.10it/s]\n",
      "Running Optimal Phibe of order 2 using Galerkin: 100%|██████████| 15/15 [00:03<00:00,  4.93it/s]\n",
      "Running Optimal BE PI: 100%|██████████| 15/15 [00:02<00:00,  5.18it/s]\n",
      "Running Optimal Phibe of order 1 using Galerkin: 100%|██████████| 15/15 [00:03<00:00,  4.37it/s]\n",
      "Running Optimal Phibe of order 2 using Galerkin: 100%|██████████| 15/15 [00:02<00:00,  5.10it/s]\n",
      "Running Optimal BE PI: 100%|██████████| 15/15 [00:02<00:00,  5.01it/s]\n",
      "Running Optimal Phibe of order 1 using Galerkin: 100%|██████████| 15/15 [00:03<00:00,  4.23it/s]\n",
      "Running Optimal Phibe of order 2 using Galerkin: 100%|██████████| 15/15 [00:02<00:00,  5.07it/s]\n",
      "Running Optimal BE PI: 100%|██████████| 15/15 [00:02<00:00,  5.13it/s]\n",
      "Running Optimal Phibe of order 1 using Galerkin: 100%|██████████| 15/15 [00:03<00:00,  4.80it/s]\n",
      "Running Optimal Phibe of order 2 using Galerkin: 100%|██████████| 15/15 [00:02<00:00,  5.03it/s]\n",
      "Running Optimal BE PI: 100%|██████████| 15/15 [00:02<00:00,  5.22it/s]\n",
      "Running Optimal Phibe of order 1 using Galerkin: 100%|██████████| 15/15 [00:03<00:00,  5.00it/s]\n",
      "Running Optimal Phibe of order 2 using Galerkin: 100%|██████████| 15/15 [00:03<00:00,  4.88it/s]\n",
      "Running Optimal BE PI: 100%|██████████| 15/15 [00:02<00:00,  6.04it/s]\n",
      "Running Optimal Phibe of order 1 using Galerkin: 100%|██████████| 15/15 [00:03<00:00,  4.41it/s]\n",
      "Running Optimal Phibe of order 2 using Galerkin: 100%|██████████| 15/15 [00:02<00:00,  5.11it/s]\n",
      "Running Optimal BE PI: 100%|██████████| 15/15 [00:01<00:00, 14.28it/s]\n"
     ]
    },
    {
     "name": "stdout",
     "output_type": "stream",
     "text": [
      "running experiment round 22\n"
     ]
    },
    {
     "name": "stderr",
     "output_type": "stream",
     "text": [
      "Running Optimal Phibe of order 1 using Galerkin: 100%|██████████| 15/15 [00:02<00:00,  5.03it/s]\n",
      "Running Optimal Phibe of order 2 using Galerkin: 100%|██████████| 15/15 [00:02<00:00,  5.03it/s]\n",
      "Running Optimal BE PI: 100%|██████████| 15/15 [00:02<00:00,  5.13it/s]\n",
      "Running Optimal Phibe of order 1 using Galerkin: 100%|██████████| 15/15 [00:02<00:00,  5.12it/s]\n",
      "Running Optimal Phibe of order 2 using Galerkin: 100%|██████████| 15/15 [00:02<00:00,  5.01it/s]\n",
      "Running Optimal BE PI: 100%|██████████| 15/15 [00:02<00:00,  5.10it/s]\n",
      "Running Optimal Phibe of order 1 using Galerkin: 100%|██████████| 15/15 [00:03<00:00,  4.95it/s]\n",
      "Running Optimal Phibe of order 2 using Galerkin: 100%|██████████| 15/15 [00:03<00:00,  4.94it/s]\n",
      "Running Optimal BE PI: 100%|██████████| 15/15 [00:03<00:00,  4.33it/s]\n",
      "Running Optimal Phibe of order 1 using Galerkin: 100%|██████████| 15/15 [00:03<00:00,  4.21it/s]\n",
      "Running Optimal Phibe of order 2 using Galerkin: 100%|██████████| 15/15 [00:03<00:00,  4.95it/s]\n",
      "Running Optimal BE PI: 100%|██████████| 15/15 [00:03<00:00,  4.92it/s]\n",
      "Running Optimal Phibe of order 1 using Galerkin: 100%|██████████| 15/15 [00:03<00:00,  4.97it/s]\n",
      "Running Optimal Phibe of order 2 using Galerkin: 100%|██████████| 15/15 [00:02<00:00,  5.04it/s]\n",
      "Running Optimal BE PI: 100%|██████████| 15/15 [00:02<00:00,  5.93it/s]\n",
      "Running Optimal Phibe of order 1 using Galerkin: 100%|██████████| 15/15 [00:03<00:00,  4.97it/s]\n",
      "Running Optimal Phibe of order 2 using Galerkin: 100%|██████████| 15/15 [00:03<00:00,  4.86it/s]\n",
      "Running Optimal BE PI: 100%|██████████| 15/15 [00:01<00:00, 14.33it/s]\n"
     ]
    },
    {
     "name": "stdout",
     "output_type": "stream",
     "text": [
      "running experiment round 23\n"
     ]
    },
    {
     "name": "stderr",
     "output_type": "stream",
     "text": [
      "Running Optimal Phibe of order 1 using Galerkin: 100%|██████████| 15/15 [00:03<00:00,  4.97it/s]\n",
      "Running Optimal Phibe of order 2 using Galerkin: 100%|██████████| 15/15 [00:03<00:00,  4.99it/s]\n",
      "Running Optimal BE PI: 100%|██████████| 15/15 [00:03<00:00,  4.96it/s]\n",
      "Running Optimal Phibe of order 1 using Galerkin: 100%|██████████| 15/15 [00:03<00:00,  4.28it/s]\n",
      "Running Optimal Phibe of order 2 using Galerkin: 100%|██████████| 15/15 [00:02<00:00,  5.03it/s]\n",
      "Running Optimal BE PI: 100%|██████████| 15/15 [00:02<00:00,  5.00it/s]\n",
      "Running Optimal Phibe of order 1 using Galerkin: 100%|██████████| 15/15 [00:03<00:00,  4.81it/s]\n",
      "Running Optimal Phibe of order 2 using Galerkin: 100%|██████████| 15/15 [00:03<00:00,  5.00it/s]\n",
      "Running Optimal BE PI: 100%|██████████| 15/15 [00:02<00:00,  5.08it/s]\n",
      "Running Optimal Phibe of order 1 using Galerkin: 100%|██████████| 15/15 [00:02<00:00,  5.04it/s]\n",
      "Running Optimal Phibe of order 2 using Galerkin: 100%|██████████| 15/15 [00:03<00:00,  3.93it/s]\n",
      "Running Optimal BE PI: 100%|██████████| 15/15 [00:02<00:00,  5.08it/s]\n",
      "Running Optimal Phibe of order 1 using Galerkin: 100%|██████████| 15/15 [00:03<00:00,  4.88it/s]\n",
      "Running Optimal Phibe of order 2 using Galerkin: 100%|██████████| 15/15 [00:03<00:00,  4.94it/s]\n",
      "Running Optimal BE PI: 100%|██████████| 15/15 [00:02<00:00,  5.72it/s]\n",
      "Running Optimal Phibe of order 1 using Galerkin: 100%|██████████| 15/15 [00:03<00:00,  4.25it/s]\n",
      "Running Optimal Phibe of order 2 using Galerkin: 100%|██████████| 15/15 [00:02<00:00,  5.11it/s]\n",
      "Running Optimal BE PI: 100%|██████████| 15/15 [00:01<00:00, 11.71it/s]\n"
     ]
    },
    {
     "name": "stdout",
     "output_type": "stream",
     "text": [
      "running experiment round 24\n"
     ]
    },
    {
     "name": "stderr",
     "output_type": "stream",
     "text": [
      "Running Optimal Phibe of order 1 using Galerkin: 100%|██████████| 15/15 [00:03<00:00,  4.78it/s]\n",
      "Running Optimal Phibe of order 2 using Galerkin: 100%|██████████| 15/15 [00:03<00:00,  4.99it/s]\n",
      "Running Optimal BE PI: 100%|██████████| 15/15 [00:02<00:00,  5.01it/s]\n",
      "Running Optimal Phibe of order 1 using Galerkin: 100%|██████████| 15/15 [00:02<00:00,  5.07it/s]\n",
      "Running Optimal Phibe of order 2 using Galerkin: 100%|██████████| 15/15 [00:03<00:00,  4.88it/s]\n",
      "Running Optimal BE PI: 100%|██████████| 15/15 [00:02<00:00,  5.03it/s]\n",
      "Running Optimal Phibe of order 1 using Galerkin: 100%|██████████| 15/15 [00:03<00:00,  4.90it/s]\n",
      "Running Optimal Phibe of order 2 using Galerkin: 100%|██████████| 15/15 [00:03<00:00,  4.88it/s]\n",
      "Running Optimal BE PI: 100%|██████████| 15/15 [00:02<00:00,  5.08it/s]\n",
      "Running Optimal Phibe of order 1 using Galerkin: 100%|██████████| 15/15 [00:02<00:00,  5.11it/s]\n",
      "Running Optimal Phibe of order 2 using Galerkin: 100%|██████████| 15/15 [00:03<00:00,  4.18it/s]\n",
      "Running Optimal BE PI: 100%|██████████| 15/15 [00:03<00:00,  4.19it/s]\n",
      "Running Optimal Phibe of order 1 using Galerkin: 100%|██████████| 15/15 [00:03<00:00,  4.79it/s]\n",
      "Running Optimal Phibe of order 2 using Galerkin: 100%|██████████| 15/15 [00:02<00:00,  5.02it/s]\n",
      "Running Optimal BE PI: 100%|██████████| 15/15 [00:02<00:00,  5.91it/s]\n",
      "Running Optimal Phibe of order 1 using Galerkin: 100%|██████████| 15/15 [00:03<00:00,  4.88it/s]\n",
      "Running Optimal Phibe of order 2 using Galerkin: 100%|██████████| 15/15 [00:02<00:00,  5.02it/s]\n",
      "Running Optimal BE PI: 100%|██████████| 15/15 [00:01<00:00, 14.28it/s]\n"
     ]
    },
    {
     "name": "stdout",
     "output_type": "stream",
     "text": [
      "running experiment round 25\n"
     ]
    },
    {
     "name": "stderr",
     "output_type": "stream",
     "text": [
      "Running Optimal Phibe of order 1 using Galerkin: 100%|██████████| 15/15 [00:02<00:00,  5.00it/s]\n",
      "Running Optimal Phibe of order 2 using Galerkin: 100%|██████████| 15/15 [00:03<00:00,  4.93it/s]\n",
      "Running Optimal BE PI: 100%|██████████| 15/15 [00:03<00:00,  4.99it/s]\n",
      "Running Optimal Phibe of order 1 using Galerkin: 100%|██████████| 15/15 [00:02<00:00,  5.07it/s]\n",
      "Running Optimal Phibe of order 2 using Galerkin: 100%|██████████| 15/15 [00:03<00:00,  4.95it/s]\n",
      "Running Optimal BE PI: 100%|██████████| 15/15 [00:03<00:00,  4.18it/s]\n",
      "Running Optimal Phibe of order 1 using Galerkin: 100%|██████████| 15/15 [00:03<00:00,  4.86it/s]\n",
      "Running Optimal Phibe of order 2 using Galerkin: 100%|██████████| 15/15 [00:03<00:00,  4.99it/s]\n",
      "Running Optimal BE PI: 100%|██████████| 15/15 [00:02<00:00,  5.06it/s]\n",
      "Running Optimal Phibe of order 1 using Galerkin: 100%|██████████| 15/15 [00:03<00:00,  4.81it/s]\n",
      "Running Optimal Phibe of order 2 using Galerkin: 100%|██████████| 15/15 [00:02<00:00,  5.00it/s]\n",
      "Running Optimal BE PI: 100%|██████████| 15/15 [00:02<00:00,  5.09it/s]\n",
      "Running Optimal Phibe of order 1 using Galerkin: 100%|██████████| 15/15 [00:03<00:00,  4.89it/s]\n",
      "Running Optimal Phibe of order 2 using Galerkin: 100%|██████████| 15/15 [00:03<00:00,  4.22it/s]\n",
      "Running Optimal BE PI: 100%|██████████| 15/15 [00:02<00:00,  5.66it/s]\n",
      "Running Optimal Phibe of order 1 using Galerkin: 100%|██████████| 15/15 [00:03<00:00,  4.99it/s]\n",
      "Running Optimal Phibe of order 2 using Galerkin: 100%|██████████| 15/15 [00:03<00:00,  4.98it/s]\n",
      "Running Optimal BE PI: 100%|██████████| 15/15 [00:01<00:00, 12.53it/s]\n"
     ]
    },
    {
     "name": "stdout",
     "output_type": "stream",
     "text": [
      "running experiment round 26\n"
     ]
    },
    {
     "name": "stderr",
     "output_type": "stream",
     "text": [
      "Running Optimal Phibe of order 1 using Galerkin: 100%|██████████| 15/15 [00:03<00:00,  4.16it/s]\n",
      "Running Optimal Phibe of order 2 using Galerkin: 100%|██████████| 15/15 [00:03<00:00,  4.93it/s]\n",
      "Running Optimal BE PI: 100%|██████████| 15/15 [00:03<00:00,  4.99it/s]\n",
      "Running Optimal Phibe of order 1 using Galerkin:  47%|████▋     | 7/15 [00:01<00:01,  5.18it/s]"
     ]
    },
    {
     "name": "stdout",
     "output_type": "stream",
     "text": [
      "infeasibility detected\n"
     ]
    },
    {
     "name": "stderr",
     "output_type": "stream",
     "text": [
      "Running Optimal Phibe of order 1 using Galerkin: 100%|██████████| 15/15 [00:03<00:00,  4.86it/s]\n",
      "Running Optimal Phibe of order 2 using Galerkin: 100%|██████████| 15/15 [00:03<00:00,  4.96it/s]\n",
      "Running Optimal BE PI: 100%|██████████| 15/15 [00:03<00:00,  4.99it/s]\n",
      "Running Optimal Phibe of order 1 using Galerkin: 100%|██████████| 15/15 [00:03<00:00,  4.85it/s]\n",
      "Running Optimal Phibe of order 2 using Galerkin: 100%|██████████| 15/15 [00:03<00:00,  4.88it/s]\n",
      "Running Optimal BE PI: 100%|██████████| 15/15 [00:02<00:00,  5.03it/s]\n",
      "Running Optimal Phibe of order 1 using Galerkin: 100%|██████████| 15/15 [00:03<00:00,  4.92it/s]\n",
      "Running Optimal Phibe of order 2 using Galerkin: 100%|██████████| 15/15 [00:03<00:00,  4.96it/s]\n",
      "Running Optimal BE PI: 100%|██████████| 15/15 [00:03<00:00,  4.96it/s]\n",
      "Running Optimal Phibe of order 1 using Galerkin: 100%|██████████| 15/15 [00:03<00:00,  4.18it/s]\n",
      "Running Optimal Phibe of order 2 using Galerkin: 100%|██████████| 15/15 [00:03<00:00,  4.95it/s]\n",
      "Running Optimal BE PI: 100%|██████████| 15/15 [00:02<00:00,  5.80it/s]\n",
      "Running Optimal Phibe of order 1 using Galerkin: 100%|██████████| 15/15 [00:03<00:00,  4.16it/s]\n",
      "Running Optimal Phibe of order 2 using Galerkin: 100%|██████████| 15/15 [00:04<00:00,  3.72it/s]\n",
      "Running Optimal BE PI: 100%|██████████| 15/15 [00:01<00:00, 13.41it/s]\n"
     ]
    },
    {
     "name": "stdout",
     "output_type": "stream",
     "text": [
      "running experiment round 27\n"
     ]
    },
    {
     "name": "stderr",
     "output_type": "stream",
     "text": [
      "Running Optimal Phibe of order 1 using Galerkin: 100%|██████████| 15/15 [00:02<00:00,  5.05it/s]\n",
      "Running Optimal Phibe of order 2 using Galerkin: 100%|██████████| 15/15 [00:03<00:00,  4.72it/s]\n",
      "Running Optimal BE PI: 100%|██████████| 15/15 [00:03<00:00,  4.97it/s]\n",
      "Running Optimal Phibe of order 1 using Galerkin: 100%|██████████| 15/15 [00:03<00:00,  5.00it/s]\n",
      "Running Optimal Phibe of order 2 using Galerkin: 100%|██████████| 15/15 [00:03<00:00,  4.94it/s]\n",
      "Running Optimal BE PI: 100%|██████████| 15/15 [00:03<00:00,  4.89it/s]\n",
      "Running Optimal Phibe of order 1 using Galerkin: 100%|██████████| 15/15 [00:03<00:00,  4.84it/s]\n",
      "Running Optimal Phibe of order 2 using Galerkin: 100%|██████████| 15/15 [00:03<00:00,  4.04it/s]\n",
      "Running Optimal BE PI: 100%|██████████| 15/15 [00:02<00:00,  5.09it/s]\n",
      "Running Optimal Phibe of order 1 using Galerkin: 100%|██████████| 15/15 [00:03<00:00,  4.77it/s]\n",
      "Running Optimal Phibe of order 2 using Galerkin: 100%|██████████| 15/15 [00:03<00:00,  4.98it/s]\n",
      "Running Optimal BE PI: 100%|██████████| 15/15 [00:02<00:00,  5.04it/s]\n",
      "Running Optimal Phibe of order 1 using Galerkin: 100%|██████████| 15/15 [00:03<00:00,  4.95it/s]\n",
      "Running Optimal Phibe of order 2 using Galerkin: 100%|██████████| 15/15 [00:03<00:00,  4.87it/s]\n",
      "Running Optimal BE PI: 100%|██████████| 15/15 [00:02<00:00,  5.98it/s]\n",
      "Running Optimal Phibe of order 1 using Galerkin: 100%|██████████| 15/15 [00:02<00:00,  5.00it/s]\n",
      "Running Optimal Phibe of order 2 using Galerkin: 100%|██████████| 15/15 [00:02<00:00,  5.01it/s]\n",
      "Running Optimal BE PI: 100%|██████████| 15/15 [00:01<00:00,  9.80it/s]\n"
     ]
    },
    {
     "name": "stdout",
     "output_type": "stream",
     "text": [
      "running experiment round 28\n"
     ]
    },
    {
     "name": "stderr",
     "output_type": "stream",
     "text": [
      "Running Optimal Phibe of order 1 using Galerkin: 100%|██████████| 15/15 [00:03<00:00,  4.68it/s]\n",
      "Running Optimal Phibe of order 2 using Galerkin: 100%|██████████| 15/15 [00:03<00:00,  4.98it/s]\n",
      "Running Optimal BE PI: 100%|██████████| 15/15 [00:02<00:00,  5.01it/s]\n",
      "Running Optimal Phibe of order 1 using Galerkin: 100%|██████████| 15/15 [00:03<00:00,  4.07it/s]\n",
      "Running Optimal Phibe of order 2 using Galerkin: 100%|██████████| 15/15 [00:03<00:00,  4.88it/s]\n",
      "Running Optimal BE PI: 100%|██████████| 15/15 [00:03<00:00,  4.98it/s]\n",
      "Running Optimal Phibe of order 1 using Galerkin: 100%|██████████| 15/15 [00:03<00:00,  4.89it/s]\n",
      "Running Optimal Phibe of order 2 using Galerkin: 100%|██████████| 15/15 [00:03<00:00,  4.82it/s]\n",
      "Running Optimal BE PI: 100%|██████████| 15/15 [00:03<00:00,  4.95it/s]\n",
      "Running Optimal Phibe of order 1 using Galerkin: 100%|██████████| 15/15 [00:03<00:00,  4.83it/s]\n",
      "Running Optimal Phibe of order 2 using Galerkin: 100%|██████████| 15/15 [00:03<00:00,  4.95it/s]\n",
      "Running Optimal BE PI: 100%|██████████| 15/15 [00:03<00:00,  4.98it/s]\n",
      "Running Optimal Phibe of order 1 using Galerkin: 100%|██████████| 15/15 [00:03<00:00,  4.86it/s]\n",
      "Running Optimal Phibe of order 2 using Galerkin: 100%|██████████| 15/15 [00:03<00:00,  5.00it/s]\n",
      "Running Optimal BE PI: 100%|██████████| 15/15 [00:02<00:00,  5.94it/s]\n",
      "Running Optimal Phibe of order 1 using Galerkin: 100%|██████████| 15/15 [00:03<00:00,  4.81it/s]\n",
      "Running Optimal Phibe of order 2 using Galerkin: 100%|██████████| 15/15 [00:03<00:00,  3.93it/s]\n",
      "Running Optimal BE PI: 100%|██████████| 15/15 [00:01<00:00, 13.71it/s]\n"
     ]
    },
    {
     "name": "stdout",
     "output_type": "stream",
     "text": [
      "running experiment round 29\n"
     ]
    },
    {
     "name": "stderr",
     "output_type": "stream",
     "text": [
      "Running Optimal Phibe of order 1 using Galerkin: 100%|██████████| 15/15 [00:03<00:00,  4.92it/s]\n",
      "Running Optimal Phibe of order 2 using Galerkin: 100%|██████████| 15/15 [00:03<00:00,  4.25it/s]\n",
      "Running Optimal BE PI: 100%|██████████| 15/15 [00:03<00:00,  4.92it/s]\n",
      "Running Optimal Phibe of order 1 using Galerkin: 100%|██████████| 15/15 [00:03<00:00,  4.94it/s]\n",
      "Running Optimal Phibe of order 2 using Galerkin: 100%|██████████| 15/15 [00:03<00:00,  4.85it/s]\n",
      "Running Optimal BE PI: 100%|██████████| 15/15 [00:03<00:00,  4.97it/s]\n",
      "Running Optimal Phibe of order 1 using Galerkin: 100%|██████████| 15/15 [00:03<00:00,  4.76it/s]\n",
      "Running Optimal Phibe of order 2 using Galerkin: 100%|██████████| 15/15 [00:03<00:00,  4.94it/s]\n",
      "Running Optimal BE PI: 100%|██████████| 15/15 [00:02<00:00,  5.02it/s]\n",
      "Running Optimal Phibe of order 1 using Galerkin: 100%|██████████| 15/15 [00:03<00:00,  4.90it/s]\n",
      "Running Optimal Phibe of order 2 using Galerkin: 100%|██████████| 15/15 [00:03<00:00,  4.81it/s]\n",
      "Running Optimal BE PI: 100%|██████████| 15/15 [00:03<00:00,  4.11it/s]\n",
      "Running Optimal Phibe of order 1 using Galerkin: 100%|██████████| 15/15 [00:03<00:00,  4.89it/s]\n",
      "Running Optimal Phibe of order 2 using Galerkin: 100%|██████████| 15/15 [00:03<00:00,  4.93it/s]\n",
      "Running Optimal BE PI: 100%|██████████| 15/15 [00:02<00:00,  5.81it/s]\n",
      "Running Optimal Phibe of order 1 using Galerkin: 100%|██████████| 15/15 [00:03<00:00,  4.99it/s]\n",
      "Running Optimal Phibe of order 2 using Galerkin: 100%|██████████| 15/15 [00:03<00:00,  4.83it/s]\n",
      "Running Optimal BE PI: 100%|██████████| 15/15 [00:01<00:00, 13.82it/s]\n"
     ]
    }
   ],
   "source": [
    "for traj_idx in range(num_traj):\n",
    "    print(f'running experiment round {traj_idx}')\n",
    "    V_exact_dist_final_1st = []\n",
    "    V_exact_dist_final_2nd = []\n",
    "    V_exact_dist_final_RL = []\n",
    "\n",
    "    for dt in [5 * 1e-3, 1e-2, 5 * 1e-2, 1e-1, 1, 2.5]:\n",
    "        V_init = true_V_eval_2D(A, B, b_init, R, Q, beta, sig)\n",
    "        b1, V_exact_dist_1, _ = phibe_finder_2D_LQR(beta, b_init[:, :], Q_init[:], bd_low_s, bd_upper_s, bd_low_b, bd_upper_b, reward, simp_basis, bases_V, d_bases_V, sec_d_bases_V, bases_Q, num_iter, deterministic, \"Galerkin\", GD_num_iter, m, m_Q, I, lr, dt, 1, true_V, info_true)\n",
    "        b2, V_exact_dist_2, _ = phibe_finder_2D_LQR(beta, b_init[:, :], Q_init[:], bd_low_s, bd_upper_s, bd_low_b, bd_upper_b, reward, simp_basis, bases_V, d_bases_V, sec_d_bases_V, bases_Q, num_iter, deterministic, \"Galerkin\", GD_num_iter, m, m_Q, I, lr, dt, 2, true_V, info_true)\n",
    "\n",
    "        b_val_RL, V_exact_dist_RL = RL_finder_2D_LQR(beta, b_init[:, :], bd_low_s, bd_upper_s, bd_low_a, bd_upper_a, reward, simp_basis, bases_Q, num_iter, I, m_Q, dt, true_V, info_true)\n",
    "\n",
    "        V_exact_dist_final_1st.append(torch.norm(b1[-1] - true_b))\n",
    "        V_exact_dist_final_2nd.append(torch.norm(b2[-1] - true_b))\n",
    "        V_exact_dist_final_RL.append(torch.norm(b_val_RL[-1] - true_b))\n",
    "\n",
    "\n",
    "    V_exact_dist_total_2nd[traj_idx, :] = torch.tensor(V_exact_dist_final_2nd, dtype=torch.float64)\n",
    "    V_exact_dist_total_1st[traj_idx, :] = torch.tensor(V_exact_dist_final_1st, dtype=torch.float64)\n",
    "    V_exact_dist_total_RL[traj_idx, :] = torch.tensor(V_exact_dist_final_RL, dtype=torch.float64)"
   ]
  },
  {
   "cell_type": "code",
   "execution_count": 33,
   "metadata": {},
   "outputs": [
    {
     "name": "stderr",
     "output_type": "stream",
     "text": [
      "The PostScript backend does not support transparency; partially transparent artists will be rendered opaque.\n"
     ]
    },
    {
     "data": {
      "image/png": "[encoded data removed]",
      "text/plain": [
       "<Figure size 1200x800 with 1 Axes>"
      ]
     },
     "metadata": {},
     "output_type": "display_data"
    }
   ],
   "source": [
    "trajectories_RL = V_exact_dist_total_RL[:, :]\n",
    "trajectories_2nd = V_exact_dist_total_2nd[:, :]\n",
    "trajectories_1st = V_exact_dist_total_1st[:, :]\n",
    "\n",
    "trajectories_np_RL = trajectories_RL.numpy()\n",
    "trajectories_np_2nd = trajectories_2nd.numpy()\n",
    "trajectories_np_1st = trajectories_1st.numpy()\n",
    "\n",
    "x_values = [5 * 1e-3, 1e-2, 5 * 1e-2, 1e-1, 1, 2.5]\n",
    "\n",
    "min_trajectory_RL = trajectories_np_RL.min(axis=0)\n",
    "max_trajectory_RL = trajectories_np_RL.max(axis=0)\n",
    "mean_trajectory_RL = trajectories_np_RL.mean(axis=0)\n",
    "\n",
    "min_trajectory_1st = trajectories_np_1st.min(axis=0)\n",
    "max_trajectory_1st = trajectories_np_1st.max(axis=0)\n",
    "mean_trajectory_1st = trajectories_np_1st.mean(axis=0)\n",
    "\n",
    "min_trajectory_2nd = trajectories_np_2nd.min(axis=0)\n",
    "max_trajectory_2nd = trajectories_np_2nd.max(axis=0)\n",
    "mean_trajectory_2nd = trajectories_np_2nd.mean(axis=0)\n",
    "\n",
    "plt.figure(figsize=(12, 8))\n",
    "\n",
    "plt.loglog(x_values, mean_trajectory_RL, color='green', linewidth=3, label='Optimal-BE')\n",
    "plt.loglog(x_values, mean_trajectory_1st, color='red', linewidth=3, label='1st-order Optimal-PhiBE')\n",
    "plt.loglog(x_values, mean_trajectory_2nd, color='blue', linewidth=3, label='2nd-order Optimal-PhiBE')\n",
    "\n",
    "plt.xlabel('dt (log scale)', fontsize=16)\n",
    "plt.ylabel('Error (log scale)', fontsize=16)\n",
    "\n",
    "plt.legend(fontsize=14)\n",
    "\n",
    "plt.grid(True)\n",
    "\n",
    "plt.xticks(fontsize=14)\n",
    "plt.yticks(fontsize=14)\n",
    "plt.savefig(\"LQR/dt/dt_2d.eps\", format='eps')\n",
    "plt.show()"
   ]
  }
 ],
 "metadata": {
  "kernelspec": {
   "display_name": "test",
   "language": "python",
   "name": "python3"
  },
  "language_info": {
   "codemirror_mode": {
    "name": "ipython",
    "version": 3
   },
   "file_extension": ".py",
   "mimetype": "text/x-python",
   "name": "python",
   "nbconvert_exporter": "python",
   "pygments_lexer": "ipython3",
   "version": "3.9.16"
  }
 },
 "nbformat": 4,
 "nbformat_minor": 2
}
