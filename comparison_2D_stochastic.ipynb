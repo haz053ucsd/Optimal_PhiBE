{
 "cells": [
  {
   "cell_type": "code",
   "execution_count": 1,
   "metadata": {},
   "outputs": [],
   "source": [
    "import torch\n",
    "from utils import LQR_2D_true_solution, out_put, LQR_1D_true_solution, l_2_compute_1D_Q, l_2_compute_1D_V, true_V_eval_2D\n",
    "from bases import bases_poly, d_bases_poly, sec_bases_poly, bases_2d, bases_poly_simp, d_bases_poly_simp, sec_bases_poly_simp, bases_2d_simp, bases_poly_2D, bases_poly_2D_s_a, d_bases_poly_2D, bases_poly_2D_simp, d_bases_poly_2D_simp, sec_d_bases_poly_2D, sec_d_bases_poly_2D_simp, bases_poly_2D_s_a_simp\n",
    "from main_phibe import phibe_finder_1D_LQR, phibe_finder_2D_LQR\n",
    "from main_RL import RL_finder_1D_LQR, RL_finder_2D_LQR\n",
    "import matplotlib.pyplot as plt\n",
    "from math import sqrt\n",
    "import numpy as np"
   ]
  },
  {
   "cell_type": "code",
   "execution_count": 2,
   "metadata": {},
   "outputs": [],
   "source": [
    "torch.set_default_dtype(torch.float64)\n",
    "device = torch.device(\"cpu\")"
   ]
  },
  {
   "cell_type": "code",
   "execution_count": 3,
   "metadata": {},
   "outputs": [],
   "source": [
    "def reward(traj_mat, act_mat):\n",
    "    # traj_mat shape: (m, I, dim)\n",
    "    # act_mat shape: (m, I, dim)\n",
    "    # output shape: (m, I, 1)\n",
    "    r_1 = torch.einsum(\"ijk,kl,ijl->ij\", traj_mat, Q, traj_mat)\n",
    "    r_2 = torch.einsum(\"ijk,kl,ijl->ij\", act_mat, R, act_mat)\n",
    "    return (- r_1 - r_2).unsqueeze(-1)"
   ]
  },
  {
   "cell_type": "code",
   "execution_count": 4,
   "metadata": {},
   "outputs": [],
   "source": [
    "beta = 1e-2\n",
    "A =  torch.inverse(0.2 * torch.tensor([[-3.0, 1.0], [1., -3.0]]))\n",
    "B =  0.2 * torch.tensor([[3.0, 1.0], [1., 3.0]])\n",
    "# C = - 0.1 * torch.tensor([[2.0, 1.0], [1., 1.0]])\n",
    "# D = 0.1 * torch.tensor([[3.0, 2.0], [.5, 1.0]])\n",
    "sig = 1.\n",
    "# Q = 1 * torch.tensor([[0.54, -0.86], [-0.86, 1.5]])\n",
    "# R = 1 * torch.inverse(torch.tensor([[1.92, 0.4], [0.4, 0.3]]))\n",
    "# Q = 1 * torch.tensor([[0.54, -0.26], [-0.26, 0.4]])\n",
    "# R = 1 * torch.inverse(torch.tensor([[1.92, 0.4], [0.4, 0.3]]))\n",
    "# Q = 1 * torch.tensor([[0.9, 0.89], [0.89, 0.9]])\n",
    "# R = 1 * torch.inverse(torch.tensor([[.4, 0.398], [0.398, 0.4]]))\n",
    "Q = 1 * torch.tensor([[0.9, 0.6], [0.6, 0.9]])\n",
    "R = 1 * torch.inverse(torch.tensor([[.4, 0.3], [0.3, 0.4]]))"
   ]
  },
  {
   "cell_type": "code",
   "execution_count": 5,
   "metadata": {},
   "outputs": [
    {
     "name": "stdout",
     "output_type": "stream",
     "text": [
      "tensor(25.0000)\n"
     ]
    }
   ],
   "source": [
    "A_norm = torch.sqrt(torch.abs(torch.linalg.eig(A.T @ A).eigenvalues).max())\n",
    "A_inv_norm = torch.sqrt(torch.abs(torch.linalg.eig(torch.inverse(A).T @ torch.inverse(A)).eigenvalues).max())\n",
    "B_norm = torch.sqrt(torch.abs(torch.linalg.eig(B.T @ B).eigenvalues).max())\n",
    "B_inv_norm = torch.sqrt(torch.abs(torch.linalg.eig(torch.inverse(B).T @ torch.inverse(B)).eigenvalues).max())\n",
    "print(A_norm**2 * A_inv_norm * B_norm * B_inv_norm**2)"
   ]
  },
  {
   "cell_type": "code",
   "execution_count": 6,
   "metadata": {},
   "outputs": [
    {
     "name": "stdout",
     "output_type": "stream",
     "text": [
      "tensor(36.7500)\n"
     ]
    }
   ],
   "source": [
    "Q_norm = torch.sqrt(torch.abs(torch.linalg.eig(Q.T @ Q).eigenvalues).max())\n",
    "Q_inv_norm = torch.sqrt(torch.abs(torch.linalg.eig(torch.inverse(Q).T @ torch.inverse(Q)).eigenvalues).max())\n",
    "R_norm = torch.sqrt(torch.abs(torch.linalg.eig(R.T @ R).eigenvalues).max())\n",
    "R_inv_norm = torch.sqrt(torch.abs(torch.linalg.eig(torch.inverse(R).T @ torch.inverse(R)).eigenvalues).max())\n",
    "print(Q_norm**2 * Q_inv_norm * R_norm * R_inv_norm**2)"
   ]
  },
  {
   "cell_type": "code",
   "execution_count": 7,
   "metadata": {},
   "outputs": [],
   "source": [
    "true_b, true_c, True_V = LQR_2D_true_solution(A, B, sig, Q, R, beta)\n",
    "b_init = true_b + torch.randn(2, 2)\n",
    "c_init = 2. * torch.rand(2, 1) - 1.\n",
    "Q_init = 4. * torch.rand(10) - 2.\n",
    "V_init = true_V_eval_2D(A, B, b_init, R, Q, beta, sig)"
   ]
  },
  {
   "cell_type": "code",
   "execution_count": 8,
   "metadata": {},
   "outputs": [
    {
     "name": "stdout",
     "output_type": "stream",
     "text": [
      "tensor([[-0.0841, -0.0793],\n",
      "        [-0.0793, -0.0841]])\n",
      "tensor([[0.],\n",
      "        [0.]])\n",
      "tensor([-41.1219,  -0.2056,  -0.1724,  -0.2056])\n",
      "tensor([-230.1912,   -1.5498,    1.3084,   -0.7521])\n"
     ]
    }
   ],
   "source": [
    "print(true_b)\n",
    "print(true_c)\n",
    "print(True_V)\n",
    "print(V_init)"
   ]
  },
  {
   "cell_type": "code",
   "execution_count": 10,
   "metadata": {},
   "outputs": [
    {
     "name": "stderr",
     "output_type": "stream",
     "text": [
      "Running Optimal Phibe of order 1 using Galerkin: 100%|██████████| 30/30 [00:43<00:00,  1.44s/it]\n"
     ]
    }
   ],
   "source": [
    "bd_low_s = -2\n",
    "bd_upper_s = 2\n",
    "bd_low_b = -2\n",
    "bd_upper_b = 2\n",
    "reward = reward\n",
    "bases_V = bases_poly_2D\n",
    "d_bases_V = d_bases_poly_2D\n",
    "sec_d_bases_V = sec_d_bases_poly_2D\n",
    "bases_Q = bases_poly_2D_s_a\n",
    "num_iter = 30\n",
    "GD_num_iter = 75\n",
    "m=int(1e6)\n",
    "m_Q=int(1e6)\n",
    "I=6\n",
    "I_Q=6\n",
    "lr=0.1\n",
    "order = 1\n",
    "true_V = True_V\n",
    "info_true = {\"A\":A, \"B\":B, \"sig\":sig, \"R\":R, \"Q\":Q}\n",
    "dt = 50\n",
    "simp_basis = False\n",
    "deterministic = True\n",
    "b_val_phibe, V_exact_dist_phibe_1, V = phibe_finder_2D_LQR(beta, b_init, Q_init, bd_low_s, bd_upper_s, bd_low_b, bd_upper_b, reward, simp_basis, bases_V, d_bases_V, sec_d_bases_V, bases_Q, num_iter, deterministic, \"Galerkin\", GD_num_iter, m, m_Q, I, lr, dt, order, true_V, info_true)"
   ]
  },
  {
   "cell_type": "code",
   "execution_count": 11,
   "metadata": {},
   "outputs": [
    {
     "name": "stderr",
     "output_type": "stream",
     "text": [
      "Running RL method: 100%|██████████| 30/30 [00:35<00:00,  1.17s/it]\n"
     ]
    }
   ],
   "source": [
    "bd_low_s = -2\n",
    "bd_upper_s = 2\n",
    "bd_low_a = -2\n",
    "bd_upper_a = 2\n",
    "reward = reward\n",
    "bases_Q = bases_poly_2D_s_a\n",
    "num_iter = 30\n",
    "GD_num_iter = 75\n",
    "m=int(1e6)\n",
    "m_Q=int(1e6)\n",
    "I=6\n",
    "I_Q=6\n",
    "true_V = True_V\n",
    "info_true = {\"A\":A, \"B\":B, \"sig\":sig, \"R\":R, \"Q\":Q}\n",
    "dt = 50\n",
    "simple_basis = False\n",
    "b_val_RL, V_exact_dist_RL_1 = RL_finder_2D_LQR(beta, b_init, bd_low_s, bd_upper_s, bd_low_a, bd_upper_a, reward, simple_basis, bases_Q, num_iter, I, m_Q, dt, true_V, info_true)"
   ]
  },
  {
   "cell_type": "code",
   "execution_count": 12,
   "metadata": {},
   "outputs": [
    {
     "data": {
      "image/png": "[encoded data removed]",
      "text/plain": [
       "<Figure size 1000x600 with 1 Axes>"
      ]
     },
     "metadata": {},
     "output_type": "display_data"
    }
   ],
   "source": [
    "x_tensor = torch.arange(30)\n",
    "w_tensor = torch.tensor(V_exact_dist_phibe_1[:30], dtype=torch.float64)\n",
    "v_tensor = torch.tensor(V_exact_dist_RL_1[:30], dtype=torch.float64)\n",
    "x_values = x_tensor.numpy()\n",
    "w_values = w_tensor.numpy()\n",
    "v_values = v_tensor.numpy()\n",
    "plt.figure(figsize=(10, 6))\n",
    "plt.xticks(fontsize=12)  # Adjust 12 as needed\n",
    "plt.yticks(fontsize=12)\n",
    "plt.semilogy(x_values, w_values, label='PhiBE', color='red')\n",
    "plt.semilogy(x_values, v_values, label='RL', color='green')\n",
    "plt.title('Error during the iteration (measured by policy)', fontsize=16)\n",
    "plt.xlabel('iterations', fontsize=16)\n",
    "plt.ylabel('value', fontsize=16)\n",
    "plt.grid(True)\n",
    "plt.legend(fontsize=16)\n",
    "plt.show()"
   ]
  },
  {
   "cell_type": "code",
   "execution_count": 13,
   "metadata": {},
   "outputs": [],
   "source": [
    "beta = 0.01\n",
    "# A =  torch.inverse(0.2 * torch.tensor([[-3.0, 1.0], [1., -3.0]]))\n",
    "# B =  0.2 * torch.tensor([[3.0, 1.0], [1., 3.0]])\n",
    "A = 1 * torch.tensor([[-0.9, 0.85], [0.85, -0.88]])\n",
    "B = 1 * torch.inverse(torch.tensor([[.4, 0.38], [0.38, 0.4]]))\n",
    "# C = - 0.1 * torch.tensor([[2.0, 1.0], [1., 1.0]])\n",
    "# D = 0.1 * torch.tensor([[3.0, 2.0], [.5, 1.0]])\n",
    "sig = 1.\n",
    "# Q = 1 * torch.tensor([[0.54, -0.86], [-0.86, 1.5]])\n",
    "# R = 1 * torch.inverse(torch.tensor([[1.92, 0.4], [0.4, 0.3]]))\n",
    "# Q = 1 * torch.tensor([[0.54, -0.26], [-0.26, 0.4]])\n",
    "# R = 1 * torch.inverse(torch.tensor([[1.92, 0.4], [0.4, 0.3]]))\n",
    "# Q = 1 * torch.tensor([[0.9, 0.89], [0.89, 0.9]])\n",
    "# R = 1 * torch.inverse(torch.tensor([[.4, 0.398], [0.398, 0.4]]))\n",
    "Q = 1 * torch.tensor([[0.9, 0.6], [0.6, 0.9]])\n",
    "R = 1 * torch.inverse(torch.tensor([[.4, 0.3], [0.3, 0.4]]))"
   ]
  },
  {
   "cell_type": "code",
   "execution_count": 14,
   "metadata": {},
   "outputs": [
    {
     "name": "stdout",
     "output_type": "stream",
     "text": [
      "tensor(2306.0366)\n"
     ]
    }
   ],
   "source": [
    "A_norm = torch.sqrt(torch.abs(torch.linalg.eig(A.T @ A).eigenvalues).max())\n",
    "A_inv_norm = torch.sqrt(torch.abs(torch.linalg.eig(torch.inverse(A).T @ torch.inverse(A)).eigenvalues).max())\n",
    "B_norm = torch.sqrt(torch.abs(torch.linalg.eig(B.T @ B).eigenvalues).max())\n",
    "B_inv_norm = torch.sqrt(torch.abs(torch.linalg.eig(torch.inverse(B).T @ torch.inverse(B)).eigenvalues).max())\n",
    "print(A_norm**2 * A_inv_norm * B_norm * B_inv_norm**2)"
   ]
  },
  {
   "cell_type": "code",
   "execution_count": 15,
   "metadata": {},
   "outputs": [
    {
     "name": "stdout",
     "output_type": "stream",
     "text": [
      "tensor(36.7500)\n"
     ]
    }
   ],
   "source": [
    "Q_norm = torch.sqrt(torch.abs(torch.linalg.eig(Q.T @ Q).eigenvalues).max())\n",
    "Q_inv_norm = torch.sqrt(torch.abs(torch.linalg.eig(torch.inverse(Q).T @ torch.inverse(Q)).eigenvalues).max())\n",
    "R_norm = torch.sqrt(torch.abs(torch.linalg.eig(R.T @ R).eigenvalues).max())\n",
    "R_inv_norm = torch.sqrt(torch.abs(torch.linalg.eig(torch.inverse(R).T @ torch.inverse(R)).eigenvalues).max())\n",
    "print(Q_norm**2 * Q_inv_norm * R_norm * R_inv_norm**2)"
   ]
  },
  {
   "cell_type": "code",
   "execution_count": 21,
   "metadata": {},
   "outputs": [],
   "source": [
    "true_b, true_c, True_V = LQR_2D_true_solution(A, B, sig, Q, R, beta)\n",
    "b_init = true_b + torch.randn(2, 2)\n",
    "c_init = 2. * torch.rand(2, 1) - 1.\n",
    "Q_init = 4. * torch.rand(10) - 2.\n",
    "V_init = true_V_eval_2D(A, B, b_init, R, Q, beta, sig)"
   ]
  },
  {
   "cell_type": "code",
   "execution_count": 22,
   "metadata": {},
   "outputs": [
    {
     "name": "stdout",
     "output_type": "stream",
     "text": [
      "tensor([[-0.5627, -0.4219],\n",
      "        [-0.4264, -0.5692]])\n",
      "tensor([[0.],\n",
      "        [0.]])\n",
      "tensor([-113.1610,   -0.5669,   -1.0749,   -0.5647])\n",
      "tensor([-917.3075,   -3.9021,   -8.8012,   -5.2709])\n"
     ]
    }
   ],
   "source": [
    "print(true_b)\n",
    "print(true_c)\n",
    "print(True_V)\n",
    "print(V_init)"
   ]
  },
  {
   "cell_type": "code",
   "execution_count": 23,
   "metadata": {},
   "outputs": [
    {
     "name": "stderr",
     "output_type": "stream",
     "text": [
      "Running Optimal Phibe of order 1 using Galerkin: 100%|██████████| 30/30 [00:44<00:00,  1.47s/it]\n"
     ]
    }
   ],
   "source": [
    "bd_low_s = -2\n",
    "bd_upper_s = 2\n",
    "bd_low_b = -2\n",
    "bd_upper_b = 2\n",
    "reward = reward\n",
    "bases_V = bases_poly_2D\n",
    "d_bases_V = d_bases_poly_2D\n",
    "sec_d_bases_V = sec_d_bases_poly_2D\n",
    "bases_Q = bases_poly_2D_s_a\n",
    "num_iter = 30\n",
    "GD_num_iter = 75\n",
    "m=int(1e6)\n",
    "m_Q=int(1e6)\n",
    "I=6\n",
    "I_Q=6\n",
    "lr=0.1\n",
    "order = 1\n",
    "true_V = True_V\n",
    "info_true = {\"A\":A, \"B\":B, \"sig\":sig, \"R\":R, \"Q\":Q}\n",
    "dt = 1\n",
    "simp_basis = False\n",
    "deterministic = True\n",
    "b_val_phibe_2, V_exact_dist_phibe_2, V = phibe_finder_2D_LQR(beta, b_init, Q_init, bd_low_s, bd_upper_s, bd_low_b, bd_upper_b, reward, simp_basis, bases_V, d_bases_V, sec_d_bases_V, bases_Q, num_iter, deterministic, \"Galerkin\", GD_num_iter, m, m_Q, I, lr, dt, order, true_V, info_true)"
   ]
  },
  {
   "cell_type": "code",
   "execution_count": 24,
   "metadata": {},
   "outputs": [
    {
     "name": "stderr",
     "output_type": "stream",
     "text": [
      "Running RL method:  43%|████▎     | 13/30 [00:16<00:20,  1.19s/it]"
     ]
    },
    {
     "name": "stdout",
     "output_type": "stream",
     "text": [
      "infeasibility detected\n"
     ]
    },
    {
     "name": "stderr",
     "output_type": "stream",
     "text": [
      "Running RL method:  90%|█████████ | 27/30 [00:33<00:03,  1.20s/it]"
     ]
    },
    {
     "name": "stdout",
     "output_type": "stream",
     "text": [
      "infeasibility detected\n"
     ]
    },
    {
     "name": "stderr",
     "output_type": "stream",
     "text": [
      "Running RL method: 100%|██████████| 30/30 [00:36<00:00,  1.23s/it]\n"
     ]
    }
   ],
   "source": [
    "bd_low_s = -2\n",
    "bd_upper_s = 2\n",
    "bd_low_a = -2\n",
    "bd_upper_a = 2\n",
    "reward = reward\n",
    "bases_Q = bases_poly_2D_s_a\n",
    "num_iter = 30\n",
    "GD_num_iter = 75\n",
    "m=int(1e6)\n",
    "m_Q=int(1e6)\n",
    "I=6\n",
    "I_Q=6\n",
    "true_V = True_V\n",
    "info_true = {\"A\":A, \"B\":B, \"sig\":sig, \"R\":R, \"Q\":Q}\n",
    "dt = 1\n",
    "simple_basis = False\n",
    "b_val_RL_2, V_exact_dist_RL_2 = RL_finder_2D_LQR(beta, b_init, bd_low_s, bd_upper_s, bd_low_a, bd_upper_a, reward, simple_basis, bases_Q, num_iter, I, m_Q, dt, true_V, info_true)"
   ]
  },
  {
   "cell_type": "code",
   "execution_count": 25,
   "metadata": {},
   "outputs": [
    {
     "data": {
      "image/png": "[encoded data removed]",
      "text/plain": [
       "<Figure size 1000x600 with 1 Axes>"
      ]
     },
     "metadata": {},
     "output_type": "display_data"
    }
   ],
   "source": [
    "x_tensor = torch.arange(30)\n",
    "w_tensor = torch.tensor(V_exact_dist_phibe_2[:30], dtype=torch.float64)\n",
    "v_tensor = torch.tensor(V_exact_dist_RL_2[:30], dtype=torch.float64)\n",
    "x_values = x_tensor.numpy()\n",
    "w_values = w_tensor.numpy()\n",
    "v_values = v_tensor.numpy()\n",
    "plt.figure(figsize=(10, 6))\n",
    "plt.xticks(fontsize=12)  # Adjust 12 as needed\n",
    "plt.yticks(fontsize=12)\n",
    "plt.semilogy(x_values, w_values, label='PhiBE', color='red')\n",
    "plt.semilogy(x_values, v_values, label='RL', color='green')\n",
    "plt.title('Error during the iteration (measured by policy)', fontsize=16)\n",
    "plt.xlabel('iterations', fontsize=16)\n",
    "plt.ylabel('value', fontsize=16)\n",
    "plt.grid(True)\n",
    "plt.legend(fontsize=16)\n",
    "plt.show()"
   ]
  },
  {
   "cell_type": "code",
   "execution_count": 28,
   "metadata": {},
   "outputs": [],
   "source": [
    "beta = 0.01\n",
    "A =  torch.inverse(0.2 * torch.tensor([[-3.0, 1.0], [1., -3.0]]))\n",
    "B =  0.2 * torch.tensor([[3.0, 1.0], [1., 3.0]])\n",
    "# A = 1 * torch.tensor([[-0.9, 0.85], [0.85, -0.88]])\n",
    "# B = 1 * torch.inverse(torch.tensor([[.4, 0.38], [0.38, 0.4]]))\n",
    "# C = - 0.1 * torch.tensor([[2.0, 1.0], [1., 1.0]])\n",
    "# D = 0.1 * torch.tensor([[3.0, 2.0], [.5, 1.0]])\n",
    "sig = 1.\n",
    "# Q = 1 * torch.tensor([[0.54, -0.86], [-0.86, 1.5]])\n",
    "# R = 1 * torch.inverse(torch.tensor([[1.92, 0.4], [0.4, 0.3]]))\n",
    "# Q = 1 * torch.tensor([[0.54, -0.26], [-0.26, 0.4]])\n",
    "# R = 1 * torch.inverse(torch.tensor([[1.92, 0.4], [0.4, 0.3]]))\n",
    "Q = 1 * torch.tensor([[0.9, 0.89], [0.89, 0.9]])\n",
    "R = 1 * torch.inverse(torch.tensor([[.4, 0.398], [0.398, 0.4]]))\n",
    "# Q = 1 * torch.tensor([[0.9, 0.6], [0.6, 0.9]])\n",
    "# R = 1 * torch.inverse(torch.tensor([[.4, 0.3], [0.3, 0.4]]))"
   ]
  },
  {
   "cell_type": "code",
   "execution_count": 29,
   "metadata": {},
   "outputs": [
    {
     "name": "stdout",
     "output_type": "stream",
     "text": [
      "tensor(25.0000)\n"
     ]
    }
   ],
   "source": [
    "A_norm = torch.sqrt(torch.abs(torch.linalg.eig(A.T @ A).eigenvalues).max())\n",
    "A_inv_norm = torch.sqrt(torch.abs(torch.linalg.eig(torch.inverse(A).T @ torch.inverse(A)).eigenvalues).max())\n",
    "B_norm = torch.sqrt(torch.abs(torch.linalg.eig(B.T @ B).eigenvalues).max())\n",
    "B_inv_norm = torch.sqrt(torch.abs(torch.linalg.eig(torch.inverse(B).T @ torch.inverse(B)).eigenvalues).max())\n",
    "print(A_norm**2 * A_inv_norm * B_norm * B_inv_norm**2)"
   ]
  },
  {
   "cell_type": "code",
   "execution_count": 30,
   "metadata": {},
   "outputs": [
    {
     "name": "stdout",
     "output_type": "stream",
     "text": [
      "tensor(102019.1848)\n"
     ]
    }
   ],
   "source": [
    "Q_norm = torch.sqrt(torch.abs(torch.linalg.eig(Q.T @ Q).eigenvalues).max())\n",
    "Q_inv_norm = torch.sqrt(torch.abs(torch.linalg.eig(torch.inverse(Q).T @ torch.inverse(Q)).eigenvalues).max())\n",
    "R_norm = torch.sqrt(torch.abs(torch.linalg.eig(R.T @ R).eigenvalues).max())\n",
    "R_inv_norm = torch.sqrt(torch.abs(torch.linalg.eig(torch.inverse(R).T @ torch.inverse(R)).eigenvalues).max())\n",
    "print(Q_norm**2 * Q_inv_norm * R_norm * R_inv_norm**2)"
   ]
  },
  {
   "cell_type": "code",
   "execution_count": 102,
   "metadata": {},
   "outputs": [],
   "source": [
    "true_b, true_c, True_V = LQR_2D_true_solution(A, B, sig, Q, R, beta)\n",
    "b_init = true_b + 0.5 * torch.randn(2, 2)\n",
    "Q_init = 4. * torch.rand(10) - 2.\n",
    "V_init = true_V_eval_2D(A, B, b_init, R, Q, beta, sig)"
   ]
  },
  {
   "cell_type": "code",
   "execution_count": 103,
   "metadata": {},
   "outputs": [
    {
     "name": "stdout",
     "output_type": "stream",
     "text": [
      "tensor([[-0.1102, -0.1102],\n",
      "        [-0.1102, -0.1102]])\n",
      "tensor([[0.],\n",
      "        [0.]])\n",
      "tensor([-34.9126,  -0.1746,  -0.3412,  -0.1746])\n",
      "tensor([-1969.9716,    -5.0560,    16.0891,   -14.6437])\n"
     ]
    }
   ],
   "source": [
    "print(true_b)\n",
    "print(true_c)\n",
    "print(True_V)\n",
    "print(V_init)"
   ]
  },
  {
   "cell_type": "code",
   "execution_count": 47,
   "metadata": {},
   "outputs": [
    {
     "name": "stderr",
     "output_type": "stream",
     "text": [
      "Running Optimal Phibe of order 1 using Galerkin:  13%|█▎        | 4/30 [00:06<00:41,  1.58s/it]"
     ]
    },
    {
     "name": "stdout",
     "output_type": "stream",
     "text": [
      "infeasibility detected\n"
     ]
    },
    {
     "name": "stderr",
     "output_type": "stream",
     "text": [
      "Running Optimal Phibe of order 1 using Galerkin:  23%|██▎       | 7/30 [00:10<00:34,  1.52s/it]"
     ]
    },
    {
     "name": "stdout",
     "output_type": "stream",
     "text": [
      "infeasibility detected\n"
     ]
    },
    {
     "name": "stderr",
     "output_type": "stream",
     "text": [
      "Running Optimal Phibe of order 1 using Galerkin:  27%|██▋       | 8/30 [00:12<00:32,  1.50s/it]"
     ]
    },
    {
     "name": "stdout",
     "output_type": "stream",
     "text": [
      "infeasibility detected\n"
     ]
    },
    {
     "name": "stderr",
     "output_type": "stream",
     "text": [
      "Running Optimal Phibe of order 1 using Galerkin:  33%|███▎      | 10/30 [00:15<00:30,  1.52s/it]"
     ]
    },
    {
     "name": "stdout",
     "output_type": "stream",
     "text": [
      "infeasibility detected\n"
     ]
    },
    {
     "name": "stderr",
     "output_type": "stream",
     "text": [
      "Running Optimal Phibe of order 1 using Galerkin:  40%|████      | 12/30 [00:18<00:27,  1.50s/it]"
     ]
    },
    {
     "name": "stdout",
     "output_type": "stream",
     "text": [
      "infeasibility detected\n"
     ]
    },
    {
     "name": "stderr",
     "output_type": "stream",
     "text": [
      "Running Optimal Phibe of order 1 using Galerkin:  47%|████▋     | 14/30 [00:21<00:23,  1.47s/it]"
     ]
    },
    {
     "name": "stdout",
     "output_type": "stream",
     "text": [
      "infeasibility detected\n"
     ]
    },
    {
     "name": "stderr",
     "output_type": "stream",
     "text": [
      "Running Optimal Phibe of order 1 using Galerkin:  57%|█████▋    | 17/30 [00:26<00:20,  1.60s/it]"
     ]
    },
    {
     "name": "stdout",
     "output_type": "stream",
     "text": [
      "infeasibility detected\n"
     ]
    },
    {
     "name": "stderr",
     "output_type": "stream",
     "text": [
      "Running Optimal Phibe of order 1 using Galerkin:  60%|██████    | 18/30 [00:27<00:18,  1.55s/it]"
     ]
    },
    {
     "name": "stdout",
     "output_type": "stream",
     "text": [
      "infeasibility detected\n"
     ]
    },
    {
     "name": "stderr",
     "output_type": "stream",
     "text": [
      "Running Optimal Phibe of order 1 using Galerkin:  63%|██████▎   | 19/30 [00:29<00:16,  1.53s/it]"
     ]
    },
    {
     "name": "stdout",
     "output_type": "stream",
     "text": [
      "infeasibility detected\n"
     ]
    },
    {
     "name": "stderr",
     "output_type": "stream",
     "text": [
      "Running Optimal Phibe of order 1 using Galerkin:  67%|██████▋   | 20/30 [00:30<00:15,  1.55s/it]"
     ]
    },
    {
     "name": "stdout",
     "output_type": "stream",
     "text": [
      "infeasibility detected\n"
     ]
    },
    {
     "name": "stderr",
     "output_type": "stream",
     "text": [
      "Running Optimal Phibe of order 1 using Galerkin:  70%|███████   | 21/30 [00:32<00:14,  1.56s/it]"
     ]
    },
    {
     "name": "stdout",
     "output_type": "stream",
     "text": [
      "infeasibility detected\n"
     ]
    },
    {
     "name": "stderr",
     "output_type": "stream",
     "text": [
      "Running Optimal Phibe of order 1 using Galerkin:  97%|█████████▋| 29/30 [00:44<00:01,  1.52s/it]"
     ]
    },
    {
     "name": "stdout",
     "output_type": "stream",
     "text": [
      "infeasibility detected\n"
     ]
    },
    {
     "name": "stderr",
     "output_type": "stream",
     "text": [
      "Running Optimal Phibe of order 1 using Galerkin: 100%|██████████| 30/30 [00:45<00:00,  1.53s/it]\n"
     ]
    }
   ],
   "source": [
    "bd_low_s = -2\n",
    "bd_upper_s = 2\n",
    "bd_low_b = -2\n",
    "bd_upper_b = 2\n",
    "reward = reward\n",
    "bases_V = bases_poly_2D\n",
    "d_bases_V = d_bases_poly_2D\n",
    "sec_d_bases_V = sec_d_bases_poly_2D\n",
    "bases_Q = bases_poly_2D_s_a\n",
    "num_iter = 30\n",
    "GD_num_iter = 75\n",
    "m=int(1e6)\n",
    "m_Q=int(1e6)\n",
    "I=6\n",
    "I_Q=6\n",
    "lr=0.1\n",
    "order = 1\n",
    "true_V = True_V\n",
    "info_true = {\"A\":A, \"B\":B, \"sig\":sig, \"R\":R, \"Q\":Q}\n",
    "dt = 0.1\n",
    "simp_basis = False\n",
    "deterministic = True\n",
    "b_val_phibe_3, V_exact_dist_phibe_3, V = phibe_finder_2D_LQR(beta, b_init, Q_init, bd_low_s, bd_upper_s, bd_low_b, bd_upper_b, reward, simp_basis, bases_V, d_bases_V, sec_d_bases_V, bases_Q, num_iter, deterministic, \"Galerkin\", GD_num_iter, m, m_Q, I, lr, dt, order, true_V, info_true)"
   ]
  },
  {
   "cell_type": "code",
   "execution_count": 48,
   "metadata": {},
   "outputs": [
    {
     "name": "stderr",
     "output_type": "stream",
     "text": [
      "Running RL method:   7%|▋         | 2/30 [00:02<00:40,  1.45s/it]"
     ]
    },
    {
     "name": "stdout",
     "output_type": "stream",
     "text": [
      "infeasibility detected\n"
     ]
    },
    {
     "name": "stderr",
     "output_type": "stream",
     "text": [
      "Running RL method:  10%|█         | 3/30 [00:04<00:37,  1.40s/it]"
     ]
    },
    {
     "name": "stdout",
     "output_type": "stream",
     "text": [
      "infeasibility detected\n"
     ]
    },
    {
     "name": "stderr",
     "output_type": "stream",
     "text": [
      "Running RL method:  67%|██████▋   | 20/30 [00:25<00:12,  1.25s/it]"
     ]
    },
    {
     "name": "stdout",
     "output_type": "stream",
     "text": [
      "infeasibility detected\n"
     ]
    },
    {
     "name": "stderr",
     "output_type": "stream",
     "text": [
      "Running RL method:  73%|███████▎  | 22/30 [00:27<00:09,  1.22s/it]"
     ]
    },
    {
     "name": "stdout",
     "output_type": "stream",
     "text": [
      "infeasibility detected\n"
     ]
    },
    {
     "name": "stderr",
     "output_type": "stream",
     "text": [
      "Running RL method:  87%|████████▋ | 26/30 [00:32<00:04,  1.21s/it]"
     ]
    },
    {
     "name": "stdout",
     "output_type": "stream",
     "text": [
      "infeasibility detected\n"
     ]
    },
    {
     "name": "stderr",
     "output_type": "stream",
     "text": [
      "Running RL method: 100%|██████████| 30/30 [00:37<00:00,  1.25s/it]\n"
     ]
    }
   ],
   "source": [
    "bd_low_s = -2\n",
    "bd_upper_s = 2\n",
    "bd_low_a = -2\n",
    "bd_upper_a = 2\n",
    "reward = reward\n",
    "bases_Q = bases_poly_2D_s_a\n",
    "num_iter = 30\n",
    "GD_num_iter = 75\n",
    "m=int(1e6)\n",
    "m_Q=int(1e6)\n",
    "I=6\n",
    "I_Q=6\n",
    "true_V = True_V\n",
    "info_true = {\"A\":A, \"B\":B, \"sig\":sig, \"R\":R, \"Q\":Q}\n",
    "dt = 0.1\n",
    "simple_basis = False\n",
    "b_val_RL_3, V_exact_dist_RL_3 = RL_finder_2D_LQR(beta, b_init, bd_low_s, bd_upper_s, bd_low_a, bd_upper_a, reward, simple_basis, bases_Q, num_iter, I, m_Q, dt, true_V, info_true)"
   ]
  },
  {
   "cell_type": "code",
   "execution_count": 35,
   "metadata": {},
   "outputs": [
    {
     "data": {
      "image/png": "[encoded data removed]",
      "text/plain": [
       "<Figure size 1000x600 with 1 Axes>"
      ]
     },
     "metadata": {},
     "output_type": "display_data"
    }
   ],
   "source": [
    "x_tensor = torch.arange(30)\n",
    "w_tensor = torch.tensor(V_exact_dist_phibe_3[:30], dtype=torch.float64)\n",
    "v_tensor = torch.tensor(V_exact_dist_RL_3[:30], dtype=torch.float64)\n",
    "x_values = x_tensor.numpy()\n",
    "w_values = w_tensor.numpy()\n",
    "v_values = v_tensor.numpy()\n",
    "plt.figure(figsize=(10, 6))\n",
    "plt.xticks(fontsize=12)  # Adjust 12 as needed\n",
    "plt.yticks(fontsize=12)\n",
    "plt.semilogy(x_values, w_values, label='PhiBE', color='red')\n",
    "plt.semilogy(x_values, v_values, label='RL', color='green')\n",
    "plt.title('Error during the iteration (measured by policy)', fontsize=16)\n",
    "plt.xlabel('iterations', fontsize=16)\n",
    "plt.ylabel('value', fontsize=16)\n",
    "plt.grid(True)\n",
    "plt.legend(fontsize=16)\n",
    "plt.show()"
   ]
  },
  {
   "cell_type": "code",
   "execution_count": 104,
   "metadata": {},
   "outputs": [],
   "source": [
    "beta = 0.01\n",
    "# A =  torch.inverse(0.2 * torch.tensor([[-3.0, 1.0], [1., -3.0]]))\n",
    "# B =  0.2 * torch.tensor([[3.0, 1.0], [1., 3.0]])\n",
    "A = 1 * torch.tensor([[0.9, 0.899], [0.899, 0.88]])\n",
    "B = 1 * torch.inverse(torch.tensor([[.4, 0.38], [0.38, 0.4]]))\n",
    "# C = - 0.1 * torch.tensor([[2.0, 1.0], [1., 1.0]])\n",
    "# D = 0.1 * torch.tensor([[3.0, 2.0], [.5, 1.0]])\n",
    "sig = 1.\n",
    "# Q = 1 * torch.tensor([[0.54, -0.86], [-0.86, 1.5]])\n",
    "# R = 1 * torch.inverse(torch.tensor([[1.92, 0.4], [0.4, 0.3]]))\n",
    "# Q = 1 * torch.tensor([[0.54, -0.26], [-0.26, 0.4]])\n",
    "# R = 1 * torch.inverse(torch.tensor([[1.92, 0.4], [0.4, 0.3]]))\n",
    "# Q = 1 * torch.tensor([[0.9, 0.89], [0.89, 0.9]])\n",
    "# R = 1 * torch.inverse(torch.tensor([[.4, 0.398], [0.398, 0.4]]))\n",
    "Q = 1 * torch.tensor([[0.9, 0.6], [0.6, 0.9]])\n",
    "R = 1 * torch.inverse(torch.tensor([[.4, 0.3], [0.3, 0.4]]))"
   ]
  },
  {
   "cell_type": "code",
   "execution_count": 105,
   "metadata": {},
   "outputs": [
    {
     "name": "stdout",
     "output_type": "stream",
     "text": [
      "tensor(10751.9915)\n"
     ]
    }
   ],
   "source": [
    "A_norm = torch.sqrt(torch.abs(torch.linalg.eig(A.T @ A).eigenvalues).max())\n",
    "A_inv_norm = torch.sqrt(torch.abs(torch.linalg.eig(torch.inverse(A).T @ torch.inverse(A)).eigenvalues).max())\n",
    "B_norm = torch.sqrt(torch.abs(torch.linalg.eig(B.T @ B).eigenvalues).max())\n",
    "B_inv_norm = torch.sqrt(torch.abs(torch.linalg.eig(torch.inverse(B).T @ torch.inverse(B)).eigenvalues).max())\n",
    "print(A_norm**2 * A_inv_norm * B_norm * B_inv_norm**2)"
   ]
  },
  {
   "cell_type": "code",
   "execution_count": 106,
   "metadata": {},
   "outputs": [
    {
     "name": "stdout",
     "output_type": "stream",
     "text": [
      "tensor(36.7500)\n"
     ]
    }
   ],
   "source": [
    "Q_norm = torch.sqrt(torch.abs(torch.linalg.eig(Q.T @ Q).eigenvalues).max())\n",
    "Q_inv_norm = torch.sqrt(torch.abs(torch.linalg.eig(torch.inverse(Q).T @ torch.inverse(Q)).eigenvalues).max())\n",
    "R_norm = torch.sqrt(torch.abs(torch.linalg.eig(R.T @ R).eigenvalues).max())\n",
    "R_inv_norm = torch.sqrt(torch.abs(torch.linalg.eig(torch.inverse(R).T @ torch.inverse(R)).eigenvalues).max())\n",
    "print(Q_norm**2 * Q_inv_norm * R_norm * R_inv_norm**2)"
   ]
  },
  {
   "cell_type": "code",
   "execution_count": 120,
   "metadata": {},
   "outputs": [],
   "source": [
    "true_b, true_c, True_V = LQR_2D_true_solution(A, B, sig, Q, R, beta)\n",
    "b_init = true_b + torch.randn(2, 2)\n",
    "c_init = 2. * torch.rand(2, 1) - 1.\n",
    "Q_init = 4. * torch.rand(10) - 2.\n",
    "V_init = true_V_eval_2D(A, B, b_init, R, Q, beta, sig)"
   ]
  },
  {
   "cell_type": "code",
   "execution_count": 121,
   "metadata": {},
   "outputs": [
    {
     "name": "stdout",
     "output_type": "stream",
     "text": [
      "tensor([[-1.6555, -1.4797],\n",
      "        [-1.4665, -1.6365]])\n",
      "tensor([[0.],\n",
      "        [0.]])\n",
      "tensor([-351.0162,   -1.7519,   -3.4410,   -1.7583])\n",
      "tensor([-357.8527,   -1.7659,   -3.3899,   -1.8127])\n"
     ]
    }
   ],
   "source": [
    "print(true_b)\n",
    "print(true_c)\n",
    "print(True_V)\n",
    "print(V_init)"
   ]
  },
  {
   "cell_type": "code",
   "execution_count": 125,
   "metadata": {},
   "outputs": [
    {
     "name": "stderr",
     "output_type": "stream",
     "text": [
      "Running Optimal Phibe of order 1 using Galerkin:   7%|▋         | 2/30 [00:02<00:40,  1.45s/it]"
     ]
    },
    {
     "name": "stdout",
     "output_type": "stream",
     "text": [
      "infeasibility detected\n"
     ]
    },
    {
     "name": "stderr",
     "output_type": "stream",
     "text": [
      "Running Optimal Phibe of order 1 using Galerkin:  33%|███▎      | 10/30 [00:14<00:27,  1.39s/it]"
     ]
    },
    {
     "name": "stdout",
     "output_type": "stream",
     "text": [
      "infeasibility detected\n"
     ]
    },
    {
     "name": "stderr",
     "output_type": "stream",
     "text": [
      "Running Optimal Phibe of order 1 using Galerkin:  40%|████      | 12/30 [00:16<00:24,  1.37s/it]"
     ]
    },
    {
     "name": "stdout",
     "output_type": "stream",
     "text": [
      "infeasibility detected\n"
     ]
    },
    {
     "name": "stderr",
     "output_type": "stream",
     "text": [
      "Running Optimal Phibe of order 1 using Galerkin:  53%|█████▎    | 16/30 [00:22<00:19,  1.36s/it]"
     ]
    },
    {
     "name": "stdout",
     "output_type": "stream",
     "text": [
      "infeasibility detected\n"
     ]
    },
    {
     "name": "stderr",
     "output_type": "stream",
     "text": [
      "Running Optimal Phibe of order 1 using Galerkin: 100%|██████████| 30/30 [00:41<00:00,  1.39s/it]\n"
     ]
    }
   ],
   "source": [
    "bd_low_s = -2\n",
    "bd_upper_s = 2\n",
    "bd_low_b = -2\n",
    "bd_upper_b = 2\n",
    "reward = reward\n",
    "bases_V = bases_poly_2D\n",
    "d_bases_V = d_bases_poly_2D\n",
    "sec_d_bases_V = sec_d_bases_poly_2D\n",
    "bases_Q = bases_poly_2D_s_a\n",
    "num_iter = 30\n",
    "GD_num_iter = 75\n",
    "m=int(1e6)\n",
    "m_Q=int(1e6)\n",
    "I=6\n",
    "I_Q=6\n",
    "lr=0.1\n",
    "order = 1\n",
    "true_V = True_V\n",
    "info_true = {\"A\":A, \"B\":B, \"sig\":sig, \"R\":R, \"Q\":Q}\n",
    "dt = 0.01\n",
    "simp_basis = False\n",
    "deterministic = True\n",
    "b_val_phibe_4, V_exact_dist_phibe_4, V = phibe_finder_2D_LQR(beta, b_init, Q_init, bd_low_s, bd_upper_s, bd_low_b, bd_upper_b, reward, simp_basis, bases_V, d_bases_V, sec_d_bases_V, bases_Q, num_iter, deterministic, \"Galerkin\", GD_num_iter, m, m_Q, I, lr, dt, order, true_V, info_true)"
   ]
  },
  {
   "cell_type": "code",
   "execution_count": 126,
   "metadata": {},
   "outputs": [
    {
     "name": "stderr",
     "output_type": "stream",
     "text": [
      "Running RL method:  10%|█         | 3/30 [00:03<00:31,  1.16s/it]"
     ]
    },
    {
     "name": "stdout",
     "output_type": "stream",
     "text": [
      "infeasibility detected\n"
     ]
    },
    {
     "name": "stderr",
     "output_type": "stream",
     "text": [
      "Running RL method:  20%|██        | 6/30 [00:06<00:26,  1.12s/it]"
     ]
    },
    {
     "name": "stdout",
     "output_type": "stream",
     "text": [
      "infeasibility detected\n"
     ]
    },
    {
     "name": "stderr",
     "output_type": "stream",
     "text": [
      "Running RL method:  73%|███████▎  | 22/30 [00:24<00:09,  1.13s/it]"
     ]
    },
    {
     "name": "stdout",
     "output_type": "stream",
     "text": [
      "infeasibility detected\n"
     ]
    },
    {
     "name": "stderr",
     "output_type": "stream",
     "text": [
      "Running RL method: 100%|██████████| 30/30 [00:33<00:00,  1.13s/it]\n"
     ]
    }
   ],
   "source": [
    "bd_low_s = -2\n",
    "bd_upper_s = 2\n",
    "bd_low_a = -2\n",
    "bd_upper_a = 2\n",
    "reward = reward\n",
    "bases_Q = bases_poly_2D_s_a\n",
    "num_iter = 30\n",
    "GD_num_iter = 75\n",
    "m=int(1e6)\n",
    "m_Q=int(1e6)\n",
    "I=6\n",
    "I_Q=6\n",
    "true_V = True_V\n",
    "info_true = {\"A\":A, \"B\":B, \"sig\":sig, \"R\":R, \"Q\":Q}\n",
    "dt = 0.01\n",
    "simple_basis = False\n",
    "b_val_RL_4, V_exact_dist_RL_4 = RL_finder_2D_LQR(beta, b_init, bd_low_s, bd_upper_s, bd_low_a, bd_upper_a, reward, simple_basis, bases_Q, num_iter, I, m_Q, dt, true_V, info_true)"
   ]
  },
  {
   "cell_type": "code",
   "execution_count": 127,
   "metadata": {},
   "outputs": [
    {
     "data": {
      "image/png": "[encoded data removed]",
      "text/plain": [
       "<Figure size 1000x600 with 1 Axes>"
      ]
     },
     "metadata": {},
     "output_type": "display_data"
    }
   ],
   "source": [
    "x_tensor = torch.arange(30)\n",
    "w_tensor = torch.tensor(V_exact_dist_phibe_4[:30], dtype=torch.float64)\n",
    "v_tensor = torch.tensor(V_exact_dist_RL_4[:30], dtype=torch.float64)\n",
    "x_values = x_tensor.numpy()\n",
    "w_values = w_tensor.numpy()\n",
    "v_values = v_tensor.numpy()\n",
    "plt.figure(figsize=(10, 6))\n",
    "plt.xticks(fontsize=12)  # Adjust 12 as needed\n",
    "plt.yticks(fontsize=12)\n",
    "plt.semilogy(x_values, w_values, label='PhiBE', color='red')\n",
    "plt.semilogy(x_values, v_values, label='RL', color='green')\n",
    "plt.title('Error during the iteration (measured by policy)', fontsize=16)\n",
    "plt.xlabel('iterations', fontsize=16)\n",
    "plt.ylabel('value', fontsize=16)\n",
    "plt.grid(True)\n",
    "plt.legend(fontsize=16)\n",
    "plt.show()"
   ]
  },
  {
   "cell_type": "code",
   "execution_count": 128,
   "metadata": {},
   "outputs": [
    {
     "data": {
      "text/plain": [
       "[tensor([[-1.6733, -1.4362],\n",
       "         [-0.6171, -2.0628]]),\n",
       " tensor([[-1.8670, -1.3725],\n",
       "         [-1.2797, -1.7295]]),\n",
       " tensor([[-1.7169, -1.4405],\n",
       "         [-1.4070, -1.6658]]),\n",
       " tensor([[-1.6687, -1.4725],\n",
       "         [-1.4581, -1.6454]]),\n",
       " tensor([[-1.6631, -1.4836],\n",
       "         [-1.4744, -1.6473]]),\n",
       " tensor([[-1.6569, -1.4784],\n",
       "         [-1.4687, -1.6404]]),\n",
       " tensor([[-1.6591, -1.4829],\n",
       "         [-1.4670, -1.6338]]),\n",
       " tensor([[-1.6572, -1.4808],\n",
       "         [-1.4656, -1.6328]]),\n",
       " tensor([[-1.6680, -1.4901],\n",
       "         [-1.4686, -1.6346]]),\n",
       " tensor([[-1.6710, -1.4835],\n",
       "         [-1.4595, -1.6340]]),\n",
       " tensor([[-1.6439, -1.4700],\n",
       "         [-1.4703, -1.6418]]),\n",
       " tensor([[-1.6488, -1.4706],\n",
       "         [-1.4779, -1.6567]]),\n",
       " tensor([[-1.6413, -1.4689],\n",
       "         [-1.4885, -1.6669]]),\n",
       " tensor([[-1.6652, -1.4823],\n",
       "         [-1.4728, -1.6490]]),\n",
       " tensor([[-1.6425, -1.4682],\n",
       "         [-1.4719, -1.6454]]),\n",
       " tensor([[-1.6585, -1.4810],\n",
       "         [-1.4748, -1.6470]]),\n",
       " tensor([[-1.6561, -1.4835],\n",
       "         [-1.4704, -1.6348]]),\n",
       " tensor([[-1.6498, -1.4803],\n",
       "         [-1.4680, -1.6296]]),\n",
       " tensor([[-1.6419, -1.4717],\n",
       "         [-1.4839, -1.6569]]),\n",
       " tensor([[-1.6557, -1.4805],\n",
       "         [-1.4728, -1.6422]]),\n",
       " tensor([[-1.6472, -1.4735],\n",
       "         [-1.4636, -1.6305]]),\n",
       " tensor([[-1.6382, -1.4691],\n",
       "         [-1.4760, -1.6455]]),\n",
       " tensor([[-1.6688, -1.4885],\n",
       "         [-1.4650, -1.6325]]),\n",
       " tensor([[-1.6586, -1.4862],\n",
       "         [-1.4598, -1.6182]]),\n",
       " tensor([[-1.6476, -1.4786],\n",
       "         [-1.4780, -1.6444]]),\n",
       " tensor([[-1.6721, -1.4859],\n",
       "         [-1.4607, -1.6333]]),\n",
       " tensor([[-1.6529, -1.4792],\n",
       "         [-1.4625, -1.6264]]),\n",
       " tensor([[-1.6766, -1.4951],\n",
       "         [-1.4746, -1.6446]]),\n",
       " tensor([[-1.6516, -1.4773],\n",
       "         [-1.4739, -1.6442]]),\n",
       " tensor([[-1.6714, -1.4881],\n",
       "         [-1.4682, -1.6404]])]"
      ]
     },
     "execution_count": 128,
     "metadata": {},
     "output_type": "execute_result"
    }
   ],
   "source": [
    "b_val_phibe_4"
   ]
  }
 ],
 "metadata": {
  "kernelspec": {
   "display_name": "test",
   "language": "python",
   "name": "python3"
  },
  "language_info": {
   "codemirror_mode": {
    "name": "ipython",
    "version": 3
   },
   "file_extension": ".py",
   "mimetype": "text/x-python",
   "name": "python",
   "nbconvert_exporter": "python",
   "pygments_lexer": "ipython3",
   "version": "3.9.16"
  }
 },
 "nbformat": 4,
 "nbformat_minor": 2
}
